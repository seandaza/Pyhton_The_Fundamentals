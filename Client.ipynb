{
  "nbformat": 4,
  "nbformat_minor": 0,
  "metadata": {
    "colab": {
      "name": "Client.ipynb",
      "provenance": [],
      "collapsed_sections": [],
      "authorship_tag": "ABX9TyNYebNM+6HqhfgVjYyv0t5u",
      "include_colab_link": true
    },
    "kernelspec": {
      "name": "python3",
      "display_name": "Python 3"
    },
    "language_info": {
      "name": "python"
    }
  },
  "cells": [
    {
      "cell_type": "markdown",
      "metadata": {
        "id": "view-in-github",
        "colab_type": "text"
      },
      "source": [
        "<a href=\"https://colab.research.google.com/github/seandaza/Python-The-Fundamentals/blob/master/Client.ipynb\" target=\"_parent\"><img src=\"https://colab.research.google.com/assets/colab-badge.svg\" alt=\"Open In Colab\"/></a>"
      ]
    },
    {
      "cell_type": "markdown",
      "metadata": {
        "id": "Y8SdFweDSo9w"
      },
      "source": [
        "# Webservices\n",
        "\n",
        "> Un web service es una vía de intercomunicación e interoperabilidad entre máquinas conectadas en Red. En el mundo de Internet se han popularizado enormemente, ya se trate de web services públicos o privados. Generalmente, la interacción se basa en el envío de solicitudes y respuestas entre un cliente y un servidor, que incluyen datos. El cliente solicita información, enviando a veces datos al servidor para que pueda procesar su solicitud. El servidor genera una respuesta que envía de vuelta al cliente, adjuntando otra serie de datos que forman parte de esa respuesta. Por tanto, podemos entender un servicio web como un tráfico de mensajes entre dos máquinas.\n",
        "\n",
        "\n"
      ]
    },
    {
      "cell_type": "markdown",
      "metadata": {
        "id": "Z13h3a4adPNU"
      },
      "source": [
        "##Servicios SOAP\n",
        "\n",
        "> La primera introducción de los web services en el mundo de Internet vino de la mano de SOAP. SOAP es un protocolo que define cómo deben de realizarse las comunicaciones entre máquinas. SOAP usa XML como lenguaje de intercambio de datos con una estructura compleja que es capaz de albergar todo tipo de datos sobre la solicitud o respuesta generada.\n",
        "\n"
      ]
    },
    {
      "cell_type": "markdown",
      "metadata": {
        "id": "BxZ0kNMhExZX"
      },
      "source": [
        "##Servicios REST\n",
        "\n",
        "> REST, abrevia REPRESENTATIONAL STATE TRANSFER. Es una interfaz para conectar varios sitemas basados en el protocolo `HTTP`, Sirve para obtener y generar datos y operaciones, retornando datos en formato `JSON` Y `XML` a través de métodos como `GET, POST, PUT y DELETE`. En el caso de un servicio, en el cual nosotros vamos a almacenar nuestra lógica de negocio, y vamos a servir los datos con una serie de recursos `URL`.\n",
        "\n"
      ]
    },
    {
      "cell_type": "markdown",
      "metadata": {
        "id": "BOlvfDTdfF_6"
      },
      "source": [
        "###Caracteristicas de Arquitetura REST\n",
        "\n",
        "<img src='https://github.com/andresrosso/resources/blob/main/images/rest.png?raw=true'/>\n",
        "\n",
        "\n",
        "\n",
        "> REST lo que propone es que los datos sean enviados en bruto para que sea el interesado de los datos el que los procese para generar la página (o cualquier otra cosa que tenga que generar), en este sentido, lo que REST propone no es generar la página web, si no que mandar los datos en bruto para que el consumidor sea el responsable de generar la página a través de los datos que responde REST.\n",
        "\n",
        "\n"
      ]
    },
    {
      "cell_type": "markdown",
      "metadata": {
        "id": "Y52bfC73krcd"
      },
      "source": [
        "### Ventajas\n",
        "\n",
        "1.  **Interoperable**: REST no está casado con una tecnología, por lo que es posible implementarla en cualquier lenguaje de programación.\n",
        "\n",
        "2. **Escalabilidad**: Debido a todas las peticiones son sin estado, es posible agregar nuevos nodos para distribuir la carga entre varios servidores.\n",
        "\n",
        "3. **Reducción** del acoplamiento: Debido a que los conectores definen interfaces abstractas y que los recursos son accedidos por una URL, es posible mantener un bajo acoplamiento entre los componentes.\n",
        "\n",
        "4. **Testabilidad**: Debido a que todas las peticiones tienen toda la información y que son sin estado, es posible probar los recursos de forma individual y probar su funcionalidad por separado.\n",
        "\n",
        "5. **Reutilziación**: Una de los principios de REST es llevar los datos sin procesar al cliente, para que sea el cliente quién decida cuál es la mejor forma de representar los datos al usuario, por este motivo, los recursos de REST pueden ser reutilizado por otros componentes y representar los datos de diferentes maneras.\n",
        "\n"
      ]
    },
    {
      "cell_type": "markdown",
      "metadata": {
        "id": "f56rvOCMlRyN"
      },
      "source": [
        "###Desventajas\n",
        "\n",
        "1. **Performance**: Como en todas las arquitecturas distribuidas, el costo en el performance es una constante, ya que cada solicitud implica costos en latencia, conexión y autenticaciones.\n",
        "\n",
        "2. **Más puntos de falla**: Nuevamente, las arquitecturas distribuidas traen con sigo ciertas problemáticas, como es el caso de los puntos de falla, ya que al haber múltiples componentes que conforman la arquitectura, multiplica los puntos de falla.\n",
        "\n",
        "3. **Gobierno**: Hablando exclusivamente desde el punto de vista de servicios basados en REST, es necesario mantener un gobierno sobre los servicios implementados para llevar un orden, ya que es común que diferentes equipos creen servicios similares, provocando funcionalidad repetida que tiene que administrarse.\n",
        "\n"
      ]
    },
    {
      "cell_type": "markdown",
      "metadata": {
        "id": "D2g1OkAFmuIK"
      },
      "source": [
        "### Metodos HTTP\n",
        "\n",
        "> HTTP define un conjunto de métodos de petición para indicar la acción que se desea realizar para un recurso determinado. Aunque estos también pueden ser sustantivos, estos métodos de solicitud a veces son llamados HTTP verbs.  Cada uno de ellos implementan una semántica diferente, pero algunas características similares son compartidas por un grupo de ellos.\n",
        "\n",
        "*  **GET**:\n",
        "\n",
        "> El método GET  solicita una representación de un recurso específico. Las peticiones que usan el método GET sólo deben recuperar datos.\n",
        "\n",
        "* **HEAD**:\n",
        "\n",
        ">   El método HEAD pide una respuesta idéntica a la de una petición GET, pero sin el cuerpo de la respuesta.\n",
        "\n",
        "* **POST** :\n",
        "\n",
        "> El método POST se utiliza para enviar una entidad a un recurso en específico, causando a menudo un cambio en el estado o efectos secundarios en el servidor.\n",
        "\n",
        "* **PUT**:\n",
        "\n",
        "> El modo PUT reemplaza todas las representaciones actuales del recurso de destino con la carga útil de la petición.\n",
        "\n",
        "* **DELETE**:\n",
        "\n",
        "> El método DELETE borra un recurso en específico.\n",
        "\n",
        "* **CONNECT**:\n",
        "\n",
        "> El método CONNECT establece un túnel hacia el servidor identificado por el recurso.\n",
        "\n",
        "* **OPTIONS**:\n",
        "\n",
        "> El método OPTIONS es utilizado para describir las opciones de comunicación para el recurso de destino.\n",
        "\n",
        "* **TRACE**:\n",
        "\n",
        "> El método TRACE  realiza una prueba de bucle de retorno de mensaje a lo largo de la ruta al recurso de destino.\n",
        "\n",
        "* **PATCH**:\n",
        "\n",
        "> El método PATCH  es utilizado para aplicar modificaciones parciales a un recurso.\n",
        "\n",
        "\n"
      ]
    },
    {
      "cell_type": "markdown",
      "metadata": {
        "id": "edxBRt7_uOS7"
      },
      "source": [
        "###Codigos de Estado HTTP\n",
        "\n",
        "> Los códigos de estado HTTP son como notas cortas de un servidor que se insertan en una página web. En realidad no son parte del contenido del sitio. En su lugar, son mensajes del servidor que te permiten saber cómo fueron las cosas cuando recibió la solicitud de ver una determinada página.\n",
        "\n",
        "> Los códigos de estado de HTTP se entregan a tu navegador en el encabezado de HTTP. Aunque los códigos de estado se devuelven cada vez que el navegador solicita una página web o un recurso, la mayoría de las veces no los ves.\n",
        "\n",
        "> Por lo general, sólo cuando algo sale mal, es posible que veas uno en tu navegador. Esta es la forma de decir del servidor: «Algo no está bien. Aquí hay un código que explica lo que salió mal\n",
        "\n"
      ]
    },
    {
      "cell_type": "markdown",
      "metadata": {
        "id": "Z-rjS1ahuBu5"
      },
      "source": [
        "###Tipos de Estado HTTP\n",
        "\n",
        "> Los códigos de estado HTTP se dividen en 5 «tipos». Se trata de agrupaciones de respuestas que tienen significados similares o relacionados. Saber qué son puede ayudarte a determinar rápidamente la sustancia general de un código de estado antes de que vayas a buscar su significado específico.\n",
        "\n",
        "Las cinco clases incluyen:\n",
        "\n",
        "* **100s**: Códigos informativos que indican que la solicitud iniciada por el navegador continúa.\n",
        "\n",
        "* **200s**: Los códigos con éxito regresaron cuando la solicitud del navegador fue recibida, entendida y procesada por el servidor.\n",
        "\n",
        "* **300s**: Códigos de redireccionamiento devueltos cuando un nuevo recurso ha sido sustituido por el recurso solicitado.\n",
        "\n",
        "* **400s**: Códigos de error del cliente que indican que hubo un problema con la solicitud.\n",
        "\n",
        "* **500s**: Códigos de error del servidor que indican que la solicitud fue aceptada, pero que un error en el servidor impidió que se cumpliera.\n",
        "\n"
      ]
    },
    {
      "cell_type": "markdown",
      "metadata": {
        "id": "0YBreE_MzorV"
      },
      "source": [
        "# Consumo de un Webservice\n",
        "\n",
        "> El objetivo de este tutorial es crear un Cliente que pueda consumir una API expuesta, usando `flask` de Python y `ngrok` desde otro notebook de Google Colab. Para ello, hay varias cosas a tener en cuenta en primer lugar: la url que entrega `ngrok` y que expone los datos, se genera de manera dinámica; es decir, que cada vez que echemos a correr el servidor para el webservice, él va a entregar una url distinta a la anterior y a siguiente. Esta es una limitación de la versión gratuita de `ngrok` y que se puede resolver en las ediciones de pago. No obstante, por ahora, manejaremos esa url como una variable dinámica y que tendrá el mismo tiempo de vida que dure el servidor corriendo.\n",
        "\n"
      ]
    },
    {
      "cell_type": "markdown",
      "metadata": {
        "id": "y8g2UobOQPSP"
      },
      "source": [
        "##Consumiendo un Webservice\n",
        "\n",
        "> Para consumir una API, necesitamos enviar peticiones HTTP; para ello, es necesario instalar e importar la libreria `requests`, la cual abstrae y permite trabajar estas peticiones.\n",
        "\n"
      ]
    },
    {
      "cell_type": "code",
      "metadata": {
        "id": "XIESCSCJQ_ky"
      },
      "source": [
        "#Importemos Requerimientos\n",
        "import requests\n",
        "import json"
      ],
      "execution_count": 11,
      "outputs": []
    },
    {
      "cell_type": "markdown",
      "metadata": {
        "id": "tw8n9c693jkm"
      },
      "source": [
        "Empecemos enviando peticiones HTTP"
      ]
    },
    {
      "cell_type": "markdown",
      "metadata": {
        "id": "P4ZtSfTd35MJ"
      },
      "source": [
        "###GET\n",
        "\n",
        "> Este metodo nos permite obtener recursos de una API dada. Esta es una operacion de solo lectura, por tanto, no podemos modificar ningun recurso existente. Para ello, pasamos la `url` como parametro del metodo `requests.get()`.\n",
        "\n"
      ]
    },
    {
      "cell_type": "code",
      "metadata": {
        "colab": {
          "base_uri": "https://localhost:8080/"
        },
        "id": "S8LBsJUhYV7-",
        "outputId": "84a07ee2-a585-49e3-9de8-454e67308c47"
      },
      "source": [
        "#Ruta Raiz\n",
        "url = 'http://7b89-34-90-113-194.ngrok.io/'  #le pasamos como parámetro, la url que entrega ngrok\n",
        "response = requests.get(url)\n",
        "\n",
        "print(response)        #Checkamos la respuesta de la petición al servidor por consola\n",
        "print(response.content)"
      ],
      "execution_count": 2,
      "outputs": [
        {
          "output_type": "stream",
          "name": "stdout",
          "text": [
            "<Response [200]>\n"
          ]
        }
      ]
    },
    {
      "cell_type": "code",
      "metadata": {
        "colab": {
          "base_uri": "https://localhost:8080/"
        },
        "id": "euGx0q98cbRi",
        "outputId": "ed649925-3275-407a-8e24-773bbcfd4da2"
      },
      "source": [
        "#Ruta Raiz\n",
        "url = 'http://7b89-34-90-113-194.ngrok.io/'\n",
        "#Ruta de tabla 'Employees'\n",
        "route = ('/')\n",
        "\n",
        "response = requests.get(url+str(route))\n",
        "\n",
        "\n",
        "if response.status_code ==200:\n",
        "  data = response.content\n",
        "  #Datos por consola\n",
        "  print(data)\n",
        "  #url consultada\n",
        "  print(response.url)"
      ],
      "execution_count": 3,
      "outputs": [
        {
          "output_type": "stream",
          "name": "stdout",
          "text": [
            "b'{\"department_id\":{\"0\":9,\"1\":9,\"2\":9,\"3\":6,\"4\":6,\"5\":6,\"6\":6,\"7\":6,\"8\":10,\"9\":10,\"10\":10,\"11\":10,\"12\":10,\"13\":10,\"14\":3,\"15\":3,\"16\":3,\"17\":3,\"18\":3,\"19\":3,\"20\":5,\"21\":5,\"22\":5,\"23\":5,\"24\":5,\"25\":8,\"26\":8,\"27\":8,\"28\":8,\"29\":8,\"30\":8,\"31\":5,\"32\":5,\"33\":1,\"34\":2,\"35\":2,\"36\":4,\"37\":7,\"38\":11,\"39\":11},\"email\":{\"0\":\"steven.king@sqltutorial.org\",\"1\":\"neena.kochhar@sqltutorial.org\",\"2\":\"lex.de haan@sqltutorial.org\",\"3\":\"alexander.hunold@sqltutorial.org\",\"4\":\"bruce.ernst@sqltutorial.org\",\"5\":\"david.austin@sqltutorial.org\",\"6\":\"valli.pataballa@sqltutorial.org\",\"7\":\"diana.lorentz@sqltutorial.org\",\"8\":\"nancy.greenberg@sqltutorial.org\",\"9\":\"daniel.faviet@sqltutorial.org\",\"10\":\"john.chen@sqltutorial.org\",\"11\":\"ismael.sciarra@sqltutorial.org\",\"12\":\"jose manuel.urman@sqltutorial.org\",\"13\":\"luis.popp@sqltutorial.org\",\"14\":\"den.raphaely@sqltutorial.org\",\"15\":\"alexander.khoo@sqltutorial.org\",\"16\":\"shelli.baida@sqltutorial.org\",\"17\":\"sigal.tobias@sqltutorial.org\",\"18\":\"guy.himuro@sqltutorial.org\",\"19\":\"karen.colmenares@sqltutorial.org\",\"20\":\"matthew.weiss@sqltutorial.org\",\"21\":\"adam.fripp@sqltutorial.org\",\"22\":\"payam.kaufling@sqltutorial.org\",\"23\":\"shanta.vollman@sqltutorial.org\",\"24\":\"irene.mikkilineni@sqltutorial.org\",\"25\":\"john.russell@sqltutorial.org\",\"26\":\"karen.partners@sqltutorial.org\",\"27\":\"jonathon.taylor@sqltutorial.org\",\"28\":\"jack.livingston@sqltutorial.org\",\"29\":\"kimberely.grant@sqltutorial.org\",\"30\":\"charles.johnson@sqltutorial.org\",\"31\":\"sarah.bell@sqltutorial.org\",\"32\":\"britney.everett@sqltutorial.org\",\"33\":\"jennifer.whalen@sqltutorial.org\",\"34\":\"michael.hartstein@sqltutorial.org\",\"35\":\"pat.fay@sqltutorial.org\",\"36\":\"susan.mavris@sqltutorial.org\",\"37\":\"hermann.baer@sqltutorial.org\",\"38\":\"shelley.higgins@sqltutorial.org\",\"39\":\"william.gietz@sqltutorial.org\"},\"employee_id\":{\"0\":100,\"1\":101,\"2\":102,\"3\":103,\"4\":104,\"5\":105,\"6\":106,\"7\":107,\"8\":108,\"9\":109,\"10\":110,\"11\":111,\"12\":112,\"13\":113,\"14\":114,\"15\":115,\"16\":116,\"17\":117,\"18\":118,\"19\":119,\"20\":120,\"21\":121,\"22\":122,\"23\":123,\"24\":126,\"25\":145,\"26\":146,\"27\":176,\"28\":177,\"29\":178,\"30\":179,\"31\":192,\"32\":193,\"33\":200,\"34\":201,\"35\":202,\"36\":203,\"37\":204,\"38\":205,\"39\":206},\"first_name\":{\"0\":\"Steven\",\"1\":\"Neena\",\"2\":\"Lex\",\"3\":\"Alexander\",\"4\":\"Bruce\",\"5\":\"David\",\"6\":\"Valli\",\"7\":\"Diana\",\"8\":\"Nancy\",\"9\":\"Daniel\",\"10\":\"John\",\"11\":\"Ismael\",\"12\":\"Jose Manuel\",\"13\":\"Luis\",\"14\":\"Den\",\"15\":\"Alexander\",\"16\":\"Shelli\",\"17\":\"Sigal\",\"18\":\"Guy\",\"19\":\"Karen\",\"20\":\"Matthew\",\"21\":\"Adam\",\"22\":\"Payam\",\"23\":\"Shanta\",\"24\":\"Irene\",\"25\":\"John\",\"26\":\"Karen\",\"27\":\"Jonathon\",\"28\":\"Jack\",\"29\":\"Kimberely\",\"30\":\"Charles\",\"31\":\"Sarah\",\"32\":\"Britney\",\"33\":\"Jennifer\",\"34\":\"Michael\",\"35\":\"Pat\",\"36\":\"Susan\",\"37\":\"Hermann\",\"38\":\"Shelley\",\"39\":\"William\"},\"hire_date\":{\"0\":\"1987-06-17\",\"1\":\"1989-09-21\",\"2\":\"1993-01-13\",\"3\":\"1990-01-03\",\"4\":\"1991-05-21\",\"5\":\"1997-06-25\",\"6\":\"1998-02-05\",\"7\":\"1999-02-07\",\"8\":\"1994-08-17\",\"9\":\"1994-08-16\",\"10\":\"1997-09-28\",\"11\":\"1997-09-30\",\"12\":\"1998-03-07\",\"13\":\"1999-12-07\",\"14\":\"1994-12-07\",\"15\":\"1995-05-18\",\"16\":\"1997-12-24\",\"17\":\"1997-07-24\",\"18\":\"1998-11-15\",\"19\":\"1999-08-10\",\"20\":\"1996-07-18\",\"21\":\"1997-04-10\",\"22\":\"1995-05-01\",\"23\":\"1997-10-10\",\"24\":\"1998-09-28\",\"25\":\"1996-10-01\",\"26\":\"1997-01-05\",\"27\":\"1998-03-24\",\"28\":\"1998-04-23\",\"29\":\"1999-05-24\",\"30\":\"2000-01-04\",\"31\":\"1996-02-04\",\"32\":\"1997-03-03\",\"33\":\"1987-09-17\",\"34\":\"1996-02-17\",\"35\":\"1997-08-17\",\"36\":\"1994-06-07\",\"37\":\"1994-06-07\",\"38\":\"1994-06-07\",\"39\":\"1994-06-07\"},\"job_id\":{\"0\":4,\"1\":5,\"2\":5,\"3\":9,\"4\":9,\"5\":9,\"6\":9,\"7\":9,\"8\":7,\"9\":6,\"10\":6,\"11\":6,\"12\":6,\"13\":6,\"14\":14,\"15\":13,\"16\":13,\"17\":13,\"18\":13,\"19\":13,\"20\":19,\"21\":19,\"22\":19,\"23\":19,\"24\":18,\"25\":15,\"26\":15,\"27\":16,\"28\":16,\"29\":16,\"30\":16,\"31\":17,\"32\":17,\"33\":3,\"34\":10,\"35\":11,\"36\":8,\"37\":12,\"38\":2,\"39\":1},\"last_name\":{\"0\":\"King\",\"1\":\"Kochhar\",\"2\":\"De Haan\",\"3\":\"Hunold\",\"4\":\"Ernst\",\"5\":\"Austin\",\"6\":\"Pataballa\",\"7\":\"Lorentz\",\"8\":\"Greenberg\",\"9\":\"Faviet\",\"10\":\"Chen\",\"11\":\"Sciarra\",\"12\":\"Urman\",\"13\":\"Popp\",\"14\":\"Raphaely\",\"15\":\"Khoo\",\"16\":\"Baida\",\"17\":\"Tobias\",\"18\":\"Himuro\",\"19\":\"Colmenares\",\"20\":\"Weiss\",\"21\":\"Fripp\",\"22\":\"Kaufling\",\"23\":\"Vollman\",\"24\":\"Mikkilineni\",\"25\":\"Russell\",\"26\":\"Partners\",\"27\":\"Taylor\",\"28\":\"Livingston\",\"29\":\"Grant\",\"30\":\"Johnson\",\"31\":\"Bell\",\"32\":\"Everett\",\"33\":\"Whalen\",\"34\":\"Hartstein\",\"35\":\"Fay\",\"36\":\"Mavris\",\"37\":\"Baer\",\"38\":\"Higgins\",\"39\":\"Gietz\"},\"manager_id\":{\"0\":NaN,\"1\":100.0,\"2\":100.0,\"3\":102.0,\"4\":103.0,\"5\":103.0,\"6\":103.0,\"7\":103.0,\"8\":101.0,\"9\":108.0,\"10\":108.0,\"11\":108.0,\"12\":108.0,\"13\":108.0,\"14\":100.0,\"15\":114.0,\"16\":114.0,\"17\":114.0,\"18\":114.0,\"19\":114.0,\"20\":100.0,\"21\":100.0,\"22\":100.0,\"23\":100.0,\"24\":120.0,\"25\":100.0,\"26\":100.0,\"27\":100.0,\"28\":100.0,\"29\":100.0,\"30\":100.0,\"31\":123.0,\"32\":123.0,\"33\":101.0,\"34\":100.0,\"35\":201.0,\"36\":101.0,\"37\":101.0,\"38\":101.0,\"39\":205.0},\"phone_number\":{\"0\":\"515.123.4567\",\"1\":\"515.123.4568\",\"2\":\"515.123.4569\",\"3\":\"590.423.4567\",\"4\":\"590.423.4568\",\"5\":\"590.423.4569\",\"6\":\"590.423.4560\",\"7\":\"590.423.5567\",\"8\":\"515.124.4569\",\"9\":\"515.124.4169\",\"10\":\"515.124.4269\",\"11\":\"515.124.4369\",\"12\":\"515.124.4469\",\"13\":\"515.124.4567\",\"14\":\"515.127.4561\",\"15\":\"515.127.4562\",\"16\":\"515.127.4563\",\"17\":\"515.127.4564\",\"18\":\"515.127.4565\",\"19\":\"515.127.4566\",\"20\":\"650.123.1234\",\"21\":\"650.123.2234\",\"22\":\"650.123.3234\",\"23\":\"650.123.4234\",\"24\":\"650.124.1224\",\"25\":null,\"26\":null,\"27\":null,\"28\":null,\"29\":null,\"30\":null,\"31\":\"650.501.1876\",\"32\":\"650.501.2876\",\"33\":\"515.123.4444\",\"34\":\"515.123.5555\",\"35\":\"603.123.6666\",\"36\":\"515.123.7777\",\"37\":\"515.123.8888\",\"38\":\"515.123.8080\",\"39\":\"515.123.8181\"},\"salary\":{\"0\":24000.0,\"1\":17000.0,\"2\":17000.0,\"3\":9000.0,\"4\":6000.0,\"5\":4800.0,\"6\":4800.0,\"7\":4200.0,\"8\":12000.0,\"9\":9000.0,\"10\":8200.0,\"11\":7700.0,\"12\":7800.0,\"13\":6900.0,\"14\":11000.0,\"15\":3100.0,\"16\":2900.0,\"17\":2800.0,\"18\":2600.0,\"19\":2500.0,\"20\":8000.0,\"21\":8200.0,\"22\":7900.0,\"23\":6500.0,\"24\":2700.0,\"25\":14000.0,\"26\":13500.0,\"27\":8600.0,\"28\":8400.0,\"29\":7000.0,\"30\":6200.0,\"31\":4000.0,\"32\":3900.0,\"33\":4400.0,\"34\":13000.0,\"35\":6000.0,\"36\":6500.0,\"37\":10000.0,\"38\":12000.0,\"39\":8300.0}}\\n'\n",
            "http://7b89-34-90-113-194.ngrok.io/\n"
          ]
        }
      ]
    },
    {
      "cell_type": "markdown",
      "metadata": {
        "id": "a8njBATz9xz4"
      },
      "source": [
        "Verifiquemos el tipo de dato que estamos consultando:"
      ]
    },
    {
      "cell_type": "code",
      "metadata": {
        "colab": {
          "base_uri": "https://localhost:8080/"
        },
        "id": "UsW5LPwbuiVx",
        "outputId": "02e1b6cb-5670-478f-fef5-861b057bfb63"
      },
      "source": [
        "type(data)"
      ],
      "execution_count": 4,
      "outputs": [
        {
          "output_type": "execute_result",
          "data": {
            "text/plain": [
              "bytes"
            ]
          },
          "metadata": {},
          "execution_count": 4
        }
      ]
    },
    {
      "cell_type": "markdown",
      "metadata": {
        "id": "f1vfuzrT94Wi"
      },
      "source": [
        "Estamos recibiendo bytes como tipo de dato. Debemos convertir estos datos a strings y luego a formato Json. Esto lo hacemos componiendo las funciones `.decod('utf-8')` y `json.loads()` :"
      ]
    },
    {
      "cell_type": "code",
      "metadata": {
        "id": "xuFAjhaBu9I6"
      },
      "source": [
        "dic = json.loads(data.decode('utf-8'))\n",
        "dic"
      ],
      "execution_count": null,
      "outputs": []
    },
    {
      "cell_type": "code",
      "metadata": {
        "id": "T6KCQ5u3r66w"
      },
      "source": [
        "#Instalamos requerimientos\n",
        "pip install pandas"
      ],
      "execution_count": null,
      "outputs": []
    },
    {
      "cell_type": "markdown",
      "metadata": {
        "id": "M_ref9aQ-K2t"
      },
      "source": [
        "Finalmemte este diccionario ya podemos convertirlo en un Dataframe y el cliente puede visualizarlo en su salida:"
      ]
    },
    {
      "cell_type": "code",
      "metadata": {
        "colab": {
          "base_uri": "https://localhost:8080/",
          "height": 1000
        },
        "id": "56YzUrn1mpR5",
        "outputId": "29441de8-6fac-4d06-f70a-2983af130077"
      },
      "source": [
        "import pandas as pd\n",
        "df = pd.DataFrame().from_dict(dic)\n",
        "df\n"
      ],
      "execution_count": 7,
      "outputs": [
        {
          "output_type": "execute_result",
          "data": {
            "text/html": [
              "<div>\n",
              "<style scoped>\n",
              "    .dataframe tbody tr th:only-of-type {\n",
              "        vertical-align: middle;\n",
              "    }\n",
              "\n",
              "    .dataframe tbody tr th {\n",
              "        vertical-align: top;\n",
              "    }\n",
              "\n",
              "    .dataframe thead th {\n",
              "        text-align: right;\n",
              "    }\n",
              "</style>\n",
              "<table border=\"1\" class=\"dataframe\">\n",
              "  <thead>\n",
              "    <tr style=\"text-align: right;\">\n",
              "      <th></th>\n",
              "      <th>department_id</th>\n",
              "      <th>email</th>\n",
              "      <th>employee_id</th>\n",
              "      <th>first_name</th>\n",
              "      <th>hire_date</th>\n",
              "      <th>job_id</th>\n",
              "      <th>last_name</th>\n",
              "      <th>manager_id</th>\n",
              "      <th>phone_number</th>\n",
              "      <th>salary</th>\n",
              "    </tr>\n",
              "  </thead>\n",
              "  <tbody>\n",
              "    <tr>\n",
              "      <th>0</th>\n",
              "      <td>9</td>\n",
              "      <td>steven.king@sqltutorial.org</td>\n",
              "      <td>100</td>\n",
              "      <td>Steven</td>\n",
              "      <td>1987-06-17</td>\n",
              "      <td>4</td>\n",
              "      <td>King</td>\n",
              "      <td>NaN</td>\n",
              "      <td>515.123.4567</td>\n",
              "      <td>24000.0</td>\n",
              "    </tr>\n",
              "    <tr>\n",
              "      <th>1</th>\n",
              "      <td>9</td>\n",
              "      <td>neena.kochhar@sqltutorial.org</td>\n",
              "      <td>101</td>\n",
              "      <td>Neena</td>\n",
              "      <td>1989-09-21</td>\n",
              "      <td>5</td>\n",
              "      <td>Kochhar</td>\n",
              "      <td>100.0</td>\n",
              "      <td>515.123.4568</td>\n",
              "      <td>17000.0</td>\n",
              "    </tr>\n",
              "    <tr>\n",
              "      <th>2</th>\n",
              "      <td>9</td>\n",
              "      <td>lex.de haan@sqltutorial.org</td>\n",
              "      <td>102</td>\n",
              "      <td>Lex</td>\n",
              "      <td>1993-01-13</td>\n",
              "      <td>5</td>\n",
              "      <td>De Haan</td>\n",
              "      <td>100.0</td>\n",
              "      <td>515.123.4569</td>\n",
              "      <td>17000.0</td>\n",
              "    </tr>\n",
              "    <tr>\n",
              "      <th>3</th>\n",
              "      <td>6</td>\n",
              "      <td>alexander.hunold@sqltutorial.org</td>\n",
              "      <td>103</td>\n",
              "      <td>Alexander</td>\n",
              "      <td>1990-01-03</td>\n",
              "      <td>9</td>\n",
              "      <td>Hunold</td>\n",
              "      <td>102.0</td>\n",
              "      <td>590.423.4567</td>\n",
              "      <td>9000.0</td>\n",
              "    </tr>\n",
              "    <tr>\n",
              "      <th>4</th>\n",
              "      <td>6</td>\n",
              "      <td>bruce.ernst@sqltutorial.org</td>\n",
              "      <td>104</td>\n",
              "      <td>Bruce</td>\n",
              "      <td>1991-05-21</td>\n",
              "      <td>9</td>\n",
              "      <td>Ernst</td>\n",
              "      <td>103.0</td>\n",
              "      <td>590.423.4568</td>\n",
              "      <td>6000.0</td>\n",
              "    </tr>\n",
              "    <tr>\n",
              "      <th>5</th>\n",
              "      <td>6</td>\n",
              "      <td>david.austin@sqltutorial.org</td>\n",
              "      <td>105</td>\n",
              "      <td>David</td>\n",
              "      <td>1997-06-25</td>\n",
              "      <td>9</td>\n",
              "      <td>Austin</td>\n",
              "      <td>103.0</td>\n",
              "      <td>590.423.4569</td>\n",
              "      <td>4800.0</td>\n",
              "    </tr>\n",
              "    <tr>\n",
              "      <th>6</th>\n",
              "      <td>6</td>\n",
              "      <td>valli.pataballa@sqltutorial.org</td>\n",
              "      <td>106</td>\n",
              "      <td>Valli</td>\n",
              "      <td>1998-02-05</td>\n",
              "      <td>9</td>\n",
              "      <td>Pataballa</td>\n",
              "      <td>103.0</td>\n",
              "      <td>590.423.4560</td>\n",
              "      <td>4800.0</td>\n",
              "    </tr>\n",
              "    <tr>\n",
              "      <th>7</th>\n",
              "      <td>6</td>\n",
              "      <td>diana.lorentz@sqltutorial.org</td>\n",
              "      <td>107</td>\n",
              "      <td>Diana</td>\n",
              "      <td>1999-02-07</td>\n",
              "      <td>9</td>\n",
              "      <td>Lorentz</td>\n",
              "      <td>103.0</td>\n",
              "      <td>590.423.5567</td>\n",
              "      <td>4200.0</td>\n",
              "    </tr>\n",
              "    <tr>\n",
              "      <th>8</th>\n",
              "      <td>10</td>\n",
              "      <td>nancy.greenberg@sqltutorial.org</td>\n",
              "      <td>108</td>\n",
              "      <td>Nancy</td>\n",
              "      <td>1994-08-17</td>\n",
              "      <td>7</td>\n",
              "      <td>Greenberg</td>\n",
              "      <td>101.0</td>\n",
              "      <td>515.124.4569</td>\n",
              "      <td>12000.0</td>\n",
              "    </tr>\n",
              "    <tr>\n",
              "      <th>9</th>\n",
              "      <td>10</td>\n",
              "      <td>daniel.faviet@sqltutorial.org</td>\n",
              "      <td>109</td>\n",
              "      <td>Daniel</td>\n",
              "      <td>1994-08-16</td>\n",
              "      <td>6</td>\n",
              "      <td>Faviet</td>\n",
              "      <td>108.0</td>\n",
              "      <td>515.124.4169</td>\n",
              "      <td>9000.0</td>\n",
              "    </tr>\n",
              "    <tr>\n",
              "      <th>10</th>\n",
              "      <td>10</td>\n",
              "      <td>john.chen@sqltutorial.org</td>\n",
              "      <td>110</td>\n",
              "      <td>John</td>\n",
              "      <td>1997-09-28</td>\n",
              "      <td>6</td>\n",
              "      <td>Chen</td>\n",
              "      <td>108.0</td>\n",
              "      <td>515.124.4269</td>\n",
              "      <td>8200.0</td>\n",
              "    </tr>\n",
              "    <tr>\n",
              "      <th>11</th>\n",
              "      <td>10</td>\n",
              "      <td>ismael.sciarra@sqltutorial.org</td>\n",
              "      <td>111</td>\n",
              "      <td>Ismael</td>\n",
              "      <td>1997-09-30</td>\n",
              "      <td>6</td>\n",
              "      <td>Sciarra</td>\n",
              "      <td>108.0</td>\n",
              "      <td>515.124.4369</td>\n",
              "      <td>7700.0</td>\n",
              "    </tr>\n",
              "    <tr>\n",
              "      <th>12</th>\n",
              "      <td>10</td>\n",
              "      <td>jose manuel.urman@sqltutorial.org</td>\n",
              "      <td>112</td>\n",
              "      <td>Jose Manuel</td>\n",
              "      <td>1998-03-07</td>\n",
              "      <td>6</td>\n",
              "      <td>Urman</td>\n",
              "      <td>108.0</td>\n",
              "      <td>515.124.4469</td>\n",
              "      <td>7800.0</td>\n",
              "    </tr>\n",
              "    <tr>\n",
              "      <th>13</th>\n",
              "      <td>10</td>\n",
              "      <td>luis.popp@sqltutorial.org</td>\n",
              "      <td>113</td>\n",
              "      <td>Luis</td>\n",
              "      <td>1999-12-07</td>\n",
              "      <td>6</td>\n",
              "      <td>Popp</td>\n",
              "      <td>108.0</td>\n",
              "      <td>515.124.4567</td>\n",
              "      <td>6900.0</td>\n",
              "    </tr>\n",
              "    <tr>\n",
              "      <th>14</th>\n",
              "      <td>3</td>\n",
              "      <td>den.raphaely@sqltutorial.org</td>\n",
              "      <td>114</td>\n",
              "      <td>Den</td>\n",
              "      <td>1994-12-07</td>\n",
              "      <td>14</td>\n",
              "      <td>Raphaely</td>\n",
              "      <td>100.0</td>\n",
              "      <td>515.127.4561</td>\n",
              "      <td>11000.0</td>\n",
              "    </tr>\n",
              "    <tr>\n",
              "      <th>15</th>\n",
              "      <td>3</td>\n",
              "      <td>alexander.khoo@sqltutorial.org</td>\n",
              "      <td>115</td>\n",
              "      <td>Alexander</td>\n",
              "      <td>1995-05-18</td>\n",
              "      <td>13</td>\n",
              "      <td>Khoo</td>\n",
              "      <td>114.0</td>\n",
              "      <td>515.127.4562</td>\n",
              "      <td>3100.0</td>\n",
              "    </tr>\n",
              "    <tr>\n",
              "      <th>16</th>\n",
              "      <td>3</td>\n",
              "      <td>shelli.baida@sqltutorial.org</td>\n",
              "      <td>116</td>\n",
              "      <td>Shelli</td>\n",
              "      <td>1997-12-24</td>\n",
              "      <td>13</td>\n",
              "      <td>Baida</td>\n",
              "      <td>114.0</td>\n",
              "      <td>515.127.4563</td>\n",
              "      <td>2900.0</td>\n",
              "    </tr>\n",
              "    <tr>\n",
              "      <th>17</th>\n",
              "      <td>3</td>\n",
              "      <td>sigal.tobias@sqltutorial.org</td>\n",
              "      <td>117</td>\n",
              "      <td>Sigal</td>\n",
              "      <td>1997-07-24</td>\n",
              "      <td>13</td>\n",
              "      <td>Tobias</td>\n",
              "      <td>114.0</td>\n",
              "      <td>515.127.4564</td>\n",
              "      <td>2800.0</td>\n",
              "    </tr>\n",
              "    <tr>\n",
              "      <th>18</th>\n",
              "      <td>3</td>\n",
              "      <td>guy.himuro@sqltutorial.org</td>\n",
              "      <td>118</td>\n",
              "      <td>Guy</td>\n",
              "      <td>1998-11-15</td>\n",
              "      <td>13</td>\n",
              "      <td>Himuro</td>\n",
              "      <td>114.0</td>\n",
              "      <td>515.127.4565</td>\n",
              "      <td>2600.0</td>\n",
              "    </tr>\n",
              "    <tr>\n",
              "      <th>19</th>\n",
              "      <td>3</td>\n",
              "      <td>karen.colmenares@sqltutorial.org</td>\n",
              "      <td>119</td>\n",
              "      <td>Karen</td>\n",
              "      <td>1999-08-10</td>\n",
              "      <td>13</td>\n",
              "      <td>Colmenares</td>\n",
              "      <td>114.0</td>\n",
              "      <td>515.127.4566</td>\n",
              "      <td>2500.0</td>\n",
              "    </tr>\n",
              "    <tr>\n",
              "      <th>20</th>\n",
              "      <td>5</td>\n",
              "      <td>matthew.weiss@sqltutorial.org</td>\n",
              "      <td>120</td>\n",
              "      <td>Matthew</td>\n",
              "      <td>1996-07-18</td>\n",
              "      <td>19</td>\n",
              "      <td>Weiss</td>\n",
              "      <td>100.0</td>\n",
              "      <td>650.123.1234</td>\n",
              "      <td>8000.0</td>\n",
              "    </tr>\n",
              "    <tr>\n",
              "      <th>21</th>\n",
              "      <td>5</td>\n",
              "      <td>adam.fripp@sqltutorial.org</td>\n",
              "      <td>121</td>\n",
              "      <td>Adam</td>\n",
              "      <td>1997-04-10</td>\n",
              "      <td>19</td>\n",
              "      <td>Fripp</td>\n",
              "      <td>100.0</td>\n",
              "      <td>650.123.2234</td>\n",
              "      <td>8200.0</td>\n",
              "    </tr>\n",
              "    <tr>\n",
              "      <th>22</th>\n",
              "      <td>5</td>\n",
              "      <td>payam.kaufling@sqltutorial.org</td>\n",
              "      <td>122</td>\n",
              "      <td>Payam</td>\n",
              "      <td>1995-05-01</td>\n",
              "      <td>19</td>\n",
              "      <td>Kaufling</td>\n",
              "      <td>100.0</td>\n",
              "      <td>650.123.3234</td>\n",
              "      <td>7900.0</td>\n",
              "    </tr>\n",
              "    <tr>\n",
              "      <th>23</th>\n",
              "      <td>5</td>\n",
              "      <td>shanta.vollman@sqltutorial.org</td>\n",
              "      <td>123</td>\n",
              "      <td>Shanta</td>\n",
              "      <td>1997-10-10</td>\n",
              "      <td>19</td>\n",
              "      <td>Vollman</td>\n",
              "      <td>100.0</td>\n",
              "      <td>650.123.4234</td>\n",
              "      <td>6500.0</td>\n",
              "    </tr>\n",
              "    <tr>\n",
              "      <th>24</th>\n",
              "      <td>5</td>\n",
              "      <td>irene.mikkilineni@sqltutorial.org</td>\n",
              "      <td>126</td>\n",
              "      <td>Irene</td>\n",
              "      <td>1998-09-28</td>\n",
              "      <td>18</td>\n",
              "      <td>Mikkilineni</td>\n",
              "      <td>120.0</td>\n",
              "      <td>650.124.1224</td>\n",
              "      <td>2700.0</td>\n",
              "    </tr>\n",
              "    <tr>\n",
              "      <th>25</th>\n",
              "      <td>8</td>\n",
              "      <td>john.russell@sqltutorial.org</td>\n",
              "      <td>145</td>\n",
              "      <td>John</td>\n",
              "      <td>1996-10-01</td>\n",
              "      <td>15</td>\n",
              "      <td>Russell</td>\n",
              "      <td>100.0</td>\n",
              "      <td>None</td>\n",
              "      <td>14000.0</td>\n",
              "    </tr>\n",
              "    <tr>\n",
              "      <th>26</th>\n",
              "      <td>8</td>\n",
              "      <td>karen.partners@sqltutorial.org</td>\n",
              "      <td>146</td>\n",
              "      <td>Karen</td>\n",
              "      <td>1997-01-05</td>\n",
              "      <td>15</td>\n",
              "      <td>Partners</td>\n",
              "      <td>100.0</td>\n",
              "      <td>None</td>\n",
              "      <td>13500.0</td>\n",
              "    </tr>\n",
              "    <tr>\n",
              "      <th>27</th>\n",
              "      <td>8</td>\n",
              "      <td>jonathon.taylor@sqltutorial.org</td>\n",
              "      <td>176</td>\n",
              "      <td>Jonathon</td>\n",
              "      <td>1998-03-24</td>\n",
              "      <td>16</td>\n",
              "      <td>Taylor</td>\n",
              "      <td>100.0</td>\n",
              "      <td>None</td>\n",
              "      <td>8600.0</td>\n",
              "    </tr>\n",
              "    <tr>\n",
              "      <th>28</th>\n",
              "      <td>8</td>\n",
              "      <td>jack.livingston@sqltutorial.org</td>\n",
              "      <td>177</td>\n",
              "      <td>Jack</td>\n",
              "      <td>1998-04-23</td>\n",
              "      <td>16</td>\n",
              "      <td>Livingston</td>\n",
              "      <td>100.0</td>\n",
              "      <td>None</td>\n",
              "      <td>8400.0</td>\n",
              "    </tr>\n",
              "    <tr>\n",
              "      <th>29</th>\n",
              "      <td>8</td>\n",
              "      <td>kimberely.grant@sqltutorial.org</td>\n",
              "      <td>178</td>\n",
              "      <td>Kimberely</td>\n",
              "      <td>1999-05-24</td>\n",
              "      <td>16</td>\n",
              "      <td>Grant</td>\n",
              "      <td>100.0</td>\n",
              "      <td>None</td>\n",
              "      <td>7000.0</td>\n",
              "    </tr>\n",
              "    <tr>\n",
              "      <th>30</th>\n",
              "      <td>8</td>\n",
              "      <td>charles.johnson@sqltutorial.org</td>\n",
              "      <td>179</td>\n",
              "      <td>Charles</td>\n",
              "      <td>2000-01-04</td>\n",
              "      <td>16</td>\n",
              "      <td>Johnson</td>\n",
              "      <td>100.0</td>\n",
              "      <td>None</td>\n",
              "      <td>6200.0</td>\n",
              "    </tr>\n",
              "    <tr>\n",
              "      <th>31</th>\n",
              "      <td>5</td>\n",
              "      <td>sarah.bell@sqltutorial.org</td>\n",
              "      <td>192</td>\n",
              "      <td>Sarah</td>\n",
              "      <td>1996-02-04</td>\n",
              "      <td>17</td>\n",
              "      <td>Bell</td>\n",
              "      <td>123.0</td>\n",
              "      <td>650.501.1876</td>\n",
              "      <td>4000.0</td>\n",
              "    </tr>\n",
              "    <tr>\n",
              "      <th>32</th>\n",
              "      <td>5</td>\n",
              "      <td>britney.everett@sqltutorial.org</td>\n",
              "      <td>193</td>\n",
              "      <td>Britney</td>\n",
              "      <td>1997-03-03</td>\n",
              "      <td>17</td>\n",
              "      <td>Everett</td>\n",
              "      <td>123.0</td>\n",
              "      <td>650.501.2876</td>\n",
              "      <td>3900.0</td>\n",
              "    </tr>\n",
              "    <tr>\n",
              "      <th>33</th>\n",
              "      <td>1</td>\n",
              "      <td>jennifer.whalen@sqltutorial.org</td>\n",
              "      <td>200</td>\n",
              "      <td>Jennifer</td>\n",
              "      <td>1987-09-17</td>\n",
              "      <td>3</td>\n",
              "      <td>Whalen</td>\n",
              "      <td>101.0</td>\n",
              "      <td>515.123.4444</td>\n",
              "      <td>4400.0</td>\n",
              "    </tr>\n",
              "    <tr>\n",
              "      <th>34</th>\n",
              "      <td>2</td>\n",
              "      <td>michael.hartstein@sqltutorial.org</td>\n",
              "      <td>201</td>\n",
              "      <td>Michael</td>\n",
              "      <td>1996-02-17</td>\n",
              "      <td>10</td>\n",
              "      <td>Hartstein</td>\n",
              "      <td>100.0</td>\n",
              "      <td>515.123.5555</td>\n",
              "      <td>13000.0</td>\n",
              "    </tr>\n",
              "    <tr>\n",
              "      <th>35</th>\n",
              "      <td>2</td>\n",
              "      <td>pat.fay@sqltutorial.org</td>\n",
              "      <td>202</td>\n",
              "      <td>Pat</td>\n",
              "      <td>1997-08-17</td>\n",
              "      <td>11</td>\n",
              "      <td>Fay</td>\n",
              "      <td>201.0</td>\n",
              "      <td>603.123.6666</td>\n",
              "      <td>6000.0</td>\n",
              "    </tr>\n",
              "    <tr>\n",
              "      <th>36</th>\n",
              "      <td>4</td>\n",
              "      <td>susan.mavris@sqltutorial.org</td>\n",
              "      <td>203</td>\n",
              "      <td>Susan</td>\n",
              "      <td>1994-06-07</td>\n",
              "      <td>8</td>\n",
              "      <td>Mavris</td>\n",
              "      <td>101.0</td>\n",
              "      <td>515.123.7777</td>\n",
              "      <td>6500.0</td>\n",
              "    </tr>\n",
              "    <tr>\n",
              "      <th>37</th>\n",
              "      <td>7</td>\n",
              "      <td>hermann.baer@sqltutorial.org</td>\n",
              "      <td>204</td>\n",
              "      <td>Hermann</td>\n",
              "      <td>1994-06-07</td>\n",
              "      <td>12</td>\n",
              "      <td>Baer</td>\n",
              "      <td>101.0</td>\n",
              "      <td>515.123.8888</td>\n",
              "      <td>10000.0</td>\n",
              "    </tr>\n",
              "    <tr>\n",
              "      <th>38</th>\n",
              "      <td>11</td>\n",
              "      <td>shelley.higgins@sqltutorial.org</td>\n",
              "      <td>205</td>\n",
              "      <td>Shelley</td>\n",
              "      <td>1994-06-07</td>\n",
              "      <td>2</td>\n",
              "      <td>Higgins</td>\n",
              "      <td>101.0</td>\n",
              "      <td>515.123.8080</td>\n",
              "      <td>12000.0</td>\n",
              "    </tr>\n",
              "    <tr>\n",
              "      <th>39</th>\n",
              "      <td>11</td>\n",
              "      <td>william.gietz@sqltutorial.org</td>\n",
              "      <td>206</td>\n",
              "      <td>William</td>\n",
              "      <td>1994-06-07</td>\n",
              "      <td>1</td>\n",
              "      <td>Gietz</td>\n",
              "      <td>205.0</td>\n",
              "      <td>515.123.8181</td>\n",
              "      <td>8300.0</td>\n",
              "    </tr>\n",
              "  </tbody>\n",
              "</table>\n",
              "</div>"
            ],
            "text/plain": [
              "    department_id                              email  ...  phone_number   salary\n",
              "0               9        steven.king@sqltutorial.org  ...  515.123.4567  24000.0\n",
              "1               9      neena.kochhar@sqltutorial.org  ...  515.123.4568  17000.0\n",
              "2               9        lex.de haan@sqltutorial.org  ...  515.123.4569  17000.0\n",
              "3               6   alexander.hunold@sqltutorial.org  ...  590.423.4567   9000.0\n",
              "4               6        bruce.ernst@sqltutorial.org  ...  590.423.4568   6000.0\n",
              "5               6       david.austin@sqltutorial.org  ...  590.423.4569   4800.0\n",
              "6               6    valli.pataballa@sqltutorial.org  ...  590.423.4560   4800.0\n",
              "7               6      diana.lorentz@sqltutorial.org  ...  590.423.5567   4200.0\n",
              "8              10    nancy.greenberg@sqltutorial.org  ...  515.124.4569  12000.0\n",
              "9              10      daniel.faviet@sqltutorial.org  ...  515.124.4169   9000.0\n",
              "10             10          john.chen@sqltutorial.org  ...  515.124.4269   8200.0\n",
              "11             10     ismael.sciarra@sqltutorial.org  ...  515.124.4369   7700.0\n",
              "12             10  jose manuel.urman@sqltutorial.org  ...  515.124.4469   7800.0\n",
              "13             10          luis.popp@sqltutorial.org  ...  515.124.4567   6900.0\n",
              "14              3       den.raphaely@sqltutorial.org  ...  515.127.4561  11000.0\n",
              "15              3     alexander.khoo@sqltutorial.org  ...  515.127.4562   3100.0\n",
              "16              3       shelli.baida@sqltutorial.org  ...  515.127.4563   2900.0\n",
              "17              3       sigal.tobias@sqltutorial.org  ...  515.127.4564   2800.0\n",
              "18              3         guy.himuro@sqltutorial.org  ...  515.127.4565   2600.0\n",
              "19              3   karen.colmenares@sqltutorial.org  ...  515.127.4566   2500.0\n",
              "20              5      matthew.weiss@sqltutorial.org  ...  650.123.1234   8000.0\n",
              "21              5         adam.fripp@sqltutorial.org  ...  650.123.2234   8200.0\n",
              "22              5     payam.kaufling@sqltutorial.org  ...  650.123.3234   7900.0\n",
              "23              5     shanta.vollman@sqltutorial.org  ...  650.123.4234   6500.0\n",
              "24              5  irene.mikkilineni@sqltutorial.org  ...  650.124.1224   2700.0\n",
              "25              8       john.russell@sqltutorial.org  ...          None  14000.0\n",
              "26              8     karen.partners@sqltutorial.org  ...          None  13500.0\n",
              "27              8    jonathon.taylor@sqltutorial.org  ...          None   8600.0\n",
              "28              8    jack.livingston@sqltutorial.org  ...          None   8400.0\n",
              "29              8    kimberely.grant@sqltutorial.org  ...          None   7000.0\n",
              "30              8    charles.johnson@sqltutorial.org  ...          None   6200.0\n",
              "31              5         sarah.bell@sqltutorial.org  ...  650.501.1876   4000.0\n",
              "32              5    britney.everett@sqltutorial.org  ...  650.501.2876   3900.0\n",
              "33              1    jennifer.whalen@sqltutorial.org  ...  515.123.4444   4400.0\n",
              "34              2  michael.hartstein@sqltutorial.org  ...  515.123.5555  13000.0\n",
              "35              2            pat.fay@sqltutorial.org  ...  603.123.6666   6000.0\n",
              "36              4       susan.mavris@sqltutorial.org  ...  515.123.7777   6500.0\n",
              "37              7       hermann.baer@sqltutorial.org  ...  515.123.8888  10000.0\n",
              "38             11    shelley.higgins@sqltutorial.org  ...  515.123.8080  12000.0\n",
              "39             11      william.gietz@sqltutorial.org  ...  515.123.8181   8300.0\n",
              "\n",
              "[40 rows x 10 columns]"
            ]
          },
          "metadata": {},
          "execution_count": 7
        }
      ]
    },
    {
      "cell_type": "markdown",
      "metadata": {
        "id": "oGwnV6fTP2ca"
      },
      "source": [
        "###POST\n",
        "\n",
        "> Si necesitamos `CREAR` un nuevo registro, debemos enviar adjunto a la peticion, el conjunto de datos en formato `Json` del nuevo registro como parametro de `requests.post()`\n",
        "\n"
      ]
    },
    {
      "cell_type": "code",
      "metadata": {
        "colab": {
          "base_uri": "https://localhost:8080/"
        },
        "id": "G9501Up1QHXL",
        "outputId": "685cc863-0acd-4289-8a64-889cbb1c08d5"
      },
      "source": [
        "url = 'http://7b89-34-90-113-194.ngrok.io/insert_employee'  #le pasamos como parámetro, la url que entrega ngrok\n",
        "\n",
        "#Datos del nuevo registro\n",
        "dic = {\"department_id\": 5,\"email\": \"laprueba@gmail.com\", \"employee_id\": 39,\"first_name\": \"Juanito\", \"hire_date\":\"2019-12-19\", \"job_id\": 12, \"last_name\": \"Prado\", \"manager_id\": \"3\", \"phone_number\": 5555555, \"salary\": 330000}\n",
        "\n",
        "#Configurando la cabecera de la peticion\n",
        "headers = {'Content-Type': 'application/json'}\n",
        "\n",
        "response = requests.post(url,data=json.dumps(dic), headers=headers)\n",
        "print(response)\n",
        "print(response.content)"
      ],
      "execution_count": 8,
      "outputs": [
        {
          "output_type": "stream",
          "name": "stdout",
          "text": [
            "b'{\"mensaje\":\"registrado!\"}\\n'\n"
          ]
        }
      ]
    },
    {
      "cell_type": "markdown",
      "metadata": {
        "id": "peylAD0M_h2U"
      },
      "source": [
        "###PUT\n",
        "\n",
        "> Si necesitamos `ACTUALIZAR` un registro ya existente con nueva informacion, le pasamos como parametro al metodo `requests.put()`, la `url` y la data del registro a actualizar.\n",
        "\n",
        "> Adjunto a la url, le pasamos la ruta y el codigo del `employee_id` que se quiere actualizar.\n",
        "\n",
        "\n",
        "\n"
      ]
    },
    {
      "cell_type": "code",
      "metadata": {
        "id": "WNp_jf5ZARML",
        "colab": {
          "base_uri": "https://localhost:8080/"
        },
        "outputId": "8f4716a3-6783-45e3-a84e-f0814fb52553"
      },
      "source": [
        "url = 'http://dd93-34-140-57-123.ngrok.io/update_employee/179'  #le pasamos como parámetros: ngrok_url/update_employee/<employee_id>\n",
        "\n",
        "#Datos del registro a actualizar\n",
        "dic = {\"department_id\": 5,\"email\": \"Cotufa@gmail.com\", \"employee_id\": 39,\"first_name\": \"Cotufo\", \"hire_date\":\"2019-12-19\", \"job_id\": 12, \"last_name\": \"Maiz\", \"manager_id\": \"3\", \"phone_number\": 342526737, \"salary\": 12000}\n",
        "\n",
        "response = requests.put(url,data=json.dumps(dic), headers=headers)\n",
        "print(response)\n",
        "print(response.content)\n"
      ],
      "execution_count": 12,
      "outputs": [
        {
          "output_type": "stream",
          "name": "stdout",
          "text": [
            "b'{\"mensaje\":\"Registro Actualizado!\"}\\n'\n"
          ]
        }
      ]
    },
    {
      "cell_type": "markdown",
      "metadata": {
        "id": "1uSRzMa3GwJn"
      },
      "source": [
        "###DELETE\n",
        "\n",
        "> Si necesitamos `ELIMINAR` un registro ya existente, le pasamos como parametro al metodo `requests.put()`, la `url` del registro a actualizar, adjunto del `employee_id` que se quiere eliminar. \n",
        "\n"
      ]
    },
    {
      "cell_type": "code",
      "metadata": {
        "id": "Du0xG3mpICEC"
      },
      "source": [
        "url = 'http://dd93-34-140-57-123.ngrok.io/update_employee/179'  #le pasamos como parámetros: ngrok_url/update_employee/<employee_id>\n",
        "\n",
        "response = requests.delete(url)\n",
        "print(response)\n",
        "print(response.content)"
      ],
      "execution_count": null,
      "outputs": []
    }
  ]
}