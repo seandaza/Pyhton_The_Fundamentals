{
  "nbformat": 4,
  "nbformat_minor": 0,
  "metadata": {
    "colab": {
      "name": "Funciones.ipynb",
      "provenance": [],
      "collapsed_sections": [],
      "include_colab_link": true
    },
    "kernelspec": {
      "name": "python3",
      "display_name": "Python 3"
    },
    "language_info": {
      "name": "python"
    }
  },
  "cells": [
    {
      "cell_type": "markdown",
      "metadata": {
        "id": "view-in-github",
        "colab_type": "text"
      },
      "source": [
        "<a href=\"https://colab.research.google.com/github/seandaza/Python-The-Fundamentals/blob/master/Funciones.ipynb\" target=\"_parent\"><img src=\"https://colab.research.google.com/assets/colab-badge.svg\" alt=\"Open In Colab\"/></a>"
      ]
    },
    {
      "cell_type": "markdown",
      "metadata": {
        "id": "s1o6MtVpX3PV"
      },
      "source": [
        "#Funciones"
      ]
    },
    {
      "cell_type": "markdown",
      "metadata": {
        "id": "0bPbMQGZX9VP"
      },
      "source": [
        " ##Preliminares\n",
        "\n",
        "> En cualquier lenguaje de programación existen funciones ya construídas y que vienen por defecto, solo basta con llamarlas para que sean ejecutadas. En python por ejemplo, recordemos la función `print()`; con la cual estamos ya estamos bastante familiarizados y sabemos que nos imprime por consola algún parámetro que le pasemos que puede ser una cadena o un numero. Para saber con mas detalle que parámetros recibe una función que viene ya por defecto construída en el lenguaje, basta con ejecutar otra función que viene también por defecto cargada en el lenguaje, la función `help()`. Pasemosle como parámetro la función `print()` a la función `help()` y veamos que nos retorna."
      ]
    },
    {
      "cell_type": "code",
      "metadata": {
        "colab": {
          "base_uri": "https://localhost:8080/"
        },
        "id": "uxz6NjVgaVMO",
        "outputId": "c575e9fc-f312-4477-cb16-c564c4d6594c"
      },
      "source": [
        "help(print)"
      ],
      "execution_count": null,
      "outputs": [
        {
          "output_type": "stream",
          "name": "stdout",
          "text": [
            "Help on built-in function print in module builtins:\n",
            "\n",
            "print(...)\n",
            "    print(value, ..., sep=' ', end='\\n', file=sys.stdout, flush=False)\n",
            "    \n",
            "    Prints the values to a stream, or to sys.stdout by default.\n",
            "    Optional keyword arguments:\n",
            "    file:  a file-like object (stream); defaults to the current sys.stdout.\n",
            "    sep:   string inserted between values, default a space.\n",
            "    end:   string appended after the last value, default a newline.\n",
            "    flush: whether to forcibly flush the stream.\n",
            "\n"
          ]
        }
      ]
    },
    {
      "cell_type": "markdown",
      "metadata": {
        "id": "7nIOXoDVakGz"
      },
      "source": [
        "## Estructura\n",
        "\n",
        "> Notemos que en la anterior salida, nos entrega una documentación inherente al detaalle de la función `print()` en una determinada estructura. Esta información documentada, habla de los parámetros que recibe y retorna la función y en algunos casos ofrece ejemplos de uso.\n",
        "\n",
        "> En esta sección veremos cómo construír nuestras propias funciones. para ello, seguiremos la siguiente estructura:\n",
        "\n",
        "1.   Header\n",
        "2.   Type Contract\n",
        "3.   Description\n",
        "4.   Examples\n",
        "5.   Body\n",
        "\n",
        "*   **Header**: se define la función y dentro de paréntesis se pasan los parámetros(opcional)\n",
        "\n",
        "*   **Type Contract**: Inicio de la documentación de la función con tres comillas simples `'''` y se especifica el tipo de dato de los parámetros que se están pasando y el tipo de dato del retorno esperado\n",
        "\n",
        "*   **Description**: Detalla con frases textuales que debe retornar la función a partir de qué parámetros\n",
        "\n",
        "*   **Examples**: Muestra un ejemplo específico de aplicación de la función, detallando parámetros y retorno de su aplicación. Se da cierre a la sección de documentación con tres comillas simples `'''`.\n",
        "\n",
        "*   **Body**: especificación de lo que debería retornar la función\n",
        "\n",
        "\n",
        "\n",
        "\n",
        "\n",
        "\n",
        "\n",
        "\n",
        "\n",
        "\n"
      ]
    },
    {
      "cell_type": "markdown",
      "metadata": {
        "id": "qWm6NZ4-3GqR"
      },
      "source": [
        "##Diseñando Funciones"
      ]
    },
    {
      "cell_type": "markdown",
      "metadata": {
        "id": "wKwXob-VfXMu"
      },
      "source": [
        "###Ejemplo 1\n",
        "\n",
        "\n",
        "> Veamos como definir una función `area`, para que calcule el area de un triángulo dado a partir de sus parámetros `base` y `height`, siguiendo la estructura que planteamos recientemente.\n",
        "\n"
      ]
    },
    {
      "cell_type": "code",
      "metadata": {
        "id": "xM42BFhnfguO"
      },
      "source": [
        "def area(base,height):                  # HEADER\n",
        "  '''(number,number) -> number          #Type Contract\n",
        "\n",
        "  Return the area of a triangle         #Description\n",
        "  with dimensions base and height.\n",
        "\n",
        "  >>> area(10, 5)                       #Examples\n",
        "  25.0\n",
        "  >>> area(2.5, 3)\n",
        "  3.75\n",
        "  '''\n",
        "  return base * height / 2              #Body"
      ],
      "execution_count": null,
      "outputs": []
    },
    {
      "cell_type": "markdown",
      "metadata": {
        "id": "1JQQhpnKizDY"
      },
      "source": [
        "Veamos su ejecución pasandole los parámetros que nos indican en la sección de `Examples` de la documentación y corroboremos que nos retorna lo debido:"
      ]
    },
    {
      "cell_type": "code",
      "metadata": {
        "colab": {
          "base_uri": "https://localhost:8080/"
        },
        "id": "Bu_vZPnJ1k9F",
        "outputId": "41568175-07a7-44b1-801f-d82e71400c67"
      },
      "source": [
        "area(10,5)"
      ],
      "execution_count": null,
      "outputs": [
        {
          "output_type": "execute_result",
          "data": {
            "text/plain": [
              "25.0"
            ]
          },
          "metadata": {},
          "execution_count": 7
        }
      ]
    },
    {
      "cell_type": "code",
      "metadata": {
        "colab": {
          "base_uri": "https://localhost:8080/"
        },
        "id": "5KCxGzWr196K",
        "outputId": "4b915735-4b56-4abb-9da7-87c80a84e1a1"
      },
      "source": [
        "area(2.5,3)"
      ],
      "execution_count": null,
      "outputs": [
        {
          "output_type": "execute_result",
          "data": {
            "text/plain": [
              "3.75"
            ]
          },
          "metadata": {},
          "execution_count": 8
        }
      ]
    },
    {
      "cell_type": "markdown",
      "metadata": {
        "id": "WQUo1Z1E2o2B"
      },
      "source": [
        "###Ejemplo 2\n",
        "\n",
        "Diseñaremos ahora una función que me convierta grados Fahrenheit (°F) a grados Celsius (°C). Recordemos que el factor de conversión entre estas dos unidades de temperatura esta dado por la relación ` °C = (°F − 32) × 5/9 `\n"
      ]
    },
    {
      "cell_type": "code",
      "metadata": {
        "id": "q950oRY44SVf"
      },
      "source": [
        "def convert_to_celsius(fahrenheit):      #Header\n",
        "  '''(number) -> (number)                #Type Contract\n",
        "\n",
        "  Return the number of Celsius degrees   #Description\n",
        "  equivalent to Fahrenheit degrees\n",
        "\n",
        "  >>> convert_to_celsius(32)             #Examples\n",
        "  0\n",
        "  >>> convert_to_celsius(212) \n",
        "  100\n",
        "  '''\n",
        "  return (fahrenheit - 32)* 5/9          #Body"
      ],
      "execution_count": null,
      "outputs": []
    },
    {
      "cell_type": "markdown",
      "metadata": {
        "id": "4GaG32hT7DrD"
      },
      "source": [
        "Comporobemos que quedó bien definida la función:"
      ]
    },
    {
      "cell_type": "code",
      "metadata": {
        "colab": {
          "base_uri": "https://localhost:8080/"
        },
        "id": "wYIuxUFd5hiS",
        "outputId": "a2c5719a-d717-42de-9e06-c409df32708c"
      },
      "source": [
        "convert_to_celsius(32)"
      ],
      "execution_count": null,
      "outputs": [
        {
          "output_type": "execute_result",
          "data": {
            "text/plain": [
              "0.0"
            ]
          },
          "metadata": {},
          "execution_count": 17
        }
      ]
    },
    {
      "cell_type": "code",
      "metadata": {
        "colab": {
          "base_uri": "https://localhost:8080/"
        },
        "id": "sc4bM35z6uxR",
        "outputId": "5cf72c41-14f3-4e5b-fa7f-fb7ee4475125"
      },
      "source": [
        "convert_to_celsius(212)"
      ],
      "execution_count": null,
      "outputs": [
        {
          "output_type": "execute_result",
          "data": {
            "text/plain": [
              "100.0"
            ]
          },
          "metadata": {},
          "execution_count": 18
        }
      ]
    },
    {
      "cell_type": "markdown",
      "metadata": {
        "id": "wN8WzuON7Jze"
      },
      "source": [
        "### Observaciones\n",
        "En muchas ocasiones y sobre todo , si es en el contexto de un desarrollo informal, para definir una función solo basta con estructurar su `#Header` y su `#Body`. No obstante, en un contexto formal es importante estructurar las funciones con todas sus partes. Queda ya a criterio del desarrollador el formato a usar."
      ]
    },
    {
      "cell_type": "markdown",
      "metadata": {
        "id": "YVqMYpcb8O-2"
      },
      "source": [
        "## Ejercicio 1\n",
        "\n",
        "> La función `count_vowels`, retorna el número de vocales en una palabra `(str)` dada. \n",
        "\n",
        "> Escriba el `Type Contract` Para esa función, entreguele ese parámetro en el `Header` y escriba la linea de código para el `Body`\n",
        "\n",
        "\n",
        "\n"
      ]
    },
    {
      "cell_type": "code",
      "metadata": {
        "id": "C-bhZwkQ-eI7"
      },
      "source": [
        "def count_vowels():               <--------  #Header\n",
        "'''                               <--------  #Type Contract\n",
        "\n",
        "the function count_vowels         <--------  #Description\n",
        "return the number of vowels\n",
        "in a given word\n",
        "\n",
        ">>> count_vowels(\"moose\")         <--------  #Examples\n",
        "3\n",
        ">>> count_vowels(\"scratch\")\n",
        "1\n",
        "'''\n",
        "return                            <--------  #Body"
      ],
      "execution_count": null,
      "outputs": []
    },
    {
      "cell_type": "markdown",
      "metadata": {
        "id": "OjNLGuOwOKPS"
      },
      "source": [
        "A continuación está de forma encubierta el `#Body` de la función `count_vowels`. Dale doble click para que puedas ver y contrastar con tu código:"
      ]
    },
    {
      "cell_type": "code",
      "metadata": {
        "id": "8JMBDmAXJcVB"
      },
      "source": [
        ""
      ],
      "execution_count": null,
      "outputs": []
    },
    {
      "cell_type": "markdown",
      "metadata": {
        "id": "Gt_GZ5rLPZkF"
      },
      "source": [
        "A continuación, mostraremos una documentación incompleta de la función `count_vowels`"
      ]
    },
    {
      "cell_type": "code",
      "metadata": {
        "id": "OHfFRiLqPvh5"
      },
      "source": [
        "def count_vowels(word):\n",
        "    \"\"\"(str) -> int\n",
        "\n",
        "    Count the vowels in the string.   <--------  #Description    \n",
        "    \"\"\""
      ],
      "execution_count": null,
      "outputs": []
    },
    {
      "cell_type": "markdown",
      "metadata": {
        "id": "DJIuak-JP7lQ"
      },
      "source": [
        "Identifica cúal es el problema con la sección `#Description` de la función de acuerdo a lo que debería ir escrito en esa sección. Solo hay dos razones correctas. Determinalas en el siguiente bloque:"
      ]
    },
    {
      "cell_type": "markdown",
      "metadata": {
        "id": "4zF8_V4QQf2n"
      },
      "source": [
        "\n",
        "\n",
        "> A. No indica que retorna la función.\n",
        "\n",
        "> B. Es muy corta.\n",
        "\n",
        "> C. No menciona el tipo de parámetro\n",
        "\n",
        "> D. No menciona el parámetro por su nombre.\n",
        "\n"
      ]
    },
    {
      "cell_type": "code",
      "metadata": {
        "id": "Bymr8HciQNll"
      },
      "source": [
        ""
      ],
      "execution_count": null,
      "outputs": []
    },
    {
      "cell_type": "markdown",
      "metadata": {
        "id": "PJuXYf2-cQ7M"
      },
      "source": [
        "##Ejercicio 2\n",
        "\n",
        "> Diseñe una función que incorpore toda su estructura y se llame `perimeter()`; que permita calcular el perímetro de un triángulo dado. Recuerde que el perímetro de una figura geométrica se define como la suma de la longitud de cada uno de los lados que la componen.\n",
        "\n"
      ]
    },
    {
      "cell_type": "code",
      "metadata": {
        "id": "dSsAyX3JdGdc"
      },
      "source": [
        "def perimeter():    #Header\n",
        "''' #Type Contract\n",
        "#Description\n",
        "#Examples\n",
        "'''  \n",
        "return #Body\n"
      ],
      "execution_count": null,
      "outputs": []
    },
    {
      "cell_type": "markdown",
      "metadata": {
        "id": "dip9hdOWfrF2"
      },
      "source": [
        "#Composición de Funciones\n",
        "\n",
        "> Es posible invocar fuinciones dentro de otras. Lo único a tener en cuenta es que el retorno de la función interna debe estar dentro del tipo de datos o parámetros que puede recibir la función mas externa\n",
        "\n"
      ]
    },
    {
      "cell_type": "markdown",
      "metadata": {
        "id": "vpR_XvJJiu1O"
      },
      "source": [
        "##Ejemplo 1\n",
        "\n",
        "\n",
        "> Veamos una composición para la función `int()` y la función `input()`, que són funciones que vienen por defecto ya definidas en el lenguaje. Antes que nada, echemos un vsitazo a ver la documentación de estas funciones\n",
        "\n"
      ]
    },
    {
      "cell_type": "code",
      "metadata": {
        "id": "08miiz0unEes"
      },
      "source": [
        "help(int)"
      ],
      "execution_count": null,
      "outputs": []
    },
    {
      "cell_type": "code",
      "metadata": {
        "id": "nUbz-ZcKnPLE"
      },
      "source": [
        "help(input)"
      ],
      "execution_count": null,
      "outputs": []
    },
    {
      "cell_type": "markdown",
      "metadata": {
        "id": "TP_CSTfKoRwI"
      },
      "source": [
        "help(input)\n",
        "\n",
        "\n",
        "> The function then reads a line from input, converts it to a string (stripping a trailing newline), and returns that. When EOF is read, EOFError is raised. Example:\n",
        "\n"
      ]
    },
    {
      "cell_type": "markdown",
      "metadata": {
        "id": "JOhvrJAZoz42"
      },
      "source": [
        "Teniendo claridad de lo que hace cada una de estas funciones, veamos un clásico ejemplo. Pidamos al usuario su edad, la guardamos en una variable e impirmimos su duplo."
      ]
    },
    {
      "cell_type": "code",
      "metadata": {
        "id": "g_KPZrN5jBlb"
      },
      "source": [
        "x = input('Ingresa tu edad: ')\n",
        "print('El doble de tu edad  es: ',2*x)\n"
      ],
      "execution_count": null,
      "outputs": []
    },
    {
      "cell_type": "markdown",
      "metadata": {
        "id": "n6CJHhhYpdHj"
      },
      "source": [
        "Note que la salida no corresponde al duplo de la edad ingresada. Y la razón es porque el tipo de dato que captura la función `input()`, es un `str`, y a la hora de imprimirlo, la operación `2*x` ejecuta una **duplicación** del string; por lo tanto, la salida no corresponde al doble del número. Para que en la variable `x` se guarde la edad en un tipo de dato `int`, debemos \"castear\" el dato de entrada. Esto lo haremos con la función `int()` **compuesta** con la función `input()`. veamos:"
      ]
    },
    {
      "cell_type": "code",
      "metadata": {
        "id": "pi1mov_Grq-l"
      },
      "source": [
        "x = int(input('Ingresa tu edad: '))\n",
        "print('El doble de tu edad  es: ',2*x)"
      ],
      "execution_count": null,
      "outputs": []
    },
    {
      "cell_type": "markdown",
      "metadata": {
        "id": "POIXJu1qsLVi"
      },
      "source": [
        "De esta manera, hemos compuesto un par de funciones."
      ]
    },
    {
      "cell_type": "markdown",
      "metadata": {
        "id": "uwBglbVjsenJ"
      },
      "source": [
        "##Ejercicio 1\n",
        "\n",
        "\n",
        "> Defina la función raíz cuadrada de número y la función cuadrática de un número y uselas en forma de composición para calcular la distancia entre los puntos del plano `A = (3,5)` y `B = (2,-4)`. Recuerde que la formula de la distancia entre dos puntos del plano se define así:\n",
        "`d(A,B) = sqrt((y2-y1)^2 + (x2/x1)^2)`. Nota: Importa la librería `math`.\n",
        "\n"
      ]
    },
    {
      "cell_type": "code",
      "metadata": {
        "id": "XDcvLtkx7GwD"
      },
      "source": [
        "#Escribe tu código aquí!"
      ],
      "execution_count": null,
      "outputs": []
    },
    {
      "cell_type": "markdown",
      "metadata": {
        "id": "aipAB52i7HUE"
      },
      "source": [
        "##Ejercicio 2\n",
        "\n",
        "> Suponga que tiene un par de slices de pizza cuyas formas son casi perfectamente triangulares. Sus medidas son de 3.5 y de 6.8 para base y altura respectivamente del primer slice. Para el segundo slice, las medidas son de 3.8 y 7 para base y altura respectivamente. Use la función `area` definida al principio de este notebook y la función `max()` de manera compuesta para determinar cuál slice es le mas grande.\n",
        "\n"
      ]
    },
    {
      "cell_type": "code",
      "metadata": {
        "id": "4wiR-Zvu-ANQ"
      },
      "source": [
        "#Escribe tu código aqui!!\n"
      ],
      "execution_count": null,
      "outputs": []
    },
    {
      "cell_type": "markdown",
      "metadata": {
        "id": "sowgtzhWYtSk"
      },
      "source": [
        "#Funciones e Iteradores\n",
        "\n",
        "\n",
        "> Muchas funciones hacen uso de loops en el proceso para construír sus retornos. Veamos algunos ejemplos:\n",
        "\n"
      ]
    },
    {
      "cell_type": "markdown",
      "metadata": {
        "id": "VncS8jlNe9Bl"
      },
      "source": [
        "## Ejemplo 1\n",
        "\n",
        "> Construye una funcion que a partir de una lista de numeros cualesquiera, me permita obtener el maximo valor de ellos.\n",
        "\n"
      ]
    },
    {
      "cell_type": "code",
      "metadata": {
        "id": "f2Uij8sIZN8b"
      },
      "source": [
        "                                    #Explicación:\n",
        "\n",
        "def max_val(some_list):       <-----#Definimos el Header de la función.\n",
        "  maxval = some_list[0]       <-----#supongamos que el primer elemento de la lista es el maximo valor entre todos.\n",
        "  for elm in some_list:       <-----#Recorremos la lista.\n",
        "    if elm > maxval:          <-----#Comparamos cada elemento de la lista con nuestro valor máximo actual y condicionamos.\n",
        "      maxval = elm            <-----#Actualizamos la variable que almacena el valor máximo temporal.\n",
        "  return maxval               <-----#Retornamos lo que queremos.\n",
        "\n",
        "l = [3,7,1,0,9,2,6]\n"
      ],
      "execution_count": null,
      "outputs": []
    },
    {
      "cell_type": "markdown",
      "metadata": {
        "id": "Sct-OaJkf7TI"
      },
      "source": [
        "Comprobemos si la funcion `max_val` quedó bien definida. Ella debería retornarnos el valor `9`, ya que, como vemos, es el valor máximo de la lista l.Veamos:"
      ]
    },
    {
      "cell_type": "code",
      "metadata": {
        "id": "ESmeOvMHf6kH"
      },
      "source": [
        "print(max_val(l))"
      ],
      "execution_count": null,
      "outputs": []
    },
    {
      "cell_type": "markdown",
      "metadata": {
        "id": "Oslc0JpYh1Df"
      },
      "source": [
        "##Ejercicio 1\n",
        "\n",
        "> Construye una función usando iteradores, que me permita a partir de una lista  de números, obtener una lista que contenga solo los numeros pares de la lista inicial. \n",
        "\n"
      ]
    },
    {
      "cell_type": "code",
      "metadata": {
        "id": "6E6ljxhOi2BO"
      },
      "source": [
        "#Escribe tu código aquí!"
      ],
      "execution_count": null,
      "outputs": []
    },
    {
      "cell_type": "markdown",
      "metadata": {
        "id": "ZgHlW4Kii7eo"
      },
      "source": [
        "##Ejercicio 2\n",
        "\n",
        "> Usa la función del Ejercicio anterior y la función `max_val` que hace poco definimos, para obtener a partir de una lista de números dada, el máximo número par.\n",
        "\n"
      ]
    },
    {
      "cell_type": "code",
      "metadata": {
        "id": "uk4UtyzfjvKz"
      },
      "source": [
        "#Escribe tu código aquí!"
      ],
      "execution_count": null,
      "outputs": []
    }
  ]
}