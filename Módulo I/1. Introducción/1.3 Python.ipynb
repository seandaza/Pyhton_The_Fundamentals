{
 "cells": [
  {
   "cell_type": "markdown",
   "source": [
    "Python\r\n",
    "\r\n",
    "Python es uno de los cientos de lenguajes de programación existentes en el mundo. Actualmente esta dentro del top 5 de lenguajes de programación mas populares debido a su facilidad para aprender a programar como por sus alcances y posibilidades. Conocido también, como un lenguaje dinámico, interpretativo y de alto nivel que es compatible con el enfoque de programación orientada a objetos para desarrollar aplicaciones.\r\n",
    "\r\n",
    "\r\n",
    "Historia\r\n",
    "\r\n",
    "- Python sentó sus bases a fines de la década de 1980\r\n",
    "- La implementación de Python se inició en diciembre de 1989 por Guido Van Rossum en CWI en Holanda.\r\n",
    "- En febrerode 1991, Guido Van Rossum publicó el código (etiquetado como versión 0.9.0) en alt. sources.\r\n",
    "- En 1994, se lanzó Python 1.0 con nuevas características como lambda, mapa, filtro y reducción.\r\n",
    "- Python 2.0 agregó nuevas características como listas por comprensión y sistemas de recoleccion de basura.\r\n",
    "- El 3 de diciembre de 2008, se lanzó Python 3.0 (también llamado \"Py3k\"). Fue diseñado para rectificar el defecto fundamental del idioma.\r\n",
    "- Se dice que el lenguaje de programación ABC es el predecesor del lenguaje Python, que era capaz de manejar excepeciones e interactuar con el sistema operativo Amoeba.\r\n",
    "\r\n",
    "\r\n",
    "Áreas de Aplicación\r\n",
    "\r\n",
    "Python es conocido por su naturaleza de propósito general, que lo hace aplicable a casi todos los dominios del desarrollo de software. Algunas de las áreas donde presenta aplicación este lenguaje son:\r\n",
    "\r\n",
    "- Aplicaciones web.\r\n",
    "- Aplicaciones GUI de escritorio.\r\n",
    "- Aplicación basada en consola.\r\n",
    "- Desarrollo de software.\r\n",
    "- Científico y numérico.\r\n",
    "- Aplicaciones comerciales.\r\n",
    "- Aplicaciones basadas en audio o video.\r\n",
    "- Aplicaciones CAD 3D.\r\n",
    "- Aplicaciones Empresariales.\r\n",
    "- Aplicación de procesamiento de imágenes.\r\n",
    "\r\n"
   ],
   "metadata": {}
  }
 ],
 "metadata": {
  "orig_nbformat": 4,
  "language_info": {
   "name": "python"
  }
 },
 "nbformat": 4,
 "nbformat_minor": 2
}