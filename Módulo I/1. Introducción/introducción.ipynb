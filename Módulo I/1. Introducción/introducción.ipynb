{
 "cells": [
  {
   "cell_type": "markdown",
   "source": [
    "¿Qué es la Programación?\r\n",
    "\r\n",
    "La programación es un conjunto de instrucciones ordenadas y acopladas en un programa que pueden ser ejecutadas por un computador o una máquina.\r\n",
    "\r\n",
    "La programación no es en sí misma una actividad dificil, pero si es una actividad compleja que involucra varios elementos y habilidades complementarias; Entre ellas, la mas importante posiblememte sea la habilidad para resolver problemas, que en si mísma es una combinación de otras habilidades como comprensión lectora, abstracción,análisis, síntesis, descompsosición, razonamiento lógico y creatividad.En este sentido, para programar, es necesario ser capaz de resolver problemas, independientemente de que haya o no, tecnología y computadores involucrados.\r\n",
    "\r\n",
    "Una de las habilidades requeridas para programar, es el Pensamiento Algorítmico, el cuál hace referencia a la forma o manera de darle solución a un problema dado. El término \"Algoritmo\" de hecho, hace referencia a una serie de instrucciones a seguir para resolver un problema. Un ejemplo común de algoritmo, son las instrucciones para hacer un pastel o las instrucciones que encontramos al reverso de los envases de la crema dental haciendo referencia a su uso. Estas instruciones nos indican apenas una manera correcta de hacerlo, esto no quiere decir que no existan más maneras de uso. Igual pasa a la hora de resolver un problema en general, pueden existir muchas maneras de darle solución, pero muchas veces, estaremos interesados en encontrar la manera mas ÓPTIMA  para hacerlo; es decir, la que nos implique menos tiempo y/o recursos."
   ],
   "metadata": {}
  }
 ],
 "metadata": {
  "orig_nbformat": 4,
  "language_info": {
   "name": "python"
  }
 },
 "nbformat": 4,
 "nbformat_minor": 2
}