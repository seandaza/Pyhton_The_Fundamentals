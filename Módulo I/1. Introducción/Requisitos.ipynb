{
 "cells": [
  {
   "cell_type": "markdown",
   "source": [
    "\r\n",
    "Requisitos\r\n",
    "\r\n",
    "Para programar se requiere conocer almenos un lenguaje de programación que nos permitirá escribir las instrucciones en el código propio del lenguaje. En este curso, nos enfocaremos particularmente en Python. \r\n",
    "\r\n",
    "Actitud y Compromiso\r\n",
    "\r\n",
    "El proceso de aprendizaje de un lenguaje de programación implica un tiempo que va a ser relativo a la persona que aprende y está en función a sus experiencias previas. En ese sentido, es importante tener presente que los ritmos y tiempos de aprendizaje son individuales e inherentes a quien aprende. No obstante, fijarse como un principio básico el tener una buena actitud y ética de compromiso ante los retos que este proceso demande, hará que los alcances del mismo sean valiosos. Por ello, es importante tener una buena disposición hacia la tecnología y el aprendizaje autónomo.\r\n",
    "\r\n",
    "Leer con Atención\r\n",
    "\r\n",
    "Para poder programar es necesario leer con atención al detalle todo lo relacionado al problema que se intenta solucionar. Por ello, para poder dar una buena solución a un problema, es importante leer con cuidado las condiciones y restricciones que se nos imponen  y las exigencias que se demandan en la misma.\r\n",
    "\r\n",
    "Práctica\r\n",
    "\r\n",
    "Al igual que cualquier otra actividad que este basada en habilidades, programar requiere de mucha práctica y en ese sentido recomendamos el modelo de aprendizaje significativo \"Learning By Doing\". No hay mejor forma de aprender que haciendo. En ese sentido, es importante poner en práctica todo lo que se teoriza, para darle sentido inmediato al mismo.\r\n",
    "\r\n",
    "Lectura de Código\r\n",
    "\r\n",
    "Al igual que un pintor no podría pintar sus obras sin haber visto las de otros antes, o un escritor no podría escribir una novela sin haber leido las de muchos otros antes, para escribir programas o programar, es neceario leer los programas o códigos escritos por otros. No obstante, no se trata de una lectura superficial, sino antes bien, de hacer una lectura cuidadosa, que nos permita identificar las características de la sintáxis y la semántica del código del otro a manera de comprender el objetivo del mismo dentro del marco de un problema o la búsqueda de un resultado esperado."
   ],
   "metadata": {}
  }
 ],
 "metadata": {
  "orig_nbformat": 4,
  "language_info": {
   "name": "python"
  }
 },
 "nbformat": 4,
 "nbformat_minor": 2
}