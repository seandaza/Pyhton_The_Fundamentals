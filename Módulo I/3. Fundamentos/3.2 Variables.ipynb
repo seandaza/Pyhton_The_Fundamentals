{
 "cells": [
  {
   "cell_type": "markdown",
   "source": [
    "Memoria del Ordenador\r\n",
    "\r\n",
    "Para el propósito de este curso, puede pensar en la memoria de la computadora como una larga lista de ubicaciones de almacenamiento donde cada ubicación se identifica con un número único y cada ubicación contiene un valor. Este número único se llama dirección de memoria. Normalmente, escribiremos las direcciones de memoria como un número con un \"id\" como prefijo para distinguirlas de otros números (por ejemplo, id201 es la dirección de memoria 201).\r\n",
    "\r\n",
    "Variables\r\n",
    "\r\n",
    "Las variables son una forma de realizar un seguimiento de los valores almacenados en la memoria de la computadora. Una variable es una ubicación con nombre en la memoria de la computadora. Python mantiene las variables en una lista separada de los valores. Una variable contendrá una dirección de memoria y esa dirección de memoria contiene el valor. La variable luego se refiere al valor. Python elegirá las direcciones de memoria por usted.\r\n",
    "\r\n",
    "Terminología\r\n",
    "\r\n",
    "Un valor tiene una dirección de memoria.\r\n",
    "Una variable contiene una dirección de memoria.\r\n",
    "Una variable se refiere a un valor.\r\n",
    "Una variable apunta a un valor\r\n",
    "\r\n",
    "Por ejemplo al ejecutar en Python:"
   ],
   "metadata": {}
  },
  {
   "cell_type": "code",
   "execution_count": 4,
   "source": [
    "shoe_size = 8.5"
   ],
   "outputs": [],
   "metadata": {}
  },
  {
   "cell_type": "markdown",
   "source": [
    "Estamos declarando una nueva variable llamada \"shoe_size\" y la estamos inicializando con un valor de 8.5. Supongamos que el ordenador dispone en su memoria la dirección id34 para su almacenamiento, entonces es correcto decir las siguientes afirmaciones:\r\n",
    "\r\n",
    "- El valor 8.5 tiene la dirección de memoria id34.\r\n",
    "- La variable shoe_size contiene la dirección de memoria id34.\r\n",
    "- El valor de shoe_size es 8.5.\r\n",
    "- shoe_size se refiere al valor 8.5.\r\n",
    "- shoe_size apunta al valor 8.5.\r\n",
    "\r\n",
    "Es importante manejar esta terminología para comprender lo que está pasando por debajo de la capa de programación. No obstante, también es importante tener claro que apenas yo declaro una variable, ella guardará el valor con el cual la inicialicé hasta que la declare con un valor diferente. \r\n",
    "\r\n",
    "por otro lado, la vventaja de las variables es que puedo operar con ellas; es decir, con el valor al cual ellas refieren. Esto nos ahorra código al reutilizarlo en varias partes. Ejemplo:"
   ],
   "metadata": {}
  },
  {
   "cell_type": "code",
   "execution_count": 5,
   "source": [
    "shoe_size * 2"
   ],
   "outputs": [
    {
     "output_type": "execute_result",
     "data": {
      "text/plain": [
       "17.0"
      ]
     },
     "metadata": {},
     "execution_count": 5
    }
   ],
   "metadata": {}
  },
  {
   "cell_type": "markdown",
   "source": [
    "Como podemos ver, podemos hacer operaciones aritméticas con variables que apuntan a datos del mismo tipo."
   ],
   "metadata": {}
  },
  {
   "cell_type": "code",
   "execution_count": 17,
   "source": [
    "base = 12\r\n",
    "altura = 10"
   ],
   "outputs": [],
   "metadata": {}
  },
  {
   "cell_type": "markdown",
   "source": [
    "Declaramos este par de variables correspondientes a las medidas de un triángulo cualquiera y procedemos a reutilizarlas para clacular su área:"
   ],
   "metadata": {}
  },
  {
   "cell_type": "code",
   "execution_count": 18,
   "source": [
    "base * altura / 2"
   ],
   "outputs": [
    {
     "output_type": "execute_result",
     "data": {
      "text/plain": [
       "60.0"
      ]
     },
     "metadata": {},
     "execution_count": 18
    }
   ],
   "metadata": {}
  },
  {
   "cell_type": "markdown",
   "source": [
    "Note que Python nos efectúa la operación y nos entrega el resultado. Pero, inclusive, si queremos guardar el valor de esa área en una nueva variable, simplemente la declaramos con el nombre que queramos y la igualamos al valor que queremos que ella apunte. Así:"
   ],
   "metadata": {}
  },
  {
   "cell_type": "code",
   "execution_count": 22,
   "source": [
    "area = base * altura/ 2"
   ],
   "outputs": [],
   "metadata": {}
  },
  {
   "cell_type": "markdown",
   "source": [
    "De esta manera, la variable \"area\" ya contiene el valor resultante de efectuar la operación que immplica calcular esa área. Si queremos ver el valor al cual apunta la variable \"area\", usaremos otra función incorporada en el lenguaje Python denominada \"print()\"; a la cual le pasamos por argumento lo que queremos que se imprima en la salida por consola. Veamos:"
   ],
   "metadata": {}
  },
  {
   "cell_type": "code",
   "execution_count": 23,
   "source": [
    "print(area)"
   ],
   "outputs": [
    {
     "output_type": "stream",
     "name": "stdout",
     "text": [
      "60.0\n"
     ]
    }
   ],
   "metadata": {}
  },
  {
   "cell_type": "markdown",
   "source": [
    "En efecto, vemos que nos muestra por la salida de consola, el valor que alberga la variable area."
   ],
   "metadata": {}
  },
  {
   "cell_type": "markdown",
   "source": [
    "EJERCICIO:\r\n",
    "\r\n",
    "Una microempresa que elabora tapabocas, le ha asignado un precio de 1500 pesos por cada tapaboca. Si el Ingreso de la empresa está en función a la cantidad de tapabocas vendidos y se sabe que se vendieron 2000 tapabocas el último mes, con unos Costos totales en ese mes por un monto de 800000 pesos. Determine La Utilidad de ese mes haciendo uso de Python.\r\n",
    "\r\n",
    "Ayuda: \r\n",
    "\r\n",
    "1. Declare las variables de tipo Constante como \"precio\" de cada tapaboca y \"cantidad\" de tapabocas vendidos e inicialícelas con los valores correspondientes.\r\n",
    "\r\n",
    "2. Declare una nueva variable \"ingreso\" y guarde en ella el resultado de los ingresos por concepto de las ventas de la cantidad de tapabocas descrito.\r\n",
    "\r\n",
    "3. Declare una nueva variable \"costo\" e inicialícela con el valor constante que tiene ella.\r\n",
    "\r\n",
    "4. Declare una nueva variable \"utilidad\" y guarde en ella el resultado de restar el valor de los \"ingresos\" menos el valor de los \"costos\"\r\n",
    "\r\n",
    "5. Use la función \"print()\" incorporada en el lenguaje python por defecto para que le muestre finalmente por consola el valor resultante de la variable \"utilidad\" pasandosela como argumento."
   ],
   "metadata": {}
  }
 ],
 "metadata": {
  "orig_nbformat": 4,
  "language_info": {
   "name": "python",
   "version": "3.8.2",
   "mimetype": "text/x-python",
   "codemirror_mode": {
    "name": "ipython",
    "version": 3
   },
   "pygments_lexer": "ipython3",
   "nbconvert_exporter": "python",
   "file_extension": ".py"
  },
  "kernelspec": {
   "name": "python3",
   "display_name": "Python 3.8.2 32-bit"
  },
  "interpreter": {
   "hash": "80e0199e1ddf4009028c75d1839708ac446171f52514e3d54a66579600ac00cc"
  }
 },
 "nbformat": 4,
 "nbformat_minor": 2
}