{
 "cells": [
  {
   "cell_type": "markdown",
   "source": [
    "Operadores Aritméticos\r\n",
    "\r\n",
    "Una buena manera de empezar a relacionarnos con el lenguaje de programación Python, es efectuando operaciones aritméticas básicas que nos permitirán entender las nociones. Para ello, debemos recordar los operadores básicos en matemáticas: \r\n",
    "\r\n",
    "1. Suma , que se representará en Python mediante el símbolo clásico \"+\"\r\n",
    "2. Resta, que se representará en Python mediante el símbolo clásico \"-\"\r\n",
    "3. Multiplicación, que se representará en Python mediante el símbolo \"*\"\r\n",
    "4. División, que se representará en Python mediante el símbolo \"/\"\r\n",
    "5. División Entera, que se representará en Python mediante el símbolo \"//\"\r\n",
    "6. Exponenciación, que se representará en Python mediante el símbolo \"**\"\r\n",
    "7. Módulo o Residuo, que se representará en Python mediante el símbolo \"%\"\r\n",
    "\r\n",
    "Veamos algunos ejemplos de estos operadores ejecutándose en Python:"
   ],
   "metadata": {}
  },
  {
   "cell_type": "code",
   "execution_count": null,
   "source": [
    "11 + 56"
   ],
   "outputs": [],
   "metadata": {}
  },
  {
   "cell_type": "markdown",
   "source": [
    "En la linea anterior, al ser ejecutada por el interprete, nos arroja por salida, la respuesta de la suma planteada como podemos ver."
   ],
   "metadata": {}
  },
  {
   "cell_type": "code",
   "execution_count": null,
   "source": [
    "100 - 44"
   ],
   "outputs": [],
   "metadata": {}
  },
  {
   "cell_type": "markdown",
   "source": [
    "De igual forma, al ser ejecutada la linea anterior por el interprete, nos arroja por salida, la respuesta de la resta planteada como podemos ver."
   ],
   "metadata": {}
  },
  {
   "cell_type": "code",
   "execution_count": null,
   "source": [
    "12 * 3"
   ],
   "outputs": [],
   "metadata": {}
  },
  {
   "cell_type": "markdown",
   "source": [
    "En este caso, podemos ver que la salida corresponde al producto de este par de números."
   ],
   "metadata": {}
  },
  {
   "cell_type": "code",
   "execution_count": null,
   "source": [
    "5 / 3"
   ],
   "outputs": [],
   "metadata": {}
  },
  {
   "cell_type": "markdown",
   "source": [
    "Nótese que la salida luego de ser ejecutada la sentencia anterior, corresponde efectivamente al resultado de dividir 5 entre 3.De hecho, este tipo de división nos entrega inclusive los decimales en caso de tenerlos."
   ],
   "metadata": {}
  },
  {
   "cell_type": "code",
   "execution_count": null,
   "source": [
    "5 // 3"
   ],
   "outputs": [],
   "metadata": {}
  },
  {
   "cell_type": "markdown",
   "source": [
    "Ahora bien, note que la división anterior nos entrega por salida luego de ser ejecutada, la parte entera; es decir, redondea por debajo la expresión decimal en caso de poseer."
   ],
   "metadata": {}
  },
  {
   "cell_type": "code",
   "execution_count": null,
   "source": [
    "5**3"
   ],
   "outputs": [],
   "metadata": {}
  },
  {
   "cell_type": "markdown",
   "source": [
    "En este caso, observe que el intérprete asume la parte izquiera del operador \"**\" como la Base, y su parte derecha, como el exponente. Entregandonos de esta manera por la salida, el resultado de calcular 5 elevado a la potencia 3."
   ],
   "metadata": {}
  },
  {
   "cell_type": "code",
   "execution_count": null,
   "source": [
    "12  % 5"
   ],
   "outputs": [],
   "metadata": {}
  },
  {
   "cell_type": "markdown",
   "source": [
    "Finalmente, el operador \"%\" conicido como Módulo o Residuo, nos calcula como su nombre lo indica, el residuo de efectuar la operación dividir 12 entre 5."
   ],
   "metadata": {}
  },
  {
   "cell_type": "markdown",
   "source": [
    "Tipos de Datos\r\n",
    "\r\n",
    "EN Python, existen dos tipos de valores numéricos, los enteros (int) y los flotantes (float). Los enteros son como su nombre lo indica, expresiones numéricas enteras como el 2, o el -159, etc. Mientras que los valores flotantes, son expresiones numéricas decimales finitas positivas o negativas, como el 0.5 o el -13.001. De hecho podemos probarlo a través de Python ejecutando una función integrada del mismo lenguaje llamada \"type()\", a la cual podemos pasar por argumento algún tipo de dato que querramos ver de que tipo es. Así:\r\n"
   ],
   "metadata": {}
  },
  {
   "cell_type": "code",
   "execution_count": null,
   "source": [
    "type(327)"
   ],
   "outputs": [],
   "metadata": {}
  },
  {
   "cell_type": "markdown",
   "source": [
    "Note que al ejecutar la función type y pasarle como argumento el dato que queremos evaluar, esta nos regresará en la salida, el tipo de dato al cual pertenece el dato que le estamos entregando. En este caso, el intérprete de python nos está informando que el dato 327 es un dato de tipo entero (int)."
   ],
   "metadata": {}
  },
  {
   "cell_type": "code",
   "execution_count": null,
   "source": [
    "type(-3.001)"
   ],
   "outputs": [],
   "metadata": {}
  },
  {
   "cell_type": "markdown",
   "source": [
    "En este caso, podemos ver que -3.001 es un dato de tipo flotante (float)."
   ],
   "metadata": {}
  },
  {
   "cell_type": "code",
   "execution_count": null,
   "source": [
    "type(\"Hola\")"
   ],
   "outputs": [],
   "metadata": {}
  },
  {
   "cell_type": "markdown",
   "source": [
    "Esta última ejecución nos muestra un nuevo tipo de dato: Los \"Strings\" o mejor conocidos como \"cadenas\" de texto. Le dedicaremos todo un espacio al estudio de las cadenas en una sesión posterior."
   ],
   "metadata": {}
  },
  {
   "cell_type": "code",
   "execution_count": null,
   "source": [
    "type(True)"
   ],
   "outputs": [],
   "metadata": {}
  },
  {
   "cell_type": "code",
   "execution_count": null,
   "source": [
    "type(False)"
   ],
   "outputs": [],
   "metadata": {}
  },
  {
   "cell_type": "markdown",
   "source": [
    "En los anteriores al ejecutarlos, vemos que exite otro tipo de dato de tipo Booleano (bool).\r\n",
    "\r\n",
    "Existen otros tipos de datos mas complejos que tomaremos también un espacio aparte para abordarlos a detalle, Las listas, las tuplas y los diccionarios. Veamos por ahora solo su estructura:"
   ],
   "metadata": {}
  },
  {
   "cell_type": "code",
   "execution_count": null,
   "source": [
    "type([1,2,3,4,5,6])"
   ],
   "outputs": [],
   "metadata": {}
  },
  {
   "cell_type": "markdown",
   "source": [
    "Las listas son conjuntos finitos numearbles de datos colocados uno tras otro dentro de un corchete."
   ],
   "metadata": {}
  },
  {
   "cell_type": "code",
   "execution_count": null,
   "source": [
    "type((1,2,3,4,5,6))"
   ],
   "outputs": [],
   "metadata": {}
  },
  {
   "cell_type": "markdown",
   "source": [
    "Las tuplas son conjuntos finitos numerables de datos colocados uno tras otro dentro de un paréntesis y son inmutables a diferencia de las listas."
   ],
   "metadata": {}
  },
  {
   "cell_type": "code",
   "execution_count": null,
   "source": [
    "type({\"Nombre\": \"Andrés\", \"Edad\" : 31 , \"Amigos\" :[\"Carlos\",\"Juan\", \"Pedro\"]})"
   ],
   "outputs": [],
   "metadata": {}
  },
  {
   "cell_type": "markdown",
   "source": [
    "Este tipo de dato es conocido como Diccionario y tiene como característica principal, que esta compuesto por un conjunto de pares de datos asociados de Claves (keys), y sus respectivos Valores (values); que pueden tener multiplicidad variada de datos. Ya veremos a detalle en secciones posteriores el tratamiento de este tipo de dato."
   ],
   "metadata": {}
  },
  {
   "cell_type": "markdown",
   "source": [
    "Orden de Precedencia de los Operadores\r\n",
    "\r\n",
    "Los operadores aritméticos tienen un orden de ejecución, que debe ser respetado para no incurrir en errores al final. Por ejemplo, Si quisieramos resolver la expresión aritmética 20 - 16 /4 y la ejectuamos de manera lineal sin respetar ningun tipo de orden de precedencia en los signos, obtendríamos 1(Hazlo en tu cuaderno). No obstante al ejecutarla en Python, veamos que obtenemos:"
   ],
   "metadata": {}
  },
  {
   "cell_type": "code",
   "execution_count": null,
   "source": [
    "20 -16 / 4"
   ],
   "outputs": [],
   "metadata": {}
  },
  {
   "cell_type": "markdown",
   "source": [
    "El resultado correcto de la operacion es 16.0 y el orden en que se efectuaron las operaciones corresponde a primero dividir    16/4 y luego restar de 20, el resultado obtenido. Es decir, 20 - 4.0. En este sentido, es importante entender que las Divisiones preceden a las restas (o sumas inclusive).\r\n",
    "\r\n",
    "Veamos otro ejemplo:"
   ],
   "metadata": {}
  },
  {
   "cell_type": "code",
   "execution_count": null,
   "source": [
    "2 + 3 * 5"
   ],
   "outputs": [],
   "metadata": {}
  },
  {
   "cell_type": "markdown",
   "source": [
    "Nuevamente, si efectuamos esta operación de manera lineal de izquiera a derecha, sin respetar el orden de precedencia de las operaciones, obtendríamos 2 + 3 = 5 y que 5 * 5 = 25. Lamentablemente, esta es una respuesta incorrecta. En este caso, se debe efectuar la multiplicación antes que la suma. Por lo tanto, sería 2 + (5 * 3) = 2 + 15 = 17."
   ],
   "metadata": {}
  }
 ],
 "metadata": {
  "orig_nbformat": 4,
  "language_info": {
   "name": "python",
   "version": "3.8.2",
   "mimetype": "text/x-python",
   "codemirror_mode": {
    "name": "ipython",
    "version": 3
   },
   "pygments_lexer": "ipython3",
   "nbconvert_exporter": "python",
   "file_extension": ".py"
  },
  "kernelspec": {
   "name": "python3",
   "display_name": "Python 3.8.2 32-bit"
  },
  "interpreter": {
   "hash": "80e0199e1ddf4009028c75d1839708ac446171f52514e3d54a66579600ac00cc"
  }
 },
 "nbformat": 4,
 "nbformat_minor": 2
}