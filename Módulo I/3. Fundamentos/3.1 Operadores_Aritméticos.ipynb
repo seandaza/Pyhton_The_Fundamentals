{
 "cells": [
  {
   "cell_type": "markdown",
   "source": [
    "Operadores Aritméticos\r\n",
    "\r\n",
    "Una buena manera de empezar a relacionarnos con el lenguaje de programación Python, es efectuando operaciones aritméticas básicas que nos permitirán entender las nociones. Para ello, debemos recordar los operadores básicos en matemáticas: \r\n",
    "\r\n",
    "1. Suma , que se representará en Python mediante el símbolo clásico \"+\"\r\n",
    "2. Resta, que se representará en Python mediante el símbolo clásico \"-\"\r\n",
    "3. Multiplicación, que se representará en Python mediante el símbolo \"*\"\r\n",
    "4. División, que se representará en Python mediante el símbolo \"/\"\r\n",
    "5. División Entera, que se representará en Python mediante el símbolo \"//\"\r\n",
    "6. Exponenciación, que se representará en Python mediante el símbolo \"**\"\r\n",
    "7. Módulo o Residuo, que se representará en Python mediante el símbolo \"%\"\r\n",
    "\r\n",
    "Veamos algunos ejemplos de estos operadores ejecutándose en Python:"
   ],
   "metadata": {}
  },
  {
   "cell_type": "code",
   "execution_count": null,
   "source": [
    "11 + 56"
   ],
   "outputs": [],
   "metadata": {}
  },
  {
   "cell_type": "markdown",
   "source": [
    "En la linea anterior, al ser ejecutada por el interprete, nos arroja por salida, la respuesta de la suma planteada como podemos ver."
   ],
   "metadata": {}
  },
  {
   "cell_type": "code",
   "execution_count": null,
   "source": [
    "100 - 44"
   ],
   "outputs": [],
   "metadata": {}
  },
  {
   "cell_type": "markdown",
   "source": [
    "De igual forma, al ser ejecutada la linea anterior por el interprete, nos arroja por salida, la respuesta de la resta planteada como podemos ver."
   ],
   "metadata": {}
  },
  {
   "cell_type": "code",
   "execution_count": null,
   "source": [
    "12 * 3"
   ],
   "outputs": [],
   "metadata": {}
  },
  {
   "cell_type": "markdown",
   "source": [
    "En este caso, podemos ver que la salida corresponde al producto de este par de números."
   ],
   "metadata": {}
  },
  {
   "cell_type": "code",
   "execution_count": null,
   "source": [
    "5 / 3"
   ],
   "outputs": [],
   "metadata": {}
  },
  {
   "cell_type": "markdown",
   "source": [
    "Nótese que la salida luego de ser ejecutada la sentencia anterior, corresponde efectivamente al resultado de dividir 5 entre 3.De hecho, este tipo de división nos entrega inclusive los decimales en caso de tenerlos."
   ],
   "metadata": {}
  },
  {
   "cell_type": "code",
   "execution_count": null,
   "source": [
    "5 // 3"
   ],
   "outputs": [],
   "metadata": {}
  },
  {
   "cell_type": "markdown",
   "source": [
    "Ahora bien, note que la división anterior nos entrega por salida luego de ser ejecutada, la parte entera; es decir, redondea por debajo la expresión decimal en caso de poseer."
   ],
   "metadata": {}
  },
  {
   "cell_type": "code",
   "execution_count": null,
   "source": [
    "5**3"
   ],
   "outputs": [],
   "metadata": {}
  },
  {
   "cell_type": "markdown",
   "source": [
    "En este caso, observe que el intérprete asume la parte izquiera del operador \"**\" como la Base, y su parte derecha, como el exponente. Entregandonos de esta manera por la salida, el resultado de calcular 5 elevado a la potencia 3."
   ],
   "metadata": {}
  },
  {
   "cell_type": "code",
   "execution_count": null,
   "source": [
    "12  % 5"
   ],
   "outputs": [],
   "metadata": {}
  },
  {
   "cell_type": "markdown",
   "source": [
    "Finalmente, el operador \"%\" conicido como Módulo o Residuo, nos calcula como su nombre lo indica, el residuo de efectuar la operación dividir 12 entre 5."
   ],
   "metadata": {}
  },
  {
   "cell_type": "markdown",
   "source": [
    "Tipos de Datos\r\n",
    "\r\n",
    "EN Python, existen dos tipos de valores numéricos, los enteros (int) y los flotantes (float). Los enteros son como su nombre lo indica, expresiones numéricas enteras como el 2, o el -159, etc. Mientras que los valores flotantes, son expresiones numéricas decimales finitas positivas o negativas, como el 0.5 o el -13.001. De hecho podemos probarlo a través de Python ejecutando una función integrada del mismo lenguaje llamada \"type()\", a la cual podemos pasar por argumento algún tipo de dato que querramos ver de que tipo es. Así:\r\n"
   ],
   "metadata": {}
  },
  {
   "cell_type": "code",
   "execution_count": null,
   "source": [
    "type(327)"
   ],
   "outputs": [],
   "metadata": {}
  },
  {
   "cell_type": "code",
   "execution_count": null,
   "source": [
    "type(-3.001)"
   ],
   "outputs": [],
   "metadata": {}
  },
  {
   "cell_type": "code",
   "execution_count": null,
   "source": [
    "type(\"Hola\")"
   ],
   "outputs": [],
   "metadata": {}
  },
  {
   "cell_type": "markdown",
   "source": [
    "Esta última ejecución nos muestra un nuevo tipo de dato: Los \"Strings\" o mejor conocidos como \"cadenas\" de texto. Y como bien sabemos nostros de matemáticas, en cuánto al operador \"+\" de suma, solo se pueden sumar números entre si de cualquier tipo. No obstante, en Pyhton, veremos que en este lenguaje también se pueden \"sumar\" letras o cadenas de texto, pero en este caso no es una suma el resultado final, si no mas bien, una concatenación entre las letras formando una única cadena. Veamos:"
   ],
   "metadata": {}
  },
  {
   "cell_type": "code",
   "execution_count": null,
   "source": [
    "\"Hol\" + \"a\""
   ],
   "outputs": [],
   "metadata": {}
  },
  {
   "cell_type": "markdown",
   "source": [
    "De allí que, el operador \"+\" tiene una doble connotación y por ello es importante tener cuidado cuando s evaya a hacer uso de él porque sólo se puede operar entre datos del mismo tipo. Caso contrario, si ejecutas en Python este operador con dos tipos de datos distintos, inmediatamente te informará que hay un error en el tipo de operador usado para dos tipos de datos distintos. Veamos un Ejemplo:"
   ],
   "metadata": {}
  },
  {
   "cell_type": "code",
   "execution_count": null,
   "source": [
    "1 + \"2\""
   ],
   "outputs": [],
   "metadata": {}
  },
  {
   "cell_type": "markdown",
   "source": [
    "Orden de Precedencia de los Operadores\r\n",
    "\r\n",
    "Los operadores aritméticos tienen un orden de ejecución, que debe ser respetado para no incurrir en errores al final. Por ejemplo, Si quisieramos resolver la expresióna aritmética 20 - 16 /4 y la ejectuamos de manera lineal sin respetar ningun tipo de orden de precedencia en los signos, obtendríamos 1. No obstante al ejecutarla en Python, veamos que obtenemos:"
   ],
   "metadata": {}
  },
  {
   "cell_type": "code",
   "execution_count": null,
   "source": [
    "20 - 16 / 4"
   ],
   "outputs": [],
   "metadata": {}
  }
 ],
 "metadata": {
  "orig_nbformat": 4,
  "language_info": {
   "name": "python",
   "version": "3.8.2",
   "mimetype": "text/x-python",
   "codemirror_mode": {
    "name": "ipython",
    "version": 3
   },
   "pygments_lexer": "ipython3",
   "nbconvert_exporter": "python",
   "file_extension": ".py"
  },
  "kernelspec": {
   "name": "python3",
   "display_name": "Python 3.8.2 32-bit"
  },
  "interpreter": {
   "hash": "80e0199e1ddf4009028c75d1839708ac446171f52514e3d54a66579600ac00cc"
  }
 },
 "nbformat": 4,
 "nbformat_minor": 2
}