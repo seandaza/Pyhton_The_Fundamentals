{
 "cells": [
  {
   "cell_type": "markdown",
   "source": [
    "Estructuras de Control\r\n",
    "\r\n",
    "Una estructura de control, es un código de bloque que permite agrupar instrucciones de manera controlada. Nos enfocaremos en dos estructuras de control:\r\n",
    "\r\n",
    "- Estructuras de Control Condicionales\r\n",
    "- Estructuras de Control Iterativas\r\n",
    "\r\n",
    "Indentación\r\n",
    "\r\n",
    "La indentación es al lenguaje informático, como la sangría es al lenguaje escrito tradicional. Cuando se escribe una carta o un documento formal, se deben respetar ciertas sangrías. Igual pasa en el lenguaje informático, debemos respetar ciertas reglas de sintáxis a la hora de escribir código. En el caso de python, la Indentación es obligatoria, ya que de ella dependerá su estructura.\r\n",
    "\r\n",
    "Una indentación de 4 espacios en blanco, indicará que las instrucciones indentadas, forman parte de una misma estructura de control. Una estructura de control, entonces se define de la siguiente forma:"
   ],
   "metadata": {}
  },
  {
   "cell_type": "markdown",
   "source": [
    "inicio de la estructura de control:\r\n",
    "    expresiones"
   ],
   "metadata": {}
  },
  {
   "cell_type": "markdown",
   "source": [
    "Asignación Múltiple\r\n",
    "\r\n",
    "Otra de las ventajas que Python nos provee es la de poder asignar en una sola instrucción, múltiples variables. Ejemplo:"
   ],
   "metadata": {}
  },
  {
   "cell_type": "code",
   "execution_count": 3,
   "source": [
    "a, b, c = \"string\", 15, True"
   ],
   "outputs": [],
   "metadata": {}
  },
  {
   "cell_type": "markdown",
   "source": [
    "Imprimamos cada una de las variables"
   ],
   "metadata": {}
  },
  {
   "cell_type": "code",
   "execution_count": 5,
   "source": [
    "print(a,b,c)"
   ],
   "outputs": [
    {
     "output_type": "stream",
     "name": "stdout",
     "text": [
      "string 15 True\n"
     ]
    }
   ],
   "metadata": {}
  },
  {
   "cell_type": "markdown",
   "source": [
    "En efecto, notemos que se guardaron las variables como lo queriamos en una sola instrucción."
   ],
   "metadata": {}
  },
  {
   "cell_type": "markdown",
   "source": [
    "Estructuras de Control Condicionales\r\n",
    "\r\n",
    "Los condicionales nos permiten como su nombre lo indica, comprobar condiciones y evaluar en función a si se cumple o no cada una de ellas.\r\n",
    "\r\n",
    "En la vida diaria por ejemplo, actuamos de acuerdo a la evaluación de condiciones, de manera mucho\r\n",
    "más frecuente de lo que en realidad creemos: Si el semáforo está en verde, cruzar la\r\n",
    "calle. Si no, esperar a que el semáforo se ponga en verde. A veces, también evaluamos\r\n",
    "más de una condición para ejecutar una determinada acción: Si llega la factura de la luz y\r\n",
    "tengo dinero, entonces pagar la boleta.\r\n",
    "\r\n",
    "De alli que, Para describir la evaluación o acción a realizar sobre una condición, se utilizan Operadores\r\n",
    "Relacionales (o de comparación):"
   ],
   "metadata": {}
  },
  {
   "cell_type": "markdown",
   "source": [
    "OPERADORES RELACIONALES (DE COMPARACIÓN)\r\n",
    "------------------------------------------------------------------\r\n",
    "Símbolo     Significado            Ejemplo           Resultado\r\n",
    "==          Igual que              5 == 7              Falso\r\n",
    "!=          Distinto que          rojo != verde       Verdadero\r\n",
    "<           Menor que              8 < 12             Verdadero\r\n",
    ">           Mayor que             12 > 7               Falso\r\n",
    "<=          Menor o igual que     12 <= 12            Verdadero\r\n",
    ">=         Mayor o igual que       4 >= 5              Falso"
   ],
   "metadata": {}
  },
  {
   "cell_type": "markdown",
   "source": [
    "Y para evaluar mas de una condición simultáneamente, se utilizan los Operadores Lógicos:"
   ],
   "metadata": {}
  },
  {
   "cell_type": "markdown",
   "source": [
    "OPERADORES LÓGICOS\r\n",
    "------------------------------------------------------------------------------\r\n",
    "Operador                    Ejemplo               Resultado*\r\n",
    "and (y)                5 == 7 and 7 < 12          0 y 0 Falso\r\n",
    "                       9 < 12 and 12 > 7          1 y 1 Verdadero\r\n",
    "                       9 < 12 and 12 > 15         1 y 0 Falso\r\n",
    "\r\n",
    "or (o)                12 == 12 or 15 < 7          1 o 0 Verdadero\r\n",
    "                       7 > 5 or 9 < 12            1 o 1 Verdadero\r\n",
    "xor                    4 == 4 xor 9 > 3           1 o 1 Falso\r\n",
    "(o excluyente)         4 == 4 xor 9 < 3           1 o 0 Verdadero"
   ],
   "metadata": {}
  }
 ],
 "metadata": {
  "orig_nbformat": 4,
  "language_info": {
   "name": "python",
   "version": "3.8.2",
   "mimetype": "text/x-python",
   "codemirror_mode": {
    "name": "ipython",
    "version": 3
   },
   "pygments_lexer": "ipython3",
   "nbconvert_exporter": "python",
   "file_extension": ".py"
  },
  "kernelspec": {
   "name": "python3",
   "display_name": "Python 3.8.2 32-bit"
  },
  "interpreter": {
   "hash": "80e0199e1ddf4009028c75d1839708ac446171f52514e3d54a66579600ac00cc"
  }
 },
 "nbformat": 4,
 "nbformat_minor": 2
}