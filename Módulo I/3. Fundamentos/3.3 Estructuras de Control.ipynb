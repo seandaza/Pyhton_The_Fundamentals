{
 "cells": [
  {
   "cell_type": "markdown",
   "source": [
    "Estructuras de Control\r\n",
    "\r\n",
    "Una estructura de control, es un código de bloque que permite agrupar instrucciones de manera controlada. Nos enfocaremos en dos estructuras de control:\r\n",
    "\r\n",
    "- Estructuras de Control Condicionales\r\n",
    "- Estructuras de Control Iterativas\r\n",
    "\r\n",
    "Indentación\r\n",
    "\r\n",
    "La indentación es al lenguaje informático, como la sangría es al lenguaje escrito tradicional. Cuando se escribe una carta o un documento formal, se deben respetar ciertas sangrías. Igual pasa en el lenguaje informático, debemos respetar ciertas reglas de sintáxis a la hora de escribir código. En el caso de python, la Indentación es obligatoria, ya que de ella dependerá su estructura.\r\n",
    "\r\n",
    "Una indentación de 4 espacios en blanco, indicará que las instrucciones indentadas, forman parte de una misma estructura de control. Una estructura de control, entonces se define de la siguiente forma:"
   ],
   "metadata": {}
  },
  {
   "cell_type": "markdown",
   "source": [
    "inicio de la estructura de control:\r\n",
    "    expresiones"
   ],
   "metadata": {}
  },
  {
   "cell_type": "markdown",
   "source": [
    "Asignación Múltiple\r\n",
    "\r\n",
    "Otra de las ventajas que Python nos provee es la de poder asignar en una sola instrucción, múltiples variables. Ejemplo:"
   ],
   "metadata": {}
  },
  {
   "cell_type": "code",
   "execution_count": 3,
   "source": [
    "a, b, c = \"string\", 15, True"
   ],
   "outputs": [],
   "metadata": {}
  },
  {
   "cell_type": "markdown",
   "source": [
    "Imprimamos cada una de las variables"
   ],
   "metadata": {}
  },
  {
   "cell_type": "code",
   "execution_count": 5,
   "source": [
    "print(a,b,c)"
   ],
   "outputs": [
    {
     "output_type": "stream",
     "name": "stdout",
     "text": [
      "string 15 True\n"
     ]
    }
   ],
   "metadata": {}
  },
  {
   "cell_type": "markdown",
   "source": [
    "En efecto, notemos que se guardaron las variables como lo queriamos en una sola instrucción."
   ],
   "metadata": {}
  },
  {
   "cell_type": "markdown",
   "source": [
    "Estructuras de Control Condicionales\r\n",
    "\r\n",
    "Los condicionales nos permiten como su nombre lo indica, comprobar condiciones y evaluar en función a si se cumple o no cada una de ellas.\r\n",
    "\r\n",
    "En la vida diaria por ejemplo, actuamos de acuerdo a la evaluación de condiciones, de manera mucho\r\n",
    "más frecuente de lo que en realidad creemos: Si el semáforo está en verde, cruzar la\r\n",
    "calle. Si no, esperar a que el semáforo se ponga en verde. A veces, también evaluamos\r\n",
    "más de una condición para ejecutar una determinada acción: Si llega la factura de la luz y\r\n",
    "tengo dinero, entonces pagar la boleta.\r\n",
    "\r\n",
    "De alli que, Para describir la evaluación o acción a realizar sobre una condición, se utilizan Operadores\r\n",
    "Relacionales (o de comparación):"
   ],
   "metadata": {}
  },
  {
   "cell_type": "markdown",
   "source": [
    "OPERADORES RELACIONALES (DE COMPARACIÓN)\r\n",
    "------------------------------------------------------------------\r\n",
    "Símbolo     Significado            Ejemplo           Resultado\r\n",
    "==          Igual que              5 == 7              Falso\r\n",
    "!=          Distinto que          rojo != verde       Verdadero\r\n",
    "<           Menor que              8 < 12             Verdadero\r\n",
    ">           Mayor que             12 > 7               Falso\r\n",
    "<=          Menor o igual que     12 <= 12            Verdadero\r\n",
    ">=         Mayor o igual que       4 >= 5              Falso"
   ],
   "metadata": {}
  },
  {
   "cell_type": "markdown",
   "source": [
    "Y para evaluar mas de una condición simultáneamente, se utilizan los Operadores Lógicos:"
   ],
   "metadata": {}
  },
  {
   "cell_type": "markdown",
   "source": [
    "OPERADORES LÓGICOS\r\n",
    "------------------------------------------------------------------------------\r\n",
    "Operador                    Ejemplo               Resultado*\r\n",
    "and (y)                5 == 7 and 7 < 12          0 y 0 Falso\r\n",
    "                       9 < 12 and 12 > 7          1 y 1 Verdadero\r\n",
    "                       9 < 12 and 12 > 15         1 y 0 Falso\r\n",
    "\r\n",
    "or (o)                12 == 12 or 15 < 7          1 o 0 Verdadero\r\n",
    "                       7 > 5 or 9 < 12            1 o 1 Verdadero\r\n",
    "xor                    4 == 4 xor 9 > 3           1 o 1 Falso\r\n",
    "(o excluyente)         4 == 4 xor 9 < 3           1 o 0 Verdadero"
   ],
   "metadata": {}
  },
  {
   "cell_type": "markdown",
   "source": [
    "If and Else\r\n",
    "\r\n",
    "Las estructuras de control de flujo condicionales, se definen mediante el uso de tres\r\n",
    "palabras claves reservadas, del lenguaje: if (si), elif (sino, si) y else (sino). Veamos algunos ejemplos:"
   ],
   "metadata": {}
  },
  {
   "cell_type": "markdown",
   "source": [
    "Proposición 1: Si semáforo esta en verde, cruzar la calle. Sino, esperar.\r\n",
    "\r\n",
    "Vamos a codificar esa propsosición:"
   ],
   "metadata": {}
  },
  {
   "cell_type": "code",
   "execution_count": null,
   "source": [
    "if semaforo == verde:\r\n",
    "    print (\"Cruzar la calle\")\r\n",
    "else:\r\n",
    "print (\"Esperar\")"
   ],
   "outputs": [],
   "metadata": {}
  },
  {
   "cell_type": "markdown",
   "source": [
    "Propsosición 2: Si gasto hasta $100, pago con dinero en efectivo. Sino, si gasto más de $100 pero menos de $300, pago con tarjeta de débito. Si no, pago con tarjeta de crédito.\r\n",
    "\r\n",
    "Escribamos la Proposición 2 en formato de código:"
   ],
   "metadata": {}
  },
  {
   "cell_type": "code",
   "execution_count": null,
   "source": [
    "if compra <= 100:\r\n",
    "    print (\"Pago en efectivo\")\r\n",
    "elif compra > 100 and compra < 300:\r\n",
    "    print (\"Pago con tarjeta de débito\")\r\n",
    "else:\r\n",
    "    print (\"Pago con tarjeta de crédito\")"
   ],
   "outputs": [],
   "metadata": {}
  },
  {
   "cell_type": "markdown",
   "source": [
    "Propsosición 3: Si la compra es mayor a $100, obtengo un descuento del 10%.\r\n",
    "\r\n",
    "planteemos este condicional en Python:"
   ],
   "metadata": {}
  },
  {
   "cell_type": "code",
   "execution_count": null,
   "source": [
    "importe_a_pagar = total_compra\r\n",
    "if total_compra > 100:\r\n",
    "    tasa_descuento = 10\r\n",
    "    importe_descuento = total_compra * tasa_descuento / 100\r\n",
    "    importe_a_pagar = total_compra – importe_descuento"
   ],
   "outputs": [],
   "metadata": {}
  },
  {
   "cell_type": "markdown",
   "source": [
    "Estructuras de Control Iterativas\r\n",
    "\r\n",
    "A diferencia de las estructuras de control condicionales, las iterativas (también llamadas\r\n",
    "cíclicas o bucles), nos permiten ejecutar un mismo código, de manera repetida, mientras\r\n",
    "se cumpla una condición.\r\n",
    "En Python se dispone de dos estructuras cíclicas:\r\n",
    "• El bucle while\r\n",
    "• El bucle for\r\n",
    "Las veremos en detalle a continuación.\r\n",
    "\r\n",
    "Bucle While\r\n",
    "\r\n",
    "Este bucle, se encarga de ejecutar una misma acción “mientras que” una determinada\r\n",
    "condición se cumpla:"
   ],
   "metadata": {}
  },
  {
   "cell_type": "markdown",
   "source": [
    "Proposición: Mientras que año sea menor o igual a 2012, imprimir la frase “Informes del Año año”."
   ],
   "metadata": {}
  },
  {
   "cell_type": "markdown",
   "source": [
    "Codifiquemos esta propsosición usando el bucle While:"
   ],
   "metadata": {}
  },
  {
   "cell_type": "code",
   "execution_count": 6,
   "source": [
    "anio = 2001\r\n",
    "while anio <= 2012:\r\n",
    "    print (\"Informes del Año\", anio)\r\n",
    "    anio += 1"
   ],
   "outputs": [
    {
     "output_type": "stream",
     "name": "stdout",
     "text": [
      "Informes del Año 2001\n",
      "Informes del Año 2002\n",
      "Informes del Año 2003\n",
      "Informes del Año 2004\n",
      "Informes del Año 2005\n",
      "Informes del Año 2006\n",
      "Informes del Año 2007\n",
      "Informes del Año 2008\n",
      "Informes del Año 2009\n",
      "Informes del Año 2010\n",
      "Informes del Año 2011\n",
      "Informes del Año 2012\n"
     ]
    }
   ],
   "metadata": {}
  },
  {
   "cell_type": "markdown",
   "source": [
    "Notemos que el ciclo se va a repetir hasta que la variable \"anio\" sea mayor a 2012.\r\n",
    "\r\n",
    "Si miras la última línea del código, la expresión anio += 1 garantiza que la variable \"anio\" vaya incrementándose gradualmente hasta que deja de cumplirse la condición y en ese instante, se rompe el ciclo.\r\n",
    "\r\n",
    "Pero ¿Qué sucede si el valor que condiciona la iteración no es numérico y no puede incrementarse? En ese caso, podremos utilizar una estructura de control condicional, anidada dentro del bucle, y frenar la ejecución cuando el condicional deje de cumplirse, con la palabra clave reservada \"break\":"
   ],
   "metadata": {}
  },
  {
   "cell_type": "code",
   "execution_count": null,
   "source": [
    "contador = 0\r\n",
    "while (contador < 5):\r\n",
    "    print(\"el contador es: \",contador)\r\n",
    "    contador = contador + 1\r\n",
    "    if (contador > 3):\r\n",
    "        break\r\n",
    "print(\"fin del Programa\")"
   ],
   "outputs": [],
   "metadata": {}
  },
  {
   "cell_type": "markdown",
   "source": [
    "Bucle For\r\n",
    "\r\n",
    "El bucle for, en Python, es aquel que nos permitirá iterar sobre una variable compleja, del\r\n",
    "tipo lista o tupla:"
   ],
   "metadata": {}
  },
  {
   "cell_type": "code",
   "execution_count": 17,
   "source": [
    "mi_lista = ['Juan', 'Antonio', 'Pedro', 'Herminio']\r\n",
    "for nombre in mi_lista:\r\n",
    "    print(nombre)"
   ],
   "outputs": [
    {
     "output_type": "stream",
     "name": "stdout",
     "text": [
      "Juan\n",
      "Antonio\n",
      "Pedro\n",
      "Herminio\n"
     ]
    }
   ],
   "metadata": {}
  },
  {
   "cell_type": "markdown",
   "source": [
    "Notemos que el ciclo For lo que hace es entrar por cada uno de los elemetos de la lista y al mismo tiempo, los va imprimiendo por consola. Veamos un ejemplo similar:"
   ],
   "metadata": {}
  },
  {
   "cell_type": "code",
   "execution_count": 18,
   "source": [
    "mi_tupla = ('rosa', 'verde', 'celeste', 'amarillo')\r\n",
    "for color in mi_tupla:\r\n",
    "    print(color)"
   ],
   "outputs": [
    {
     "output_type": "stream",
     "name": "stdout",
     "text": [
      "rosa\n",
      "verde\n",
      "celeste\n",
      "amarillo\n"
     ]
    }
   ],
   "metadata": {}
  },
  {
   "cell_type": "markdown",
   "source": [
    "En los ejemplos anteriores, nombre y color, son dos variables declaradas en tiempo de ejecución (es decir, se declaran dinámicamente durante el bucle), asumiendo como valor, el de cada elemento de la lista (o tupla) en cada iteración."
   ],
   "metadata": {}
  },
  {
   "cell_type": "markdown",
   "source": [],
   "metadata": {}
  }
 ],
 "metadata": {
  "orig_nbformat": 4,
  "language_info": {
   "name": "python",
   "version": "3.8.2",
   "mimetype": "text/x-python",
   "codemirror_mode": {
    "name": "ipython",
    "version": 3
   },
   "pygments_lexer": "ipython3",
   "nbconvert_exporter": "python",
   "file_extension": ".py"
  },
  "kernelspec": {
   "name": "python3",
   "display_name": "Python 3.8.2 32-bit"
  },
  "interpreter": {
   "hash": "80e0199e1ddf4009028c75d1839708ac446171f52514e3d54a66579600ac00cc"
  }
 },
 "nbformat": 4,
 "nbformat_minor": 2
}