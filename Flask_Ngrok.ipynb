{
  "nbformat": 4,
  "nbformat_minor": 0,
  "metadata": {
    "colab": {
      "name": "Flask_Ngrok.ipynb",
      "provenance": [],
      "collapsed_sections": [],
      "include_colab_link": true
    },
    "kernelspec": {
      "name": "python3",
      "display_name": "Python 3"
    },
    "language_info": {
      "name": "python"
    }
  },
  "cells": [
    {
      "cell_type": "markdown",
      "metadata": {
        "id": "view-in-github",
        "colab_type": "text"
      },
      "source": [
        "<a href=\"https://colab.research.google.com/github/seandaza/Python-The-Fundamentals/blob/master/Flask_Ngrok.ipynb\" target=\"_parent\"><img src=\"https://colab.research.google.com/assets/colab-badge.svg\" alt=\"Open In Colab\"/></a>"
      ]
    },
    {
      "cell_type": "markdown",
      "metadata": {
        "id": "0OdTBN2ngYAp"
      },
      "source": [
        "# Flask\n",
        "\n",
        "\n",
        "\n",
        "\n"
      ]
    },
    {
      "cell_type": "markdown",
      "metadata": {
        "id": "Ns-vuAJ3pdkG"
      },
      "source": [
        "## flask\n",
        "\n",
        "> `Flask` es un framework para desarrollo web escrito en Python. Se puede utilizar para diversos tipos de aplicación, entre ellas, desarrollo de APIs. De hecho, es uno de los mejores frameworks de desarrollo para implementar este tipo de soluciones por lo sencillo que resulta y las facilidades que ofrece.\n",
        "\n",
        "> Existen muchas maneras de implementar un API REST con Flask. Desde usar el framework con lo que ofrece de base, hasta instalar varias extensiones con diferentes configuraciones.\n",
        "\n",
        "> En este Notebook veremos cómo consumir una API usando python flask en Google Colab a traves de `ngrok` para hacer la IP pública desde nuestro local. \n",
        "\n",
        "\n"
      ]
    },
    {
      "cell_type": "markdown",
      "metadata": {
        "id": "26WkBQXWiDP3"
      },
      "source": [
        "# Ngrok\n",
        "\n",
        "\n",
        "\n"
      ]
    },
    {
      "cell_type": "markdown",
      "metadata": {
        "id": "C8SS3BAWp0pQ"
      },
      "source": [
        "##ngrok\n",
        "\n",
        "> `Ngrok` nos permite exponer a internet una URL generada dinámicamente, la cual apunta a un servicio web que se está ejecutando en nuestra máquina local. Por ejemplo: si tenemos un servicio web arrancado en http://localhost:8080, ngrok genera dinámicamente una URL del tipo http://xxxxxx.ngrok.io visible en internet, y que apunta directamente a nuestro localhost.\n",
        "\n"
      ]
    },
    {
      "cell_type": "markdown",
      "metadata": {
        "id": "bQPdr95tjC6U"
      },
      "source": [
        "#Webservice con flask\n",
        "\n",
        "> Nuestro objetivo en esta sección es  crear `werbservices` y hacer que corran en  `google colab` con la ayuda de `flask`. Para ello, veamos como funciona google colab(GC): \n",
        "\n",
        "> Cuando se ejecuta cualquier código en GC, este código se está ejecutando en una máquina virtual en mi entorno local `127.0.0.1`. Esta direccion ip no es accesible desde fuera. Para ello, `ngrok` nos ayuda a exponer esta ip y hacerla visible desde fuera en una url pública.\n",
        "\n",
        "> veamos como implementar esto de manera práctica\n",
        "\n"
      ]
    },
    {
      "cell_type": "code",
      "metadata": {
        "colab": {
          "base_uri": "https://localhost:8080/"
        },
        "id": "BdTeZTS7cYXh",
        "outputId": "10504cc4-81d1-433f-ea0f-eea6b3c45993"
      },
      "source": [
        "# Instalemos dependencias\n",
        "!pip install flask-ngrok\n"
      ],
      "execution_count": null,
      "outputs": [
        {
          "output_type": "stream",
          "name": "stdout",
          "text": [
            "Collecting flask-ngrok\n",
            "  Downloading flask_ngrok-0.0.25-py3-none-any.whl (3.1 kB)\n",
            "Requirement already satisfied: Flask>=0.8 in /usr/local/lib/python3.7/dist-packages (from flask-ngrok) (1.1.4)\n",
            "Requirement already satisfied: requests in /usr/local/lib/python3.7/dist-packages (from flask-ngrok) (2.23.0)\n",
            "Requirement already satisfied: itsdangerous<2.0,>=0.24 in /usr/local/lib/python3.7/dist-packages (from Flask>=0.8->flask-ngrok) (1.1.0)\n",
            "Requirement already satisfied: Jinja2<3.0,>=2.10.1 in /usr/local/lib/python3.7/dist-packages (from Flask>=0.8->flask-ngrok) (2.11.3)\n",
            "Requirement already satisfied: Werkzeug<2.0,>=0.15 in /usr/local/lib/python3.7/dist-packages (from Flask>=0.8->flask-ngrok) (1.0.1)\n",
            "Requirement already satisfied: click<8.0,>=5.1 in /usr/local/lib/python3.7/dist-packages (from Flask>=0.8->flask-ngrok) (7.1.2)\n",
            "Requirement already satisfied: MarkupSafe>=0.23 in /usr/local/lib/python3.7/dist-packages (from Jinja2<3.0,>=2.10.1->Flask>=0.8->flask-ngrok) (2.0.1)\n",
            "Requirement already satisfied: chardet<4,>=3.0.2 in /usr/local/lib/python3.7/dist-packages (from requests->flask-ngrok) (3.0.4)\n",
            "Requirement already satisfied: idna<3,>=2.5 in /usr/local/lib/python3.7/dist-packages (from requests->flask-ngrok) (2.10)\n",
            "Requirement already satisfied: urllib3!=1.25.0,!=1.25.1,<1.26,>=1.21.1 in /usr/local/lib/python3.7/dist-packages (from requests->flask-ngrok) (1.24.3)\n",
            "Requirement already satisfied: certifi>=2017.4.17 in /usr/local/lib/python3.7/dist-packages (from requests->flask-ngrok) (2021.5.30)\n",
            "Installing collected packages: flask-ngrok\n",
            "Successfully installed flask-ngrok-0.0.25\n"
          ]
        }
      ]
    },
    {
      "cell_type": "markdown",
      "metadata": {
        "id": "9z20kdlZnqHr"
      },
      "source": [
        "Creemos una aplicación de flask"
      ]
    },
    {
      "cell_type": "code",
      "metadata": {
        "id": "WmuUWWfCc3uk"
      },
      "source": [
        "#Importemos librerias\n",
        "from flask_ngrok import run_with_ngrok\n",
        "from flask import Flask\n",
        "\n",
        "#Corramos la aplicación Flask\n",
        "app = Flask(__name__) \n",
        "\n",
        "# Necesitamos iniciar ngrok cuando la app este corriendo.\n",
        "run_with_ngrok(app)\n",
        "\n",
        "#Definamos unas rutas\n",
        "@app.route(\"/\")\n",
        "def index ():\n",
        "  return \"<h1>Trail of Flask with Google Colab</h1>\"\n",
        "\n",
        "@app.route(\"/get_details\")\n",
        "def get_details():\n",
        "  return \"<h1>This is teh get details page!</h1>\"\n",
        "\n",
        "@app.route(\"/test\")\n",
        "def test_page():\n",
        "  return \"<h1>This is the test page</h1>\"\n",
        "\n",
        "app.run()\n",
        "\n"
      ],
      "execution_count": null,
      "outputs": []
    },
    {
      "cell_type": "markdown",
      "metadata": {
        "id": "F7q5CuNXoQ_s"
      },
      "source": [
        "En la salida de la anterior ejecución, encontrarás dos url que corren nuestra aplicación en modo local y otra con extensión `ngrok.io` la cual me expone mi aplicación en una url pública. Da click en ella y navega por las rutas que creamos."
      ]
    },
    {
      "cell_type": "markdown",
      "metadata": {
        "id": "hJO4Gsuor81I"
      },
      "source": [
        "##Ejemplo "
      ]
    },
    {
      "cell_type": "markdown",
      "metadata": {
        "id": "H4v3jDvEtgIh"
      },
      "source": [
        "> Nota: Para el siguiente ejemplo, es importante que guardes primero en local el archivo `products.py` para que puedas ejecutarlo. Puedes descargarlo ejecutando la siguiente linea de código:"
      ]
    },
    {
      "cell_type": "code",
      "metadata": {
        "colab": {
          "base_uri": "https://localhost:8080/"
        },
        "id": "l8ZamxZjvlOE",
        "outputId": "8bd5b3a1-50e5-48d0-f040-fc5159c34c0c"
      },
      "source": [
        "\n",
        "!wget -O products.py  https://github.com/andresrosso/resources/blob/main/coding/uan_gc_2021/products.py?raw=True"
      ],
      "execution_count": null,
      "outputs": [
        {
          "output_type": "stream",
          "name": "stdout",
          "text": [
            "--2021-10-02 02:17:02--  https://github.com/andresrosso/resources/blob/main/coding/uan_gc_2021/products.py?raw=True\n",
            "Resolving github.com (github.com)... 140.82.121.3\n",
            "Connecting to github.com (github.com)|140.82.121.3|:443... connected.\n",
            "HTTP request sent, awaiting response... 302 Found\n",
            "Location: https://github.com/andresrosso/resources/raw/main/coding/uan_gc_2021/products.py [following]\n",
            "--2021-10-02 02:17:03--  https://github.com/andresrosso/resources/raw/main/coding/uan_gc_2021/products.py\n",
            "Reusing existing connection to github.com:443.\n",
            "HTTP request sent, awaiting response... 302 Found\n",
            "Location: https://raw.githubusercontent.com/andresrosso/resources/main/coding/uan_gc_2021/products.py [following]\n",
            "--2021-10-02 02:17:03--  https://raw.githubusercontent.com/andresrosso/resources/main/coding/uan_gc_2021/products.py\n",
            "Resolving raw.githubusercontent.com (raw.githubusercontent.com)... 185.199.108.133, 185.199.109.133, 185.199.110.133, ...\n",
            "Connecting to raw.githubusercontent.com (raw.githubusercontent.com)|185.199.108.133|:443... connected.\n",
            "HTTP request sent, awaiting response... 200 OK\n",
            "Length: 194 [text/plain]\n",
            "Saving to: ‘products.py’\n",
            "\n",
            "products.py         100%[===================>]     194  --.-KB/s    in 0s      \n",
            "\n",
            "2021-10-02 02:17:03 (13.2 MB/s) - ‘products.py’ saved [194/194]\n",
            "\n"
          ]
        }
      ]
    },
    {
      "cell_type": "markdown",
      "metadata": {
        "id": "uooq3x_pwdfs"
      },
      "source": [
        "##Creando un Webservice"
      ]
    },
    {
      "cell_type": "markdown",
      "metadata": {
        "id": "CAKGnKm-sIwV"
      },
      "source": [
        "Suponga que tiene una lista de productos informáticos almacenados en un documento `products.py` los cuales estan en formato `.json`. Necesitamos crear un webservice que me permita consultar los diversos productos y sus características, entonces para ello, creamos diferentes rutas que me permitan obtenerlos a través del método `GET`. Veamos: "
      ]
    },
    {
      "cell_type": "markdown",
      "metadata": {
        "id": "zP0wp1MZwyxK"
      },
      "source": [
        ">Ejecuta el siguiente código, ingresa a la url que entrega `ngrok` y navega por las diferentes rutas para que obtengas los datos. "
      ]
    },
    {
      "cell_type": "code",
      "metadata": {
        "id": "SlFeFsvDqzS9"
      },
      "source": [
        "from flask_ngrok import run_with_ngrok\n",
        "from flask import Flask, jsonify\n",
        "\n",
        "app = Flask(__name__)\n",
        "\n",
        "# Necesitamos iniciar ngrok cuando la app este corriendo.\n",
        "run_with_ngrok(app)\n",
        "\n",
        "from products import products \n",
        "\n",
        "@app.route('/ping')\n",
        "def ping ():\n",
        "      return jsonify({\"message\": \"Pong\"})\n",
        "\n",
        "@app.route('/products', methods=['GET'])\n",
        "def getProducts(): \n",
        "  return jsonify(products)\n",
        "\n",
        "@app.route('/products/<string:product_name>', methods=['GET'])\n",
        "def getProduct(product_name):\n",
        "      productsFound = [product for product in products if product['name'] == product_name]\n",
        "      if len(productsFound) > 0:     \n",
        "        return jsonify({\"product\": productsFound[0]})\n",
        "      return jsonify({\"message\": \"Product not found\"})\n",
        "\n",
        "\n",
        "app.run()"
      ],
      "execution_count": null,
      "outputs": []
    },
    {
      "cell_type": "markdown",
      "metadata": {
        "id": "a3p6s2oi0Hd2"
      },
      "source": [
        "En la primera ruta, cuando se navega a la ruta `'/ping'`, el navegador nos muestra en formato json un mensaje. \n",
        "En la segunda ruta, cuando se navega a la ruta `'/products'`, el navegador nos muestra el conjunto total de porductos que se hayan en `products.py`.\n",
        "Si estando el la ruta de `/products` se navega a `/products/laptop` por ejemplo, entonces el navegador nos muestra detalle de ese producto en específico. Prueba navegando sobre los demas productos o sobre un producto inexistente para que veas lo que te muestra el navegador."
      ]
    },
    {
      "cell_type": "markdown",
      "metadata": {
        "id": "9sWe0Zarktbr"
      },
      "source": [
        "\n",
        "\n",
        "---\n",
        "\n"
      ]
    },
    {
      "cell_type": "markdown",
      "metadata": {
        "id": "FOp4yYvOZWU5"
      },
      "source": [
        "##Webservice para una Base de Datos\n",
        "\n",
        "> Nuestro objetivo será ahora exponer las consultas que podamos hacer desde base de datos local, a una url pública a través de `ngrok`.\n",
        "\n",
        "> Para ello, hay que tener en cuenta en primer lugar, que nuestra base de datos en este caso, es de tipo relacional; es decir, está conformada por una serie de tablas con información desplegada en las mismas. Es por ello, que en el proceso, hacemos las consultas a la base de datos a través de `sqlite3` y luego transformamos los DataFrames en diccionarios para poder de esta manera, construír las rutas a través de sus llaves.\n",
        "\n",
        "> Para el siguiente ejemplo, descargue la base de datos `hr.db` en la siguiente ejecución de código. Esta base de datos como ya dijimos, consta de una serie de datos de recursos humanos de detrminada empresa.\n",
        "\n",
        "\n",
        "\n"
      ]
    },
    {
      "cell_type": "code",
      "metadata": {
        "id": "HJdBB5O7doko"
      },
      "source": [
        "!wget -O hr.db https://github.com/andresrosso/resources/blob/main/coding/uan_gc_2021/hr.db?raw=true/"
      ],
      "execution_count": null,
      "outputs": []
    },
    {
      "cell_type": "markdown",
      "metadata": {
        "id": "xyRxlQcXhYT0"
      },
      "source": [
        "Importemos las Dependencias necesarias"
      ]
    },
    {
      "cell_type": "code",
      "metadata": {
        "id": "oelegm39TGHv"
      },
      "source": [
        "# Importemos Librerías\n",
        "import sqlite3 as sq\n",
        "import pandas as pd\n",
        "from sqlite3 import Error\n",
        "from flask import Flask, request, jsonify\n",
        "import json"
      ],
      "execution_count": null,
      "outputs": []
    },
    {
      "cell_type": "markdown",
      "metadata": {
        "id": "t4mKp3vXhdqZ"
      },
      "source": [
        "Establezcamos Conexion con la base de datos"
      ]
    },
    {
      "cell_type": "code",
      "metadata": {
        "id": "dh-phiApeF__"
      },
      "source": [
        "# Conexion a la base de datos llamada hr.db\n",
        "conn = sq.connect('hr.db')\n",
        "cur = conn.cursor()\n"
      ],
      "execution_count": null,
      "outputs": []
    },
    {
      "cell_type": "markdown",
      "metadata": {
        "id": "PydmbMN9d9UO"
      },
      "source": [
        "Para un mejor reconocimento de las tablas que comprenden esta base de datos, listemos las tablas ejecutando el siguiente código:"
      ]
    },
    {
      "cell_type": "code",
      "metadata": {
        "colab": {
          "base_uri": "https://localhost:8080/"
        },
        "id": "ZG-b7yXhy8bt",
        "outputId": "9b9ed64f-bc90-41b4-ea1b-968b0b640445"
      },
      "source": [
        "# Identifiquemos las tablas que contiene esta Base de Datos\n",
        "tables_list = [a for a in cur.execute(\"SELECT name FROM sqlite_master WHERE type = 'table'\")]\n",
        "\n",
        "# Lista de Tablas\n",
        "print(tables_list)"
      ],
      "execution_count": null,
      "outputs": [
        {
          "output_type": "stream",
          "name": "stdout",
          "text": [
            "[('regions',), ('sqlite_sequence',), ('countries',), ('locations',), ('departments',), ('jobs',), ('employees',), ('dependents',), ('job_grades',)]\n"
          ]
        }
      ]
    },
    {
      "cell_type": "markdown",
      "metadata": {
        "id": "x1BYA20AiCxM"
      },
      "source": [
        "Elijamos una de las Tablas mostradas y establezcamos un webservice para ella:"
      ]
    },
    {
      "cell_type": "code",
      "metadata": {
        "colab": {
          "base_uri": "https://localhost:8080/"
        },
        "id": "CVmfG4fsHQyy",
        "outputId": "039a36c3-78ce-455b-fe6d-199473b270e7"
      },
      "source": [
        "#Webservice para Tabla 'employees':\n",
        "\n",
        "# Conexion a la base de datos llamada hr.db\n",
        "conn = sq.connect('hr.db')\n",
        "cur = conn.cursor()\n",
        "\n",
        "\n",
        "# Definiendo la Consulta a la BD\n",
        "q1 = ('select * from employees ')\n",
        "\n",
        "# Convert the SQL query to Pandas data Frame\n",
        "r1 = pd.read_sql(q1, conn)\n",
        "\n",
        "# Convirtiendo el DataFrame 'employees' en Diccionario\n",
        "result1 = r1.to_dict()\n",
        "\n",
        "#Listando las columnas del DataFrame 'employees'\n",
        "container1 = list(result1)\n",
        "container1"
      ],
      "execution_count": null,
      "outputs": [
        {
          "output_type": "execute_result",
          "data": {
            "text/plain": [
              "['employee_id',\n",
              " 'first_name',\n",
              " 'last_name',\n",
              " 'email',\n",
              " 'phone_number',\n",
              " 'hire_date',\n",
              " 'job_id',\n",
              " 'salary',\n",
              " 'manager_id',\n",
              " 'department_id']"
            ]
          },
          "metadata": {},
          "execution_count": 97
        }
      ]
    },
    {
      "cell_type": "code",
      "metadata": {
        "id": "iovg79JC2Re_"
      },
      "source": [
        "#Corremos la aplicacion flask\n",
        "app = Flask(__name__)\n",
        "\n",
        "\n",
        "# Iniciamos ngrok cuando la app este corriendo.\n",
        "run_with_ngrok(app)\n",
        "\n",
        "\n",
        "#Ruta para la Tabla Empleados\n",
        "@app.route('/employees', methods=['GET'])\n",
        "def getEmployees(): \n",
        "  return jsonify(result1)\n",
        "\n",
        "\n",
        "#Subrutas de la Tabla Empleados\n",
        "@app.route('/employees/<string:atributes_employee>', methods=['GET'])\n",
        "def getProduct(atributes_employee):\n",
        "  if atributes_employee in container1:\n",
        "    return jsonify(result1[f'{atributes_employee}'])\n",
        "  return jsonify({\"message\": f\"{atributes_employee} not Found!\"})\n",
        "\n",
        " \n",
        " \n",
        "\n",
        "app.run()\n"
      ],
      "execution_count": null,
      "outputs": []
    },
    {
      "cell_type": "markdown",
      "metadata": {
        "id": "WJrqJYdukkeg"
      },
      "source": [
        "\n",
        "\n",
        "---\n",
        "\n"
      ]
    },
    {
      "cell_type": "markdown",
      "metadata": {
        "id": "6QS0uBzdgvgN"
      },
      "source": [
        "Creemos ahora el Webservice para la Tabla 'departments'. El procediiento es el mismo, solo que cambiaremos el nombre de algunas variables haciendo uso de indices numericos para preservar el sentido de las mismas."
      ]
    },
    {
      "cell_type": "code",
      "metadata": {
        "colab": {
          "base_uri": "https://localhost:8080/"
        },
        "id": "FEjALGF9fDuW",
        "outputId": "36369093-e794-4a36-c117-cb46fd753364"
      },
      "source": [
        "#Webservice para Tabla 'departments':\n",
        "\n",
        "# Conexion a la base de datos llamada hr.db\n",
        "conn = sq.connect('hr.db')\n",
        "cur = conn.cursor()\n",
        "\n",
        "\n",
        "# Definiendo la Consulta a la BD\n",
        "q2 = ('select * from departments ')\n",
        "\n",
        "# Convert the SQL query to Pandas data Frame\n",
        "r2 = pd.read_sql(q2, conn)\n",
        "\n",
        "# Convirtiendo el DataFrame 'employees' en Diccionario\n",
        "result2 = r2.to_dict()\n",
        "\n",
        "#Listando las columnas del DataFrame 'employees'\n",
        "container2 = list(result2)\n",
        "container2"
      ],
      "execution_count": null,
      "outputs": [
        {
          "output_type": "execute_result",
          "data": {
            "text/plain": [
              "['department_id', 'department_name', 'location_id']"
            ]
          },
          "metadata": {},
          "execution_count": 99
        }
      ]
    },
    {
      "cell_type": "markdown",
      "metadata": {
        "id": "XOEthul0inOv"
      },
      "source": [
        "Comprueba el Webservice y navega por sus Subrutas:"
      ]
    },
    {
      "cell_type": "code",
      "metadata": {
        "id": "Bm85C4jSfc3s"
      },
      "source": [
        "#Corremos la aplicacion flask\n",
        "app = Flask(__name__)\n",
        "\n",
        "\n",
        "# Iniciamos ngrok cuando la app este corriendo.\n",
        "run_with_ngrok(app)\n",
        "\n",
        "\n",
        "#Ruta para la Tabla Empleados\n",
        "@app.route('/departments', methods=['GET'])\n",
        "def getEmployees(): \n",
        "  return jsonify(result2)\n",
        "\n",
        "\n",
        "#Subrutas de la Tabla Empleados\n",
        "@app.route('/departments/<string:atributes_employee>', methods=['GET'])\n",
        "def getProduct(atributes_employee):\n",
        "  if atributes_employee in container2:\n",
        "    return jsonify(result2[f'{atributes_employee}'])\n",
        "  return jsonify({\"message\": f\"{atributes_employee} not Found!\"})\n",
        "\n",
        " \n",
        " \n",
        "\n",
        "app.run()"
      ],
      "execution_count": null,
      "outputs": []
    }
  ]
}