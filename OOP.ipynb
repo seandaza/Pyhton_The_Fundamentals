{
  "nbformat": 4,
  "nbformat_minor": 0,
  "metadata": {
    "colab": {
      "name": "OOP.ipynb",
      "provenance": [],
      "collapsed_sections": [],
      "authorship_tag": "ABX9TyNYpWAigpyCCq2vomIODJ6n",
      "include_colab_link": true
    },
    "kernelspec": {
      "name": "python3",
      "display_name": "Python 3"
    },
    "language_info": {
      "name": "python"
    }
  },
  "cells": [
    {
      "cell_type": "markdown",
      "metadata": {
        "id": "view-in-github",
        "colab_type": "text"
      },
      "source": [
        "<a href=\"https://colab.research.google.com/github/seandaza/Python-The-Fundamentals/blob/master/OOP.ipynb\" target=\"_parent\"><img src=\"https://colab.research.google.com/assets/colab-badge.svg\" alt=\"Open In Colab\"/></a>"
      ]
    },
    {
      "cell_type": "markdown",
      "metadata": {
        "id": "BtOv1kaMlRpx"
      },
      "source": [
        "#Programación Orientada a Objetos (OOP)\n",
        "\n",
        "> La programación orientada a objetos es un paradigma de programación que permite la modularidad de un programa informático, al permitir dividirlos en partes mas pequeñas e independientes; lo cual permite la reutilización de código.\n",
        "\n",
        "> La modularidad es una propiedad que permite subdividir una aplicación en partes mas pequeñas (llamadas módulos), cada una de las cuáles debe ser tan independiente como sea posible de la aplicación en sí y de las restantes partes. \n",
        "\n",
        "> En secciones anteriores hemos visto las funciones en Python, pues bueno, las funciones, son una manera de dividir las aplicaciones en pequeñas partes, y un módulo, se puede componer de una o muchas funciones.\n",
        "\n"
      ]
    },
    {
      "cell_type": "markdown",
      "metadata": {
        "id": "N3UzfXGypeBZ"
      },
      "source": [
        "## Clases y Objetos\n",
        "\n",
        "\n",
        "> Podemos entender un **objeto** como la representación de una **Entidad** de la vida real, con la cual podremos interactuar en el programa. En ese sentido, antes de poder crear un objeto, es necesario crear una definición del mismo; para ello, primero se debe crear la **Clase**, que es la que lo contendrá como un miembro. \n",
        "\n",
        "> En general, una clase es una plantilla que contiene los **atributos** del objeto o entidad que se pretende representar y sus respectivos **métodos** o funcionalidades.\n",
        "\n"
      ]
    },
    {
      "cell_type": "markdown",
      "metadata": {
        "id": "B1Q3bm-y3Q5x"
      },
      "source": [
        "![Clases y Objetos](https://github.com/andresrosso/resources/blob/main/images/class.png?raw=True)"
      ]
    },
    {
      "cell_type": "markdown",
      "metadata": {
        "id": "wVLz2Q2zr3rm"
      },
      "source": [
        "### Atributos y Métodos\n",
        "\n",
        "> Los **Atributos** son variables que desciben las características del objeto o estados del mísmo.\n",
        "\n",
        "> Los **Métodos** se crean de manera similar a las `funciones` y son usados tanto para asignar o devolver el valor de los atributos, como para describir la forma en que se comporta el Objeto.\n",
        "\n"
      ]
    },
    {
      "cell_type": "markdown",
      "metadata": {
        "id": "38s1PHb2zTqZ"
      },
      "source": [
        "## Acceso a Miembros de Clase\n",
        "\n",
        "> Según el caso, no todos los miembros de una clase deben poder ser accesibles desde fuera de ella. Para ocultarlos, usaremos lo que se conoce como encapsulamiento\n",
        "\n"
      ]
    },
    {
      "cell_type": "markdown",
      "metadata": {
        "id": "xsZNOaY5z9WA"
      },
      "source": [
        "### Tipos de Encapsulamiento\n",
        "\n",
        "\n",
        "\n",
        "*   **Public**: Se puede acceder a ellos desde culquier lugar en el que sea posible acceder a la clase, y también desde las que hereden de ella.\n",
        "\n",
        "*   **Private**: Solo es posible acceder a ellos usando los métodos proporcionados por la propia clase.\n",
        "\n",
        "*   **Protected**: accesiible desde las clases que hereden de ella, y desde otras que están en el mismo package o paquete.\n",
        "\n",
        "\n",
        "\n",
        "\n",
        "\n"
      ]
    },
    {
      "cell_type": "markdown",
      "metadata": {
        "id": "Ptuo7ZaE7W8z"
      },
      "source": [
        "## Ejemplo 1\n",
        "1.   Implementar una Clase que represente un Empleado.\n",
        "\n",
        "2.   Definir como atributos, su `Nombre` y `Salario`.\n",
        "\n",
        "3.   Defina el método __init__(Constructor) para cargar los atributos, dos métodos para obtenerlos y un método para que imprimna si un determinado empleado debe pagar o no impuestos, usando el criterio de que sebe pagar impuestos si su salario es mayor a 3000.\n",
        "\n",
        "\n",
        "\n",
        "\n",
        "\n",
        "\n"
      ]
    },
    {
      "cell_type": "code",
      "metadata": {
        "id": "sMh91HB_9kgr"
      },
      "source": [
        "class Empleado:\n",
        "  \n",
        "  #Método Constructor de la clase\n",
        "  def __init__(self, nombre, salario):\n",
        "    self.nombre = nombre\n",
        "    self.salario = salario\n",
        "\n",
        "  #Método para obtener el nombre\n",
        "  def getNombre(self,):\n",
        "    return self.nombre\n",
        "\n",
        "  #Método para obtener el salario\n",
        "  def getSalario(self):\n",
        "    return self.salario\n",
        "\n",
        "  #Método para saber si el empleado paga o no impuestos\n",
        "  def pagar_impuestos(self):\n",
        "    if self.salario >= 3000:\n",
        "      return \"Paga impuestos\"\n",
        "    else:\n",
        "      return \"No paga impuestos\""
      ],
      "execution_count": 16,
      "outputs": []
    },
    {
      "cell_type": "markdown",
      "metadata": {
        "id": "7xk7gShXG3kK"
      },
      "source": [
        "Creemos 3 `Objetos` de esta clase `Empleado`, y entreguémosle como parámetro a cada uno, su respectivo `nombre` y `salario`."
      ]
    },
    {
      "cell_type": "code",
      "metadata": {
        "id": "xDKvQYGaCrtb"
      },
      "source": [
        "Empleado1 = Empleado(\"Carlos\", 2400)\n",
        "Empleado2 = Empleado(\"Maria\", 4000)\n",
        "Empleado3 = Empleado(\"Pedro\", 1800)"
      ],
      "execution_count": 20,
      "outputs": []
    },
    {
      "cell_type": "code",
      "metadata": {
        "colab": {
          "base_uri": "https://localhost:8080/"
        },
        "id": "bds98wwDD-Yf",
        "outputId": "4bdf4df8-4e02-4461-ce64-63eabfca0fd0"
      },
      "source": [
        "print(Empleado1)"
      ],
      "execution_count": 21,
      "outputs": [
        {
          "output_type": "stream",
          "name": "stdout",
          "text": [
            "<__main__.Empleado object at 0x7f9e29c35910>\n"
          ]
        }
      ]
    },
    {
      "cell_type": "markdown",
      "metadata": {
        "id": "bKYtXiNPEC0v"
      },
      "source": [
        "Note que nos indica la salida que Empleado1 es un `Objeto` Accedamos a sus métodos:"
      ]
    },
    {
      "cell_type": "markdown",
      "metadata": {
        "id": "xBUCXTGvEcDJ"
      },
      "source": [
        "La estructura es: \n",
        "\n",
        "> `Objeto.método()`, compuesto dentro de una función `print()`, para que nos muestre por consola la salida de ese método."
      ]
    },
    {
      "cell_type": "code",
      "metadata": {
        "colab": {
          "base_uri": "https://localhost:8080/"
        },
        "id": "-jOL2CyvER6H",
        "outputId": "a89706fa-8b8f-4b8c-a4ee-f66040a74ac0"
      },
      "source": [
        "print(Empleado2.getNombre())"
      ],
      "execution_count": 22,
      "outputs": [
        {
          "output_type": "stream",
          "name": "stdout",
          "text": [
            "Maria\n"
          ]
        }
      ]
    },
    {
      "cell_type": "markdown",
      "metadata": {
        "id": "oHrw3F-rE8k7"
      },
      "source": [
        "Accedamos al salario del Empleado3:"
      ]
    },
    {
      "cell_type": "code",
      "metadata": {
        "colab": {
          "base_uri": "https://localhost:8080/"
        },
        "id": "lLmxT7CgFC6x",
        "outputId": "d7f25348-6cb6-4e2f-a24e-88eeeb2933ec"
      },
      "source": [
        "print(Empleado3.getSalario())"
      ],
      "execution_count": 24,
      "outputs": [
        {
          "output_type": "stream",
          "name": "stdout",
          "text": [
            "1800\n"
          ]
        }
      ]
    },
    {
      "cell_type": "markdown",
      "metadata": {
        "id": "R1OnK-JcGMdf"
      },
      "source": [
        "Veamos cuál de los empleados debe pagar impuestos:"
      ]
    },
    {
      "cell_type": "code",
      "metadata": {
        "colab": {
          "base_uri": "https://localhost:8080/"
        },
        "id": "whgyo9EmGRrx",
        "outputId": "140af6dc-e364-40d5-cbf7-894cf469c8f9"
      },
      "source": [
        "print('Empleado1',Empleado1.pagar_impuestos())\n",
        "print('Empleado2',Empleado2.pagar_impuestos())\n",
        "print('Empleado3',Empleado3.pagar_impuestos())"
      ],
      "execution_count": 27,
      "outputs": [
        {
          "output_type": "stream",
          "name": "stdout",
          "text": [
            "Empleado1 No paga impuestos\n",
            "Empleado2 Paga impuestos\n",
            "Empleado3 No paga impuestos\n"
          ]
        }
      ]
    },
    {
      "cell_type": "markdown",
      "metadata": {
        "id": "6qX39-SWN0-N"
      },
      "source": [
        "## Ejemplo 2\n",
        "\n",
        "> Un profesor debe calcular el promedio de la nota de quices de\n",
        "sus estudiantes para subirla a la plataforma de notas finales.\n",
        "Sin embargo, el profesor acordó con sus estudiantes que los\n",
        "ayudará eliminando la peor de las 5 notas antes de calcular el\n",
        "promedio que finalmente reportará. Adicionalmente, el\n",
        "profesor se ha dado cuenta qué las notas registradas en su\n",
        "planilla se encuentran en una escala de números enteros de 0\n",
        "a 100 pero la plataforma está diseñada para recibir el\n",
        "promedio únicamente en la escala estándar de la universidad:\n",
        "de 0 a 5, redondeado a dos decimales.\n",
        "\n",
        "> Requerimento:\n",
        "\n",
        "> Escribir un programa que reciba como parámetros: una cadena\n",
        "con el código alfanumérico del estudiante y cinco números\n",
        "enteros (nota1, nota2, nota3, nota4, nota5) que representan\n",
        "las notas de los quices del semestre y retorne una cadena de\n",
        "caracteres que le proporciona al profesor la información que\n",
        "desea obtener. La cadena debe tener la siguiente estructura:\n",
        "\"El promedio ajustado del estudiante `{código}` es: `{promedio}`\".\n",
        "Dónde, el promedio reportado debe cumplir con las\n",
        "especificaciones mencionadas anteriormente (redondeado a\n",
        "dos decimales, en escala de 0 a 5 y calculado eliminando la\n",
        "peor de las cinco notas del estudiante).\n",
        "\n",
        "\n",
        "\n"
      ]
    },
    {
      "cell_type": "markdown",
      "metadata": {
        "id": "LCsxPijKO6Pz"
      },
      "source": [
        "Solución\n",
        "\n",
        "> Antes que nada, es importante primero identidficar las `Entidades` que interactún en el problema y que podemos representar a través de clases: `Profesor`, `Materia`, `Nota` y `Estudiante`\n",
        "\n",
        "\n",
        "![Clases y Objetos](https://github.com/andresrosso/resources/blob/main/images/class1.png?raw=True)\n"
      ]
    },
    {
      "cell_type": "markdown",
      "metadata": {
        "id": "mVyhT5fHSOTx"
      },
      "source": [
        "Mas formalmente, esto se puede detallar en un `Diagrama de Clases`\n",
        "\n",
        "\n",
        "![Clases y Objetos](https://github.com/andresrosso/resources/blob/main/images/diagrama.png?raw=True)\n",
        "\n",
        "\n",
        "\n",
        "\n",
        "\n"
      ]
    },
    {
      "cell_type": "markdown",
      "metadata": {
        "id": "UlVVFo70ReAj"
      },
      "source": [
        "Creemos y definamos una clase por cada Entidad:"
      ]
    },
    {
      "cell_type": "code",
      "metadata": {
        "id": "1rrQmHQoRjrC"
      },
      "source": [
        "class Nota:\n",
        "  def __init__(self, nota_100: int) -> None:\n",
        "    self.nota_100 = nota_100\n",
        "    self.nota_5 = nota_100 * 5 /100\n",
        " \n",
        "  #Método para Obtener la nota en escala 100\n",
        "  def getNota_100(self):\n",
        "    return self.nota_100\n",
        "\n",
        " #Método para Obtener la nota en escala 5\n",
        "  def getNota_5(self):\n",
        "    return self.nota_5\n",
        "\n"
      ],
      "execution_count": 44,
      "outputs": []
    },
    {
      "cell_type": "code",
      "metadata": {
        "id": "UOcVVBFsVD9O"
      },
      "source": [
        "class Estudiante:\n",
        "\n",
        "  #Metodo Constructor de la clase\n",
        "  def __init__(self, nombre: str, codigo: str) -> None:\n",
        "    self.nombre = nombre \n",
        "    self.codigo = codigo\n",
        "  #Metodo Consultor\n",
        "  def getNombre(self):\n",
        "    return self.nombre\n",
        "\n",
        "  #Metodo Consultor\n",
        "  def getCodigo(self):\n",
        "    return self.codigo\n",
        "\n",
        "  #Metodo Modificador\n",
        "  def setCambiarNombre(self, nombre):\n",
        "    self.nombre = nombre\n",
        "\n",
        "  #Metodo Modificador\n",
        "  def setCambiarCodigo(self,codigo):\n",
        "    self.codigo = codigo"
      ],
      "execution_count": 110,
      "outputs": []
    },
    {
      "cell_type": "code",
      "metadata": {
        "id": "q1ELs1BoXDEz"
      },
      "source": [
        "import numpy as np\n",
        "\n",
        "class Materia: \n",
        "\n",
        "  #Metodo Constructor de la clase\n",
        "  def __init__ (self, estudiante: str,nota1, nota2, nota3, nota4, nota5)-> None:\n",
        "    self.estudiante = estudiante\n",
        "    self.nota1 = nota1\n",
        "    self.nota2 = nota2\n",
        "    self.nota3 = nota3\n",
        "    self.nota4 = nota4\n",
        "    self.nota5 = nota5\n",
        "    self.notas = np.array([nota1, nota2, nota3, nota4, nota5])\n",
        "\n",
        "  #Metodo Consultor de Nota\n",
        "  def getNotas(self):\n",
        "    return self.notas\n",
        "\n",
        "  #Metodo para calcular promedio\n",
        "  def calcularPromedio_5(self):\n",
        "    mini = self.notas[0].getNota_5()\n",
        "    pos_mini = 0\n",
        "    for i in range(0, len(self.notas)):\n",
        "      nota = self.notas[i].getNota_5()\n",
        "      if nota < mini:\n",
        "        mini = nota\n",
        "        pos_mini = i\n",
        "\n",
        "    promedio = 0\n",
        "    for i in range(0, len(self.notas)):\n",
        "      if i != pos_mini:\n",
        "        promedio += self.notas[i].getNota_5()\n",
        "    promedio /=4\n",
        "    return f\"El promedio ajustado del estudiante'{self.estudiante.getCodigo()}' es {round(promedio,2)}\"\n",
        "\n"
      ],
      "execution_count": 119,
      "outputs": []
    },
    {
      "cell_type": "code",
      "metadata": {
        "id": "g_IZZ5bkduY8"
      },
      "source": [
        "#Creemos objetos de tipo Estidiante\n",
        "estudiante1 = Estudiante(\"Maria\",\"M318\")\n",
        "estudiante2 = Estudiante(\"Juan\", \"J217\")\n",
        "\n",
        "#Creemos varios objetos de tipo Nota\n",
        "nota1 = Nota(80)\n",
        "nota2 = Nota(100)\n",
        "nota3 = Nota(30)\n",
        "nota4 = Nota(89)\n",
        "nota5 = Nota(12)\n",
        "nota6 = Nota(23)\n",
        "nota7 = Nota(69)\n",
        "\n",
        "#Creemos el Objetos de tipo Materia\n",
        "materia1 = Materia(estudiante1, nota1, nota2, nota3, nota4, nota5)\n",
        "materia2 = Materia(estudiante2, nota7, nota3, nota6, nota2, nota4)\n",
        "\n"
      ],
      "execution_count": 120,
      "outputs": []
    },
    {
      "cell_type": "code",
      "metadata": {
        "colab": {
          "base_uri": "https://localhost:8080/"
        },
        "id": "WfVzgU6iix3_",
        "outputId": "16199c47-7554-4b60-b168-aa326507208a"
      },
      "source": [
        "#Imprimimos lo pedido\n",
        "print(materia1.calcularPromedio_5())\n",
        "print(materia2.calcularPromedio_5())"
      ],
      "execution_count": 121,
      "outputs": [
        {
          "output_type": "stream",
          "name": "stdout",
          "text": [
            "El promedio ajustado del estudiante'M318' es 3.74\n",
            "El promedio ajustado del estudiante'J217' es 3.6\n"
          ]
        }
      ]
    }
  ]
}