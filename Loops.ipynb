{
  "nbformat": 4,
  "nbformat_minor": 0,
  "metadata": {
    "colab": {
      "name": "Loops.ipynb",
      "provenance": [],
      "collapsed_sections": [
        "pSNrc0zkU7IJ",
        "6rvJ7n56X0K9"
      ],
      "authorship_tag": "ABX9TyNvChPE//Ik+m5meqWPumTW",
      "include_colab_link": true
    },
    "kernelspec": {
      "name": "python3",
      "display_name": "Python 3"
    },
    "language_info": {
      "name": "python"
    }
  },
  "cells": [
    {
      "cell_type": "markdown",
      "metadata": {
        "id": "view-in-github",
        "colab_type": "text"
      },
      "source": [
        "<a href=\"https://colab.research.google.com/github/seandaza/Python-The-Fundamentals/blob/master/Loops.ipynb\" target=\"_parent\"><img src=\"https://colab.research.google.com/assets/colab-badge.svg\" alt=\"Open In Colab\"/></a>"
      ]
    },
    {
      "cell_type": "markdown",
      "metadata": {
        "id": "qo8DOf1dJRim"
      },
      "source": [
        "# I. For Loops\n",
        "\n",
        "> Los iteradores del tipo `For` son estructuras de control que permiten recorrer estructuras repetitivas de datos de forma simple y ágil, pudiendo configurar el inicio del recorrido y el numero de bucles a ejecutar. Veamos algunos ejemplos:\n",
        "\n",
        "\n",
        ">  <img src = \"https://sharpiness.files.wordpress.com/2019/02/dominoes-falling_0.jpg?w=551&h=810\" alt = \"ejemplo\" align = \"center\" />\n",
        "\n",
        "\n",
        "\n",
        "\n",
        "\n"
      ]
    },
    {
      "cell_type": "markdown",
      "metadata": {
        "id": "xuWP1r11LZDV"
      },
      "source": [
        "##Sección 1: Recorrer una Cadena\n",
        "\n",
        "Recordemos que una cadena es un conjunto de caracteres seguidos unos tras de otros, incluyendo los espacios. A continuación declararemos una variable `S` que es la que almacenará mi cadena; de tal manera que, el recorrido se hara sobre esa variable que contiene la cadena. Por otro lado, hay que indicarle que haga algo por cada caracter en la cadena, en este caso, imprimiremos la letra sobre la que se esta recorriendo."
      ]
    },
    {
      "cell_type": "markdown",
      "metadata": {
        "id": "QRg5Ja66nXje"
      },
      "source": [
        "###Ejemplo 1\n"
      ]
    },
    {
      "cell_type": "code",
      "metadata": {
        "colab": {
          "base_uri": "https://localhost:8080/"
        },
        "id": "fUR-PwEHLfW2",
        "outputId": "21b00604-ea2e-4458-e934-9d74ca920778"
      },
      "source": [
        "#Declaremos una cadena aleatoria\n",
        "S = \"Hola a Todos!\"\n",
        "#Definamos el recorrido\n",
        "for char in S:\n",
        "  print(char)\n"
      ],
      "execution_count": null,
      "outputs": [
        {
          "output_type": "stream",
          "name": "stdout",
          "text": [
            "H\n",
            "o\n",
            "l\n",
            "a\n",
            " \n",
            "a\n",
            " \n",
            "T\n",
            "o\n",
            "d\n",
            "o\n",
            "s\n",
            "!\n"
          ]
        }
      ]
    },
    {
      "cell_type": "markdown",
      "metadata": {
        "id": "pSNrc0zkU7IJ"
      },
      "source": [
        "###Analisis\n",
        "\n",
        "> Notemos que por cada caracter de la cadena S que recorre, se imprime el mismo. Ahora bien, ¿Cómo hacenos si queremos solo imprimir las vocales de esta cadena? . Para ello, declaremos una variable denominada 'vocales' que almacena las vocales en mayuscula y minuscula en formato de cadena y condicionemos nuestra busqueda por recorrido pidiendo que solo se impirman los caracteres que esten tambien en la cadena 'vocales'. Veamos:\n",
        "\n",
        "\n"
      ]
    },
    {
      "cell_type": "markdown",
      "metadata": {
        "id": "gY4dDNXknzYA"
      },
      "source": [
        "###Ejemplo 2"
      ]
    },
    {
      "cell_type": "code",
      "metadata": {
        "colab": {
          "base_uri": "https://localhost:8080/"
        },
        "id": "prK7zGNYV6da",
        "outputId": "143a8fc2-7e8f-42f5-8e2d-4f3dd3f07f42"
      },
      "source": [
        "#Declaramos nuestra cadena\n",
        "S = \"Hola a todos!\"\n",
        "\n",
        "#Declaramos en una cadena las vocales (minusculas y mayusculas)\n",
        "vocales = 'aeiouAEIOU'\n",
        "\n",
        "#Recorremos y condicionamos nuestra busqueda\n",
        "for char in S:\n",
        "  if char in vocales:\n",
        "    print(char)"
      ],
      "execution_count": null,
      "outputs": [
        {
          "output_type": "stream",
          "name": "stdout",
          "text": [
            "o\n",
            "a\n",
            "a\n",
            "o\n",
            "o\n"
          ]
        }
      ]
    },
    {
      "cell_type": "markdown",
      "metadata": {
        "id": "6rvJ7n56X0K9"
      },
      "source": [
        "###Pregunta\n",
        "\n",
        "\n",
        "> ¿Cómo hacemos si necesitamos Contar el numero de vocales que contiene una cadena?. Para resolver este problema, haremos uso de **Acumuladores**. Veamos en la siguiente seccion de que se trata.\n",
        "\n"
      ]
    },
    {
      "cell_type": "markdown",
      "metadata": {
        "id": "nOdoIBW4YQI-"
      },
      "source": [
        "##Sección 2: Acumuladores\n",
        "\n",
        "\n",
        "> Un Acumulador es una variable inicializada en el valor cero de tal manera que me permita ir cargando las veces que una condición se cumpla por recorrido del bucle. Es decir,  un acumulador, es básicamente un **contador** que se va incrementando gradualmente en la medida que el loop vaya haciendo match en el recorrido sujeto la condición a la que se le imponga.\n",
        "\n",
        "> Para continuar con el ejemplo anterior, incorporemos un acumulador en el for loop, para ir contando las veces que se identifica una vocal en el bucle. Asi:\n",
        "\n",
        "\n",
        "\n"
      ]
    },
    {
      "cell_type": "markdown",
      "metadata": {
        "id": "925GFKd7nDvZ"
      },
      "source": [
        "###Ejemplo 1"
      ]
    },
    {
      "cell_type": "code",
      "metadata": {
        "colab": {
          "base_uri": "https://localhost:8080/"
        },
        "id": "oR-TyzrjcVvT",
        "outputId": "69fc059d-8c9d-4c82-8a2a-2751be4d0ad1"
      },
      "source": [
        "# Cadena sobre la que se itera\n",
        "S =\"Hola a Todos!\"\n",
        "\n",
        "# Cadena que contiene a las vocales (en version mayuscula y minuscula)\n",
        "vocales = 'aeiouAEIOU'\n",
        "\n",
        "# Declaremos nuestro contador como una variable que lleva el mismo nombre (contador) e inicialicemmosla con un valor inicial dede 0\n",
        "# y efectuemos el bucle condiconado:\n",
        "contador = 0\n",
        "for char in S:\n",
        "  if char in vocales:\n",
        "    contador = contador + 1\n",
        "print(contador)\n",
        "\n"
      ],
      "execution_count": null,
      "outputs": [
        {
          "output_type": "stream",
          "name": "stdout",
          "text": [
            "5\n"
          ]
        }
      ]
    },
    {
      "cell_type": "markdown",
      "metadata": {
        "id": "TGYsu3vxehDv"
      },
      "source": [
        "###Observaciones y Preguntas\n",
        "\n",
        "\n",
        "> 1. Note que asi tal cual nuestro código, nos imprime al final el número total de vocales como queriamos.\n",
        "\n",
        "> 2. Note que la última linea `print(contador)` esta alineada al `for` del inicio del código. Prueba alineando la ultima linea `print(contador)` al `if`, oprimiendo la tecla 'TAB' de tu teclado con el cursor al inicio de la linea y ejecuta el código. ¿Qué observas en la salida de la consola? Explica lo que se muestra por consola.\n",
        "\n",
        "> 3. Alinea ahora la última linea `print(contador)` al nivel de la linea penúltima. ¿Qué observas en la salida de la consola? Explicalo.\n",
        "\n",
        "> 4. Cambia la penúltima linea: `contador = contador + 1` por la expresión: \n",
        "  `contador +=1` y comprueba que en escencia, efectua lo mismo, pero es una forma mas elegante de escribir el código. \n",
        "\n",
        "\n",
        "\n",
        "\n",
        "\n",
        "\n",
        "\n"
      ]
    },
    {
      "cell_type": "markdown",
      "metadata": {
        "id": "VPei6YQGpjGb"
      },
      "source": [
        "###Ejemplo2\n",
        "\n",
        "\n",
        "\n",
        "> En el ejemplo 2 de la sección anterior, construimos un for loop que nos imprime las vocales que contiene determianda cadena, pero por cada vocal hacía una impresión. Nuestro objetivo ahora es imprimir una cadena que contenga las vocales que aparecen en la cadena dada, a efectos de solo hacer una única impresión. Para ello, haremos uso nuevamente de un acumulador. Veamos:\n",
        "\n",
        "\n"
      ]
    },
    {
      "cell_type": "code",
      "metadata": {
        "id": "S4f0530Sv2mw"
      },
      "source": [
        "# Declaramos una cadena aleatoria\n",
        "S = \"Happy Anniversary\"\n",
        "\n",
        "#Declaramos el conjunto de las vocales en version mayuscula y minuscula\n",
        "vocales = 'aeiouAEIOU'\n",
        "\n",
        "# Declaramos nuestro acumulador inicializado como una cadena vacía, recorremos la cadena\n",
        "# y le vamos Concatenando a nuestro acumulador, las letras que sean vocales\n",
        "acumulador = ''\n",
        "for char in S:\n",
        "  if char in vocales:\n",
        "    acumulador += char\n",
        "print(acumulador)\n",
        "\n"
      ],
      "execution_count": null,
      "outputs": []
    },
    {
      "cell_type": "markdown",
      "metadata": {
        "id": "SwWP7C8d3ksB"
      },
      "source": [
        "###Observaciones\n",
        "\n",
        "> Note que nuestro acumulador es una cadena vacía y que nuestra opcion aqui es ir Concatenandole a esta cadena, las vocales que se vayan identidicando en la cadena a detallar.\n",
        "\n",
        "> Note que para Concatenar también se usa el operador `+`. En este caso no hay problema porque estamos operando datos del mismo tipo.\n",
        "\n",
        "\n",
        "\n"
      ]
    },
    {
      "cell_type": "markdown",
      "metadata": {
        "id": "3PhymB0IBBs3"
      },
      "source": [
        "###Ejercicios"
      ]
    },
    {
      "cell_type": "markdown",
      "metadata": {
        "id": "DHRORL9U5KZS"
      },
      "source": [
        "####Ejercicio 1\n",
        "\n",
        "> *Necesitamos* verificar si una cadena cualquiera contiene almenos una vocal, en este caso, nos debe imprimir por consola `True`; en caso contrario, debe imprimir por consola `False`.\n",
        "\n",
        "> Para ello, debemos recorrer la cadena con un `for` y usar una variable `vowel_found` que hará el papel de un switch o interruptor que por defecto estará \"apagado\" o en modo `False`. Si en el recorrido del `for` la cadena hace match con una vocal, entonces nuestro interuptor se \"encenderá\" y por lo tanto nuestra variable `vowel_found` deberá actualizarse.\n",
        "\n",
        "> ![Texto alternativo](\thttps://stem.guide/wp-content/uploads/2018/08/shutterstock_306139223.jpg)\n",
        "\n",
        "> Para ello, su objetivo será completar el código y comprobar que retorna lo que se pide:\n",
        "\n",
        "\n",
        "\n",
        "\n",
        "\n",
        "\n",
        "\n",
        "\n"
      ]
    },
    {
      "cell_type": "code",
      "metadata": {
        "id": "Qvz3H9w65UMP"
      },
      "source": [
        "    vowel_found = False\n",
        "    for char in s:\n",
        "        if char in 'aeiouAEIOU':\n",
        "          #escribe el codigo faltante aquí  \n",
        "\n",
        "    return vowel_found"
      ],
      "execution_count": null,
      "outputs": []
    },
    {
      "cell_type": "markdown",
      "metadata": {
        "id": "B0m82zwQBJmC"
      },
      "source": [
        "####Ejercicio 2\n",
        "\n",
        "\n",
        "> Sean `S1` y `S2` dos cadenas de texto diferentes cualesquiera. Escriba un código que me permita comparar ambas cadenas y me retorne las letras que tienen en común ambas cadenas. por ejemplo, si `S1 = 'abc'` y `S2 = 'ad'`, entonces nuestro código nos debería mostrar por consola `'a'`, que correspondería a la letra que tienen en común ambas cadenas. Si por ejemplo `s1 = 'abb'` y `S2 = 'ab'`, entonces nuestro código nos debería mostrar como salida por consola `'abb'`.\n",
        "\n",
        "\n",
        "\n",
        "\n",
        "\n"
      ]
    },
    {
      "cell_type": "code",
      "metadata": {
        "id": "32Og9l1dEdQv"
      },
      "source": [
        "# Construye tu código siguiendo los siguientes pasos:\n",
        "\n",
        "# 1. Declara las Cadenas S1 y S2\n",
        "\n",
        "S1 = 'abb'\n",
        "S2 = 'ab'\n",
        "\n",
        "# 2. Declara un acumulador\n",
        "\n",
        "\n",
        "# 3. Declara un For Loop de elementos de una cadena que vaya comparandolos con los elementos de la otra cadena\n",
        "#    y condiciona la comparación. En caso de que hagan match, guarda la letra en el acumulador.\n",
        "\n",
        "\n",
        "\n",
        "\n",
        "# 4. Imprime lo que quieres mostrar\n",
        "\n",
        "\n",
        "\n"
      ],
      "execution_count": null,
      "outputs": []
    },
    {
      "cell_type": "markdown",
      "metadata": {
        "id": "i279HCfznqiL"
      },
      "source": [
        "#### Advertencia!!\n",
        "\n",
        "\n",
        "> A continuación puedes ver la respuesta si y solamente sí trabajaste en tus propias ideas para generarla y poder retroalimentar tu esfuerzo.\n",
        "\n"
      ]
    },
    {
      "cell_type": "code",
      "metadata": {
        "id": "h_OeXMHRHa1b"
      },
      "source": [
        "#@title Respuesta { display-mode: \"form\" }\n",
        "\n",
        "S1 = 'abb'\n",
        "S2 = 'ab'\n",
        "\n",
        "acum = ''\n",
        "for elm in S1:\n",
        "  if elm in S2:\n",
        "    acum+= elm\n",
        "print(acum)\n",
        "    "
      ],
      "execution_count": null,
      "outputs": []
    },
    {
      "cell_type": "markdown",
      "metadata": {
        "id": "x4BlK8VFZ7Gh"
      },
      "source": [
        "# II. While Loops\n",
        "\n",
        "> Un bucle while permite repetir la ejecución de un grupo de instrucciones mientras se cumpla una condición (es decir, mientras la condición tenga el valor True).\n",
        "\n",
        "\n",
        "\n"
      ]
    },
    {
      "cell_type": "markdown",
      "metadata": {
        "id": "1zhL7TIbeUhL"
      },
      "source": [
        "<img src = \"https://m.media-amazon.com/images/I/61E3a5EiOsL._AC_SL1000_.jpg\" width = \"500\" height = \"500\" alt = \"ejemplo\" align = \"center\" />\n",
        "\n",
        "\n",
        "\n",
        "\t\n",
        "\n"
      ]
    },
    {
      "cell_type": "markdown",
      "metadata": {
        "id": "lS8ia9zpi1D-"
      },
      "source": [
        "## Estructura"
      ]
    },
    {
      "cell_type": "markdown",
      "metadata": {
        "id": "1wJvQ-ZRe0Kj"
      },
      "source": [
        "La sintaxis del bucle while es la siguiente:"
      ]
    },
    {
      "cell_type": "code",
      "metadata": {
        "id": "362yVg1weugh"
      },
      "source": [
        "while condicion:\n",
        "    cuerpo del bucle"
      ],
      "execution_count": null,
      "outputs": []
    },
    {
      "cell_type": "markdown",
      "metadata": {
        "id": "neArXSKbicxw"
      },
      "source": [
        "La ejecución de esta estructura de control while es la siguiente:\n",
        "\n",
        "Python evalúa la condición:\n",
        "\n",
        "1. si el resultado es True se ejecuta el cuerpo del bucle. Una vez ejecutado el cuerpo del bucle, se repite el proceso (se evalúa de nuevo la condición y, si es cierta, se ejecuta de nuevo el cuerpo del bucle) una y otra vez mientras la condición sea cierta.\n",
        "\n",
        "2. si el resultado es False, el cuerpo del bucle no se ejecuta y continúa la ejecución del resto del programa.\n",
        "La variable o las variables que aparezcan en la condición se suelen llamar variables de control. \n",
        "\n",
        "Las variables de control deben definirse antes del bucle while y modificarse en el bucle while."
      ]
    },
    {
      "cell_type": "markdown",
      "metadata": {
        "id": "-vOmRjIjjnyN"
      },
      "source": [
        "## Sección 1: Condición de Tipo Numérica\n",
        "\n",
        "> En primera instancia realicemos el bucle sobre una condición de tipo numérico; es decir, se puede verificar algún tipo de relación comparativa entre valores numéricos.\n",
        "\n"
      ]
    },
    {
      "cell_type": "markdown",
      "metadata": {
        "id": "fnV6vq4wlIAI"
      },
      "source": [
        "###Ejemplo 1\n",
        "\n",
        "\n",
        "> Guardemos en una variable un valor numérico, por cada ciclo, vamos a duplicar ese numero y actualizamos el valor de la variable al mismo. Si el valor de la variable final es menor que 100, repetimos el ciclo hasta que se cumpla esta relacion de orden. Veamos:\n",
        "\n"
      ]
    },
    {
      "cell_type": "code",
      "metadata": {
        "colab": {
          "base_uri": "https://localhost:8080/"
        },
        "id": "Pempm1fGmDID",
        "outputId": "bc28b0d2-b045-46e1-d0eb-f8e69cd585b2"
      },
      "source": [
        "num = 10\n",
        "while num < 100:\n",
        "  num = num * 2\n",
        "  print(num)"
      ],
      "execution_count": 31,
      "outputs": [
        {
          "output_type": "stream",
          "name": "stdout",
          "text": [
            "20\n",
            "40\n",
            "80\n",
            "160\n"
          ]
        }
      ]
    },
    {
      "cell_type": "markdown",
      "metadata": {
        "id": "hSjeKBSwmj4H"
      },
      "source": [
        "###Análisis\n",
        "\n",
        "\n",
        "> Note que `80` es el último valor de la variable `num` que entra en el ciclo e imprime su duplo `160`\n",
        "\n"
      ]
    },
    {
      "cell_type": "markdown",
      "metadata": {
        "id": "rLcKNj6Rqg_B"
      },
      "source": [
        "###Ejemplo 2\n",
        "\n",
        "> Veamos un caso en el que la condición NUNCA se cumple y por lo tanto nunca se ejecuta nada. Por lo tanto tampoco va a imprimir nada por consola.\n",
        "\n"
      ]
    },
    {
      "cell_type": "code",
      "metadata": {
        "id": "YIawD63Bqtgq"
      },
      "source": [
        "num = 100\n",
        "while num < 100:\n",
        "  num = num * 2\n",
        "  print(num)"
      ],
      "execution_count": 32,
      "outputs": []
    },
    {
      "cell_type": "markdown",
      "metadata": {
        "id": "74z65p-PrK9V"
      },
      "source": [
        "\n",
        "### Análisis\n",
        "\n",
        "> La Condición sobre la que se ejecuta un `While`, debe ser CIERTA para que el flujo lógico ejecute todo lo que está dentro de él.\n",
        "\n"
      ]
    },
    {
      "cell_type": "markdown",
      "metadata": {
        "id": "7nqR-ukzsUK0"
      },
      "source": [
        "###Ejemplo 3\n",
        "\n",
        "> Si la condición sobre la que se construye el  `While` es SIEMPRE cierta, podemos incurrir en Bucles Infinitos y podriamos consumir toda la memoria en este proceso. Debemos ser cuidadosos para no incurrir en estos casos. Veamos un ejemplo:\n",
        "\n"
      ]
    },
    {
      "cell_type": "code",
      "metadata": {
        "id": "l7ZK8D7Cvjbk"
      },
      "source": [
        "while 1 > 0:\n",
        "  print(\"hola\")"
      ],
      "execution_count": null,
      "outputs": []
    },
    {
      "cell_type": "markdown",
      "metadata": {
        "id": "pcGMcPy-tcNr"
      },
      "source": [
        "###Análisis\n",
        "\n",
        "> Como sabemos, 1 siempre es mayor que 0, por lo tanto la condición sobre la que construímos nuestro `While`, es SIEMPRE cierta; por lo tanto, en este caso, nos va a imprimir `'hola'` de forma indefinida hasta que paremos el proceso de manera forzosa.\n",
        "\n"
      ]
    },
    {
      "cell_type": "markdown",
      "metadata": {
        "id": "sZVOg9okuCrg"
      },
      "source": [
        "##Sección 2: Condición de Tipo Booleana\n",
        "\n",
        "> Podemos exigir que nuestra condición no sea extrictamente una relación numérica, sino también podemos usar cualquier compardor lógico.\n",
        "\n"
      ]
    },
    {
      "cell_type": "markdown",
      "metadata": {
        "id": "QRovCslou3TX"
      },
      "source": [
        "###Ejemplo 1\n",
        "\n",
        "> Supongamos que tenemos una cadena de caracteres `S` y queremos que nos vaya imprimiendo letra a letra  de esta cadena, mientras la letra sea una consonante y que pare cuando encuentre una vocal. Entonces:\n",
        "\n"
      ]
    },
    {
      "cell_type": "code",
      "metadata": {
        "colab": {
          "base_uri": "https://localhost:8080/"
        },
        "id": "DLmPzMG2wEsQ",
        "outputId": "3713afb0-30f9-4eee-ad4b-01350dfc73e0"
      },
      "source": [
        "# Supongamos la Cadena es \n",
        "S = 'psicologia'\n",
        "\n",
        "i=0\n",
        "while not (S[i] in 'aeiouAEIOU'):\n",
        "  print(S[i])\n",
        "  i += 1\n",
        "\n"
      ],
      "execution_count": 42,
      "outputs": [
        {
          "output_type": "stream",
          "name": "stdout",
          "text": [
            "P\n",
            "s\n"
          ]
        }
      ]
    },
    {
      "cell_type": "markdown",
      "metadata": {
        "id": "m7DgtGY0z86M"
      },
      "source": [
        "### Para Pensar ...\n",
        "\n",
        "> 1. Explica la salida anterior con tus palabras.\n",
        "\n",
        "> 2. Ejecuta el mismo código anterior, pero asume ahora que tu cadena es `S = 'agua'` y explica.\n",
        "\n",
        "> 3. Ejecuta el mismo código anterior, pero asume ahora que tu cadena es `S = 'xyz'` y explica.\n",
        "\n",
        "\n",
        "\n",
        "\n"
      ]
    },
    {
      "cell_type": "markdown",
      "metadata": {
        "id": "LLYxSG3X1WBq"
      },
      "source": [
        "En el último caso, lee que error te muestra la consola y trata de entenderlo. Para enmendar ese error, prueba el siguiente código, detalla los adicionales y explica que ocurrió:"
      ]
    },
    {
      "cell_type": "code",
      "metadata": {
        "id": "XI-0KJY51pQo"
      },
      "source": [
        "S = 'xyz'\n",
        "i = 0\n",
        "while i < len(S) and not (S[i] in 'aeiouAEIOU'):\n",
        "    print(S[i])\n",
        "    i = i + 1"
      ],
      "execution_count": null,
      "outputs": []
    },
    {
      "cell_type": "markdown",
      "metadata": {
        "id": "WKXP0Mxw7f5t"
      },
      "source": [
        "###Ejercicio\n",
        "\n",
        "> Haciendo uso de un `while`, escriba de forma descendiente los primeros 10 numeros naturales; es decir, `10,9,8,7,6,5,4,3,2,1`\n"
      ]
    },
    {
      "cell_type": "code",
      "metadata": {
        "id": "tYdZt1J339VN"
      },
      "source": [
        "# Escribe tu código aquí!\n"
      ],
      "execution_count": null,
      "outputs": []
    }
  ]
}