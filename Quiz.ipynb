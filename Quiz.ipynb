{
  "nbformat": 4,
  "nbformat_minor": 0,
  "metadata": {
    "colab": {
      "name": "Quiz.ipynb",
      "provenance": [],
      "collapsed_sections": [],
      "authorship_tag": "ABX9TyPmRo9H0p50/oRiLfVZbmx+",
      "include_colab_link": true
    },
    "kernelspec": {
      "name": "python3",
      "display_name": "Python 3"
    },
    "language_info": {
      "name": "python"
    }
  },
  "cells": [
    {
      "cell_type": "markdown",
      "metadata": {
        "id": "view-in-github",
        "colab_type": "text"
      },
      "source": [
        "<a href=\"https://colab.research.google.com/github/seandaza/Python-The-Fundamentals/blob/master/Quiz.ipynb\" target=\"_parent\"><img src=\"https://colab.research.google.com/assets/colab-badge.svg\" alt=\"Open In Colab\"/></a>"
      ]
    },
    {
      "cell_type": "markdown",
      "metadata": {
        "id": "Lq3txEp224nS"
      },
      "source": [
        "# Quiz"
      ]
    },
    {
      "cell_type": "markdown",
      "metadata": {
        "id": "ruq0cydDutQ-"
      },
      "source": [
        "## 1. Si la Variable `instructors` refiere al valor `2`, seleccione la(s) expresion(es) que regresa(n) `True`:\n",
        "\n",
        "\n",
        "\n",
        "```\n",
        "a. not instructors < 1\n",
        "b. instructors < 2 or instructors > 4\n",
        "c.not not instructors >= -3\n",
        "d. not instructors* 2 > 1\n",
        "```\n",
        "\n",
        "\n",
        "\n"
      ]
    },
    {
      "cell_type": "code",
      "metadata": {
        "id": "tAWy4KtJAKtZ"
      },
      "source": [
        ""
      ],
      "execution_count": null,
      "outputs": []
    },
    {
      "cell_type": "markdown",
      "metadata": {
        "id": "dENZLQUX3DXl"
      },
      "source": [
        "## 2. Complete el codigo para que se imprima la suma de las edades `age1` y `age2`"
      ]
    },
    {
      "cell_type": "code",
      "metadata": {
        "id": "csrRFDP31hE4"
      },
      "source": [
        "age1 = input(\"How old are you? \")\n",
        "age2 = input(\"How old is your best friend? \")\n",
        "print(#escribe tu codigo aqui!)"
      ],
      "execution_count": null,
      "outputs": []
    },
    {
      "cell_type": "markdown",
      "metadata": {
        "id": "H2JS_Spo3hAi"
      },
      "source": [
        "## 3. Completa el codigo para que contruyas una`lista` con todos los `numeros pares` entre el `0 y el 100`, incluyendo los numeros `0` y `100`"
      ]
    },
    {
      "cell_type": "code",
      "metadata": {
        "colab": {
          "base_uri": "https://localhost:8080/"
        },
        "id": "rhIm2Zcd4_p7",
        "outputId": "73fe34c1-f7a7-4fdd-ab4a-5c7707483953"
      },
      "source": [
        "list = []\n",
        "for i in range(#Escribe tu codigo aqui!):\n",
        "    list.append(i)\n",
        "print(list)"
      ],
      "execution_count": 20,
      "outputs": [
        {
          "output_type": "stream",
          "name": "stdout",
          "text": [
            "[0, 2, 4, 6, 8, 10, 12, 14, 16, 18, 20, 22, 24, 26, 28, 30, 32, 34, 36, 38, 40, 42, 44, 46, 48, 50, 52, 54, 56, 58, 60, 62, 64, 66, 68, 70, 72, 74, 76, 78, 80, 82, 84, 86, 88, 90, 92, 94, 96, 98, 100]\n"
          ]
        }
      ]
    },
    {
      "cell_type": "markdown",
      "metadata": {
        "id": "Vj0lsuhP9e_k"
      },
      "source": [
        "##4. Haciendo analogia con la estructura de codigo de la pregunta anterior, Construya una `funcion` que entregue una lista que contenga los `numeros impares` en un intervalo dado de valores. Es decir, debe imprimir lo siguiente:\n",
        "```\n",
        "odd_numbers(1,100,2)\n",
        " [1, 3, 5, 7, 9, 11, 13, 15, 17, 19, 21, 23, 25, 27, 29, 31, 33, 35, 37, 39, 41, 43, 45, 47, 49, 51, 53, 55, 57, 59, 61, 63, 65, 67, 69, 71, 73, 75, 77, 79, 81, 83, 85, 87, 89, 91, 93, 95, 97, 99]\n",
        "\n",
        "```\n",
        "\n"
      ]
    },
    {
      "cell_type": "code",
      "metadata": {
        "colab": {
          "base_uri": "https://localhost:8080/"
        },
        "id": "CyI4yDgL90nz",
        "outputId": "cb1902d7-dc69-432d-82db-b538f441b9c4"
      },
      "source": [
        "def odd_numbers():\n",
        "  #escribe tu codigo aqui!\n",
        "\n",
        "\n",
        "odd_numbers(1,100,2)"
      ],
      "execution_count": 26,
      "outputs": [
        {
          "output_type": "stream",
          "name": "stdout",
          "text": [
            "[1, 3, 5, 7, 9, 11, 13, 15, 17, 19, 21, 23, 25, 27, 29, 31, 33, 35, 37, 39, 41, 43, 45, 47, 49, 51, 53, 55, 57, 59, 61, 63, 65, 67, 69, 71, 73, 75, 77, 79, 81, 83, 85, 87, 89, 91, 93, 95, 97, 99]\n"
          ]
        }
      ]
    },
    {
      "cell_type": "markdown",
      "metadata": {
        "id": "FFKo3JuDBVSO"
      },
      "source": [
        "## 5. Constuye la funcion `traffic_report(light)`, que muestre por pantalla el string `\"Stop!\"` si la luz esta en `Rojo`, `\"Slow!\"` si la luz esta en `Amarillo` y `\"Go!\"` si la luz esta en `Verde`"
      ]
    },
    {
      "cell_type": "code",
      "metadata": {
        "id": "9qoW-IXbCQM8"
      },
      "source": [
        "traffic_report(light):\n",
        "#escribe tu codigo aqui!"
      ],
      "execution_count": null,
      "outputs": []
    }
  ]
}