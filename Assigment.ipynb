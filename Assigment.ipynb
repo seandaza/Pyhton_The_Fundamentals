{
  "nbformat": 4,
  "nbformat_minor": 0,
  "metadata": {
    "colab": {
      "name": "Assigment.ipynb",
      "provenance": [],
      "authorship_tag": "ABX9TyNSI2vNifl226wHmaFL2xaD",
      "include_colab_link": true
    },
    "kernelspec": {
      "name": "python3",
      "display_name": "Python 3"
    },
    "language_info": {
      "name": "python"
    }
  },
  "cells": [
    {
      "cell_type": "markdown",
      "metadata": {
        "id": "view-in-github",
        "colab_type": "text"
      },
      "source": [
        "<a href=\"https://colab.research.google.com/github/seandaza/Python-The-Fundamentals/blob/master/Assigment.ipynb\" target=\"_parent\"><img src=\"https://colab.research.google.com/assets/colab-badge.svg\" alt=\"Open In Colab\"/></a>"
      ]
    },
    {
      "cell_type": "code",
      "metadata": {
        "id": "biZrH-oohuZg"
      },
      "source": [
        "#Importamos Dependencias\n",
        "import pandas as pd\n",
        "import matplotlib.pyplot as plt\n",
        "import numpy as np"
      ],
      "execution_count": null,
      "outputs": []
    },
    {
      "cell_type": "code",
      "metadata": {
        "id": "eMbm9Qyqh7Sd"
      },
      "source": [
        "!wget -O products.csv https://raw.githubusercontent.com/andresrosso/resources/main/datasets/products_dataset_202110270742.csv?raw=true"
      ],
      "execution_count": null,
      "outputs": []
    },
    {
      "cell_type": "code",
      "metadata": {
        "id": "fk7hvKYbiHrF"
      },
      "source": [
        "# Carga los datos en un dataframe df"
      ],
      "execution_count": null,
      "outputs": []
    },
    {
      "cell_type": "code",
      "metadata": {
        "id": "_QxCLcT6iO_K"
      },
      "source": [
        "#Detalla los primeros 10 renglones del dataframe"
      ],
      "execution_count": null,
      "outputs": []
    },
    {
      "cell_type": "code",
      "metadata": {
        "id": "Lrq6rS95ia5m"
      },
      "source": [
        "''' Anade una columa llamada 'volume_c3' que sea el producto de los valores de las \n",
        "df['volume_cm3'] = df['product_length_cm']* df['product_height_cm'] * df['product_width_cm']\n",
        "columnas 'product_length_cm', y 'product_width_cm'\n",
        "'''\n",
        "# Escribe tu codigo aqui"
      ],
      "execution_count": null,
      "outputs": []
    },
    {
      "cell_type": "code",
      "metadata": {
        "id": "8Qmn5CBzjAjJ"
      },
      "source": [
        "# revisa la describcion estadistica de la tabla\n",
        "df.decribe()"
      ],
      "execution_count": null,
      "outputs": []
    },
    {
      "cell_type": "code",
      "metadata": {
        "id": "Ci6pS1pFjNzN"
      },
      "source": [
        "'''Ingresa una nueva columna al dataframe de\n",
        "nombre 'size' ella debe almacenar la transformacion\n",
        "de la columna 'volume_cm3' bajo el siguiente criterio:\n",
        "'big', para volumenes mayores a 15000, 'medium' para valores \n",
        "entre 7000 y 15000, y 'small' para cualquier otra medida de \n",
        "volumen\n",
        "'''\n",
        "# Escribe tu codigo aqui"
      ],
      "execution_count": null,
      "outputs": []
    },
    {
      "cell_type": "code",
      "metadata": {
        "id": "RA4qsqoTkWJy"
      },
      "source": [
        "#Ejecuta y observa la cantidad por categoria\n",
        "df[\"size\"].value_counts(dropna = False)"
      ],
      "execution_count": null,
      "outputs": []
    },
    {
      "cell_type": "code",
      "metadata": {
        "id": "aXI6TzjYkoKQ"
      },
      "source": [
        "#Trabaja con algunas series\n",
        "df_res = df[[\"product_category_name\", \"product_weight_g\",\"size\"]]\n",
        "df_res.rename(columns={'product_category_name':'product', 'product_weight_g':'weight'}, inplace=True)\n",
        "\n",
        "df_res"
      ],
      "execution_count": null,
      "outputs": []
    },
    {
      "cell_type": "code",
      "metadata": {
        "id": "LH9_qgabk8q3"
      },
      "source": [
        "'''\n",
        "Del dataframe df_res , filtra los datos a aquellos que tengan talla 'small' y cuyo peso sea menor a 500g\n",
        "'''"
      ],
      "execution_count": null,
      "outputs": []
    },
    {
      "cell_type": "code",
      "metadata": {
        "id": "XtAboUqUlWIe"
      },
      "source": [
        "# Despliega la serie de productos bajo el filtrado\n",
        "products = df_filter['product']\n",
        "products"
      ],
      "execution_count": null,
      "outputs": []
    },
    {
      "cell_type": "code",
      "metadata": {
        "id": "O0wqojwhnnYT"
      },
      "source": [
        "# Despliega la cantidad por producto\n",
        "cathegories = products.value_counts()\n",
        "cathegories"
      ],
      "execution_count": null,
      "outputs": []
    },
    {
      "cell_type": "markdown",
      "metadata": {
        "id": "8uwOrg2xoEMW"
      },
      "source": [
        "# Exponga los datos"
      ]
    },
    {
      "cell_type": "code",
      "metadata": {
        "id": "mJ6RayQaoFcD"
      },
      "source": [
        "# Instalemos dependencias\n",
        "!pip install flask-ngrok"
      ],
      "execution_count": null,
      "outputs": []
    },
    {
      "cell_type": "code",
      "metadata": {
        "id": "Ik_d6TGdoL4K"
      },
      "source": [
        "#Importemos librerias\n",
        "from flask_ngrok import run_with_ngrok\n",
        "from flask import Flask, request\n",
        "from flask import Flask, jsonify\n",
        "import json"
      ],
      "execution_count": null,
      "outputs": []
    },
    {
      "cell_type": "markdown",
      "metadata": {
        "id": "oTifWjZyrAOD"
      },
      "source": [
        " Escribe una funcion que muestre la cantidad de productos `informatica_acessorios` y `telefonia` y la asocie a la ruta raiz donde se exponen los datos.\n"
      ]
    },
    {
      "cell_type": "code",
      "metadata": {
        "id": "ws06kdCAoRQy"
      },
      "source": [
        "#Corremos la aplicacion flask\n",
        "app = Flask(__name__)\n",
        "\n",
        "def cantidad_productos():\n",
        "  '''Muestra la cantidad \n",
        "  de algunos productos\n",
        "  '''\n",
        "  return #Escribe tu codigo aqui#\n",
        "\n",
        "####Rutas######################\n",
        "\n",
        "# Ruta raiz\n",
        "\"\"\"\n",
        "Metodo para retornar la cantidad de algunos \n",
        "productos\n",
        "\n",
        "Parameters\n",
        "----------\n",
        "None\n",
        "\n",
        "Returns\n",
        "-------\n",
        "datos : json\n",
        "    Estructura con la cantidad de los productos\n",
        "\"\"\"\n",
        "@app.route('/', methods=['GET'])\n",
        "def get_productos():\n",
        "  return #Escribe la funcion que debe retornar#"
      ],
      "execution_count": null,
      "outputs": []
    }
  ]
}