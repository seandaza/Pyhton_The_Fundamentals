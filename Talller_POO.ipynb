{
  "nbformat": 4,
  "nbformat_minor": 0,
  "metadata": {
    "colab": {
      "name": "Talller_POO.ipynb",
      "provenance": [],
      "collapsed_sections": [],
      "authorship_tag": "ABX9TyNybPnHVHuHgOEm6NijefJz",
      "include_colab_link": true
    },
    "kernelspec": {
      "name": "python3",
      "display_name": "Python 3"
    },
    "language_info": {
      "name": "python"
    }
  },
  "cells": [
    {
      "cell_type": "markdown",
      "metadata": {
        "id": "view-in-github",
        "colab_type": "text"
      },
      "source": [
        "<a href=\"https://colab.research.google.com/github/seandaza/Python-The-Fundamentals/blob/master/Talller_POO.ipynb\" target=\"_parent\"><img src=\"https://colab.research.google.com/assets/colab-badge.svg\" alt=\"Open In Colab\"/></a>"
      ]
    },
    {
      "cell_type": "markdown",
      "metadata": {
        "id": "isMTPlDi4w4Q"
      },
      "source": [
        "#Taller Guiado\n",
        "\n",
        "> Una tienda requiere una aplicación para gestionar la `Venta` de uno o mas productos a un `Cliente`.\n",
        "\n",
        "> Una `Venta` relaciona a un `Cliente` con una serie de productos que va a comprar.\n",
        "\n",
        "> Cada `Cliente` tiene un **Nombre** y una **Cédula**.\n",
        "\n",
        "> Cada `Producto` posee un **código**, un **nombre** y un **precio**.\n",
        "\n",
        "> En la `Venta` se debe calcular el subtotal (suma precio), el valor del IVA )(19%) y el Total de la venta.\n",
        "\n",
        "> Se debe mostrar en pantalla la información de la Factura.\n",
        "\n"
      ]
    },
    {
      "cell_type": "markdown",
      "metadata": {
        "id": "ji7bFASrKVpy"
      },
      "source": [
        "## Desarrollo\n",
        "\n",
        "> Antes que nada, identifiquemos las Entidades que componen nuestro problema:\n",
        "\n",
        "\n",
        "*   `Cliente`\n",
        "*   `Venta`\n",
        "*   `Producto`\n",
        "\n",
        "\n",
        "> Cada una de estas Entidades vamos a asociarlas a una única `Clase`.  Y a cada una de estas clases hay que definirle sus atributos y métodos."
      ]
    },
    {
      "cell_type": "markdown",
      "metadata": {
        "id": "FZyrsIo0XzfN"
      },
      "source": [
        "## Método Constructor\n",
        "\n",
        "> `__init__:` Es el método que ayuda a inicializar los atributos o propiedades de cada clase.\n",
        "\n"
      ]
    },
    {
      "cell_type": "markdown",
      "metadata": {
        "id": "n8Gup4v1ODxM"
      },
      "source": [
        "## Getters & Setters\n",
        "\n",
        "> Cada Clase además de sus atributos y su método constructor, cuenta con un par de métodos conocidos como los `Getters` y `Setters` de una clase; que son los métodos `Consultores` y los `Modificadores` de la clase, y son los que permiten acceder a los atributos privados de una clase.\n",
        "\n"
      ]
    },
    {
      "cell_type": "markdown",
      "metadata": {
        "id": "ExVdReySRcFp"
      },
      "source": [
        "##Clases\n",
        "\n",
        "> Construyamos nuestras Clases:\n",
        "\n"
      ]
    },
    {
      "cell_type": "markdown",
      "metadata": {
        "id": "MMvUWmPvU2zQ"
      },
      "source": [
        "###Clase `Cliente`"
      ]
    },
    {
      "cell_type": "code",
      "metadata": {
        "id": "YwUep2t1Rpyq"
      },
      "source": [
        "class Cliente:\n",
        "  #Método Constructor\n",
        "  def __init__(self,nombre,cedula)-> None:\n",
        "    self.nombre = nombre\n",
        "    self.cedula = cedula\n",
        "  \n",
        "  #Getters\n",
        "\n",
        "  def getNombre(self):\n",
        "    return self.nombre\n",
        "\n",
        "  def getCedula(self):\n",
        "    return self.cedula\n",
        "\n",
        "  #Setters\n",
        "\n",
        "  def setNombre(self):\n",
        "    self.nombre = nombre\n",
        "  \n",
        "  def setCedula(self):\n",
        "    self.cedula = cedula\n",
        "\n",
        "\n"
      ],
      "execution_count": 5,
      "outputs": []
    },
    {
      "cell_type": "markdown",
      "metadata": {
        "id": "fQvjLeT7Y-LM"
      },
      "source": [
        "### Clase `Producto`"
      ]
    },
    {
      "cell_type": "markdown",
      "metadata": {
        "id": "66P6Qi7tQFt2"
      },
      "source": [
        " De acuerdo a los atributos que recibe cada método en la siguiente Clase, Complete el siguiente código haciendo analogía con la clase `Cliente` que acabamos de construír:"
      ]
    },
    {
      "cell_type": "code",
      "metadata": {
        "id": "0gieS4mPZJQa"
      },
      "source": [
        "class Producto:\n",
        "  #Método Cosntructor\n",
        "\n",
        "  def __init__(self,codigo,nombre,precio):\n",
        "    # Inicializa el atributo `codigo` aquí!\n",
        "    # Inicializa el atributo `nombre` aquí!\n",
        "    # Inicializa el atributo `precio` aquí!\n",
        "    \n",
        "  # Getters\n",
        "\n",
        "  def getCodigo(self):\n",
        "    return #Escribe tu código aquí!\n",
        "\n",
        "  def getNombre(self):\n",
        "    #Escribe tu código aquí!\n",
        "\n",
        "  #Escribe el método CONSULTOR (getter) para el atributo `precio`\n",
        "\n",
        "  ## Setters\n",
        "\n",
        "  def setCodigo(self):\n",
        "    self.codigo = codigo\n",
        "    \n",
        "\n",
        "  #Escribe el método MODIFICADOR (setter) para el atributo `nombre`\n",
        "\n",
        "\n",
        "  #Escribe el método MODIFICADOR (setter) para el atributo `precio`\n"
      ],
      "execution_count": null,
      "outputs": []
    },
    {
      "cell_type": "markdown",
      "metadata": {
        "id": "Emf2tzMkhr8m"
      },
      "source": [
        "### Clase `Venta`"
      ]
    },
    {
      "cell_type": "code",
      "metadata": {
        "id": "b7sgfdfShwO5"
      },
      "source": [
        "class Venta:\n",
        "  #Método Cosntructor\n",
        "  def __init__(self,cliente,productos) -> None:\n",
        "    # Inicializa el atributo `cliente` aquí!\n",
        "    # Inicializa el atributo `productos` aquí!\n",
        "\n",
        "  #Completa los Getters aquí!\n",
        "\n",
        "  # Completa los Setters aquí!\n",
        "\n",
        "  def vender(self):\n",
        "    subtotal = 0\n",
        "    iva = 0\n",
        "    total = 0\n",
        "\n",
        "    #Declaremos unas variables locales para facilidad \n",
        "    productos = self.productos\n",
        "    cliente = self.cliente\n",
        "\n",
        "    #Recorremos la lista de Productos y los sumamos como un subtotal\n",
        "    for producto in productos:\n",
        "      subtotal += producto.getPrecio() \n",
        "\n",
        "    #Calculamos el IVA del Subtotal (Escribe tu codigo en los siguuentes espacios)\n",
        "    iva = \n",
        "    total = \n",
        "\n",
        "    # Construimos la salida como una concatenación de strings para darle formato\n",
        "    salida = \"\"\n",
        "    salida += \"------------------------------\\n\"\n",
        "    salida += f\"Nombre: {cliente.getNombre()}\\n\"\n",
        "    salida =+ f\"Cedula: {#Escribe aqui la clase y el metodo que trae la cedula del cliente}\\n\"\n",
        "    salida += \"------------------------------\\n\"\n",
        "    salida += \"Codigo \\t Nombre \\t Precio\\n\"\n",
        "\n",
        "    #Imprimimos la lista de productos con sus datos\n",
        "    for producto in productos:\n",
        "      salida += f\"{producto.getCodigo()}\\t{producto.getNombre()}\\t{producto.getPrecio()}\\n\"\n",
        "    salida+= \"-------------------------------\\n\"\n",
        "    salida+= f\"Subtotal = {subtotal}\\n\"\n",
        "    salida+= f\"IVA= {iva}\\n\"\n",
        "    salida+= f\"Total= {total}\\n\"\n",
        "    salida+= \"-------------------------------\\n\"\n",
        "    salida+= \"-------------------------------\\n\"\n",
        "    return salida\n",
        "\n",
        "                         \n",
        "\n",
        "\n",
        "\n",
        "\n",
        "    \n"
      ],
      "execution_count": null,
      "outputs": []
    },
    {
      "cell_type": "markdown",
      "metadata": {
        "id": "HrDHVAt05EsH"
      },
      "source": [
        "Declaremos algunos objetos"
      ]
    },
    {
      "cell_type": "code",
      "metadata": {
        "id": "AmyqIdRz5L5a"
      },
      "source": [
        "#Objetos tipo Cliente\n",
        "'''Instancia dos objetos del tipo Cliente y \n",
        "dale valores en funcion a los atributos \n",
        "que recibe su clase.\n",
        "'''\n",
        "cliente_1 = Cliente(\"\",\"\")\n",
        "cliente_2 = Cliente(\"\", \"\")\n",
        "\n",
        "\n",
        "#Objetos tipo Producto\n",
        "'''Instancia cinco objetos del tipo Producto y \n",
        "dale valores en funcion a los atributos \n",
        "que recibe su clase.\n",
        "'''\n",
        "producto_1 = Producto(\"\", \"\",)\n",
        "producto_2 = Producto(\"\", \"\",)\n",
        "producto_3 = Producto(\"\", \"\",)\n",
        "producto_4 = Producto(\"\", \"\",)\n",
        "producto_5 = Producto(\"\", \"\",)\n",
        "\n",
        "\n",
        "#Instanciemos una lista de productos\n",
        "\n",
        "lista_productos1 = [producto_1, producto_2,producto_3,producto_4,producto_5]\n",
        "lista_productos2 = [producto_3,producto_5,producto_1]\n",
        "\n",
        "#Objetos tipo Venta\n",
        "'''Instancia dos objetos del tipo Venta y \n",
        "asignale los objetos que recibe como parámetros \n",
        "y que acabas de definir anteriormente.\n",
        "'''\n",
        "venta1 = Venta( , )\n",
        "venta2 = Venta( , )\n"
      ],
      "execution_count": null,
      "outputs": []
    },
    {
      "cell_type": "markdown",
      "metadata": {
        "id": "qWzMYiasDwYA"
      },
      "source": [
        "Imprimamos "
      ]
    },
    {
      "cell_type": "code",
      "metadata": {
        "id": "QLlZxN96D_tF"
      },
      "source": [
        "print(venta1.vender())\n",
        "print(venta2.vender())"
      ],
      "execution_count": null,
      "outputs": []
    }
  ]
}