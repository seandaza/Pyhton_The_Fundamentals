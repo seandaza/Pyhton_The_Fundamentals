{
  "nbformat": 4,
  "nbformat_minor": 0,
  "metadata": {
    "colab": {
      "name": "Server.ipynb",
      "provenance": [],
      "collapsed_sections": [],
      "include_colab_link": true
    },
    "kernelspec": {
      "name": "python3",
      "display_name": "Python 3"
    },
    "language_info": {
      "name": "python"
    },
    "accelerator": "GPU"
  },
  "cells": [
    {
      "cell_type": "markdown",
      "metadata": {
        "id": "view-in-github",
        "colab_type": "text"
      },
      "source": [
        "<a href=\"https://colab.research.google.com/github/seandaza/Python-The-Fundamentals/blob/master/Server.ipynb\" target=\"_parent\"><img src=\"https://colab.research.google.com/assets/colab-badge.svg\" alt=\"Open In Colab\"/></a>"
      ]
    },
    {
      "cell_type": "markdown",
      "metadata": {
        "id": "8pbTUmlfR9PD"
      },
      "source": [
        "# Servicios Rest para Intercambio de Datos"
      ]
    },
    {
      "cell_type": "markdown",
      "metadata": {
        "id": "9Gq4wQUI3mYr"
      },
      "source": [
        "# Qué son los servicios Rest\n",
        "\n",
        "> REST, abrevia REPRESENTATIONAL STATE TRANSFER. Es una interfaz para conectar varios sitemas basados en el protocolo `HTTP`, Sirve para obtener y generar datos y operaciones, retornando datos en formato `JSON` Y `XML` a través de métodos como `GET, POST, PUT y DELETE`. En el caso de un servicio, en el cual nosotros vamos a almacenar nuestra lógica de negocio, y vamos a servir los datos con una serie de recursos `URL`.\n",
        "\n"
      ]
    },
    {
      "cell_type": "markdown",
      "metadata": {
        "id": "0OdTBN2ngYAp"
      },
      "source": [
        "# Flask\n",
        "\n",
        "\n",
        "\n",
        "\n",
        "\n",
        "\n",
        "\n",
        "\n"
      ]
    },
    {
      "cell_type": "markdown",
      "metadata": {
        "id": "Ns-vuAJ3pdkG"
      },
      "source": [
        "## flask\n",
        "\n",
        "> `Flask` es un framework para desarrollo web escrito en Python. Se puede utilizar para diversos tipos de aplicación, entre ellas, desarrollo de APIs. De hecho, es uno de los mejores frameworks de desarrollo para implementar este tipo de soluciones por lo sencillo que resulta y las facilidades que ofrece.\n",
        "\n",
        "> Existen muchas maneras de implementar un API REST con Flask. Desde usar el framework con lo que ofrece de base, hasta instalar varias extensiones con diferentes configuraciones.\n",
        "\n",
        "> Entre las características de Flask destacan que tiene un ecosistema desacoplado de componentes, el núcleo es muy pequeño y permite al programador tomar decisiones en cuanto a la arquitectura. Adicionalmente, brinda el potencial de instalar las extensiones o complementos que en realidad vas a utilizar, de acuerdo al tipo de proyecto que desarrolles.\n",
        "\n",
        "> En este Notebook veremos cómo consumir una API usando python flask en Google Colab a traves de `ngrok` para hacer la IP pública desde nuestro local. \n",
        "\n",
        "\n"
      ]
    },
    {
      "cell_type": "markdown",
      "metadata": {
        "id": "26WkBQXWiDP3"
      },
      "source": [
        "# Ngrok\n",
        "\n",
        "\n",
        "> Ngrok nos permite exponer a internet una URL generada dinámicamente, la cual apunta a un servicio web que se está ejecutando en nuestra máquina local. Por ejemplo: si tenemos un servicio web arrancado en http://localhost:8080, ngrok genera dinámicamente una URL del tipo http://xxxxxx.ngrok.io visible en internet, y que apunta directamente a nuestro localhost.\n",
        "\n",
        "\n",
        "\n",
        "\n",
        "\n"
      ]
    },
    {
      "cell_type": "markdown",
      "metadata": {
        "id": "bQPdr95tjC6U"
      },
      "source": [
        "#Webservice con flask\n",
        "\n",
        "> Nuestro objetivo en esta sección es  crear `werbservices` y hacer que corran en  `google colab` con la ayuda de `flask`. Para ello, veamos como funciona google colab(GC): \n",
        "\n",
        "> Cuando se ejecuta cualquier código en GC, este código se está ejecutando en una máquina virtual en mi entorno local `127.0.0.1`. Esta direccion ip no es accesible desde fuera. Para ello, `ngrok` nos ayuda a exponer esta ip y hacerla visible desde fuera en una url pública.\n",
        "\n",
        "> veamos como implementar esto de manera práctica\n",
        "\n"
      ]
    },
    {
      "cell_type": "code",
      "metadata": {
        "id": "BdTeZTS7cYXh",
        "colab": {
          "base_uri": "https://localhost:8080/"
        },
        "outputId": "67208f35-4778-4be5-b10b-342d883a41b1"
      },
      "source": [
        "# Instalemos dependencias\n",
        "!pip install flask-ngrok"
      ],
      "execution_count": 1,
      "outputs": [
        {
          "output_type": "stream",
          "name": "stdout",
          "text": [
            "Collecting flask-ngrok\n",
            "  Downloading flask_ngrok-0.0.25-py3-none-any.whl (3.1 kB)\n",
            "Requirement already satisfied: requests in /usr/local/lib/python3.7/dist-packages (from flask-ngrok) (2.23.0)\n",
            "Requirement already satisfied: Flask>=0.8 in /usr/local/lib/python3.7/dist-packages (from flask-ngrok) (1.1.4)\n",
            "Requirement already satisfied: Jinja2<3.0,>=2.10.1 in /usr/local/lib/python3.7/dist-packages (from Flask>=0.8->flask-ngrok) (2.11.3)\n",
            "Requirement already satisfied: click<8.0,>=5.1 in /usr/local/lib/python3.7/dist-packages (from Flask>=0.8->flask-ngrok) (7.1.2)\n",
            "Requirement already satisfied: itsdangerous<2.0,>=0.24 in /usr/local/lib/python3.7/dist-packages (from Flask>=0.8->flask-ngrok) (1.1.0)\n",
            "Requirement already satisfied: Werkzeug<2.0,>=0.15 in /usr/local/lib/python3.7/dist-packages (from Flask>=0.8->flask-ngrok) (1.0.1)\n",
            "Requirement already satisfied: MarkupSafe>=0.23 in /usr/local/lib/python3.7/dist-packages (from Jinja2<3.0,>=2.10.1->Flask>=0.8->flask-ngrok) (2.0.1)\n",
            "Requirement already satisfied: urllib3!=1.25.0,!=1.25.1,<1.26,>=1.21.1 in /usr/local/lib/python3.7/dist-packages (from requests->flask-ngrok) (1.24.3)\n",
            "Requirement already satisfied: idna<3,>=2.5 in /usr/local/lib/python3.7/dist-packages (from requests->flask-ngrok) (2.10)\n",
            "Requirement already satisfied: certifi>=2017.4.17 in /usr/local/lib/python3.7/dist-packages (from requests->flask-ngrok) (2021.5.30)\n",
            "Requirement already satisfied: chardet<4,>=3.0.2 in /usr/local/lib/python3.7/dist-packages (from requests->flask-ngrok) (3.0.4)\n",
            "Installing collected packages: flask-ngrok\n",
            "Successfully installed flask-ngrok-0.0.25\n"
          ]
        }
      ]
    },
    {
      "cell_type": "code",
      "metadata": {
        "id": "c-SyLbebNVGU"
      },
      "source": [
        "#Importemos librerias\n",
        "from flask_ngrok import run_with_ngrok\n",
        "from flask import Flask, request\n",
        "from flask import Flask, jsonify"
      ],
      "execution_count": 2,
      "outputs": []
    },
    {
      "cell_type": "markdown",
      "metadata": {
        "id": "uooq3x_pwdfs"
      },
      "source": [
        "## Ejemplo Web Site con Flask"
      ]
    },
    {
      "cell_type": "markdown",
      "metadata": {
        "id": "CAKGnKm-sIwV"
      },
      "source": [
        "Suponga que tiene una lista de productos informáticos almacenados en el archivo `products` de formato `.json`. Necesitamos crear un website que me permita consultar los diversos productos y sus características, entonces para ello, creamos diferentes rutas que me permitan navegar hasta ellos y obtenerlos a través de un método llamado `GET`. Veamos: "
      ]
    },
    {
      "cell_type": "markdown",
      "metadata": {
        "id": "fe2J3dMz6BEy"
      },
      "source": [
        "El siguiente diccionario contiene un conjunto de datos inherentes a productos informáticos; los cuales son descritos por su `nombre`, `precio` y `cantidad`. Es un diccionario pequeño pero podemos ver claramente un ejemplo de `rutas` en el mismo."
      ]
    },
    {
      "cell_type": "code",
      "metadata": {
        "id": "SlFeFsvDqzS9"
      },
      "source": [
        "products = [\n",
        "    { \"name\": \"laptop\", \"price\": 800, \"quantity\": 20 },\n",
        "    { \"name\": \"mouse\", \"price\": 12, \"quantity\": 120 },\n",
        "    { \"name\": \"monitor\", \"price\": 1800, \"quantity\": 34 }\n",
        "]"
      ],
      "execution_count": null,
      "outputs": []
    },
    {
      "cell_type": "markdown",
      "metadata": {
        "id": "a3p6s2oi0Hd2"
      },
      "source": [
        "###Descripción de las Rutas\n",
        "\n",
        "> En la primera ruta, cuando se navega a la ruta `'/ping'`, el navegador nos muestra en formato json un mensaje. \n",
        "\n",
        "> En la segunda ruta, cuando se navega a la ruta `'/products'`, el navegador nos muestra el conjunto total de porductos que se hayan en el diccionario dado.\n",
        "\n",
        "> Si estando el la ruta de `/products` se navega a la subruta `/products/laptop` por ejemplo, entonces el navegador nos muestra detalle de ese producto en específico. \n",
        "\n",
        "> Prueba navegando sobre los demas productos o sobre un producto inexistente para que veas lo que te muestra el navegador.\n",
        "\n",
        "\n"
      ]
    },
    {
      "cell_type": "markdown",
      "metadata": {
        "id": "zP0wp1MZwyxK"
      },
      "source": [
        "> Para ver el detalle de las rutas, ejecuta el siguiente código, ingresa a la url que entrega `ngrok` y navega por las diferentes rutas para que obtengas los datos. La `ruta raiz` es la que muestra por defecto y podemos personalizarla a tal manera de mostrar lo que consideremos conveniente"
      ]
    },
    {
      "cell_type": "code",
      "metadata": {
        "id": "yP7fqvV9401h"
      },
      "source": [
        "app = Flask(__name__)\n",
        "\n",
        "#Ruta raiz\n",
        "@app.route(\"/\")\n",
        "def index ():\n",
        "  return \"<h1>Office Products</h1>\\n<p>Here you found office products!</p>\\n<u>navigate to 'producs' rout for more details</u>\"\n",
        "\n",
        "\n",
        "#Ruta /ping que muestra un mensaje al visitarla\n",
        "@app.route('/ping')\n",
        "def ping ():\n",
        "      return jsonify({\"message\": \"Pong\"})\n",
        "\n",
        "\n",
        "#Ruta '/products'\n",
        "@app.route('/products', methods=['GET'])\n",
        "def getProducts(): \n",
        "  return jsonify(products)\n",
        "\n",
        "#Ruta '/products/XXXXXX'\n",
        "@app.route('/products/<string:product_name>', methods=['GET'])\n",
        "def getProduct(product_name):\n",
        "      productsFound = [product for product in products if product['name'] == product_name]\n",
        "      if len(productsFound) > 0:     \n",
        "        return jsonify({\"product\": productsFound[0]})\n",
        "      return jsonify({\"message\": \"Product not found\"})\n",
        "\n",
        "\n",
        "\n",
        "\n",
        "#Si quiere correrlo desde su pc (no en colab) elimine la linea siguiente\n",
        "\n",
        "# Si quiere correrlo en colab y que ngronk disponibilize el sitio en la web entonces\n",
        "# Necesitamos iniciar ngrok cuando la app este corriendo.\n",
        "run_with_ngrok(app)\n",
        "\n",
        "app.run()"
      ],
      "execution_count": null,
      "outputs": []
    },
    {
      "cell_type": "markdown",
      "metadata": {
        "id": "9sWe0Zarktbr"
      },
      "source": [
        "\n",
        "\n",
        "---\n",
        "\n"
      ]
    },
    {
      "cell_type": "markdown",
      "metadata": {
        "id": "FOp4yYvOZWU5"
      },
      "source": [
        "##Webservice para Consultar y Modificar una Base de Datos\n",
        "\n",
        "> Nuestro objetivo será ahora exponer las consultas que podamos hacer desde base de datos local, a una url pública a través de `ngrok`.\n",
        "\n",
        "> Para ello, hay que tener en cuenta en primer lugar, que nuestra base de datos en este caso, es de tipo relacional; es decir, está conformada por una serie de tablas con información desplegada en las mismas. Es por ello, que en el proceso, hacemos las consultas a la base de datos a través de `sqlite3` y luego transformamos los DataFrames en diccionarios para poder de esta manera, construír las rutas a través de sus llaves.\n",
        "\n",
        "\n",
        "\n",
        "\n",
        "\n"
      ]
    },
    {
      "cell_type": "markdown",
      "metadata": {
        "id": "jU2h0R9Yzs2U"
      },
      "source": [
        "> Para el siguiente ejemplo, descargue la base de datos `hr.db` en la siguiente ejecución de código. Esta base de datos como ya dijimos, consta de una serie de datos de recursos humanos de detrminada empresa."
      ]
    },
    {
      "cell_type": "code",
      "metadata": {
        "id": "HJdBB5O7doko",
        "colab": {
          "base_uri": "https://localhost:8080/"
        },
        "outputId": "03614535-4784-4ee5-f7e5-3a70ec5052d2"
      },
      "source": [
        "!wget -O hr.db https://github.com/andresrosso/resources/blob/main/coding/uan_gc_2021/hr.db?raw=true/"
      ],
      "execution_count": 3,
      "outputs": [
        {
          "output_type": "stream",
          "name": "stdout",
          "text": [
            "--2021-10-15 17:41:26--  https://github.com/andresrosso/resources/blob/main/coding/uan_gc_2021/hr.db?raw=true/\n",
            "Resolving github.com (github.com)... 140.82.113.3\n",
            "Connecting to github.com (github.com)|140.82.113.3|:443... connected.\n",
            "HTTP request sent, awaiting response... 302 Found\n",
            "Location: https://github.com/andresrosso/resources/raw/main/coding/uan_gc_2021/hr.db [following]\n",
            "--2021-10-15 17:41:26--  https://github.com/andresrosso/resources/raw/main/coding/uan_gc_2021/hr.db\n",
            "Reusing existing connection to github.com:443.\n",
            "HTTP request sent, awaiting response... 302 Found\n",
            "Location: https://raw.githubusercontent.com/andresrosso/resources/main/coding/uan_gc_2021/hr.db [following]\n",
            "--2021-10-15 17:41:26--  https://raw.githubusercontent.com/andresrosso/resources/main/coding/uan_gc_2021/hr.db\n",
            "Resolving raw.githubusercontent.com (raw.githubusercontent.com)... 185.199.111.133, 185.199.109.133, 185.199.110.133, ...\n",
            "Connecting to raw.githubusercontent.com (raw.githubusercontent.com)|185.199.111.133|:443... connected.\n",
            "HTTP request sent, awaiting response... 200 OK\n",
            "Length: 49152 (48K) [application/octet-stream]\n",
            "Saving to: ‘hr.db’\n",
            "\n",
            "hr.db               100%[===================>]  48.00K  --.-KB/s    in 0.01s   \n",
            "\n",
            "2021-10-15 17:41:26 (4.65 MB/s) - ‘hr.db’ saved [49152/49152]\n",
            "\n"
          ]
        }
      ]
    },
    {
      "cell_type": "markdown",
      "metadata": {
        "id": "Hlx1-FKO0V76"
      },
      "source": [
        "##Requisitos\n",
        "\n",
        "> Para poder desarrollar el API de manera correcta deberás instalar los siguientes requisitos.\n",
        "\n",
        "* Python\n",
        "\n",
        "* Flask\n",
        "\n",
        "* SQlite3\n",
        "\n",
        "* Jsonify"
      ]
    },
    {
      "cell_type": "markdown",
      "metadata": {
        "id": "tuO_S0P062p5"
      },
      "source": [
        "Tenemos todo listo para crear nuestra API RESTful básica en Python con Flask, empecemos con el código, no sin antes recordar los principales métodos:\n"
      ]
    },
    {
      "cell_type": "markdown",
      "metadata": {
        "id": "mIlZy9R2zg3c"
      },
      "source": [
        "##Métodos HTTP\n",
        "\n",
        "> Como REST trabaja con el protocolo HTTP, ofrece 4 opciones para manipulación de datos:\n",
        "\n",
        "* GET : Para hacer consultas y obtener un recurso\n",
        "\n",
        "* POST : Para crear un recurso\n",
        "\n",
        "* PUT: Para modificar un recurso\n",
        "\n",
        "* DELETE: Para eliminar un recurso"
      ]
    },
    {
      "cell_type": "markdown",
      "metadata": {
        "id": "xyRxlQcXhYT0"
      },
      "source": [
        "Importemos las Dependencias necesarias"
      ]
    },
    {
      "cell_type": "code",
      "metadata": {
        "id": "oelegm39TGHv"
      },
      "source": [
        "# Importemos Librerías\n",
        "import sqlite3 as sq\n",
        "import pandas as pd\n",
        "from sqlite3 import Error\n",
        "from flask import Flask, request, jsonify, render_template\n",
        "import json"
      ],
      "execution_count": 4,
      "outputs": []
    },
    {
      "cell_type": "markdown",
      "metadata": {
        "id": "t4mKp3vXhdqZ"
      },
      "source": [
        "Establezcamos Conexion con la base de datos"
      ]
    },
    {
      "cell_type": "code",
      "metadata": {
        "id": "dh-phiApeF__"
      },
      "source": [
        "# Conexion a la base de datos llamada hr.db\n",
        "conn = sq.connect('hr.db')\n",
        "cur = conn.cursor()"
      ],
      "execution_count": 5,
      "outputs": []
    },
    {
      "cell_type": "markdown",
      "metadata": {
        "id": "PydmbMN9d9UO"
      },
      "source": [
        "Para un mejor reconocimento de las tablas que comprenden esta base de datos, listemos las tablas ejecutando el siguiente código:"
      ]
    },
    {
      "cell_type": "code",
      "metadata": {
        "colab": {
          "base_uri": "https://localhost:8080/"
        },
        "id": "ZG-b7yXhy8bt",
        "outputId": "86be273a-b062-44cc-b60b-b1d588f5d5e4"
      },
      "source": [
        "# Identifiquemos las tablas que contiene esta Base de Datos\n",
        "tables_list = [a for a in cur.execute(\"SELECT name FROM sqlite_master WHERE type = 'table'\")]\n",
        "\n",
        "# Lista de Tablas\n",
        "print(tables_list)"
      ],
      "execution_count": 6,
      "outputs": [
        {
          "output_type": "stream",
          "name": "stdout",
          "text": [
            "[('regions',), ('sqlite_sequence',), ('countries',), ('locations',), ('departments',), ('jobs',), ('employees',), ('dependents',), ('job_grades',)]\n"
          ]
        }
      ]
    },
    {
      "cell_type": "markdown",
      "metadata": {
        "id": "x1BYA20AiCxM"
      },
      "source": [
        "Elijamos una de las Tablas mostradas y establezcamos un website de consulta para ella, haciendo primero una conexion a la base de datos, seguido de una solicitud a la misma y que nos muestre en un formato de Dataframe los datos pedidos:"
      ]
    },
    {
      "cell_type": "code",
      "metadata": {
        "id": "CVmfG4fsHQyy",
        "colab": {
          "base_uri": "https://localhost:8080/",
          "height": 204
        },
        "outputId": "711aecea-1e7f-4e02-d04b-31bf86a17956"
      },
      "source": [
        "# Conexion a la base de datos llamada hr.db\n",
        "conn = sq.connect('hr.db')\n",
        "cur = conn.cursor()\n",
        "\n",
        "# Definiendo la Consulta a la BD\n",
        "q1 = ('select * from employees ')\n",
        "\n",
        "# Convert the SQL query to Pandas data Frame\n",
        "r1 = pd.read_sql(q1, conn)\n",
        "\n",
        "r1.head()"
      ],
      "execution_count": 7,
      "outputs": [
        {
          "output_type": "execute_result",
          "data": {
            "text/html": [
              "<div>\n",
              "<style scoped>\n",
              "    .dataframe tbody tr th:only-of-type {\n",
              "        vertical-align: middle;\n",
              "    }\n",
              "\n",
              "    .dataframe tbody tr th {\n",
              "        vertical-align: top;\n",
              "    }\n",
              "\n",
              "    .dataframe thead th {\n",
              "        text-align: right;\n",
              "    }\n",
              "</style>\n",
              "<table border=\"1\" class=\"dataframe\">\n",
              "  <thead>\n",
              "    <tr style=\"text-align: right;\">\n",
              "      <th></th>\n",
              "      <th>employee_id</th>\n",
              "      <th>first_name</th>\n",
              "      <th>last_name</th>\n",
              "      <th>email</th>\n",
              "      <th>phone_number</th>\n",
              "      <th>hire_date</th>\n",
              "      <th>job_id</th>\n",
              "      <th>salary</th>\n",
              "      <th>manager_id</th>\n",
              "      <th>department_id</th>\n",
              "    </tr>\n",
              "  </thead>\n",
              "  <tbody>\n",
              "    <tr>\n",
              "      <th>0</th>\n",
              "      <td>100</td>\n",
              "      <td>Steven</td>\n",
              "      <td>King</td>\n",
              "      <td>steven.king@sqltutorial.org</td>\n",
              "      <td>515.123.4567</td>\n",
              "      <td>1987-06-17</td>\n",
              "      <td>4</td>\n",
              "      <td>24000.0</td>\n",
              "      <td>NaN</td>\n",
              "      <td>9</td>\n",
              "    </tr>\n",
              "    <tr>\n",
              "      <th>1</th>\n",
              "      <td>101</td>\n",
              "      <td>Neena</td>\n",
              "      <td>Kochhar</td>\n",
              "      <td>neena.kochhar@sqltutorial.org</td>\n",
              "      <td>515.123.4568</td>\n",
              "      <td>1989-09-21</td>\n",
              "      <td>5</td>\n",
              "      <td>17000.0</td>\n",
              "      <td>100.0</td>\n",
              "      <td>9</td>\n",
              "    </tr>\n",
              "    <tr>\n",
              "      <th>2</th>\n",
              "      <td>102</td>\n",
              "      <td>Lex</td>\n",
              "      <td>De Haan</td>\n",
              "      <td>lex.de haan@sqltutorial.org</td>\n",
              "      <td>515.123.4569</td>\n",
              "      <td>1993-01-13</td>\n",
              "      <td>5</td>\n",
              "      <td>17000.0</td>\n",
              "      <td>100.0</td>\n",
              "      <td>9</td>\n",
              "    </tr>\n",
              "    <tr>\n",
              "      <th>3</th>\n",
              "      <td>103</td>\n",
              "      <td>Alexander</td>\n",
              "      <td>Hunold</td>\n",
              "      <td>alexander.hunold@sqltutorial.org</td>\n",
              "      <td>590.423.4567</td>\n",
              "      <td>1990-01-03</td>\n",
              "      <td>9</td>\n",
              "      <td>9000.0</td>\n",
              "      <td>102.0</td>\n",
              "      <td>6</td>\n",
              "    </tr>\n",
              "    <tr>\n",
              "      <th>4</th>\n",
              "      <td>104</td>\n",
              "      <td>Bruce</td>\n",
              "      <td>Ernst</td>\n",
              "      <td>bruce.ernst@sqltutorial.org</td>\n",
              "      <td>590.423.4568</td>\n",
              "      <td>1991-05-21</td>\n",
              "      <td>9</td>\n",
              "      <td>6000.0</td>\n",
              "      <td>103.0</td>\n",
              "      <td>6</td>\n",
              "    </tr>\n",
              "  </tbody>\n",
              "</table>\n",
              "</div>"
            ],
            "text/plain": [
              "   employee_id first_name last_name  ...   salary manager_id department_id\n",
              "0          100     Steven      King  ...  24000.0        NaN             9\n",
              "1          101      Neena   Kochhar  ...  17000.0      100.0             9\n",
              "2          102        Lex   De Haan  ...  17000.0      100.0             9\n",
              "3          103  Alexander    Hunold  ...   9000.0      102.0             6\n",
              "4          104      Bruce     Ernst  ...   6000.0      103.0             6\n",
              "\n",
              "[5 rows x 10 columns]"
            ]
          },
          "metadata": {},
          "execution_count": 7
        }
      ]
    },
    {
      "cell_type": "markdown",
      "metadata": {
        "id": "ZgbkaSzgDh-b"
      },
      "source": [
        "Convirtamos esta tabla  un diccionario que es lo mas parecido a Json, para la comunicacion de los datos."
      ]
    },
    {
      "cell_type": "code",
      "metadata": {
        "id": "-mUWF_3BCqyu"
      },
      "source": [
        "# Convirtiendo el DataFrame 'employees' en Diccionario\n",
        "result1 = r1.to_dict()\n",
        "\n",
        "result1"
      ],
      "execution_count": null,
      "outputs": []
    },
    {
      "cell_type": "markdown",
      "metadata": {
        "id": "qAzmE2Ncs0YE"
      },
      "source": [
        "Por otro lado, listemos las columnas del Dataframe 'employees' para identificarlas"
      ]
    },
    {
      "cell_type": "code",
      "metadata": {
        "colab": {
          "base_uri": "https://localhost:8080/"
        },
        "id": "ni_i-EIWsy6Y",
        "outputId": "a20fb9ca-bd4f-496b-bdcc-b728050c112f"
      },
      "source": [
        "#Listando las columnas del DataFrame 'employees'\n",
        "container1 = list(result1)\n",
        "container1"
      ],
      "execution_count": 9,
      "outputs": [
        {
          "output_type": "execute_result",
          "data": {
            "text/plain": [
              "['employee_id',\n",
              " 'first_name',\n",
              " 'last_name',\n",
              " 'email',\n",
              " 'phone_number',\n",
              " 'hire_date',\n",
              " 'job_id',\n",
              " 'salary',\n",
              " 'manager_id',\n",
              " 'department_id']"
            ]
          },
          "metadata": {},
          "execution_count": 9
        }
      ]
    },
    {
      "cell_type": "markdown",
      "metadata": {
        "id": "p1zdbeSiDeDC"
      },
      "source": [
        "Creemos la API"
      ]
    },
    {
      "cell_type": "markdown",
      "metadata": {
        "id": "nHdiEF_Ityv0"
      },
      "source": [
        "Creamos 3 rutas: la Raíz, que va a mostrar de hecho un website con la estructura ya \"quemada\" de la estructura de la taba \"employees\" (sólo en esta oportunidad). La segunda ruta, muestra un archivo Json del contenido de la Tabla \"employees\", y la tercera ruta, permite acceder a cualquier columna de la misma tabla anterior."
      ]
    },
    {
      "cell_type": "code",
      "metadata": {
        "id": "iovg79JC2Re_"
      },
      "source": [
        "#Corremos la aplicacion flask\n",
        "app = Flask(__name__)\n",
        "\n",
        "\n",
        "\"\"\"Muestra un website para la ruta raiz\n",
        "\n",
        "Parameters\n",
        "----------\n",
        "None\n",
        "\n",
        "Returns\n",
        "-------\n",
        "html \n",
        "    que contiene información de la tabla 'employees'\n",
        "\"\"\"\n",
        "@app.route(\"/\")\n",
        "def index ():\n",
        "  return '''\n",
        "      <h1>Employees Table</h1>\n",
        "      <p>Principal Route: 'employees'</p>\n",
        "      <u>Subroutes:</u>\n",
        "      <ul>\n",
        "        <li>employee_id</li>\n",
        "        <li>first_name</li>\n",
        "        <li>last_name</li>\n",
        "        <li>email</li>\n",
        "        <li>phone_number</li>\n",
        "        <li>hire_date</li>\n",
        "        <li>job_id</li>\n",
        "        <li>salary</li>\n",
        "        <li>manager_id</li>\n",
        "        <li>department_id</li>\n",
        "      </ul>\n",
        "      '''\n",
        "\n",
        "\"\"\"retorna la Ruta de Empleados\n",
        "\n",
        "Parameters\n",
        "----------\n",
        "None\n",
        "\n",
        "Returns\n",
        "-------\n",
        "Json \n",
        "\"\"\"\n",
        "@app.route('/employees', methods=['GET'])\n",
        "def getEmployees(): \n",
        "  return jsonify(result1)\n",
        "\n",
        "\n",
        "\"\"\"Muestra la ruta principal y las subrutas\n",
        "\n",
        "Parameters\n",
        "----------\n",
        "string: atributes_employee (nombre de las columnas)\n",
        "\n",
        "Returns\n",
        "-------\n",
        "Json\n",
        "    diccionario con todas las posibles columnas de la Tabla `employees`\n",
        "\"\"\"\n",
        "@app.route('/employees/<string:atributes_employee>', methods=['GET'])\n",
        "def getProduct(atributes_employee):\n",
        "  if atributes_employee in container1:\n",
        "    return jsonify(result1[f'{atributes_employee}'])\n",
        "  return jsonify({\"message\": f\"{atributes_employee} not Found!\"})\n",
        "\n",
        " \n",
        " \n",
        "\n",
        "# Iniciamos ngrok cuando la app este corriendo\n",
        "run_with_ngrok(app)\n",
        "app.run()"
      ],
      "execution_count": null,
      "outputs": []
    },
    {
      "cell_type": "markdown",
      "metadata": {
        "id": "XVO1uPqQ2VmU"
      },
      "source": [
        "Mas adelante veremos como en la ruta raíz podremos construír una tabla html que me permita ver estéticamente una mejor estructura de los datos y que aparezacan embebidos en la misma."
      ]
    },
    {
      "cell_type": "markdown",
      "metadata": {
        "id": "WJrqJYdukkeg"
      },
      "source": [
        "\n",
        "\n",
        "---\n",
        "\n"
      ]
    },
    {
      "cell_type": "markdown",
      "metadata": {
        "id": "6QS0uBzdgvgN"
      },
      "source": [
        "Creemos ahora unas rutas de consulta para la Tabla 'departments'. El procedimiento es el mismo, solo que cambiaremos el nombre de algunas variables haciendo uso de indices numericos para preservar el sentido de las mismas."
      ]
    },
    {
      "cell_type": "code",
      "metadata": {
        "id": "FEjALGF9fDuW"
      },
      "source": [
        "#Webservice para Tabla 'departments':\n",
        "\n",
        "# Conexion a la base de datos llamada hr.db\n",
        "conn = sq.connect('hr.db')\n",
        "cur = conn.cursor()\n",
        "\n",
        "\n",
        "# Definiendo la Consulta a la BD\n",
        "q2 = ('select * from departments ')\n",
        "\n",
        "# Convert the SQL query to Pandas data Frame\n",
        "r2 = pd.read_sql(q2, conn)\n",
        "\n",
        "# Convirtiendo el DataFrame 'employees' en Diccionario\n",
        "result2 = r2.to_dict()\n",
        "result2"
      ],
      "execution_count": null,
      "outputs": []
    },
    {
      "cell_type": "markdown",
      "metadata": {
        "id": "0iZwNDWQvqXQ"
      },
      "source": [
        "Detallemos las columnas de la Tabla \"departments\""
      ]
    },
    {
      "cell_type": "code",
      "metadata": {
        "colab": {
          "base_uri": "https://localhost:8080/"
        },
        "id": "yD6LY5BAvn-b",
        "outputId": "5c082678-937b-41f8-fdac-ccae722d7f59"
      },
      "source": [
        "#Listando las columnas del DataFrame 'departments'\n",
        "container2 = list(result2)\n",
        "container2"
      ],
      "execution_count": 11,
      "outputs": [
        {
          "output_type": "execute_result",
          "data": {
            "text/plain": [
              "['department_id', 'department_name', 'location_id']"
            ]
          },
          "metadata": {},
          "execution_count": 11
        }
      ]
    },
    {
      "cell_type": "markdown",
      "metadata": {
        "id": "XOEthul0inOv"
      },
      "source": [
        "Comprueba la API con el método `GET` y navega por sus Subrutas:"
      ]
    },
    {
      "cell_type": "code",
      "metadata": {
        "id": "Bm85C4jSfc3s"
      },
      "source": [
        "#Corremos la aplicacion flask\n",
        "app = Flask(__name__)\n",
        "\n",
        "\n",
        "\n",
        "\n",
        "#Ruta Raíz\n",
        "\"\"\"Muestra un diccionario que contiene la tabla \"departments\"\n",
        "\n",
        "Parameters\n",
        "----------\n",
        "None\n",
        "\n",
        "Returns\n",
        "-------\n",
        "html \n",
        "    que contiene información de la tabla 'departments'\n",
        "\"\"\"\n",
        "@app.route(\"/\")\n",
        "def index ():\n",
        "  return jsonify(result2)\n",
        "\n",
        "\n",
        "#Subrutas de la Tabla Empleados\n",
        "\n",
        "\"\"\"Muestra un diccionario con datos de cada columna la tabla \"departments\"\n",
        "\n",
        "Parameters\n",
        "----------\n",
        "None\n",
        "\n",
        "Returns\n",
        "-------\n",
        "Json\n",
        "    que contiene información de cualquier columna de la tabla 'departments'\n",
        "\"\"\"\n",
        "@app.route('/departments/<string:atributes_employee>', methods=['GET'])\n",
        "def getProduct(atributes_employee):\n",
        "  if atributes_employee in container2:\n",
        "    return jsonify(result2[f'{atributes_employee}'])\n",
        "  return jsonify({\"message\": f\"{atributes_employee} not Found!\"})\n",
        "\n",
        " \n",
        "\n",
        "# Iniciamos ngrok cuando la app este corriendo.\n",
        "run_with_ngrok(app) \n",
        "\n",
        "app.run()"
      ],
      "execution_count": null,
      "outputs": []
    },
    {
      "cell_type": "markdown",
      "metadata": {
        "id": "fbIJs6XpNMGJ"
      },
      "source": [
        "\n",
        "\n",
        "---\n",
        "\n"
      ]
    },
    {
      "cell_type": "markdown",
      "metadata": {
        "id": "uLx_viIPMgCv"
      },
      "source": [
        "Veamos ahora otra foma de organizar las rutas:"
      ]
    },
    {
      "cell_type": "markdown",
      "metadata": {
        "id": "WS9E8CO9PtAC"
      },
      "source": [
        "Como la base de datos consta de una serie de tablas, y cada tabla consta de una serie de columnas, entonces basaremos el metodo `GET` en solo dos rutas: la principal que trae la tabla, y la secundaria que trae una columna específica de la tabla seleccionada. Para ello, guardemos en variables las posibles consultas a cada una de las tablas o inclusive, guardamos en una variable, una consulta especifica:"
      ]
    },
    {
      "cell_type": "code",
      "metadata": {
        "id": "rhR6kgAm-LNW"
      },
      "source": [
        "# Definiendo la Consulta a la BD para la ruta principal.\n",
        "\n",
        "query = ('select * from employees')\n"
      ],
      "execution_count": 7,
      "outputs": []
    },
    {
      "cell_type": "markdown",
      "metadata": {
        "id": "gqnPq4PdHkCL"
      },
      "source": [
        "Creemos ahora una API que incorpore ademas del metodo `GET`, el método `POST`:"
      ]
    },
    {
      "cell_type": "markdown",
      "metadata": {
        "id": "EKpLlNbKQdCq"
      },
      "source": [
        "Pero antes que nada, factoricemos el codigo de las rutas creando las funciónes `select_all()`, `select_some()` e `insert_employee()`:"
      ]
    },
    {
      "cell_type": "markdown",
      "metadata": {
        "id": "RR6l3lx3yhWu"
      },
      "source": [
        "Por otro lado, para la rutra raíz, en esta ocasión vamos a mostrar los datoa organizados en un tabla, para dar un formato o estructura estética a los datos. La ruta secundaria está construída en torno a una función que recibe como parámetro el nombre de la columna de la tabla \"employees\" a la cuál quiere navegar y denotamos en la funcion como `atributes`. Finalmente, manejaremos una ruta que maneja el método `POST`, la cuál nos permitirá registrar un nuevo empleado, e inclusive, podemos verificar que fue insertado en la base de datos de manra inmediata."
      ]
    },
    {
      "cell_type": "code",
      "metadata": {
        "id": "PrCBBEhxhriA"
      },
      "source": [
        "#Corremos la aplicacion flask\n",
        "app = Flask(__name__)\n",
        "\n",
        "# **********Funciones***************\n",
        "def json_schema():\n",
        "  # Conexion a la base de datos llamada hr.db\n",
        "  conn = sq.connect('hr.db')\n",
        "  cur = conn.cursor()\n",
        "  # Convert the SQL query to Pandas data Frame\n",
        "  r = pd.read_sql(query, conn)\n",
        "  # Convirtiendo el DataFrame en Diccionario\n",
        "  result = r.to_dict()\n",
        "  json = jsonify(result)\n",
        "  return json\n",
        "\n",
        "\n",
        "def select_all():\n",
        "  # Conexion a la base de datos llamada hr.db\n",
        "  conn = sq.connect('hr.db')\n",
        "  cur = conn.cursor()\n",
        "  # Convert the SQL query to Pandas data Frame\n",
        "  r = pd.read_sql(query, conn)\n",
        "  # Convirtiendo el DataFrame en Diccionario\n",
        "  result = r.to_dict()\n",
        "  json = jsonify(result)\n",
        "  \n",
        "\n",
        "  return f'''<h1>Employees</h1>\n",
        "          <div>\n",
        "          <table class=\"table table-striped table-bordered bg-white table-sm\">\n",
        "            <thead>\n",
        "              <tr>\n",
        "                <td>First Name</td>\n",
        "                <td>Last name</td>\n",
        "                <td>Email</td>\n",
        "                <td>Phone Number</td>\n",
        "                <td>Salary</td>\n",
        "              </tr>\n",
        "            </thead>\n",
        "            <tbody>\n",
        "                    <tr>\n",
        "                      <td>{result[\"first_name\"]}</td>\n",
        "                      <td>{result[\"last_name\"]}</td>\n",
        "                      <td>{result[\"email\"]}</td>\n",
        "                      <td>{result[\"phone_number\"]}</td>\n",
        "                      <td>{result[\"salary\"]}</td>\n",
        "                    </tr>\n",
        "              </tbody>\n",
        "            </table>\n",
        "            </div>\n",
        "            '''\n",
        "            \n",
        "def select_some(atributes):\n",
        "  conn = sq.connect('hr.db')\n",
        "  cur = conn.cursor()\n",
        "  # Convert the SQL query to Pandas data Frame\n",
        "  r = pd.read_sql(query, conn)\n",
        "  # Convirtiendo el DataFrame en Diccionario\n",
        "  result = r.to_dict()\n",
        "  container = list(result)\n",
        "  if atributes in container:\n",
        "    return jsonify(result[f'{atributes}']), 200\n",
        "  return jsonify({\"message\": f\"{atributes} not Found!\"}),404\n",
        "\n",
        "\n",
        "def insert_employee():\n",
        "  conn = sq.connect('hr.db')\n",
        "  cur = conn.cursor()\n",
        "  sql = ('''insert or replace into employees \n",
        "        (department_id, email, employee_id, first_name, hire_date, job_id, last_name, manager_id, phone_number, salary) \n",
        "        values ({0}, '{1}', {2}, '{3}', '{4}', {5}, '{6}', '{7}', {8}, {9})'''.format(request.json['department_id'],\n",
        "        request.json['email'],request.json['employee_id'],request.json['first_name'],request.json['hire_date'],\n",
        "        request.json['job_id'],request.json['last_name'],request.json['manager_id'],request.json['phone_number'],request.json['salary']))\n",
        "        \n",
        "  cur.execute(sql)\n",
        "  conn.commit()\n",
        "  if cur.execute(sql):\n",
        "    return jsonify({\"mensaje\": \"registrado!\"}), 201\n",
        "  return jsonify({\"mensaje\": \"Error\"}), 500\n",
        "\n",
        "\n",
        "#*******************Rutas************************\n",
        "\n",
        "#Ruta Raiz\n",
        "@app.route(\"/\")\n",
        "def indice():\n",
        "  return json_schema()\n",
        "\n",
        "\n",
        "#Ruta que muestra el esquema de la Tabla \n",
        "\n",
        "\"\"\"Muestra un website para la ruta raiz\n",
        "\n",
        "Parameters\n",
        "----------\n",
        "None\n",
        "\n",
        "Returns\n",
        "-------\n",
        "html \n",
        "    que contiene información de la tabla 'employees'\n",
        "\"\"\"\n",
        "@app.route(\"/schema\")\n",
        "def index ():\n",
        "  return select_all()\n",
        "  \n",
        "\n",
        "#Rutas Secundarias / Navegando sobre las columnas de la Tabla principal\n",
        "\n",
        "\"\"\"Muestra un diciconario con los datos de cualquier subruta elegida\n",
        "\n",
        "Parameters\n",
        "----------\n",
        "str: atributes\n",
        "nombre de la subruta\n",
        "\n",
        "Returns\n",
        "-------\n",
        "json\n",
        "    que contiene información de la ruta secundaria '/<string:atributes>'\n",
        "\"\"\"\n",
        "@app.route('/<string:atributes>', methods=['GET'])\n",
        "def setEmployee(atributes):\n",
        "  return select_some(atributes)\n",
        "\n",
        "\n",
        "\n",
        "#Ruta Bajo el Método POST\n",
        "\n",
        "\"\"\"Registra un nuevo empleado\n",
        "\n",
        "Parameters\n",
        "----------\n",
        "None\n",
        "\n",
        "Returns\n",
        "-------\n",
        "json\n",
        "    Muestra un diciconario con el mensaje de confirmacion de nuevo empleado registrado\n",
        "\"\"\"\n",
        "@app.route('/insert_employee', methods=['POST'])\n",
        "def register():\n",
        "  return insert_employee()\n",
        "\n",
        "\n",
        "\n",
        "\n",
        "  \n",
        "\n",
        "\n",
        "\n",
        "\n",
        "# Iniciamos ngrok cuando la app este corriendo.\n",
        "run_with_ngrok(app)\n",
        "\n",
        "app.run()\n"
      ],
      "execution_count": null,
      "outputs": []
    }
  ]
}