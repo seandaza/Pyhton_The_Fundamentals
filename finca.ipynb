{
  "nbformat": 4,
  "nbformat_minor": 0,
  "metadata": {
    "interpreter": {
      "hash": "a89f2911bb5b63cbd581c51f5d4ab9336821ead0df4f2240fa1659c377275015"
    },
    "kernelspec": {
      "display_name": "Python 3.7.4 64-bit",
      "name": "python3"
    },
    "language_info": {
      "codemirror_mode": {
        "name": "ipython",
        "version": 3
      },
      "file_extension": ".py",
      "mimetype": "text/x-python",
      "name": "python",
      "nbconvert_exporter": "python",
      "pygments_lexer": "ipython3",
      "version": "3.7.4"
    },
    "orig_nbformat": 4,
    "colab": {
      "name": "finca.ipynb",
      "provenance": [],
      "include_colab_link": true
    }
  },
  "cells": [
    {
      "cell_type": "markdown",
      "metadata": {
        "id": "view-in-github",
        "colab_type": "text"
      },
      "source": [
        "<a href=\"https://colab.research.google.com/github/seandaza/Python-The-Fundamentals/blob/master/finca.ipynb\" target=\"_parent\"><img src=\"https://colab.research.google.com/assets/colab-badge.svg\" alt=\"Open In Colab\"/></a>"
      ]
    },
    {
      "cell_type": "code",
      "metadata": {
        "id": "NYiDppPpbkHi"
      },
      "source": [
        "import selenium\n",
        "from selenium import webdriver\n",
        "from selenium.webdriver.chrome.options import Options"
      ],
      "execution_count": null,
      "outputs": []
    },
    {
      "cell_type": "code",
      "metadata": {
        "id": "3Whrui4GbkH6"
      },
      "source": [
        "url = 'https://www.fincaraiz.com.co/apartaestudios-apartamentos-casas-casascampestres-edificios-fincas-lotes/venta/risaralda'"
      ],
      "execution_count": null,
      "outputs": []
    },
    {
      "cell_type": "code",
      "metadata": {
        "id": "XMUwHMcMbkH-",
        "outputId": "563ee46c-ce02-487b-f9c4-891823e21347"
      },
      "source": [
        "opts = Options()\n",
        "opts.add_argument(\"user-agent=Mozilla/5.0 (X11; Linux x86_64) AppleWebKit/537.36 (KHTML, like Gecko) Ubuntu Chromium/71.0.3578.80 Chrome/95.0.4638.54 Safari/537.36\")\n",
        "driver = webdriver.Chrome('./chromedriver.exe', chrome_options=opts) \n",
        "\n",
        "\n",
        "driver.get(url)\n",
        "\n",
        "inmuebles = driver.find_elements_by_xpath('//*[@id=\"listingContainer\"]')\n",
        "\n",
        "print(inmuebles)"
      ],
      "execution_count": null,
      "outputs": [
        {
          "name": "stderr",
          "output_type": "stream",
          "text": [
            "C:\\Users\\DCASTANEDA\\AppData\\Local\\Programs\\Python\\Python37\\lib\\site-packages\\ipykernel_launcher.py:3: DeprecationWarning: use options instead of chrome_options\n",
            "  This is separate from the ipykernel package so we can avoid doing imports until\n"
          ]
        },
        {
          "name": "stdout",
          "output_type": "stream",
          "text": [
            "[<selenium.webdriver.remote.webelement.WebElement (session=\"84840dc2a7ccb365f71a1b2ce0ddbcaf\", element=\"dfc337fe-b5e7-42b3-a549-b906797a1725\")>]\n"
          ]
        }
      ]
    },
    {
      "cell_type": "code",
      "metadata": {
        "id": "L6KcVk2xbkIH",
        "outputId": "701f2ff3-0e98-4e68-a99c-106349ce85ab"
      },
      "source": [
        "type(inmuebles)"
      ],
      "execution_count": null,
      "outputs": [
        {
          "data": {
            "text/plain": [
              "list"
            ]
          },
          "execution_count": 203,
          "metadata": {},
          "output_type": "execute_result"
        }
      ]
    },
    {
      "cell_type": "code",
      "metadata": {
        "id": "i71SBaAKbkIK",
        "outputId": "af9d99c0-1ab3-4ef7-ccdb-cecf7f8317e5"
      },
      "source": [
        "len(inmuebles)"
      ],
      "execution_count": null,
      "outputs": [
        {
          "data": {
            "text/plain": [
              "1"
            ]
          },
          "execution_count": 204,
          "metadata": {},
          "output_type": "execute_result"
        }
      ]
    },
    {
      "cell_type": "code",
      "metadata": {
        "id": "DI0orz5ZbkIM",
        "outputId": "965cd78b-e801-4c18-f25b-577f1ae0fa59"
      },
      "source": [
        "inmueble = inmuebles[0]\n",
        "print(inmueble.text)"
      ],
      "execution_count": null,
      "outputs": [
        {
          "name": "stdout",
          "output_type": "stream",
          "text": [
            "Usado · Oportunidad\n",
            "$1.385.000.000 COP\n",
            "2.600m² • 6ha. • 5ba. • 10pa.\n",
            "Cerritos - Pereira\n",
            "Casa Campestre en Venta\n",
            "Anuncio particular\n",
            "Usado\n",
            "Inmobiliaria\n",
            "$1.800.000.000 COP\n",
            "3.600m² • 5ha. • 5ba. • 5pa.\n",
            "Cerritos - Pereira\n",
            "Casa Campestre en Venta\n",
            "Por BAI Asesoría Inmobiliaria & Jurídica\n",
            "Usado · Destacado\n",
            "Inmobiliaria\n",
            "$320.000.000 COP\n",
            "1.880m²\n",
            "Cerritos - Pereira\n",
            "Lote en Venta\n",
            "Por Gladys Inmuebles\n",
            "Proyecto · Destacado\n",
            "Desde $391.317.624 COP\n",
            "Áreas desde 81,1m2\n",
            "Cerritos - Pereira\n",
            "Asturias Apartamentos Campestres\n",
            "Por GONZALEZ PIZANO & CIA S.A.S\n",
            "Usado\n",
            "Inmobiliaria\n",
            "$730.000.000 COP\n",
            "228m² • 3ha. • 3ba. • 2pa.\n",
            "Santa Rosa De Cabal - Santa Rosa de Cabal\n",
            "Casa Campestre en Venta\n",
            "Por Inmobiliaria Juan Carlos Betancurt\n",
            "Usado · Destacado\n",
            "Inmobiliaria\n",
            "$600.000.000 COP\n",
            "226m² • 4ha. • 3ba.\n",
            "poblado - Pereira\n",
            "Casa en Venta\n",
            "Por Entorno Soluciones Inmobiliarias Integrales S.A.S.\n",
            "Proyecto\n",
            "$618.205.000 COP\n",
            "11,15m²\n",
            "CENTRO - Dosquebradas\n",
            "2Q CENTRO COMERCIAL\n",
            "Por CONSTRUCTORA SORIANO SAS\n",
            "Usado · Oportunidad\n",
            "$440.000.000 COP\n",
            "120m² • 3ha. • 3ba. • 1pa.\n",
            "la pradera - Dosquebradas\n",
            "Casa en Venta\n",
            "Anuncio particular\n",
            "Usado · Oportunidad\n",
            "$265.000.000 COP\n",
            "63m² • 3ha. • 2ba. • 1pa.\n",
            "pinares - Pereira\n",
            "Apartamento en Venta\n",
            "Anuncio particular\n",
            "Proyecto\n",
            "$122.500.000 COP\n",
            "47,7m² • 3ha. • 1ba.\n",
            "Japón - Dosquebradas\n",
            "ACQUA HILLS\n",
            "Por CFC&A CONSTRUCCIONES\n",
            "Usado · Negociable\n",
            "Inmobiliaria\n",
            "$850.000.000 COP\n",
            "214m² • 4ha. • 4ba. • 2pa.\n",
            "pinares - Pereira\n",
            "Casa en Venta\n",
            "Por Inmobiliaria Salazar E Hijos\n",
            "Usado · Destacado\n",
            "Inmobiliaria\n",
            "$97.000.000 COP\n",
            "54m² • 2ha. • 2ba.\n",
            "turin - Pereira\n",
            "Casa en Venta\n",
            "Por Inmobiliaria House\n",
            "Usado · Destacado\n",
            "Inmobiliaria\n",
            "$1.350.000.000 COP\n",
            "7.500m² • 4ba. • 7pa.\n",
            "altagracia - Pereira\n",
            "Casa Campestre en Venta\n",
            "Por BALORR La Firma De Negocios\n",
            "Usado\n",
            "$320.000.000 COP\n",
            "98m² • 3ha. • 3ba. • 1pa.\n",
            "álamos - Pereira\n",
            "Apartamento en Venta\n",
            "Anuncio particular\n",
            "Proyecto\n",
            "$3.900.000.000 COP\n",
            "802m² • 4ha. • 5ba.\n",
            "Cerritos - Pereira\n",
            "LA CARMELITA\n",
            "Por QUALITY GROUP CONSTRUCTORES SA\n",
            "Usado · Bajó de precio\n",
            "Inmobiliaria\n",
            "$780.000.000 COP\n",
            "1.500m² • 4ha. • 4ba. • 4pa.\n",
            "Vereda La Fria - Dosquebradas\n",
            "Casa Campestre en Venta\n",
            "Por EL CAFETERO BIENES RAICES\n",
            "Usado · Destacado\n",
            "Inmobiliaria\n",
            "$178.000.000 COP\n",
            "103m² • 3ha. • 2ba. • 1pa.\n",
            "Urbanizacion Maracay - Dosquebradas\n",
            "Casa en Venta\n",
            "Por Urbe Del Eje\n",
            "Proyecto\n",
            "$1.087.521.808 COP\n",
            "189,41m² • 3ha. • 3ba.\n",
            "Hacienda San Andrés - Santa Rosa de Cabal\n",
            "BOSQUE DE YARUMOS CONDOMINIO CAMPESTRE\n",
            "Por CONSTRUCTORA MANANTIAL\n",
            "Usado · Negociable\n",
            "Inmobiliaria\n",
            "$258.000.000 COP\n",
            "76m² • 2ha. • 2ba. • 2pa.\n",
            "Cuba - Pereira\n",
            "Casa en Venta\n",
            "Por Colombia House Inmobiliaria\n",
            "Usado · Destacado\n",
            "Inmobiliaria\n",
            "$980.000.000 COP\n",
            "1.818m² • 3ha. • 3ba. • 2pa.\n",
            "Cerritos - Pereira\n",
            "Casa Campestre en Venta\n",
            "Por GRUPO TOTAL SAS\n",
            "Proyecto\n",
            "$437.900.000 COP\n",
            "75,2m² • 3ha. • 3ba.\n",
            "galicia - Pereira\n",
            "Reservas del Campo\n",
            "Por Reservas del Campo\n",
            "Usado · Destacado\n",
            "Inmobiliaria\n",
            "$220.000.000 COP\n",
            "69m² • 3ha. • 2ba. • 1pa.\n",
            "DOSQUEBRADAS - Pereira\n",
            "Casa en Venta\n",
            "Por C&R Real Estate Group\n",
            "Usado · Oportunidad\n",
            "$165.000.000 COP\n",
            "58m² • 3ha. • 2ba. • 1pa.\n",
            "altavista - Pereira\n",
            "Apartamento en Venta\n",
            "Anuncio particular\n",
            "Proyecto\n",
            "$276.000.000 COP\n",
            "82,9m² • 3ha. • 2ba.\n",
            "Av Los Molinos Detras del CAM - Dosquebradas\n",
            "METROPOLITAN CLUB RESIDENCIAL\n",
            "Por CFC&A CONSTRUCCIONES\n",
            "Usado · Destacado\n",
            "Inmobiliaria\n",
            "$240.000.000 COP\n",
            "2.866m²\n",
            "VIA ARMENIA - Pereira\n",
            "Lote en Venta\n",
            "Por RUTH ZULOAGA\n",
            "Usado\n",
            "Inmobiliaria\n",
            "$130.000.000 COP\n",
            "50m² • 1ha. • 1ba.\n",
            "Centro - Pereira\n",
            "Apartamento en Venta\n",
            "Por RUTH ZULOAGA\n",
            "Proyecto\n",
            "$142.155.500 COP\n",
            "46,53m² • 2ha. • 2ba.\n",
            "Frailes Sector Semillas del Otún - Dosquebradas\n",
            "Guaduales del Otún\n",
            "Por Centro Sur S.A.\n",
            "Usado · Oportunidad\n",
            "$300.000.000 COP\n",
            "135m² • 4ha. • 3ba. • 1pa.\n",
            "belmonte - Pereira\n",
            "Casa en Venta\n",
            "Anuncio particular\n",
            "Usado · Bajó de precio\n",
            "Inmobiliaria\n",
            "$388.000.000 COP\n",
            "153m² • 3ha. • 4ba. • 1pa.\n",
            "Centro - Pereira\n",
            "Apartamento en Venta\n",
            "Por Inmobiliaria Tu Casa Ya\n",
            "Proyecto\n",
            "$307.875.000 COP\n",
            "66,8m² • 3ha. • 2ba.\n",
            "galicia - Pereira\n",
            "NOBORI APARTAMENTOS\n",
            "Por ASUL SAS\n",
            "Usado · Destacado\n",
            "Inmobiliaria\n",
            "$240.000.000 COP\n",
            "165m² • 6ha. • 3ba.\n",
            "Parque industrial - Pereira\n",
            "Casa en Venta\n",
            "Por TU VIVIENDA EN COLOMBIA\n",
            "Usado · Oportunidad\n",
            "$210.000.000 COP\n",
            "2.013m²\n",
            "Consota - Pereira\n",
            "Lote en Venta\n",
            "Anuncio particular\n",
            "Proyecto\n",
            "$462.000.000 COP\n",
            "500m²\n",
            "Cerritos - Pereira\n",
            "PARQUE INDUSTRIAL GLOBAL LOGISTICS CENTER\n",
            "Por FLORES ASOCIADOS S.A.S\n",
            "Usado · Oportunidad\n",
            "$203.000.000 COP\n",
            "71m² • 3ha. • 2ba. • 1pa.\n",
            "MOLIVENTO DE LAS VILLAS 2 - Dosquebradas\n",
            "Apartamento en Venta\n",
            "Anuncio particular\n",
            "Usado · Destacado\n",
            "Inmobiliaria\n",
            "$160.000.000 COP\n",
            "60m² • 3ha. • 2ba. • 1pa.\n",
            "dosquebradas - Dosquebradas\n",
            "Apartamento en Venta\n",
            "Por Inmobiliaria House\n",
            "Proyecto\n",
            "$436.260.624 COP\n",
            "49,95m² • 1ha. • 1ba.\n",
            "Contiguo a Pinares - Pereira\n",
            "Ittos 15\n",
            "Por PROYECTOS Y CONSTRUCCIONES TRIPLE A S.A.S\n",
            "Usado · Oportunidad\n",
            "$570.000.000 COP\n",
            "1.002m² • 4ha. • 4ba. • 4pa.\n",
            "Vereda El Manzano Conjunto Tamiamuna - Pereira\n",
            "Casa Campestre en Venta\n",
            "Anuncio particular\n",
            "Usado · Oportunidad\n",
            "$750.000.000 COP\n",
            "206m² • 5ha. • 5ba. • 2pa.\n",
            "pinares - Pereira\n",
            "Casa en Venta\n",
            "Anuncio particular\n",
            "Usado · Oportunidad\n",
            "$220.000.000 COP\n",
            "88m² • 3ha. • 2ba. • 1pa.\n",
            "maraya - Pereira\n",
            "Apartamento en Venta\n",
            "Anuncio particular\n",
            "Usado · Oportunidad\n",
            "$152.000.000 COP\n",
            "103m² • 3ha. • 2ba.\n",
            "parque industrial - Pereira\n",
            "Casa en Venta\n",
            "Anuncio particular\n",
            "Usado · Oportunidad\n",
            "$1.700.000.000 COP\n",
            "350m² • 3ha. • 4ba. • 2pa.\n",
            "Cerritos - Pereira\n",
            "Casa Campestre en Venta\n",
            "Anuncio particular\n"
          ]
        }
      ]
    },
    {
      "cell_type": "code",
      "metadata": {
        "id": "eK1oiIidbkIP",
        "outputId": "d9db7cb2-a200-420b-d279-b6c1432b8b9a"
      },
      "source": [
        "type(inmueble)"
      ],
      "execution_count": null,
      "outputs": [
        {
          "data": {
            "text/plain": [
              "selenium.webdriver.remote.webelement.WebElement"
            ]
          },
          "execution_count": 208,
          "metadata": {},
          "output_type": "execute_result"
        }
      ]
    },
    {
      "cell_type": "code",
      "metadata": {
        "id": "Tjo7gBDpbkIS",
        "outputId": "913f623e-946b-468c-e3e9-024f149d7571"
      },
      "source": [
        "  links_productos = inmueble.find_elements_by_xpath('.//a[@target=\"_blank\"]')\n",
        "  for link in links_productos:\n",
        "        print(link.get_attribute('href'))\n",
        "        \n",
        "  "
      ],
      "execution_count": null,
      "outputs": [
        {
          "name": "stdout",
          "output_type": "stream",
          "text": [
            "https://www.fincaraiz.com.co/inmueble/casa-en-venta/turin/pereira/6792570\n",
            "https://www.fincaraiz.com.co/inmueble/casa-campestre-en-venta/cerritos/pereira/5453971\n",
            "https://www.fincaraiz.com.co/inmueble/lote-en-venta/cerritos/pereira/6053203\n",
            "https://www.fincaraiz.com.co/proyecto-de-vivienda/asturias-apartamentos-campestres/cerritos/pereira/6558820\n",
            "https://www.fincaraiz.com.co/inmueble/casa-campestre-en-venta/santa-rosa-de-cabal/santa-rosa-de-cabal/5421463\n",
            "https://www.fincaraiz.com.co/inmueble/casa-en-venta/poblado/pereira/6209739\n",
            "https://www.fincaraiz.com.co/proyecto-de-vivienda/2q-centro-comercial/centro/dosquebradas/6473226\n",
            "https://www.fincaraiz.com.co/inmueble/casa-campestre-en-venta/cerritos/pereira/6778198\n",
            "https://www.fincaraiz.com.co/inmueble/casa-en-venta/parque-industrial/pereira/6673432\n",
            "https://www.fincaraiz.com.co/proyecto-de-vivienda/acqua-hills/japon/dosquebradas/4721616\n",
            "https://www.fincaraiz.com.co/inmueble/lote-en-venta/consota/pereira/6548388\n",
            "https://www.fincaraiz.com.co/inmueble/casa-campestre-en-venta/altagracia/pereira/5927244\n",
            "https://www.fincaraiz.com.co/inmueble/apartamento-en-venta/pinares/pereira/6804604\n",
            "https://www.fincaraiz.com.co/inmueble/apartamento-en-venta/dosquebradas/dosquebradas/6582257\n",
            "https://www.fincaraiz.com.co/proyecto-de-vivienda/la-carmelita/cerritos/pereira/6683543\n",
            "https://www.fincaraiz.com.co/inmueble/casa-campestre-en-venta/vereda-la-fria/dosquebradas/6017487\n",
            "https://www.fincaraiz.com.co/inmueble/apartamento-en-venta/maraya/pereira/6733634\n",
            "https://www.fincaraiz.com.co/proyecto-de-vivienda/bosque-de-yarumos-condominio-campestre/hacienda-san-andres/santa-rosa-de-cabal/5421781\n",
            "https://www.fincaraiz.com.co/inmueble/casa-en-venta/urbanizacion-maracay/dosquebradas/6788565\n",
            "https://www.fincaraiz.com.co/inmueble/apartamento-en-venta/altavista/pereira/6739753\n",
            "https://www.fincaraiz.com.co/proyecto-de-vivienda/reservas-del-campo/galicia/pereira/2521862\n",
            "https://www.fincaraiz.com.co/inmueble/apartamento-en-venta/alamos/pereira/6662923\n",
            "https://www.fincaraiz.com.co/inmueble/casa-campestre-en-venta/cerritos/pereira/6672569\n",
            "https://www.fincaraiz.com.co/proyecto-de-vivienda/metropolitan-club-residencial/av-los-molinos--detras-del-cam/dosquebradas/2336889\n",
            "https://www.fincaraiz.com.co/inmueble/casa-en-venta/pinares/pereira/6777078\n",
            "https://www.fincaraiz.com.co/inmueble/casa-en-venta/dosquebradas/pereira/6797471\n",
            "https://www.fincaraiz.com.co/proyecto-de-vivienda/guaduales-del-otun/frailes--sector-semillas-del-otun/dosquebradas/2127754\n",
            "https://www.fincaraiz.com.co/inmueble/lote-en-venta/via-armenia/pereira/6501992\n",
            "https://www.fincaraiz.com.co/inmueble/apartamento-en-venta/centro/pereira/6790029\n",
            "https://www.fincaraiz.com.co/proyecto-de-vivienda/nobori-apartamentos/galicia/pereira/2704921\n",
            "https://www.fincaraiz.com.co/inmueble/casa-en-venta/parque-industrial/pereira/6703451\n",
            "https://www.fincaraiz.com.co/inmueble/casa-en-venta/la-pradera-/dosquebradas/6766298\n",
            "https://www.fincaraiz.com.co/proyecto-de-vivienda/parque-industrial-global-logistics-center/cerritos/pereira/6651062\n",
            "https://www.fincaraiz.com.co/inmueble/apartamento-en-venta/molivento-de-las-villas-2/dosquebradas/6677933\n",
            "https://www.fincaraiz.com.co/inmueble/casa-campestre-en-venta/cerritos/pereira/6719257\n",
            "https://www.fincaraiz.com.co/proyecto-de-vivienda/ittos-15/contiguo-a-pinares/pereira/5115779\n",
            "https://www.fincaraiz.com.co/inmueble/casa-campestre-en-venta/vereda-el-manzano-conjunto-tamiamuna/pereira/6592363\n",
            "https://www.fincaraiz.com.co/inmueble/casa-en-venta/belmonte/pereira/6548390\n",
            "https://www.fincaraiz.com.co/inmueble/casa-en-venta/cuba/pereira/6797454\n",
            "https://www.fincaraiz.com.co/inmueble/casa-en-venta/pinares/pereira/6521089\n",
            "https://www.fincaraiz.com.co/inmueble/apartamento-en-venta/centro/pereira/6478831\n"
          ]
        }
      ]
    },
    {
      "cell_type": "code",
      "metadata": {
        "id": "duex8fX1bkIV",
        "outputId": "1d24e1c0-9bc4-498c-a342-4a74d43c274e"
      },
      "source": [
        "len(links_productos)"
      ],
      "execution_count": null,
      "outputs": [
        {
          "data": {
            "text/plain": [
              "41"
            ]
          },
          "execution_count": 229,
          "metadata": {},
          "output_type": "execute_result"
        }
      ]
    },
    {
      "cell_type": "code",
      "metadata": {
        "id": "XfUZ9CijbkIY",
        "outputId": "44f604e5-a48a-414d-fe14-f441b0561459"
      },
      "source": [
        "print(links_productos[0].get_attribute('href'))"
      ],
      "execution_count": null,
      "outputs": [
        {
          "name": "stdout",
          "output_type": "stream",
          "text": [
            "https://www.fincaraiz.com.co/inmueble/casa-en-venta/turin/pereira/6792570\n"
          ]
        }
      ]
    },
    {
      "cell_type": "code",
      "metadata": {
        "id": "ejlBisVDbkIc",
        "outputId": "f6ab82dd-55f1-4ae2-b4ab-7f981f0a5b13"
      },
      "source": [
        "links = []\n",
        "for i in range(len(links_productos)):\n",
        "    links.append(links_productos[i].get_attribute('href'))\n",
        "print(links[0])"
      ],
      "execution_count": null,
      "outputs": [
        {
          "name": "stdout",
          "output_type": "stream",
          "text": [
            "https://www.fincaraiz.com.co/inmueble/casa-en-venta/turin/pereira/6792570\n"
          ]
        }
      ]
    },
    {
      "cell_type": "code",
      "metadata": {
        "id": "yPZZ8I4IbkIe",
        "outputId": "b5c1e48c-d81d-450e-f171-e52a11334897"
      },
      "source": [
        "links[0]"
      ],
      "execution_count": null,
      "outputs": [
        {
          "data": {
            "text/plain": [
              "'https://www.fincaraiz.com.co/inmueble/casa-en-venta/turin/pereira/6792570'"
            ]
          },
          "execution_count": 239,
          "metadata": {},
          "output_type": "execute_result"
        }
      ]
    },
    {
      "cell_type": "code",
      "metadata": {
        "id": "_PO4edzlbkIh",
        "outputId": "f412fb91-8498-42b8-9603-55cc20ce89f1"
      },
      "source": [
        "card0 = inmueble.find_element_by_xpath('.//div[1]/article/a').text\n",
        "print(card0)"
      ],
      "execution_count": null,
      "outputs": [
        {
          "name": "stdout",
          "output_type": "stream",
          "text": [
            "Usado · Oportunidad\n",
            "$1.385.000.000 COP\n",
            "2.600m² • 6ha. • 5ba. • 10pa.\n",
            "Cerritos - Pereira\n",
            "Casa Campestre en Venta\n",
            "Anuncio particular\n"
          ]
        }
      ]
    },
    {
      "cell_type": "code",
      "metadata": {
        "id": "USMx19dGbkIj",
        "outputId": "00313f8a-5f3e-4482-d3d8-f9413fa65a39"
      },
      "source": [
        "i = \"6\"\n",
        "card = inmueble.find_element_by_xpath('.//div[1+\"'+i+'\"]/article/a').text\n",
        "print(card)"
      ],
      "execution_count": null,
      "outputs": [
        {
          "name": "stdout",
          "output_type": "stream",
          "text": [
            "Usado\n",
            "Inmobiliaria\n",
            "$730.000.000 COP\n",
            "228m² • 3ha. • 3ba. • 2pa.\n",
            "Santa Rosa De Cabal - Santa Rosa de Cabal\n",
            "Casa Campestre en Venta\n",
            "Por Inmobiliaria Juan Carlos Betancurt\n"
          ]
        }
      ]
    },
    {
      "cell_type": "code",
      "metadata": {
        "id": "nBY7Z-aubkIl"
      },
      "source": [
        "import pandas as pd"
      ],
      "execution_count": null,
      "outputs": []
    },
    {
      "cell_type": "code",
      "metadata": {
        "id": "98he38NBbkIm",
        "outputId": "9369cb2d-7f7e-43a3-f154-fc5f6d1c9595"
      },
      "source": [
        "links[40]"
      ],
      "execution_count": null,
      "outputs": [
        {
          "data": {
            "text/plain": [
              "'https://www.fincaraiz.com.co/inmueble/apartamento-en-venta/centro/pereira/6478831'"
            ]
          },
          "execution_count": 277,
          "metadata": {},
          "output_type": "execute_result"
        }
      ]
    },
    {
      "cell_type": "code",
      "metadata": {
        "id": "Irlj-m4DbkIn"
      },
      "source": [
        "opts = Options()\n",
        "opts.add_argument(\"user-agent=Mozilla/5.0 (X11; Linux x86_64) AppleWebKit/537.36 (KHTML, like Gecko) Ubuntu Chromium/71.0.3578.80 Chrome/95.0.4638.54 Safari/537.36\")\n",
        "driver = webdriver.Chrome('./chromedriver.exe', chrome_options=opts) \n",
        "\n",
        "driver.get(url)\n",
        "\n",
        "inmuebles = driver.find_elements_by_xpath('//*[@id=\"listingContainer\"]')\n",
        "inmueble = inmuebles[0]\n",
        "\n",
        "\n",
        "\n",
        "def cards(m,n):\n",
        "    for i in range(m,n):\n",
        "        i = str(i)\n",
        "        card = inmueble.find_element_by_xpath('.//div[1+\"'+i+'\"]/article/a').text\n",
        "        link = inmueble.find_element_by_xpath('.//div[1+\"'+i+'\"]/article/a').get_attribute('href')\n",
        "        print(link)\n",
        "        \n",
        "        \n",
        "        #internal route\n",
        "        driver2 = webdriver.Chrome('./chromedriver.exe', chrome_options=opts) \n",
        "        driver2.get(link)\n",
        "        informacion = driver2.find_element_by_xpath('//*[@class=\"MuiBox-root jss174 jss9\"]').text\n",
        "        descripcion = driver2.find_element_by_xpath('.//div[@class=\"MuiCollapse-wrapperInner\"]').text\n",
        "        areaConstruida = str(re.findall(r'Área construída+\\n+\\d{1,10}',informacion, flags=re.M)).replace('[\\'','').replace('\\']','').replace('Área construída','').replace('\\\\n','').replace('[','').replace(']','')\n",
        "        print(areaConstruida)\n",
        "        estrato = str(re.findall(r'Estrato+\\n+\\d{1,10}',informacion, flags=re.M)).replace('[\\'','').replace('\\']','').replace('Estrato','').replace('\\\\n','').replace('[','').replace(']','')\n",
        "        print(estrato)\n",
        "        administracion = str(re.findall(r'Administración+\\n+\\d{1,10}',informacion, flags=re.M)).replace('[\\'','').replace('\\']','').replace('Administración','').replace('\\\\n','').replace('[','').replace(']','')\n",
        "        print(administracion)\n",
        "        estado = str(re.findall(r'Estado+\\n+\\w{1,20}',informacion, flags=re.M)).replace('[\\'','').replace('\\']','').replace('Estado','').replace('\\\\n','').replace('[','').replace(']','')\n",
        "        print(estado)\n",
        "        areaPrivada = str(re.findall(r'Área privada+\\n+\\d{1,10}',informacion, flags=re.M)).replace('[\\'','').replace('\\']','').replace('Área privada','').replace('\\\\n','').replace('[','').replace(']','')\n",
        "        print(areaPrivada)\n",
        "        antiguedad = str(re.findall(r'Antigüedad+\\n.+',informacion, flags=re.M)).replace('[\\'','').replace('\\']','').replace('Antigüedad','').replace('\\\\n','').replace('[','').replace(']','')\n",
        "        print(antiguedad)\n",
        "        print(descripcion)\n",
        "        print(\"#########################\")\n",
        "        driver2.close()\n",
        "        \n",
        "\n",
        "cards(0,4)\n",
        "cards(7,13)\n",
        "cards(15,20)\n",
        "cards(23,46)\n",
        "\n",
        "driver.close()"
      ],
      "execution_count": null,
      "outputs": []
    },
    {
      "cell_type": "code",
      "metadata": {
        "id": "5YaLih7XbkIs",
        "outputId": "cf691f51-60a1-4c90-fd41-5c77c51b8993"
      },
      "source": [
        "#Solucion:\n",
        "print(re.findall(r'\\w{3,}@\\w+[.]+\\w{3}',texto6,flags=re.M))"
      ],
      "execution_count": null,
      "outputs": [
        {
          "name": "stdout",
          "output_type": "stream",
          "text": [
            "['estudiante_pilo@sergioarboleda.com', 'profesor@ula.edu', 'torpedo@submarino.com', 'persona_la_que_sea@ean.net', 'carolina_espada@hotmail.com', 'elizabeth@yahoo.com', 'parra_elys@gmail.com', 'carolina_espada@hotmail.com', 'Carlos_gonzalez@gmail.com', 'rockero@sena.org', 'habla@lostresmonetes.net']\n"
          ]
        }
      ]
    },
    {
      "cell_type": "code",
      "metadata": {
        "id": "_BI10sbebkIu",
        "outputId": "b783e7dd-8926-4251-8584-5dc9cc49f667"
      },
      "source": [
        "            driver = webdriver.Chrome('./chromedriver.exe', chrome_options=opts) \n",
        "            driver.get('https://www.fincaraiz.com.co/inmueble/apartamento-en-venta/va-condina/pereira/6674504')\n",
        "            informacion = driver.find_element_by_xpath('//*[@class=\"MuiBox-root jss174 jss9\"]').text\n",
        "            print(informacion)"
      ],
      "execution_count": null,
      "outputs": [
        {
          "name": "stderr",
          "output_type": "stream",
          "text": [
            "C:\\Users\\DCASTANEDA\\AppData\\Local\\Programs\\Python\\Python37\\lib\\site-packages\\ipykernel_launcher.py:1: DeprecationWarning: use options instead of chrome_options\n",
            "  \"\"\"Entry point for launching an IPython kernel.\n"
          ]
        },
        {
          "name": "stdout",
          "output_type": "stream",
          "text": [
            "Descripción general\n",
            "Se vende apartamento ubicado en un excelente sector de la ciudad residencial, tranquilo, de alto crecimiento urbanístico, cuenta 3 habitaciones, 2 baños, parqueadero privado en sótano, ascensor panorámico, el conjunto tiene varias vías de acceso, una gran oportunidad para invertir..\n",
            "Leer más\n",
            "Habitaciones\n",
            "3\n",
            "Baños\n",
            "2\n",
            "Parqueaderos\n",
            "1\n",
            "Área construída\n",
            "60 m²\n",
            "Área privada\n",
            "0 m²\n",
            "Estrato\n",
            "4\n",
            "Estado\n",
            "Excelente\n",
            "Antigüedad\n",
            "1 a 8 años\n",
            "Administración\n",
            "$ 115.000 COP\n",
            "Precio m²\n",
            "$ 2.833.333,33*m²\n",
            "La clasificación del estrato es potestativo del municipio, el anunciante no puede comprometerse con una clasificación determinada del estrato el cual queda definido en el momento de recibo de la obra.\n",
            "Ubicación\n",
            "Dirección\n",
            "Preguntar al anunciante\n",
            "Barrio\n",
            "Va Condina - Pereira\n",
            "Características\n",
            "Ascensor\n",
            "En conjunto cerrado\n",
            "Parqueadero Visitantes\n",
            "Piscina\n",
            "Portería / Recepción\n",
            "Salón Comunal\n",
            "Balcón\n",
            "Calentador\n",
            "Cocina Integral\n",
            "Instalación de gas\n",
            "Zona Residencial\n",
            "Anuncio publicado por:\n",
            "Inmobiliaria House\n",
            "hace 25 días\n",
            "Anuncios de la inmobiliaria\n",
            "4 Inmuebles\n",
            "Usado · Destacado\n",
            "Inmobiliaria\n",
            "$160.000.000 COP\n",
            "60m² • 3ha. • 2ba. • 1pa.\n",
            "dosquebradas - Dosquebradas\n",
            "Apartamento en Venta\n",
            "Por Inmobiliaria House\n",
            "Usado · Destacado\n",
            "Inmobiliaria\n",
            "$195.000.000 COP\n",
            "71m² • 3ha. • 2ba. • 1pa.\n",
            "valher - Dosquebradas\n",
            "Apartamento en Venta\n",
            "Por Inmobiliaria House\n",
            "1\n",
            "2\n"
          ]
        }
      ]
    },
    {
      "cell_type": "code",
      "metadata": {
        "id": "_8IshQPdbkIw",
        "outputId": "eac29c5f-0e32-4c5d-db9b-2e9fe1a5f218"
      },
      "source": [
        "type(informacion)"
      ],
      "execution_count": null,
      "outputs": [
        {
          "data": {
            "text/plain": [
              "str"
            ]
          },
          "execution_count": 137,
          "metadata": {},
          "output_type": "execute_result"
        }
      ]
    },
    {
      "cell_type": "code",
      "metadata": {
        "id": "IMD5y30hbkIx"
      },
      "source": [
        "descripcion = driver.find_element_by_xpath('.//div[@class=\"MuiCollapse-wrapperInner\"]').text\n",
        "print(descripcion)\n",
        "\n",
        "codigo_finca_raiz = driver.find_element_by_xpath('.//p[@class=\"jss71 jss80 jss225 jss183\"]').text\n",
        "print(codigo_finca_raiz)\n",
        "\n"
      ],
      "execution_count": null,
      "outputs": []
    },
    {
      "cell_type": "code",
      "metadata": {
        "id": "GMq6I9rHbkIz"
      },
      "source": [
        "total_cards = []\n",
        "\n",
        "def cards(m,n):\n",
        "    for i in range(m,n):\n",
        "        i = str(i)\n",
        "        card = inmueble.find_element_by_xpath('.//div[1+\"'+i+'\"]/article/a').text\n",
        "        print(card)\n",
        "        total_cards.append({\n",
        "            \"inmueble\": card,\n",
        "        })\n",
        "\n",
        "cards(0,4)\n",
        "cards(5,6)\n",
        "cards(7,13)\n",
        "cards(15,20)\n",
        "cards(23,46)\n",
        "\n",
        "df = pd.DataFrame(total_cards)\n",
        "df.to_csv(\"finca_raiz.csv\")"
      ],
      "execution_count": null,
      "outputs": []
    },
    {
      "cell_type": "code",
      "metadata": {
        "id": "4JJcQoaXbkI0",
        "outputId": "dc0286fb-8c4e-4dff-dd18-6fe26756f274"
      },
      "source": [
        "estado = inmueble.find_element_by_xpath('.//div[1]/article/a/div[1]/ul/li/div/span')\n",
        "print(estado.text)"
      ],
      "execution_count": null,
      "outputs": [
        {
          "name": "stdout",
          "output_type": "stream",
          "text": [
            "Usado · Destacado\n"
          ]
        }
      ]
    },
    {
      "cell_type": "code",
      "metadata": {
        "id": "Q8QzwssNbkI2",
        "outputId": "ef4b00f0-9b24-4221-d173-d1218a17a1bc"
      },
      "source": [
        "precio = inmueble.find_element_by_xpath('.//div[1]/article/a/div[2]/div[1]/span[1]')\n",
        "print(precio.text)"
      ],
      "execution_count": null,
      "outputs": [
        {
          "name": "stdout",
          "output_type": "stream",
          "text": [
            "$240.000.000\n"
          ]
        }
      ]
    },
    {
      "cell_type": "code",
      "metadata": {
        "id": "xQnESacibkI3"
      },
      "source": [
        "import re"
      ],
      "execution_count": null,
      "outputs": []
    },
    {
      "cell_type": "code",
      "metadata": {
        "id": "GskoA5cubkI4"
      },
      "source": [
        "descripcion = inmueble.find_element_by_xpath('.//div[2]/article/a/div[2]/div[2]/span[1]')\n",
        "print(descripcion.text)"
      ],
      "execution_count": null,
      "outputs": []
    },
    {
      "cell_type": "code",
      "metadata": {
        "id": "wl0--GcObkI5"
      },
      "source": [
        "print(re.findall(r'm2.+\\•',descripcion.text, flags=re.M))"
      ],
      "execution_count": null,
      "outputs": []
    },
    {
      "cell_type": "code",
      "metadata": {
        "id": "zr-j0ycDbkI7"
      },
      "source": [
        "print(re.findall(r'\\w{3,}@\\w+[.]+\\w{3}',texto6,flags=re.M))"
      ],
      "execution_count": null,
      "outputs": []
    },
    {
      "cell_type": "code",
      "metadata": {
        "id": "nh6qb_rvbkI9",
        "outputId": "84233150-57bb-48c3-ebcc-ed3c5977ed80"
      },
      "source": [
        "ubicacion = inmueble.find_element_by_xpath('.//div[1]/article/a/div[2]/div[3]')\n",
        "print(ubicacion.text)"
      ],
      "execution_count": null,
      "outputs": [
        {
          "name": "stdout",
          "output_type": "stream",
          "text": [
            "via armenia - Pereira\n"
          ]
        }
      ]
    },
    {
      "cell_type": "code",
      "metadata": {
        "id": "ACFJeIoGbkI-"
      },
      "source": [
        "opts = Options()\n",
        "opts.add_argument(\"user-agent=Mozilla/5.0 (X11; Linux x86_64) AppleWebKit/537.36 (KHTML, like Gecko) Ubuntu Chromium/71.0.3578.80 Chrome/95.0.4638.54 Safari/537.36\")\n",
        "driver = webdriver.Chrome('./chromedriver.exe', chrome_options=opts) \n",
        "\n",
        "\n",
        "number = 2\n",
        "url_feed = 'https://www.fincaraiz.com.co/apartaestudios-apartamentos-casas-casascampestres-edificios-fincas-lotes/venta/risaralda'\n",
        "\n",
        "total_cards = []\n",
        "\n",
        "while number > 0:\n",
        "    \n",
        "    url = url_feed+str('?pagina=')+str(number)\n",
        "    driver.get(url)\n",
        "    inmuebles = driver.find_elements_by_xpath('//*[@id=\"listingContainer\"]')\n",
        "    inmueble = inmuebles[0]\n",
        "\n",
        "\n",
        "    def cards(m,n):\n",
        "        for i in range(m,n):\n",
        "            i = str(i)\n",
        "            precio = inmueble.find_element_by_xpath('.//div[1+\"'+i+'\"]/article/a/div[2]/div[1]/span[1]').text\n",
        "            print(precio)\n",
        "            descripcion = inmueble.find_element_by_xpath('.//div[1+\"'+i+'\"]/article/a/div[2]/div[2]/span').text\n",
        "            area = str(re.findall(r'\\S{1,5}m²',descripcion, flags=re.M)).replace('[\\'','').replace('\\']','').replace('m²','')\n",
        "            habitaciones = str(re.findall(r'•.+ha',descripcion, flags=re.M)).replace('[\\'','').replace('\\']','').replace('•','').replace('ha','')\n",
        "            banos = str(re.findall(r'.\\S+ba',descripcion, flags=re.M)).replace('[\\'','').replace('\\']','').replace('•','').replace('ba','')\n",
        "            parqueaderos = str(re.findall(r'.\\S+pa',descripcion, flags=re.M)).replace('[\\'','').replace('\\']','').replace('•','').replace('pa','').replace('[','').replace(']','')\n",
        "            ubicacion = inmueble.find_element_by_xpath('.//div[1+\"'+i+'\"]/article/a/div[2]/div[3]').text\n",
        "            print(ubicacion)\n",
        "            link = inmueble.find_element_by_xpath('.//div[1+\"'+i+'\"]/article/a').get_attribute('href')\n",
        "\n",
        "            #internal route\n",
        "            driver = webdriver.Chrome('./chromedriver.exe', chrome_options=opts) \n",
        "            driver.get(link)\n",
        "            informacion = driver.find_element_by_xpath('//*[@class=\"MuiBox-root jss174 jss9\"]')\n",
        "            descripcion = driver.find_element_by_xpath('.//div[@class=\"MuiCollapse-wrapperInner\"]').text\n",
        "            \n",
        "            total_cards.append({\n",
        "                \"precio\": precio,\n",
        "                \"area(m²)\": area,\n",
        "                \"habitaciones\": habitaciones,\n",
        "                \"banos\": banos,\n",
        "                \"parqueaderos\": parqueaderos,\n",
        "                \"ubicacion\": ubicacion,\n",
        "                \"url\": link,\n",
        "                \"descripcion\": descripcion\n",
        "            })\n",
        "\n",
        "    cards(0,4)\n",
        "    cards(7,13)\n",
        "    cards(15,20)\n",
        "    cards(23,46)\n",
        "    number -= 1\n",
        "\n",
        "\n",
        "df = pd.DataFrame(total_cards)\n",
        "print(df)\n",
        "df.to_csv(\"finca_raiz.csv\")"
      ],
      "execution_count": null,
      "outputs": []
    },
    {
      "cell_type": "code",
      "metadata": {
        "id": "Rb8sgHDJbkJA"
      },
      "source": [
        "MAX_PAGINATION = 3\n",
        "CURRENT_PAGINATION = 1\n",
        "\n",
        "total_cards = []\n",
        "\n",
        "while MAX_PAGINATION > CURRENT_PAGINATION:\n",
        "    def cards(m,n):\n",
        "        for i in range(m,n):\n",
        "            i = str(i)\n",
        "            precio = inmueble.find_element_by_xpath('.//div[1+\"'+i+'\"]/article/a/div[2]/div[1]/span[1]').text\n",
        "            print(precio)\n",
        "            descripcion = inmueble.find_element_by_xpath('.//div[1+\"'+i+'\"]/article/a/div[2]/div[2]/span').text\n",
        "            area = str(re.findall(r'\\S{1,5}m²',descripcion, flags=re.M)).replace('[\\'','').replace('\\']','').replace('m²','')\n",
        "            habitaciones = str(re.findall(r'•.+ha',descripcion, flags=re.M)).replace('[\\'','').replace('\\']','').replace('•','').replace('ha','')\n",
        "            banos = str(re.findall(r'.\\S+ba',descripcion, flags=re.M)).replace('[\\'','').replace('\\']','').replace('•','').replace('ba','')\n",
        "            parqueaderos = str(re.findall(r'.\\S+pa',descripcion, flags=re.M)).replace('[\\'','').replace('\\']','').replace('•','').replace('pa','').replace('[','').replace(']','')\n",
        "            ubicacion = inmueble.find_element_by_xpath('.//div[1+\"'+i+'\"]/article/a/div[2]/div[3]').text\n",
        "            print(ubicacion)\n",
        "            total_cards.append({\n",
        "                \"precio\": precio,\n",
        "                \"area\": area,\n",
        "                \"habitaciones\": habitaciones,\n",
        "                \"banos\": banos,\n",
        "                \"parqueaderos\": parqueaderos,\n",
        "                \"ubicacion\": ubicacion\n",
        "            })\n",
        "\n",
        "    cards(0,4)\n",
        "    cards(5,6)\n",
        "    cards(7,13)\n",
        "    cards(15,20)\n",
        "    cards(23,46)\n",
        "\n",
        "    next_page_buttom = driver.find_element_by_xpath('//*[@id=\"listingResult\"]/div[4]/div[1]/nav/ul/li[9]/button')\n",
        "    next_page_buttom.click()\n",
        "\n",
        "    CURRENT_PAGINATION += 1\n",
        "\n",
        "df = pd.DataFrame(total_cards)\n",
        "print(df)\n",
        "df.to_csv(\"finca_raiz.csv\")"
      ],
      "execution_count": null,
      "outputs": []
    },
    {
      "cell_type": "code",
      "metadata": {
        "id": "tnQ8ci_dbkJB"
      },
      "source": [
        ""
      ],
      "execution_count": null,
      "outputs": []
    },
    {
      "cell_type": "code",
      "metadata": {
        "id": "nGRA4yUEbkJC"
      },
      "source": [
        "driver.close()"
      ],
      "execution_count": null,
      "outputs": []
    },
    {
      "cell_type": "markdown",
      "metadata": {
        "id": "fjpNeOQebkJD"
      },
      "source": [
        "cadena = '3.600m² • 21ha. • 12ba.'\n",
        "type(cadena)"
      ]
    },
    {
      "cell_type": "code",
      "metadata": {
        "id": "Sc2OmSpDbkJI",
        "outputId": "3dc302f0-cfab-447a-fc9c-89460934d52e"
      },
      "source": [
        "print(str(re.findall(r'\\S{1,5}m²',cadena, flags=re.M)).replace('[\\'','').replace('\\']',''))"
      ],
      "execution_count": null,
      "outputs": [
        {
          "name": "stdout",
          "output_type": "stream",
          "text": [
            "3.600m²\n"
          ]
        }
      ]
    },
    {
      "cell_type": "code",
      "metadata": {
        "id": "omrah1lnbkJK",
        "outputId": "3ca73a26-6c21-4b6a-c8ae-8ef0abe4c8f9"
      },
      "source": [
        "print(str(re.findall(r'•.+ha',cadena, flags=re.M)).replace('[\\'','').replace('\\']','').replace('•',''))"
      ],
      "execution_count": null,
      "outputs": [
        {
          "name": "stdout",
          "output_type": "stream",
          "text": [
            " 21ha\n"
          ]
        }
      ]
    },
    {
      "cell_type": "code",
      "metadata": {
        "id": "J0q0-t0pbkJY",
        "outputId": "a6594521-3224-4461-a9e5-d1ae8bbd040b"
      },
      "source": [
        "print(str(re.findall(r'.\\S+ba',cadena, flags=re.M)).replace('[\\'','').replace('\\']','').replace('•',''))"
      ],
      "execution_count": null,
      "outputs": [
        {
          "name": "stdout",
          "output_type": "stream",
          "text": [
            " 12ba\n"
          ]
        }
      ]
    },
    {
      "cell_type": "code",
      "metadata": {
        "id": "CkKmURA5bkJa",
        "outputId": "a683d281-a2c9-4b07-ee95-b9462aaeadce"
      },
      "source": [
        "print(str(re.findall(r'.\\S+pa',cadena, flags=re.M)).replace('[\\'','').replace('\\']','').replace('•','').replace('[','').replace(']',''))"
      ],
      "execution_count": null,
      "outputs": [
        {
          "name": "stdout",
          "output_type": "stream",
          "text": [
            "\n"
          ]
        }
      ]
    },
    {
      "cell_type": "code",
      "metadata": {
        "id": "xrf_9U7RbkJb"
      },
      "source": [
        "import re"
      ],
      "execution_count": null,
      "outputs": []
    },
    {
      "cell_type": "code",
      "metadata": {
        "id": "CP5hRqZJbkJc"
      },
      "source": [
        "texto = '''Descripción general\n",
        "CASA DUPLEX DE DOS HABITACIONES PARA AMPLIACION TERCERA ALCOBA, SALA COMEDOR, COCINA, PATIO, DOS BAÑOS. CON AREA DE 54 MTR2. TIENE 4 AÑOS DE CONSTRUIDA. APLICA SUBSIDIO DE MI CASA YA Y FONDO DEL AHORRO. RENTA $400.000 MENSUALES..\n",
        "Leer más\n",
        "Habitaciones\n",
        "2\n",
        "Baños\n",
        "2\n",
        "Área construída\n",
        "1.540 m²\n",
        "Área privada\n",
        "2.013 m²\n",
        "Estrato\n",
        "123456789\n",
        "Estado\n",
        "En buenas condiciones\n",
        "Antigüedad\n",
        "menor a 1 año\n",
        "Administración\n",
        "No definida\n",
        "Precio m²\n",
        "$ 1.796.296,3*m²\n",
        "La clasificación del estrato es potestativo del municipio, el anunciante no puede comprometerse con una clasificación determinada del estrato el cual queda definido en el momento de recibo de la obra.\n",
        "Ubicación\n",
        "Dirección'''"
      ],
      "execution_count": null,
      "outputs": []
    },
    {
      "cell_type": "code",
      "metadata": {
        "id": "dERFrGYbbkJd",
        "outputId": "e01c28f5-a3c7-4c7d-8514-5c211e932452"
      },
      "source": [
        "print(str(re.findall(r'Estrato+\\n+.+',texto, flags=re.M)).replace('[\\'','').replace('\\']','').replace('Estrato','').replace('\\\\n','').replace('[','').replace(']',''))"
      ],
      "execution_count": null,
      "outputs": [
        {
          "name": "stdout",
          "output_type": "stream",
          "text": [
            "123456789\n"
          ]
        }
      ]
    },
    {
      "cell_type": "code",
      "metadata": {
        "id": "gLqpl6elbkJe",
        "outputId": "735b0029-e68a-4f86-b62f-3bc6b3617d4f"
      },
      "source": [
        "print(str(re.findall(r'Área construída+\\n+.+',texto, flags=re.M)).replace('[\\'','').replace('\\']','').replace('Área construída','').replace('\\\\n','').replace('[','').replace(']','').replace('m²',''))"
      ],
      "execution_count": null,
      "outputs": [
        {
          "name": "stdout",
          "output_type": "stream",
          "text": [
            "1.540 m²\n"
          ]
        }
      ]
    },
    {
      "cell_type": "code",
      "metadata": {
        "id": "mNBTsXoobkJg",
        "outputId": "194306df-6850-4a1e-e799-d4527ed126e2"
      },
      "source": [
        "print(str(re.findall(r'Administración+\\n+.+',texto, flags=re.M)).replace('[\\'','').replace('\\']','').replace('Administración','').replace('\\\\n','').replace('[','').replace(']',''))"
      ],
      "execution_count": null,
      "outputs": [
        {
          "name": "stdout",
          "output_type": "stream",
          "text": [
            "No definida\n"
          ]
        }
      ]
    },
    {
      "cell_type": "code",
      "metadata": {
        "id": "WH06dT1GbkJh",
        "outputId": "1ee3a5e2-2967-4be8-edb7-ae9bb81cab9e"
      },
      "source": [
        "print(str(re.findall(r'Estado+\\n+.+',texto, flags=re.M)).replace('[\\'','').replace('\\']','').replace('Estado','').replace('\\\\n','').replace('[','').replace(']',''))"
      ],
      "execution_count": null,
      "outputs": [
        {
          "name": "stdout",
          "output_type": "stream",
          "text": [
            "En buenas condiciones\n"
          ]
        }
      ]
    },
    {
      "cell_type": "code",
      "metadata": {
        "id": "_vqMPml6bkJi",
        "outputId": "a43d529b-846a-4c23-c81e-546f03773751"
      },
      "source": [
        "print(str(re.findall(r'Área privada+\\n+.+',texto, flags=re.M)).replace('[\\'','').replace('\\']','').replace('Área privada','').replace('\\\\n','').replace('[','').replace(']','').replace('m²',''))"
      ],
      "execution_count": null,
      "outputs": [
        {
          "name": "stdout",
          "output_type": "stream",
          "text": [
            "2.013 \n"
          ]
        }
      ]
    },
    {
      "cell_type": "code",
      "metadata": {
        "id": "okECNUKEbkJj",
        "outputId": "ca208c03-5d15-4c7f-cbb2-430404ef1f74"
      },
      "source": [
        "print(str(re.findall(r'Antigüedad+\\n+.+',texto, flags=re.M)).replace('[\\'','').replace('\\']','').replace('Antigüedad','').replace('\\\\n','').replace('[','').replace(']',''))"
      ],
      "execution_count": null,
      "outputs": [
        {
          "name": "stdout",
          "output_type": "stream",
          "text": [
            "menor a 1 año\n"
          ]
        }
      ]
    },
    {
      "cell_type": "code",
      "metadata": {
        "id": "C_jCNQYDbkJl",
        "outputId": "88cfb69d-6635-4767-fa68-e5ec108c0c20"
      },
      "source": [
        "l1 = [1,2,3,4,5]\n",
        "l2 = [6,7,8,9]\n",
        "print(l2+l1)"
      ],
      "execution_count": null,
      "outputs": [
        {
          "name": "stdout",
          "output_type": "stream",
          "text": [
            "[6, 7, 8, 9, 1, 2, 3, 4, 5]\n"
          ]
        }
      ]
    }
  ]
}