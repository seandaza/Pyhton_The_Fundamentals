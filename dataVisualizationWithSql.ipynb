{
  "nbformat": 4,
  "nbformat_minor": 0,
  "metadata": {
    "colab": {
      "name": "dataVisualizationWithSql.ipynb",
      "provenance": [],
      "collapsed_sections": [],
      "include_colab_link": true
    },
    "kernelspec": {
      "name": "python3",
      "display_name": "Python 3"
    },
    "language_info": {
      "name": "python"
    }
  },
  "cells": [
    {
      "cell_type": "markdown",
      "metadata": {
        "id": "view-in-github",
        "colab_type": "text"
      },
      "source": [
        "<a href=\"https://colab.research.google.com/github/seandaza/Python-The-Fundamentals/blob/master/dataVisualizationWithSql.ipynb\" target=\"_parent\"><img src=\"https://colab.research.google.com/assets/colab-badge.svg\" alt=\"Open In Colab\"/></a>"
      ]
    },
    {
      "cell_type": "markdown",
      "metadata": {
        "id": "eAHtPYzmhmBG"
      },
      "source": [
        "# Data-Análisis y Data-Visualización con  Consultas a SQL\n",
        "\n",
        "\n",
        "> El objetivo de este apartado es proporcionar las habilidades básicas para procesar y visualizar datos a partir de una base de datos relacional  mediante el lenguaje de programación Python.\n",
        "\n",
        "\n",
        "\n",
        "\n",
        "\n"
      ]
    },
    {
      "cell_type": "markdown",
      "metadata": {
        "id": "L45orSCsnbza"
      },
      "source": [
        "##Definición\n",
        "\n",
        "> Una Base de Datos es un sistema para archivar información en computadora, cuyo propósito general es mantener información y hacer que esté disponible cuando se solicite.\n",
        "\n"
      ]
    },
    {
      "cell_type": "markdown",
      "metadata": {
        "id": "a_gVTIjEn-Zs"
      },
      "source": [
        "##Modelos de Datos\n",
        "\n",
        "> Es una representación abstracta de los datos de una organización y las relaciones entre ellos. Un modelo de datos describe una organización.\n",
        "\n"
      ]
    },
    {
      "cell_type": "markdown",
      "metadata": {
        "id": "JpOSIHkFollm"
      },
      "source": [
        "##Tipos de Modelos de Datos\n",
        " \n",
        "\n",
        "1.   Lógicos Basados en Objetos :\n",
        "\n",
        "*   Modelo Entidad-Realación\n",
        "*   Orientado a Objetos\n",
        "\n",
        "2.   Lógicos Basados en Registros:\n",
        "\n",
        "*   Relacional\n",
        "*   Red\n",
        "*   Jerárquico\n",
        "\n",
        "\n",
        "3. Físicos de Datos\n",
        "\n",
        "\n",
        "\n"
      ]
    },
    {
      "cell_type": "markdown",
      "metadata": {
        "id": "tAF6FtD1kBSy"
      },
      "source": [
        "## Sentencias SQL\n",
        "\n",
        "\n",
        ">Algunas sentencias a tener presentes a la hora de trabajar con bases de datos son la siguientes:\n",
        "\n",
        "\n",
        "\n",
        "1.   Data Manipulation languaje (DML) : SELECT, INSERT, UPDATE, DELETE, MERGE.\n",
        "2.   Data Definition languaje (DDL) :  CREATE, ALTER, DROP, RENAME, TRUNCATE, COMMENT.\n",
        "3.   Data Control Languaje (DCL) : GRANT, REVOKE.\n",
        "2.   Transaction Control : COMMIT, ROLLBACK, SAVEPOINT.\n",
        "\n",
        "\n",
        "\n",
        "\n",
        "\n",
        "\n",
        "\n",
        "\n",
        "\n"
      ]
    },
    {
      "cell_type": "markdown",
      "metadata": {
        "id": "H0g61T2GjHf5"
      },
      "source": [
        "##Preliminares\n",
        "\n",
        "> Antes que nada, es importante que almacenes en local la base de datos `hr.db` con la que estaremos trabajando para que no presentes problemas de conexión. \n",
        "\n",
        "> Esta base de datos comprende un conjunto de tablas que informan al respecto de los recursos humanos de una empresa. Entre las tablas estan: employees, departments, jobs, locations, countries, regions, dependents, job_grades.\n",
        "puedes ver el modelo Entidad-Relacion de la base de datos en el siguiente [Link](https://github.com/andresrosso/resources/blob/main/images/schema.png). Detalla cada tabla junto a las columnas que las componen.\n",
        "\n",
        "\n"
      ]
    },
    {
      "cell_type": "code",
      "metadata": {
        "id": "Hu04xvDzmKLt"
      },
      "source": [
        "!wget https://github.com/andresrosso/resources/blob/main/coding/uan_gc_2021/hr.db"
      ],
      "execution_count": null,
      "outputs": []
    },
    {
      "cell_type": "code",
      "metadata": {
        "id": "XFKhURIGZjN8"
      },
      "source": [
        "!ls"
      ],
      "execution_count": null,
      "outputs": []
    },
    {
      "cell_type": "markdown",
      "metadata": {
        "id": "KnjJVzdkm1tY"
      },
      "source": [
        "##Configuración"
      ]
    },
    {
      "cell_type": "code",
      "metadata": {
        "id": "7m1qSETIFjrW"
      },
      "source": [
        "# Standard libraries\n",
        "import numpy as np\n",
        "import pandas as pd\n",
        "import matplotlib.pyplot as plt\n",
        "import glob\n",
        "import plotly.express as px\n",
        "import os\n",
        "import warnings\n",
        "\n",
        "# Local server SQL database\n",
        "import sqlite3 as sq\n",
        "\n",
        "# Setting of Large numbers format\n",
        "pd.options.display.float_format = '{:,.2f}'.format\n",
        "\n",
        "# Set data frame display max 10 rows\n",
        "pd.set_option('display.max_rows', 10)\n",
        "\n",
        "# Warning is suppressed\n",
        "warnings.simplefilter(action='ignore', category=FutureWarning)"
      ],
      "execution_count": null,
      "outputs": []
    },
    {
      "cell_type": "code",
      "metadata": {
        "id": "vBXRuqQYGUbE"
      },
      "source": [
        "# Conexion a la base de datos llamada hr.db\n",
        "con = sq.connect('hr.db')\n",
        "cur = con.cursor()"
      ],
      "execution_count": null,
      "outputs": []
    },
    {
      "cell_type": "code",
      "metadata": {
        "colab": {
          "base_uri": "https://localhost:8080/"
        },
        "id": "EqKvDOs9MqE9",
        "outputId": "74a8c138-9f28-483d-9025-b9e26026bf16"
      },
      "source": [
        "# Identidiquemos las tablas que contiene esta Base de Datos\n",
        "table_list = [a for a in cur.execute(\"SELECT name FROM sqlite_master WHERE type = 'table'\")]\n",
        "\n",
        "# Lista de Tablas\n",
        "print(table_list)"
      ],
      "execution_count": null,
      "outputs": [
        {
          "output_type": "stream",
          "name": "stdout",
          "text": [
            "[('regions',), ('sqlite_sequence',), ('countries',), ('locations',), ('departments',), ('jobs',), ('employees',), ('dependents',), ('job_grades',)]\n"
          ]
        }
      ]
    },
    {
      "cell_type": "markdown",
      "metadata": {
        "id": "smxROLYLppj_"
      },
      "source": [
        "##Consultas SQL y visualización a través de Pandas\n",
        "\n",
        "> Enecerramos la consulta dentro de una variable, la procesamos a través de Pandas estableciendo conexion a la base de datos y la respuesta la guardamos de otra variable.\n",
        "\n"
      ]
    },
    {
      "cell_type": "code",
      "metadata": {
        "colab": {
          "base_uri": "https://localhost:8080/",
          "height": 609
        },
        "id": "-w5lvhSIMsAL",
        "outputId": "b3251270-4288-437a-d6f1-cb5f95188df4"
      },
      "source": [
        "# Consulta a SQL para ver la tabla 'employees'\n",
        "q0 = ('select * from employees;')\n",
        "\n",
        "# Convert the SQL query to Pandas data Frame\n",
        "r0 = pd.read_sql(q0, con)\n",
        "r0"
      ],
      "execution_count": null,
      "outputs": [
        {
          "output_type": "execute_result",
          "data": {
            "text/html": [
              "<div>\n",
              "<style scoped>\n",
              "    .dataframe tbody tr th:only-of-type {\n",
              "        vertical-align: middle;\n",
              "    }\n",
              "\n",
              "    .dataframe tbody tr th {\n",
              "        vertical-align: top;\n",
              "    }\n",
              "\n",
              "    .dataframe thead th {\n",
              "        text-align: right;\n",
              "    }\n",
              "</style>\n",
              "<table border=\"1\" class=\"dataframe\">\n",
              "  <thead>\n",
              "    <tr style=\"text-align: right;\">\n",
              "      <th></th>\n",
              "      <th>employee_id</th>\n",
              "      <th>first_name</th>\n",
              "      <th>last_name</th>\n",
              "      <th>email</th>\n",
              "      <th>phone_number</th>\n",
              "      <th>hire_date</th>\n",
              "      <th>job_id</th>\n",
              "      <th>salary</th>\n",
              "      <th>manager_id</th>\n",
              "      <th>department_id</th>\n",
              "    </tr>\n",
              "  </thead>\n",
              "  <tbody>\n",
              "    <tr>\n",
              "      <th>0</th>\n",
              "      <td>100</td>\n",
              "      <td>Steven</td>\n",
              "      <td>King</td>\n",
              "      <td>steven.king@sqltutorial.org</td>\n",
              "      <td>515.123.4567</td>\n",
              "      <td>1987-06-17</td>\n",
              "      <td>4</td>\n",
              "      <td>24,000.00</td>\n",
              "      <td>nan</td>\n",
              "      <td>9</td>\n",
              "    </tr>\n",
              "    <tr>\n",
              "      <th>1</th>\n",
              "      <td>101</td>\n",
              "      <td>Neena</td>\n",
              "      <td>Kochhar</td>\n",
              "      <td>neena.kochhar@sqltutorial.org</td>\n",
              "      <td>515.123.4568</td>\n",
              "      <td>1989-09-21</td>\n",
              "      <td>5</td>\n",
              "      <td>17,000.00</td>\n",
              "      <td>100.00</td>\n",
              "      <td>9</td>\n",
              "    </tr>\n",
              "    <tr>\n",
              "      <th>2</th>\n",
              "      <td>102</td>\n",
              "      <td>Lex</td>\n",
              "      <td>De Haan</td>\n",
              "      <td>lex.de haan@sqltutorial.org</td>\n",
              "      <td>515.123.4569</td>\n",
              "      <td>1993-01-13</td>\n",
              "      <td>5</td>\n",
              "      <td>17,000.00</td>\n",
              "      <td>100.00</td>\n",
              "      <td>9</td>\n",
              "    </tr>\n",
              "    <tr>\n",
              "      <th>3</th>\n",
              "      <td>103</td>\n",
              "      <td>Alexander</td>\n",
              "      <td>Hunold</td>\n",
              "      <td>alexander.hunold@sqltutorial.org</td>\n",
              "      <td>590.423.4567</td>\n",
              "      <td>1990-01-03</td>\n",
              "      <td>9</td>\n",
              "      <td>9,000.00</td>\n",
              "      <td>102.00</td>\n",
              "      <td>6</td>\n",
              "    </tr>\n",
              "    <tr>\n",
              "      <th>4</th>\n",
              "      <td>104</td>\n",
              "      <td>Bruce</td>\n",
              "      <td>Ernst</td>\n",
              "      <td>bruce.ernst@sqltutorial.org</td>\n",
              "      <td>590.423.4568</td>\n",
              "      <td>1991-05-21</td>\n",
              "      <td>9</td>\n",
              "      <td>6,000.00</td>\n",
              "      <td>103.00</td>\n",
              "      <td>6</td>\n",
              "    </tr>\n",
              "    <tr>\n",
              "      <th>...</th>\n",
              "      <td>...</td>\n",
              "      <td>...</td>\n",
              "      <td>...</td>\n",
              "      <td>...</td>\n",
              "      <td>...</td>\n",
              "      <td>...</td>\n",
              "      <td>...</td>\n",
              "      <td>...</td>\n",
              "      <td>...</td>\n",
              "      <td>...</td>\n",
              "    </tr>\n",
              "    <tr>\n",
              "      <th>35</th>\n",
              "      <td>202</td>\n",
              "      <td>Pat</td>\n",
              "      <td>Fay</td>\n",
              "      <td>pat.fay@sqltutorial.org</td>\n",
              "      <td>603.123.6666</td>\n",
              "      <td>1997-08-17</td>\n",
              "      <td>11</td>\n",
              "      <td>6,000.00</td>\n",
              "      <td>201.00</td>\n",
              "      <td>2</td>\n",
              "    </tr>\n",
              "    <tr>\n",
              "      <th>36</th>\n",
              "      <td>203</td>\n",
              "      <td>Susan</td>\n",
              "      <td>Mavris</td>\n",
              "      <td>susan.mavris@sqltutorial.org</td>\n",
              "      <td>515.123.7777</td>\n",
              "      <td>1994-06-07</td>\n",
              "      <td>8</td>\n",
              "      <td>6,500.00</td>\n",
              "      <td>101.00</td>\n",
              "      <td>4</td>\n",
              "    </tr>\n",
              "    <tr>\n",
              "      <th>37</th>\n",
              "      <td>204</td>\n",
              "      <td>Hermann</td>\n",
              "      <td>Baer</td>\n",
              "      <td>hermann.baer@sqltutorial.org</td>\n",
              "      <td>515.123.8888</td>\n",
              "      <td>1994-06-07</td>\n",
              "      <td>12</td>\n",
              "      <td>10,000.00</td>\n",
              "      <td>101.00</td>\n",
              "      <td>7</td>\n",
              "    </tr>\n",
              "    <tr>\n",
              "      <th>38</th>\n",
              "      <td>205</td>\n",
              "      <td>Shelley</td>\n",
              "      <td>Higgins</td>\n",
              "      <td>shelley.higgins@sqltutorial.org</td>\n",
              "      <td>515.123.8080</td>\n",
              "      <td>1994-06-07</td>\n",
              "      <td>2</td>\n",
              "      <td>12,000.00</td>\n",
              "      <td>101.00</td>\n",
              "      <td>11</td>\n",
              "    </tr>\n",
              "    <tr>\n",
              "      <th>39</th>\n",
              "      <td>206</td>\n",
              "      <td>William</td>\n",
              "      <td>Gietz</td>\n",
              "      <td>william.gietz@sqltutorial.org</td>\n",
              "      <td>515.123.8181</td>\n",
              "      <td>1994-06-07</td>\n",
              "      <td>1</td>\n",
              "      <td>8,300.00</td>\n",
              "      <td>205.00</td>\n",
              "      <td>11</td>\n",
              "    </tr>\n",
              "  </tbody>\n",
              "</table>\n",
              "<p>40 rows × 10 columns</p>\n",
              "</div>"
            ],
            "text/plain": [
              "    employee_id first_name last_name  ...    salary manager_id department_id\n",
              "0           100     Steven      King  ... 24,000.00        nan             9\n",
              "1           101      Neena   Kochhar  ... 17,000.00     100.00             9\n",
              "2           102        Lex   De Haan  ... 17,000.00     100.00             9\n",
              "3           103  Alexander    Hunold  ...  9,000.00     102.00             6\n",
              "4           104      Bruce     Ernst  ...  6,000.00     103.00             6\n",
              "..          ...        ...       ...  ...       ...        ...           ...\n",
              "35          202        Pat       Fay  ...  6,000.00     201.00             2\n",
              "36          203      Susan    Mavris  ...  6,500.00     101.00             4\n",
              "37          204    Hermann      Baer  ... 10,000.00     101.00             7\n",
              "38          205    Shelley   Higgins  ... 12,000.00     101.00            11\n",
              "39          206    William     Gietz  ...  8,300.00     205.00            11\n",
              "\n",
              "[40 rows x 10 columns]"
            ]
          },
          "metadata": {},
          "execution_count": 84
        }
      ]
    },
    {
      "cell_type": "markdown",
      "metadata": {
        "id": "-KAf8NE_rS4c"
      },
      "source": [
        "Esa consulta me trae toda la tabla. Pero si queremos visualizar solo algunas columnas de la tabla hacemos los siguiente:"
      ]
    },
    {
      "cell_type": "code",
      "metadata": {
        "colab": {
          "base_uri": "https://localhost:8080/",
          "height": 419
        },
        "id": "hW6Hil_sTSxh",
        "outputId": "a194c4a6-0089-47ae-c05e-0ed010073d15"
      },
      "source": [
        "# De la tabla 'employees' veamos solo algunas de sus columnas\n",
        "q1 = ( 'select first_name, last_name, email from employees;')\n",
        "\n",
        "# Convert the SQL query to Pandas data Frame\n",
        "r1 = pd.read_sql(q1, con)\n",
        "r1"
      ],
      "execution_count": null,
      "outputs": [
        {
          "output_type": "execute_result",
          "data": {
            "text/html": [
              "<div>\n",
              "<style scoped>\n",
              "    .dataframe tbody tr th:only-of-type {\n",
              "        vertical-align: middle;\n",
              "    }\n",
              "\n",
              "    .dataframe tbody tr th {\n",
              "        vertical-align: top;\n",
              "    }\n",
              "\n",
              "    .dataframe thead th {\n",
              "        text-align: right;\n",
              "    }\n",
              "</style>\n",
              "<table border=\"1\" class=\"dataframe\">\n",
              "  <thead>\n",
              "    <tr style=\"text-align: right;\">\n",
              "      <th></th>\n",
              "      <th>first_name</th>\n",
              "      <th>last_name</th>\n",
              "      <th>email</th>\n",
              "    </tr>\n",
              "  </thead>\n",
              "  <tbody>\n",
              "    <tr>\n",
              "      <th>0</th>\n",
              "      <td>Steven</td>\n",
              "      <td>King</td>\n",
              "      <td>steven.king@sqltutorial.org</td>\n",
              "    </tr>\n",
              "    <tr>\n",
              "      <th>1</th>\n",
              "      <td>Neena</td>\n",
              "      <td>Kochhar</td>\n",
              "      <td>neena.kochhar@sqltutorial.org</td>\n",
              "    </tr>\n",
              "    <tr>\n",
              "      <th>2</th>\n",
              "      <td>Lex</td>\n",
              "      <td>De Haan</td>\n",
              "      <td>lex.de haan@sqltutorial.org</td>\n",
              "    </tr>\n",
              "    <tr>\n",
              "      <th>3</th>\n",
              "      <td>Alexander</td>\n",
              "      <td>Hunold</td>\n",
              "      <td>alexander.hunold@sqltutorial.org</td>\n",
              "    </tr>\n",
              "    <tr>\n",
              "      <th>4</th>\n",
              "      <td>Bruce</td>\n",
              "      <td>Ernst</td>\n",
              "      <td>bruce.ernst@sqltutorial.org</td>\n",
              "    </tr>\n",
              "    <tr>\n",
              "      <th>...</th>\n",
              "      <td>...</td>\n",
              "      <td>...</td>\n",
              "      <td>...</td>\n",
              "    </tr>\n",
              "    <tr>\n",
              "      <th>35</th>\n",
              "      <td>Pat</td>\n",
              "      <td>Fay</td>\n",
              "      <td>pat.fay@sqltutorial.org</td>\n",
              "    </tr>\n",
              "    <tr>\n",
              "      <th>36</th>\n",
              "      <td>Susan</td>\n",
              "      <td>Mavris</td>\n",
              "      <td>susan.mavris@sqltutorial.org</td>\n",
              "    </tr>\n",
              "    <tr>\n",
              "      <th>37</th>\n",
              "      <td>Hermann</td>\n",
              "      <td>Baer</td>\n",
              "      <td>hermann.baer@sqltutorial.org</td>\n",
              "    </tr>\n",
              "    <tr>\n",
              "      <th>38</th>\n",
              "      <td>Shelley</td>\n",
              "      <td>Higgins</td>\n",
              "      <td>shelley.higgins@sqltutorial.org</td>\n",
              "    </tr>\n",
              "    <tr>\n",
              "      <th>39</th>\n",
              "      <td>William</td>\n",
              "      <td>Gietz</td>\n",
              "      <td>william.gietz@sqltutorial.org</td>\n",
              "    </tr>\n",
              "  </tbody>\n",
              "</table>\n",
              "<p>40 rows × 3 columns</p>\n",
              "</div>"
            ],
            "text/plain": [
              "   first_name last_name                             email\n",
              "0      Steven      King       steven.king@sqltutorial.org\n",
              "1       Neena   Kochhar     neena.kochhar@sqltutorial.org\n",
              "2         Lex   De Haan       lex.de haan@sqltutorial.org\n",
              "3   Alexander    Hunold  alexander.hunold@sqltutorial.org\n",
              "4       Bruce     Ernst       bruce.ernst@sqltutorial.org\n",
              "..        ...       ...                               ...\n",
              "35        Pat       Fay           pat.fay@sqltutorial.org\n",
              "36      Susan    Mavris      susan.mavris@sqltutorial.org\n",
              "37    Hermann      Baer      hermann.baer@sqltutorial.org\n",
              "38    Shelley   Higgins   shelley.higgins@sqltutorial.org\n",
              "39    William     Gietz     william.gietz@sqltutorial.org\n",
              "\n",
              "[40 rows x 3 columns]"
            ]
          },
          "metadata": {},
          "execution_count": 83
        }
      ]
    },
    {
      "cell_type": "markdown",
      "metadata": {
        "id": "vbBmO7ESVq4v"
      },
      "source": [
        "## Filtrando Datos\n",
        "\n",
        "> Si queremos que nuestra búsqueda sea mas específica, usamos la sentencia WHERE, para dar mas detalle del dato que queremos visualizar a partir de uno de sus atributos.\n",
        "\n"
      ]
    },
    {
      "cell_type": "code",
      "metadata": {
        "colab": {
          "base_uri": "https://localhost:8080/",
          "height": 117
        },
        "id": "zUftl6dNVpQo",
        "outputId": "b99bffd0-a9e1-41bb-942f-82182e8f3265"
      },
      "source": [
        "# De la tabla 'employees' filtremos en funcion a un atributo\n",
        "q2 = ('SELECT * from employees WHERE email = \"diana.lorentz@sqltutorial.org\"')\n",
        "\n",
        "# Convert the SQL query to Pandas data Frame\n",
        "r2 = pd.read_sql(q2, con)\n",
        "r2"
      ],
      "execution_count": null,
      "outputs": [
        {
          "output_type": "execute_result",
          "data": {
            "text/html": [
              "<div>\n",
              "<style scoped>\n",
              "    .dataframe tbody tr th:only-of-type {\n",
              "        vertical-align: middle;\n",
              "    }\n",
              "\n",
              "    .dataframe tbody tr th {\n",
              "        vertical-align: top;\n",
              "    }\n",
              "\n",
              "    .dataframe thead th {\n",
              "        text-align: right;\n",
              "    }\n",
              "</style>\n",
              "<table border=\"1\" class=\"dataframe\">\n",
              "  <thead>\n",
              "    <tr style=\"text-align: right;\">\n",
              "      <th></th>\n",
              "      <th>employee_id</th>\n",
              "      <th>first_name</th>\n",
              "      <th>last_name</th>\n",
              "      <th>email</th>\n",
              "      <th>phone_number</th>\n",
              "      <th>hire_date</th>\n",
              "      <th>job_id</th>\n",
              "      <th>salary</th>\n",
              "      <th>manager_id</th>\n",
              "      <th>department_id</th>\n",
              "    </tr>\n",
              "  </thead>\n",
              "  <tbody>\n",
              "    <tr>\n",
              "      <th>0</th>\n",
              "      <td>107</td>\n",
              "      <td>Diana</td>\n",
              "      <td>Lorentz</td>\n",
              "      <td>diana.lorentz@sqltutorial.org</td>\n",
              "      <td>590.423.5567</td>\n",
              "      <td>1999-02-07</td>\n",
              "      <td>9</td>\n",
              "      <td>4,200.00</td>\n",
              "      <td>103</td>\n",
              "      <td>6</td>\n",
              "    </tr>\n",
              "  </tbody>\n",
              "</table>\n",
              "</div>"
            ],
            "text/plain": [
              "   employee_id first_name last_name  ...   salary manager_id department_id\n",
              "0          107      Diana   Lorentz  ... 4,200.00        103             6\n",
              "\n",
              "[1 rows x 10 columns]"
            ]
          },
          "metadata": {},
          "execution_count": 85
        }
      ]
    },
    {
      "cell_type": "markdown",
      "metadata": {
        "id": "oeTuhz-fsI8-"
      },
      "source": [
        "Visualicemos ahora la tabla jobs:"
      ]
    },
    {
      "cell_type": "code",
      "metadata": {
        "colab": {
          "base_uri": "https://localhost:8080/",
          "height": 419
        },
        "id": "3llPXhw4RcEQ",
        "outputId": "84dc4257-d32f-4adf-a7b5-7b3523593926"
      },
      "source": [
        "# Consultando toda la tabla 'jobs'\n",
        "q3 = ('select * from jobs j ')\n",
        "\n",
        "# Convert the SQL query to Pandas data Frame\n",
        "r3 = pd.read_sql(q3, con)\n",
        "r3"
      ],
      "execution_count": null,
      "outputs": [
        {
          "output_type": "execute_result",
          "data": {
            "text/html": [
              "<div>\n",
              "<style scoped>\n",
              "    .dataframe tbody tr th:only-of-type {\n",
              "        vertical-align: middle;\n",
              "    }\n",
              "\n",
              "    .dataframe tbody tr th {\n",
              "        vertical-align: top;\n",
              "    }\n",
              "\n",
              "    .dataframe thead th {\n",
              "        text-align: right;\n",
              "    }\n",
              "</style>\n",
              "<table border=\"1\" class=\"dataframe\">\n",
              "  <thead>\n",
              "    <tr style=\"text-align: right;\">\n",
              "      <th></th>\n",
              "      <th>job_id</th>\n",
              "      <th>job_title</th>\n",
              "      <th>min_salary</th>\n",
              "      <th>max_salary</th>\n",
              "    </tr>\n",
              "  </thead>\n",
              "  <tbody>\n",
              "    <tr>\n",
              "      <th>0</th>\n",
              "      <td>1</td>\n",
              "      <td>Public Accountant</td>\n",
              "      <td>4,200.00</td>\n",
              "      <td>9,000.00</td>\n",
              "    </tr>\n",
              "    <tr>\n",
              "      <th>1</th>\n",
              "      <td>2</td>\n",
              "      <td>Accounting Manager</td>\n",
              "      <td>8,200.00</td>\n",
              "      <td>16,000.00</td>\n",
              "    </tr>\n",
              "    <tr>\n",
              "      <th>2</th>\n",
              "      <td>3</td>\n",
              "      <td>Administration Assistant</td>\n",
              "      <td>3,000.00</td>\n",
              "      <td>6,000.00</td>\n",
              "    </tr>\n",
              "    <tr>\n",
              "      <th>3</th>\n",
              "      <td>4</td>\n",
              "      <td>President</td>\n",
              "      <td>20,000.00</td>\n",
              "      <td>40,000.00</td>\n",
              "    </tr>\n",
              "    <tr>\n",
              "      <th>4</th>\n",
              "      <td>5</td>\n",
              "      <td>Administration Vice President</td>\n",
              "      <td>15,000.00</td>\n",
              "      <td>30,000.00</td>\n",
              "    </tr>\n",
              "    <tr>\n",
              "      <th>...</th>\n",
              "      <td>...</td>\n",
              "      <td>...</td>\n",
              "      <td>...</td>\n",
              "      <td>...</td>\n",
              "    </tr>\n",
              "    <tr>\n",
              "      <th>14</th>\n",
              "      <td>15</td>\n",
              "      <td>Sales Manager</td>\n",
              "      <td>10,000.00</td>\n",
              "      <td>20,000.00</td>\n",
              "    </tr>\n",
              "    <tr>\n",
              "      <th>15</th>\n",
              "      <td>16</td>\n",
              "      <td>Sales Representative</td>\n",
              "      <td>6,000.00</td>\n",
              "      <td>12,000.00</td>\n",
              "    </tr>\n",
              "    <tr>\n",
              "      <th>16</th>\n",
              "      <td>17</td>\n",
              "      <td>Shipping Clerk</td>\n",
              "      <td>2,500.00</td>\n",
              "      <td>5,500.00</td>\n",
              "    </tr>\n",
              "    <tr>\n",
              "      <th>17</th>\n",
              "      <td>18</td>\n",
              "      <td>Stock Clerk</td>\n",
              "      <td>2,000.00</td>\n",
              "      <td>5,000.00</td>\n",
              "    </tr>\n",
              "    <tr>\n",
              "      <th>18</th>\n",
              "      <td>19</td>\n",
              "      <td>Stock Manager</td>\n",
              "      <td>5,500.00</td>\n",
              "      <td>8,500.00</td>\n",
              "    </tr>\n",
              "  </tbody>\n",
              "</table>\n",
              "<p>19 rows × 4 columns</p>\n",
              "</div>"
            ],
            "text/plain": [
              "    job_id                      job_title  min_salary  max_salary\n",
              "0        1              Public Accountant    4,200.00    9,000.00\n",
              "1        2             Accounting Manager    8,200.00   16,000.00\n",
              "2        3       Administration Assistant    3,000.00    6,000.00\n",
              "3        4                      President   20,000.00   40,000.00\n",
              "4        5  Administration Vice President   15,000.00   30,000.00\n",
              "..     ...                            ...         ...         ...\n",
              "14      15                  Sales Manager   10,000.00   20,000.00\n",
              "15      16           Sales Representative    6,000.00   12,000.00\n",
              "16      17                 Shipping Clerk    2,500.00    5,500.00\n",
              "17      18                    Stock Clerk    2,000.00    5,000.00\n",
              "18      19                  Stock Manager    5,500.00    8,500.00\n",
              "\n",
              "[19 rows x 4 columns]"
            ]
          },
          "metadata": {},
          "execution_count": 86
        }
      ]
    },
    {
      "cell_type": "markdown",
      "metadata": {
        "id": "NSN3IqWlsjjK"
      },
      "source": [
        "Podemos hacer una Descripción estadística de los datos de esa tabla usando el método `.describe()`"
      ]
    },
    {
      "cell_type": "code",
      "metadata": {
        "colab": {
          "base_uri": "https://localhost:8080/",
          "height": 297
        },
        "id": "mGcex67LZp1-",
        "outputId": "cdbf7d70-5a57-4e10-f6d9-a3fa9a1ee8e8"
      },
      "source": [
        "r3.describe()"
      ],
      "execution_count": null,
      "outputs": [
        {
          "output_type": "execute_result",
          "data": {
            "text/html": [
              "<div>\n",
              "<style scoped>\n",
              "    .dataframe tbody tr th:only-of-type {\n",
              "        vertical-align: middle;\n",
              "    }\n",
              "\n",
              "    .dataframe tbody tr th {\n",
              "        vertical-align: top;\n",
              "    }\n",
              "\n",
              "    .dataframe thead th {\n",
              "        text-align: right;\n",
              "    }\n",
              "</style>\n",
              "<table border=\"1\" class=\"dataframe\">\n",
              "  <thead>\n",
              "    <tr style=\"text-align: right;\">\n",
              "      <th></th>\n",
              "      <th>job_id</th>\n",
              "      <th>min_salary</th>\n",
              "      <th>max_salary</th>\n",
              "    </tr>\n",
              "  </thead>\n",
              "  <tbody>\n",
              "    <tr>\n",
              "      <th>count</th>\n",
              "      <td>19.00</td>\n",
              "      <td>19.00</td>\n",
              "      <td>19.00</td>\n",
              "    </tr>\n",
              "    <tr>\n",
              "      <th>mean</th>\n",
              "      <td>10.00</td>\n",
              "      <td>6,568.42</td>\n",
              "      <td>13,210.53</td>\n",
              "    </tr>\n",
              "    <tr>\n",
              "      <th>std</th>\n",
              "      <td>5.63</td>\n",
              "      <td>4,594.81</td>\n",
              "      <td>8,876.18</td>\n",
              "    </tr>\n",
              "    <tr>\n",
              "      <th>min</th>\n",
              "      <td>1.00</td>\n",
              "      <td>2,000.00</td>\n",
              "      <td>5,000.00</td>\n",
              "    </tr>\n",
              "    <tr>\n",
              "      <th>25%</th>\n",
              "      <td>5.50</td>\n",
              "      <td>4,000.00</td>\n",
              "      <td>8,750.00</td>\n",
              "    </tr>\n",
              "    <tr>\n",
              "      <th>50%</th>\n",
              "      <td>10.00</td>\n",
              "      <td>4,500.00</td>\n",
              "      <td>10,000.00</td>\n",
              "    </tr>\n",
              "    <tr>\n",
              "      <th>75%</th>\n",
              "      <td>14.50</td>\n",
              "      <td>8,200.00</td>\n",
              "      <td>15,500.00</td>\n",
              "    </tr>\n",
              "    <tr>\n",
              "      <th>max</th>\n",
              "      <td>19.00</td>\n",
              "      <td>20,000.00</td>\n",
              "      <td>40,000.00</td>\n",
              "    </tr>\n",
              "  </tbody>\n",
              "</table>\n",
              "</div>"
            ],
            "text/plain": [
              "       job_id  min_salary  max_salary\n",
              "count   19.00       19.00       19.00\n",
              "mean    10.00    6,568.42   13,210.53\n",
              "std      5.63    4,594.81    8,876.18\n",
              "min      1.00    2,000.00    5,000.00\n",
              "25%      5.50    4,000.00    8,750.00\n",
              "50%     10.00    4,500.00   10,000.00\n",
              "75%     14.50    8,200.00   15,500.00\n",
              "max     19.00   20,000.00   40,000.00"
            ]
          },
          "metadata": {},
          "execution_count": 33
        }
      ]
    },
    {
      "cell_type": "markdown",
      "metadata": {
        "id": "S4m8KnxitEft"
      },
      "source": [
        "##Graficando Datos"
      ]
    },
    {
      "cell_type": "code",
      "metadata": {
        "colab": {
          "base_uri": "https://localhost:8080/",
          "height": 542
        },
        "id": "sUdLux_bRzbF",
        "outputId": "cb80939c-ba8e-4522-d04f-8d1a554798e5"
      },
      "source": [
        "# Graficando los salarios máximos por categoría de Empleo\n",
        "fig1 = px.bar(r3, x=\"job_title\", y=\"max_salary\", orientation='v', title='Salario Maximo por Categoria de Empleo')\n",
        "fig1.show()"
      ],
      "execution_count": null,
      "outputs": [
        {
          "output_type": "display_data",
          "data": {
            "text/html": [
              "<html>\n",
              "<head><meta charset=\"utf-8\" /></head>\n",
              "<body>\n",
              "    <div>\n",
              "            <script src=\"https://cdnjs.cloudflare.com/ajax/libs/mathjax/2.7.5/MathJax.js?config=TeX-AMS-MML_SVG\"></script><script type=\"text/javascript\">if (window.MathJax) {MathJax.Hub.Config({SVG: {font: \"STIX-Web\"}});}</script>\n",
              "                <script type=\"text/javascript\">window.PlotlyConfig = {MathJaxConfig: 'local'};</script>\n",
              "        <script src=\"https://cdn.plot.ly/plotly-latest.min.js\"></script>    \n",
              "            <div id=\"81300c65-2f2a-484b-8119-f41c619cdbda\" class=\"plotly-graph-div\" style=\"height:525px; width:100%;\"></div>\n",
              "            <script type=\"text/javascript\">\n",
              "                \n",
              "                    window.PLOTLYENV=window.PLOTLYENV || {};\n",
              "                    \n",
              "                if (document.getElementById(\"81300c65-2f2a-484b-8119-f41c619cdbda\")) {\n",
              "                    Plotly.newPlot(\n",
              "                        '81300c65-2f2a-484b-8119-f41c619cdbda',\n",
              "                        [{\"alignmentgroup\": \"True\", \"hoverlabel\": {\"namelength\": 0}, \"hovertemplate\": \"job_title=%{x}<br>max_salary=%{y}\", \"legendgroup\": \"\", \"marker\": {\"color\": \"#636efa\"}, \"name\": \"\", \"offsetgroup\": \"\", \"orientation\": \"v\", \"showlegend\": false, \"textposition\": \"auto\", \"type\": \"bar\", \"x\": [\"Public Accountant\", \"Accounting Manager\", \"Administration Assistant\", \"President\", \"Administration Vice President\", \"Accountant\", \"Finance Manager\", \"Human Resources Representative\", \"Programmer\", \"Marketing Manager\", \"Marketing Representative\", \"Public Relations Representative\", \"Purchasing Clerk\", \"Purchasing Manager\", \"Sales Manager\", \"Sales Representative\", \"Shipping Clerk\", \"Stock Clerk\", \"Stock Manager\"], \"xaxis\": \"x\", \"y\": [9000.0, 16000.0, 6000.0, 40000.0, 30000.0, 9000.0, 16000.0, 9000.0, 10000.0, 15000.0, 9000.0, 10500.0, 5500.0, 15000.0, 20000.0, 12000.0, 5500.0, 5000.0, 8500.0], \"yaxis\": \"y\"}],\n",
              "                        {\"barmode\": \"relative\", \"legend\": {\"tracegroupgap\": 0}, \"template\": {\"data\": {\"bar\": [{\"error_x\": {\"color\": \"#2a3f5f\"}, \"error_y\": {\"color\": \"#2a3f5f\"}, \"marker\": {\"line\": {\"color\": \"#E5ECF6\", \"width\": 0.5}}, \"type\": \"bar\"}], \"barpolar\": [{\"marker\": {\"line\": {\"color\": \"#E5ECF6\", \"width\": 0.5}}, \"type\": \"barpolar\"}], \"carpet\": [{\"aaxis\": {\"endlinecolor\": \"#2a3f5f\", \"gridcolor\": \"white\", \"linecolor\": \"white\", \"minorgridcolor\": \"white\", \"startlinecolor\": \"#2a3f5f\"}, \"baxis\": {\"endlinecolor\": \"#2a3f5f\", \"gridcolor\": \"white\", \"linecolor\": \"white\", \"minorgridcolor\": \"white\", \"startlinecolor\": \"#2a3f5f\"}, \"type\": \"carpet\"}], \"choropleth\": [{\"colorbar\": {\"outlinewidth\": 0, \"ticks\": \"\"}, \"type\": \"choropleth\"}], \"contour\": [{\"colorbar\": {\"outlinewidth\": 0, \"ticks\": \"\"}, \"colorscale\": [[0.0, \"#0d0887\"], [0.1111111111111111, \"#46039f\"], [0.2222222222222222, \"#7201a8\"], [0.3333333333333333, \"#9c179e\"], [0.4444444444444444, \"#bd3786\"], [0.5555555555555556, \"#d8576b\"], [0.6666666666666666, \"#ed7953\"], [0.7777777777777778, \"#fb9f3a\"], [0.8888888888888888, \"#fdca26\"], [1.0, \"#f0f921\"]], \"type\": \"contour\"}], \"contourcarpet\": [{\"colorbar\": {\"outlinewidth\": 0, \"ticks\": \"\"}, \"type\": \"contourcarpet\"}], \"heatmap\": [{\"colorbar\": {\"outlinewidth\": 0, \"ticks\": \"\"}, \"colorscale\": [[0.0, \"#0d0887\"], [0.1111111111111111, \"#46039f\"], [0.2222222222222222, \"#7201a8\"], [0.3333333333333333, \"#9c179e\"], [0.4444444444444444, \"#bd3786\"], [0.5555555555555556, \"#d8576b\"], [0.6666666666666666, \"#ed7953\"], [0.7777777777777778, \"#fb9f3a\"], [0.8888888888888888, \"#fdca26\"], [1.0, \"#f0f921\"]], \"type\": \"heatmap\"}], \"heatmapgl\": [{\"colorbar\": {\"outlinewidth\": 0, \"ticks\": \"\"}, \"colorscale\": [[0.0, \"#0d0887\"], [0.1111111111111111, \"#46039f\"], [0.2222222222222222, \"#7201a8\"], [0.3333333333333333, \"#9c179e\"], [0.4444444444444444, \"#bd3786\"], [0.5555555555555556, \"#d8576b\"], [0.6666666666666666, \"#ed7953\"], [0.7777777777777778, \"#fb9f3a\"], [0.8888888888888888, \"#fdca26\"], [1.0, \"#f0f921\"]], \"type\": \"heatmapgl\"}], \"histogram\": [{\"marker\": {\"colorbar\": {\"outlinewidth\": 0, \"ticks\": \"\"}}, \"type\": \"histogram\"}], \"histogram2d\": [{\"colorbar\": {\"outlinewidth\": 0, \"ticks\": \"\"}, \"colorscale\": [[0.0, \"#0d0887\"], [0.1111111111111111, \"#46039f\"], [0.2222222222222222, \"#7201a8\"], [0.3333333333333333, \"#9c179e\"], [0.4444444444444444, \"#bd3786\"], [0.5555555555555556, \"#d8576b\"], [0.6666666666666666, \"#ed7953\"], [0.7777777777777778, \"#fb9f3a\"], [0.8888888888888888, \"#fdca26\"], [1.0, \"#f0f921\"]], \"type\": \"histogram2d\"}], \"histogram2dcontour\": [{\"colorbar\": {\"outlinewidth\": 0, \"ticks\": \"\"}, \"colorscale\": [[0.0, \"#0d0887\"], [0.1111111111111111, \"#46039f\"], [0.2222222222222222, \"#7201a8\"], [0.3333333333333333, \"#9c179e\"], [0.4444444444444444, \"#bd3786\"], [0.5555555555555556, \"#d8576b\"], [0.6666666666666666, \"#ed7953\"], [0.7777777777777778, \"#fb9f3a\"], [0.8888888888888888, \"#fdca26\"], [1.0, \"#f0f921\"]], \"type\": \"histogram2dcontour\"}], \"mesh3d\": [{\"colorbar\": {\"outlinewidth\": 0, \"ticks\": \"\"}, \"type\": \"mesh3d\"}], \"parcoords\": [{\"line\": {\"colorbar\": {\"outlinewidth\": 0, \"ticks\": \"\"}}, \"type\": \"parcoords\"}], \"pie\": [{\"automargin\": true, \"type\": \"pie\"}], \"scatter\": [{\"marker\": {\"colorbar\": {\"outlinewidth\": 0, \"ticks\": \"\"}}, \"type\": \"scatter\"}], \"scatter3d\": [{\"line\": {\"colorbar\": {\"outlinewidth\": 0, \"ticks\": \"\"}}, \"marker\": {\"colorbar\": {\"outlinewidth\": 0, \"ticks\": \"\"}}, \"type\": \"scatter3d\"}], \"scattercarpet\": [{\"marker\": {\"colorbar\": {\"outlinewidth\": 0, \"ticks\": \"\"}}, \"type\": \"scattercarpet\"}], \"scattergeo\": [{\"marker\": {\"colorbar\": {\"outlinewidth\": 0, \"ticks\": \"\"}}, \"type\": \"scattergeo\"}], \"scattergl\": [{\"marker\": {\"colorbar\": {\"outlinewidth\": 0, \"ticks\": \"\"}}, \"type\": \"scattergl\"}], \"scattermapbox\": [{\"marker\": {\"colorbar\": {\"outlinewidth\": 0, \"ticks\": \"\"}}, \"type\": \"scattermapbox\"}], \"scatterpolar\": [{\"marker\": {\"colorbar\": {\"outlinewidth\": 0, \"ticks\": \"\"}}, \"type\": \"scatterpolar\"}], \"scatterpolargl\": [{\"marker\": {\"colorbar\": {\"outlinewidth\": 0, \"ticks\": \"\"}}, \"type\": \"scatterpolargl\"}], \"scatterternary\": [{\"marker\": {\"colorbar\": {\"outlinewidth\": 0, \"ticks\": \"\"}}, \"type\": \"scatterternary\"}], \"surface\": [{\"colorbar\": {\"outlinewidth\": 0, \"ticks\": \"\"}, \"colorscale\": [[0.0, \"#0d0887\"], [0.1111111111111111, \"#46039f\"], [0.2222222222222222, \"#7201a8\"], [0.3333333333333333, \"#9c179e\"], [0.4444444444444444, \"#bd3786\"], [0.5555555555555556, \"#d8576b\"], [0.6666666666666666, \"#ed7953\"], [0.7777777777777778, \"#fb9f3a\"], [0.8888888888888888, \"#fdca26\"], [1.0, \"#f0f921\"]], \"type\": \"surface\"}], \"table\": [{\"cells\": {\"fill\": {\"color\": \"#EBF0F8\"}, \"line\": {\"color\": \"white\"}}, \"header\": {\"fill\": {\"color\": \"#C8D4E3\"}, \"line\": {\"color\": \"white\"}}, \"type\": \"table\"}]}, \"layout\": {\"annotationdefaults\": {\"arrowcolor\": \"#2a3f5f\", \"arrowhead\": 0, \"arrowwidth\": 1}, \"coloraxis\": {\"colorbar\": {\"outlinewidth\": 0, \"ticks\": \"\"}}, \"colorscale\": {\"diverging\": [[0, \"#8e0152\"], [0.1, \"#c51b7d\"], [0.2, \"#de77ae\"], [0.3, \"#f1b6da\"], [0.4, \"#fde0ef\"], [0.5, \"#f7f7f7\"], [0.6, \"#e6f5d0\"], [0.7, \"#b8e186\"], [0.8, \"#7fbc41\"], [0.9, \"#4d9221\"], [1, \"#276419\"]], \"sequential\": [[0.0, \"#0d0887\"], [0.1111111111111111, \"#46039f\"], [0.2222222222222222, \"#7201a8\"], [0.3333333333333333, \"#9c179e\"], [0.4444444444444444, \"#bd3786\"], [0.5555555555555556, \"#d8576b\"], [0.6666666666666666, \"#ed7953\"], [0.7777777777777778, \"#fb9f3a\"], [0.8888888888888888, \"#fdca26\"], [1.0, \"#f0f921\"]], \"sequentialminus\": [[0.0, \"#0d0887\"], [0.1111111111111111, \"#46039f\"], [0.2222222222222222, \"#7201a8\"], [0.3333333333333333, \"#9c179e\"], [0.4444444444444444, \"#bd3786\"], [0.5555555555555556, \"#d8576b\"], [0.6666666666666666, \"#ed7953\"], [0.7777777777777778, \"#fb9f3a\"], [0.8888888888888888, \"#fdca26\"], [1.0, \"#f0f921\"]]}, \"colorway\": [\"#636efa\", \"#EF553B\", \"#00cc96\", \"#ab63fa\", \"#FFA15A\", \"#19d3f3\", \"#FF6692\", \"#B6E880\", \"#FF97FF\", \"#FECB52\"], \"font\": {\"color\": \"#2a3f5f\"}, \"geo\": {\"bgcolor\": \"white\", \"lakecolor\": \"white\", \"landcolor\": \"#E5ECF6\", \"showlakes\": true, \"showland\": true, \"subunitcolor\": \"white\"}, \"hoverlabel\": {\"align\": \"left\"}, \"hovermode\": \"closest\", \"mapbox\": {\"style\": \"light\"}, \"paper_bgcolor\": \"white\", \"plot_bgcolor\": \"#E5ECF6\", \"polar\": {\"angularaxis\": {\"gridcolor\": \"white\", \"linecolor\": \"white\", \"ticks\": \"\"}, \"bgcolor\": \"#E5ECF6\", \"radialaxis\": {\"gridcolor\": \"white\", \"linecolor\": \"white\", \"ticks\": \"\"}}, \"scene\": {\"xaxis\": {\"backgroundcolor\": \"#E5ECF6\", \"gridcolor\": \"white\", \"gridwidth\": 2, \"linecolor\": \"white\", \"showbackground\": true, \"ticks\": \"\", \"zerolinecolor\": \"white\"}, \"yaxis\": {\"backgroundcolor\": \"#E5ECF6\", \"gridcolor\": \"white\", \"gridwidth\": 2, \"linecolor\": \"white\", \"showbackground\": true, \"ticks\": \"\", \"zerolinecolor\": \"white\"}, \"zaxis\": {\"backgroundcolor\": \"#E5ECF6\", \"gridcolor\": \"white\", \"gridwidth\": 2, \"linecolor\": \"white\", \"showbackground\": true, \"ticks\": \"\", \"zerolinecolor\": \"white\"}}, \"shapedefaults\": {\"line\": {\"color\": \"#2a3f5f\"}}, \"ternary\": {\"aaxis\": {\"gridcolor\": \"white\", \"linecolor\": \"white\", \"ticks\": \"\"}, \"baxis\": {\"gridcolor\": \"white\", \"linecolor\": \"white\", \"ticks\": \"\"}, \"bgcolor\": \"#E5ECF6\", \"caxis\": {\"gridcolor\": \"white\", \"linecolor\": \"white\", \"ticks\": \"\"}}, \"title\": {\"x\": 0.05}, \"xaxis\": {\"automargin\": true, \"gridcolor\": \"white\", \"linecolor\": \"white\", \"ticks\": \"\", \"title\": {\"standoff\": 15}, \"zerolinecolor\": \"white\", \"zerolinewidth\": 2}, \"yaxis\": {\"automargin\": true, \"gridcolor\": \"white\", \"linecolor\": \"white\", \"ticks\": \"\", \"title\": {\"standoff\": 15}, \"zerolinecolor\": \"white\", \"zerolinewidth\": 2}}}, \"title\": {\"text\": \"Salario Maximo por Categoria de Empleo\"}, \"xaxis\": {\"anchor\": \"y\", \"domain\": [0.0, 1.0], \"title\": {\"text\": \"job_title\"}}, \"yaxis\": {\"anchor\": \"x\", \"domain\": [0.0, 1.0], \"title\": {\"text\": \"max_salary\"}}},\n",
              "                        {\"responsive\": true}\n",
              "                    ).then(function(){\n",
              "                            \n",
              "var gd = document.getElementById('81300c65-2f2a-484b-8119-f41c619cdbda');\n",
              "var x = new MutationObserver(function (mutations, observer) {{\n",
              "        var display = window.getComputedStyle(gd).display;\n",
              "        if (!display || display === 'none') {{\n",
              "            console.log([gd, 'removed!']);\n",
              "            Plotly.purge(gd);\n",
              "            observer.disconnect();\n",
              "        }}\n",
              "}});\n",
              "\n",
              "// Listen for the removal of the full notebook cells\n",
              "var notebookContainer = gd.closest('#notebook-container');\n",
              "if (notebookContainer) {{\n",
              "    x.observe(notebookContainer, {childList: true});\n",
              "}}\n",
              "\n",
              "// Listen for the clearing of the current output cell\n",
              "var outputEl = gd.closest('.output');\n",
              "if (outputEl) {{\n",
              "    x.observe(outputEl, {childList: true});\n",
              "}}\n",
              "\n",
              "                        })\n",
              "                };\n",
              "                \n",
              "            </script>\n",
              "        </div>\n",
              "</body>\n",
              "</html>"
            ]
          },
          "metadata": {}
        }
      ]
    },
    {
      "cell_type": "markdown",
      "metadata": {
        "id": "5QYdXQUsbam3"
      },
      "source": [
        "##Operaciones Aritméticas y Sentencia `AS`\n",
        "\n",
        "> Podemos crear una nueva columna en la tabla cuyas entradas sean una combinación lineal de los valores numéricos de otra columna dada, y también podemos nombrarla con un Alias usando la sentencia `as`.\n",
        "\n"
      ]
    },
    {
      "cell_type": "code",
      "metadata": {
        "colab": {
          "base_uri": "https://localhost:8080/",
          "height": 419
        },
        "id": "93uPI4x3bhcZ",
        "outputId": "72a7c4ea-1503-4b57-b699-38222ba4be15"
      },
      "source": [
        "# creando la Columna \"comission\"\n",
        "q4 = ('select first_name, last_name, salary, (salary*0.1) as comission from employees ')\n",
        "\n",
        "# Convert the SQL query to Pandas data Frame\n",
        "r4 = pd.read_sql(q4, con)\n",
        "r4"
      ],
      "execution_count": null,
      "outputs": [
        {
          "output_type": "execute_result",
          "data": {
            "text/html": [
              "<div>\n",
              "<style scoped>\n",
              "    .dataframe tbody tr th:only-of-type {\n",
              "        vertical-align: middle;\n",
              "    }\n",
              "\n",
              "    .dataframe tbody tr th {\n",
              "        vertical-align: top;\n",
              "    }\n",
              "\n",
              "    .dataframe thead th {\n",
              "        text-align: right;\n",
              "    }\n",
              "</style>\n",
              "<table border=\"1\" class=\"dataframe\">\n",
              "  <thead>\n",
              "    <tr style=\"text-align: right;\">\n",
              "      <th></th>\n",
              "      <th>first_name</th>\n",
              "      <th>last_name</th>\n",
              "      <th>salary</th>\n",
              "      <th>comission</th>\n",
              "    </tr>\n",
              "  </thead>\n",
              "  <tbody>\n",
              "    <tr>\n",
              "      <th>0</th>\n",
              "      <td>Steven</td>\n",
              "      <td>King</td>\n",
              "      <td>24,000.00</td>\n",
              "      <td>2,400.00</td>\n",
              "    </tr>\n",
              "    <tr>\n",
              "      <th>1</th>\n",
              "      <td>Neena</td>\n",
              "      <td>Kochhar</td>\n",
              "      <td>17,000.00</td>\n",
              "      <td>1,700.00</td>\n",
              "    </tr>\n",
              "    <tr>\n",
              "      <th>2</th>\n",
              "      <td>Lex</td>\n",
              "      <td>De Haan</td>\n",
              "      <td>17,000.00</td>\n",
              "      <td>1,700.00</td>\n",
              "    </tr>\n",
              "    <tr>\n",
              "      <th>3</th>\n",
              "      <td>Alexander</td>\n",
              "      <td>Hunold</td>\n",
              "      <td>9,000.00</td>\n",
              "      <td>900.00</td>\n",
              "    </tr>\n",
              "    <tr>\n",
              "      <th>4</th>\n",
              "      <td>Bruce</td>\n",
              "      <td>Ernst</td>\n",
              "      <td>6,000.00</td>\n",
              "      <td>600.00</td>\n",
              "    </tr>\n",
              "    <tr>\n",
              "      <th>...</th>\n",
              "      <td>...</td>\n",
              "      <td>...</td>\n",
              "      <td>...</td>\n",
              "      <td>...</td>\n",
              "    </tr>\n",
              "    <tr>\n",
              "      <th>35</th>\n",
              "      <td>Pat</td>\n",
              "      <td>Fay</td>\n",
              "      <td>6,000.00</td>\n",
              "      <td>600.00</td>\n",
              "    </tr>\n",
              "    <tr>\n",
              "      <th>36</th>\n",
              "      <td>Susan</td>\n",
              "      <td>Mavris</td>\n",
              "      <td>6,500.00</td>\n",
              "      <td>650.00</td>\n",
              "    </tr>\n",
              "    <tr>\n",
              "      <th>37</th>\n",
              "      <td>Hermann</td>\n",
              "      <td>Baer</td>\n",
              "      <td>10,000.00</td>\n",
              "      <td>1,000.00</td>\n",
              "    </tr>\n",
              "    <tr>\n",
              "      <th>38</th>\n",
              "      <td>Shelley</td>\n",
              "      <td>Higgins</td>\n",
              "      <td>12,000.00</td>\n",
              "      <td>1,200.00</td>\n",
              "    </tr>\n",
              "    <tr>\n",
              "      <th>39</th>\n",
              "      <td>William</td>\n",
              "      <td>Gietz</td>\n",
              "      <td>8,300.00</td>\n",
              "      <td>830.00</td>\n",
              "    </tr>\n",
              "  </tbody>\n",
              "</table>\n",
              "<p>40 rows × 4 columns</p>\n",
              "</div>"
            ],
            "text/plain": [
              "   first_name last_name    salary  comission\n",
              "0      Steven      King 24,000.00   2,400.00\n",
              "1       Neena   Kochhar 17,000.00   1,700.00\n",
              "2         Lex   De Haan 17,000.00   1,700.00\n",
              "3   Alexander    Hunold  9,000.00     900.00\n",
              "4       Bruce     Ernst  6,000.00     600.00\n",
              "..        ...       ...       ...        ...\n",
              "35        Pat       Fay  6,000.00     600.00\n",
              "36      Susan    Mavris  6,500.00     650.00\n",
              "37    Hermann      Baer 10,000.00   1,000.00\n",
              "38    Shelley   Higgins 12,000.00   1,200.00\n",
              "39    William     Gietz  8,300.00     830.00\n",
              "\n",
              "[40 rows x 4 columns]"
            ]
          },
          "metadata": {},
          "execution_count": 87
        }
      ]
    },
    {
      "cell_type": "markdown",
      "metadata": {
        "id": "x_kaG4LVz-1h"
      },
      "source": [
        "## Sentencia `BETWEEN`\n",
        "> Podemos hacer consultas entre rangos numéricos, mediante `BETWEEN`\n",
        "\n",
        "\n",
        "\n"
      ]
    },
    {
      "cell_type": "code",
      "metadata": {
        "colab": {
          "base_uri": "https://localhost:8080/",
          "height": 419
        },
        "id": "HHKgyoe8wptx",
        "outputId": "9087b912-5cb6-49b2-8203-b75ab63c81ae"
      },
      "source": [
        "# Consulta a SQL para vaer un rango específico\n",
        "q5 = ('SELECT employee_id, first_name, last_name, email FROM employees WHERE employee_id BETWEEN 100 AND 150; ')\n",
        "\n",
        "# Convert the SQL query to Pandas data Frame\n",
        "r5 = pd.read_sql(q5, con)\n",
        "r5"
      ],
      "execution_count": null,
      "outputs": [
        {
          "output_type": "execute_result",
          "data": {
            "text/html": [
              "<div>\n",
              "<style scoped>\n",
              "    .dataframe tbody tr th:only-of-type {\n",
              "        vertical-align: middle;\n",
              "    }\n",
              "\n",
              "    .dataframe tbody tr th {\n",
              "        vertical-align: top;\n",
              "    }\n",
              "\n",
              "    .dataframe thead th {\n",
              "        text-align: right;\n",
              "    }\n",
              "</style>\n",
              "<table border=\"1\" class=\"dataframe\">\n",
              "  <thead>\n",
              "    <tr style=\"text-align: right;\">\n",
              "      <th></th>\n",
              "      <th>employee_id</th>\n",
              "      <th>first_name</th>\n",
              "      <th>last_name</th>\n",
              "      <th>email</th>\n",
              "    </tr>\n",
              "  </thead>\n",
              "  <tbody>\n",
              "    <tr>\n",
              "      <th>0</th>\n",
              "      <td>100</td>\n",
              "      <td>Steven</td>\n",
              "      <td>King</td>\n",
              "      <td>steven.king@sqltutorial.org</td>\n",
              "    </tr>\n",
              "    <tr>\n",
              "      <th>1</th>\n",
              "      <td>101</td>\n",
              "      <td>Neena</td>\n",
              "      <td>Kochhar</td>\n",
              "      <td>neena.kochhar@sqltutorial.org</td>\n",
              "    </tr>\n",
              "    <tr>\n",
              "      <th>2</th>\n",
              "      <td>102</td>\n",
              "      <td>Lex</td>\n",
              "      <td>De Haan</td>\n",
              "      <td>lex.de haan@sqltutorial.org</td>\n",
              "    </tr>\n",
              "    <tr>\n",
              "      <th>3</th>\n",
              "      <td>103</td>\n",
              "      <td>Alexander</td>\n",
              "      <td>Hunold</td>\n",
              "      <td>alexander.hunold@sqltutorial.org</td>\n",
              "    </tr>\n",
              "    <tr>\n",
              "      <th>4</th>\n",
              "      <td>104</td>\n",
              "      <td>Bruce</td>\n",
              "      <td>Ernst</td>\n",
              "      <td>bruce.ernst@sqltutorial.org</td>\n",
              "    </tr>\n",
              "    <tr>\n",
              "      <th>...</th>\n",
              "      <td>...</td>\n",
              "      <td>...</td>\n",
              "      <td>...</td>\n",
              "      <td>...</td>\n",
              "    </tr>\n",
              "    <tr>\n",
              "      <th>22</th>\n",
              "      <td>122</td>\n",
              "      <td>Payam</td>\n",
              "      <td>Kaufling</td>\n",
              "      <td>payam.kaufling@sqltutorial.org</td>\n",
              "    </tr>\n",
              "    <tr>\n",
              "      <th>23</th>\n",
              "      <td>123</td>\n",
              "      <td>Shanta</td>\n",
              "      <td>Vollman</td>\n",
              "      <td>shanta.vollman@sqltutorial.org</td>\n",
              "    </tr>\n",
              "    <tr>\n",
              "      <th>24</th>\n",
              "      <td>126</td>\n",
              "      <td>Irene</td>\n",
              "      <td>Mikkilineni</td>\n",
              "      <td>irene.mikkilineni@sqltutorial.org</td>\n",
              "    </tr>\n",
              "    <tr>\n",
              "      <th>25</th>\n",
              "      <td>145</td>\n",
              "      <td>John</td>\n",
              "      <td>Russell</td>\n",
              "      <td>john.russell@sqltutorial.org</td>\n",
              "    </tr>\n",
              "    <tr>\n",
              "      <th>26</th>\n",
              "      <td>146</td>\n",
              "      <td>Karen</td>\n",
              "      <td>Partners</td>\n",
              "      <td>karen.partners@sqltutorial.org</td>\n",
              "    </tr>\n",
              "  </tbody>\n",
              "</table>\n",
              "<p>27 rows × 4 columns</p>\n",
              "</div>"
            ],
            "text/plain": [
              "    employee_id first_name    last_name                              email\n",
              "0           100     Steven         King        steven.king@sqltutorial.org\n",
              "1           101      Neena      Kochhar      neena.kochhar@sqltutorial.org\n",
              "2           102        Lex      De Haan        lex.de haan@sqltutorial.org\n",
              "3           103  Alexander       Hunold   alexander.hunold@sqltutorial.org\n",
              "4           104      Bruce        Ernst        bruce.ernst@sqltutorial.org\n",
              "..          ...        ...          ...                                ...\n",
              "22          122      Payam     Kaufling     payam.kaufling@sqltutorial.org\n",
              "23          123     Shanta      Vollman     shanta.vollman@sqltutorial.org\n",
              "24          126      Irene  Mikkilineni  irene.mikkilineni@sqltutorial.org\n",
              "25          145       John      Russell       john.russell@sqltutorial.org\n",
              "26          146      Karen     Partners     karen.partners@sqltutorial.org\n",
              "\n",
              "[27 rows x 4 columns]"
            ]
          },
          "metadata": {},
          "execution_count": 88
        }
      ]
    },
    {
      "cell_type": "markdown",
      "metadata": {
        "id": "9o1r9efT5U_m"
      },
      "source": [
        "##Función `SUM`"
      ]
    },
    {
      "cell_type": "code",
      "metadata": {
        "colab": {
          "base_uri": "https://localhost:8080/",
          "height": 80
        },
        "id": "9f01Jdes4_KD",
        "outputId": "6cab8ed0-c0d4-4715-f8b5-dfc85c635249"
      },
      "source": [
        "# Consulta a SQL para ver el total pagado por concepto de salarios\n",
        "q5 = ('SELECT SUM(salary) as summary FROM employees; ')\n",
        "\n",
        "# Convert the SQL query to Pandas data Frame\n",
        "r5 = pd.read_sql(q5, con)\n",
        "r5"
      ],
      "execution_count": null,
      "outputs": [
        {
          "output_type": "execute_result",
          "data": {
            "text/html": [
              "<div>\n",
              "<style scoped>\n",
              "    .dataframe tbody tr th:only-of-type {\n",
              "        vertical-align: middle;\n",
              "    }\n",
              "\n",
              "    .dataframe tbody tr th {\n",
              "        vertical-align: top;\n",
              "    }\n",
              "\n",
              "    .dataframe thead th {\n",
              "        text-align: right;\n",
              "    }\n",
              "</style>\n",
              "<table border=\"1\" class=\"dataframe\">\n",
              "  <thead>\n",
              "    <tr style=\"text-align: right;\">\n",
              "      <th></th>\n",
              "      <th>summary</th>\n",
              "    </tr>\n",
              "  </thead>\n",
              "  <tbody>\n",
              "    <tr>\n",
              "      <th>0</th>\n",
              "      <td>322,400.00</td>\n",
              "    </tr>\n",
              "  </tbody>\n",
              "</table>\n",
              "</div>"
            ],
            "text/plain": [
              "     summary\n",
              "0 322,400.00"
            ]
          },
          "metadata": {},
          "execution_count": 89
        }
      ]
    },
    {
      "cell_type": "markdown",
      "metadata": {
        "id": "xaPBuj1T6HNR"
      },
      "source": [
        "##Agrupando datos con `GROUP BY`\n",
        "\n",
        "> Si queremos agrupar datos usamos la sentencia `GROUP BY`\n",
        "\n"
      ]
    },
    {
      "cell_type": "code",
      "metadata": {
        "colab": {
          "base_uri": "https://localhost:8080/",
          "height": 419
        },
        "id": "4j-wFuQm6jiK",
        "outputId": "3707599d-86e2-47ba-ba73-930685f8dc10"
      },
      "source": [
        "# Consulta a SQL para ver el total pagado por concepto de salarios por Departamento\n",
        "q6 = (\n",
        "      'SELECT department_id, SUM(salary) AS summary '\n",
        "      'FROM employees '\n",
        "      'GROUP BY department_id'\n",
        "     )\n",
        "\n",
        "# Convert the SQL query to Pandas data Frame\n",
        "r6 = pd.read_sql(q6, con)\n",
        "r6"
      ],
      "execution_count": null,
      "outputs": [
        {
          "output_type": "execute_result",
          "data": {
            "text/html": [
              "<div>\n",
              "<style scoped>\n",
              "    .dataframe tbody tr th:only-of-type {\n",
              "        vertical-align: middle;\n",
              "    }\n",
              "\n",
              "    .dataframe tbody tr th {\n",
              "        vertical-align: top;\n",
              "    }\n",
              "\n",
              "    .dataframe thead th {\n",
              "        text-align: right;\n",
              "    }\n",
              "</style>\n",
              "<table border=\"1\" class=\"dataframe\">\n",
              "  <thead>\n",
              "    <tr style=\"text-align: right;\">\n",
              "      <th></th>\n",
              "      <th>department_id</th>\n",
              "      <th>summary</th>\n",
              "    </tr>\n",
              "  </thead>\n",
              "  <tbody>\n",
              "    <tr>\n",
              "      <th>0</th>\n",
              "      <td>1</td>\n",
              "      <td>4,400.00</td>\n",
              "    </tr>\n",
              "    <tr>\n",
              "      <th>1</th>\n",
              "      <td>2</td>\n",
              "      <td>19,000.00</td>\n",
              "    </tr>\n",
              "    <tr>\n",
              "      <th>2</th>\n",
              "      <td>3</td>\n",
              "      <td>24,900.00</td>\n",
              "    </tr>\n",
              "    <tr>\n",
              "      <th>3</th>\n",
              "      <td>4</td>\n",
              "      <td>6,500.00</td>\n",
              "    </tr>\n",
              "    <tr>\n",
              "      <th>4</th>\n",
              "      <td>5</td>\n",
              "      <td>41,200.00</td>\n",
              "    </tr>\n",
              "    <tr>\n",
              "      <th>...</th>\n",
              "      <td>...</td>\n",
              "      <td>...</td>\n",
              "    </tr>\n",
              "    <tr>\n",
              "      <th>6</th>\n",
              "      <td>7</td>\n",
              "      <td>10,000.00</td>\n",
              "    </tr>\n",
              "    <tr>\n",
              "      <th>7</th>\n",
              "      <td>8</td>\n",
              "      <td>57,700.00</td>\n",
              "    </tr>\n",
              "    <tr>\n",
              "      <th>8</th>\n",
              "      <td>9</td>\n",
              "      <td>58,000.00</td>\n",
              "    </tr>\n",
              "    <tr>\n",
              "      <th>9</th>\n",
              "      <td>10</td>\n",
              "      <td>51,600.00</td>\n",
              "    </tr>\n",
              "    <tr>\n",
              "      <th>10</th>\n",
              "      <td>11</td>\n",
              "      <td>20,300.00</td>\n",
              "    </tr>\n",
              "  </tbody>\n",
              "</table>\n",
              "<p>11 rows × 2 columns</p>\n",
              "</div>"
            ],
            "text/plain": [
              "    department_id   summary\n",
              "0               1  4,400.00\n",
              "1               2 19,000.00\n",
              "2               3 24,900.00\n",
              "3               4  6,500.00\n",
              "4               5 41,200.00\n",
              "..            ...       ...\n",
              "6               7 10,000.00\n",
              "7               8 57,700.00\n",
              "8               9 58,000.00\n",
              "9              10 51,600.00\n",
              "10             11 20,300.00\n",
              "\n",
              "[11 rows x 2 columns]"
            ]
          },
          "metadata": {},
          "execution_count": 90
        }
      ]
    },
    {
      "cell_type": "markdown",
      "metadata": {
        "id": "2gSGjp1FBHuc"
      },
      "source": [
        "Note que se muestra los totales de gastos por salario agrupado por departamento, pero no vemos con detalle el nombre del departamento, sino solo su id. A la hora de general un reporte, ver el nombre del departamento aportaria mas al detalle.  Veamos como ver el nombre del departamento"
      ]
    },
    {
      "cell_type": "markdown",
      "metadata": {
        "id": "ozJ-AGxuCPrr"
      },
      "source": [
        "##Funcion `INNER JOIN`\n",
        "\n",
        "> Me va a traer la información de los datos que están en común entre dos tablas.\n",
        "\n",
        "\n",
        "\n",
        "> Revisa el modelo de Entidad- Relación de nuestra base de datos en el siguiente [Link](https://github.com/andresrosso/resources/blob/main/images/schema.png)\n",
        "\n",
        "\n",
        "\n",
        "\n",
        "\n",
        "\n"
      ]
    },
    {
      "cell_type": "markdown",
      "metadata": {
        "id": "c56NXKKURO7E"
      },
      "source": [
        "###Ejemplo 1\n",
        "\n",
        "\n",
        "> Queremos ver el total de salario pagados por departamentos. Para ello, Seleccionamos las columnas de las tablas que me vinculan la información necesaria haciendo uso de los Alias e intersectamos ambas tablas con la columna que tiene en comun (department_id) y las agrupamos bajo un criterio conveniente (department_name). Veamos:\n",
        "\n"
      ]
    },
    {
      "cell_type": "code",
      "metadata": {
        "colab": {
          "base_uri": "https://localhost:8080/",
          "height": 419
        },
        "id": "ZfKvh3G_DYyG",
        "outputId": "09f3060f-1f22-4898-f65c-2de648f16a99"
      },
      "source": [
        "# Consulta a SQL para ver el total pagado por concepto de salarios\n",
        "q7 = (\n",
        "      'SELECT d.department_name, SUM(e.salary) AS summary '\n",
        "      'FROM employees e '\n",
        "      'INNER JOIN departments d ON e.department_id = d.department_id'\n",
        "      ' GROUP BY d.department_name;'\n",
        "     )\n",
        "\n",
        "# Convert the SQL query to Pandas data Frame\n",
        "r7 = pd.read_sql(q7, con)\n",
        "r7"
      ],
      "execution_count": null,
      "outputs": [
        {
          "output_type": "execute_result",
          "data": {
            "text/html": [
              "<div>\n",
              "<style scoped>\n",
              "    .dataframe tbody tr th:only-of-type {\n",
              "        vertical-align: middle;\n",
              "    }\n",
              "\n",
              "    .dataframe tbody tr th {\n",
              "        vertical-align: top;\n",
              "    }\n",
              "\n",
              "    .dataframe thead th {\n",
              "        text-align: right;\n",
              "    }\n",
              "</style>\n",
              "<table border=\"1\" class=\"dataframe\">\n",
              "  <thead>\n",
              "    <tr style=\"text-align: right;\">\n",
              "      <th></th>\n",
              "      <th>department_name</th>\n",
              "      <th>summary</th>\n",
              "    </tr>\n",
              "  </thead>\n",
              "  <tbody>\n",
              "    <tr>\n",
              "      <th>0</th>\n",
              "      <td>Accounting</td>\n",
              "      <td>20,300.00</td>\n",
              "    </tr>\n",
              "    <tr>\n",
              "      <th>1</th>\n",
              "      <td>Administration</td>\n",
              "      <td>4,400.00</td>\n",
              "    </tr>\n",
              "    <tr>\n",
              "      <th>2</th>\n",
              "      <td>Executive</td>\n",
              "      <td>58,000.00</td>\n",
              "    </tr>\n",
              "    <tr>\n",
              "      <th>3</th>\n",
              "      <td>Finance</td>\n",
              "      <td>51,600.00</td>\n",
              "    </tr>\n",
              "    <tr>\n",
              "      <th>4</th>\n",
              "      <td>Human Resources</td>\n",
              "      <td>6,500.00</td>\n",
              "    </tr>\n",
              "    <tr>\n",
              "      <th>...</th>\n",
              "      <td>...</td>\n",
              "      <td>...</td>\n",
              "    </tr>\n",
              "    <tr>\n",
              "      <th>6</th>\n",
              "      <td>Marketing</td>\n",
              "      <td>19,000.00</td>\n",
              "    </tr>\n",
              "    <tr>\n",
              "      <th>7</th>\n",
              "      <td>Public Relations</td>\n",
              "      <td>10,000.00</td>\n",
              "    </tr>\n",
              "    <tr>\n",
              "      <th>8</th>\n",
              "      <td>Purchasing</td>\n",
              "      <td>24,900.00</td>\n",
              "    </tr>\n",
              "    <tr>\n",
              "      <th>9</th>\n",
              "      <td>Sales</td>\n",
              "      <td>57,700.00</td>\n",
              "    </tr>\n",
              "    <tr>\n",
              "      <th>10</th>\n",
              "      <td>Shipping</td>\n",
              "      <td>41,200.00</td>\n",
              "    </tr>\n",
              "  </tbody>\n",
              "</table>\n",
              "<p>11 rows × 2 columns</p>\n",
              "</div>"
            ],
            "text/plain": [
              "     department_name   summary\n",
              "0         Accounting 20,300.00\n",
              "1     Administration  4,400.00\n",
              "2          Executive 58,000.00\n",
              "3            Finance 51,600.00\n",
              "4    Human Resources  6,500.00\n",
              "..               ...       ...\n",
              "6          Marketing 19,000.00\n",
              "7   Public Relations 10,000.00\n",
              "8         Purchasing 24,900.00\n",
              "9              Sales 57,700.00\n",
              "10          Shipping 41,200.00\n",
              "\n",
              "[11 rows x 2 columns]"
            ]
          },
          "metadata": {},
          "execution_count": 91
        }
      ]
    },
    {
      "cell_type": "markdown",
      "metadata": {
        "id": "ptQduhx4IoQo"
      },
      "source": [
        "##Graficando Datos"
      ]
    },
    {
      "cell_type": "code",
      "metadata": {
        "colab": {
          "base_uri": "https://localhost:8080/",
          "height": 542
        },
        "id": "nExRjT09H1qZ",
        "outputId": "7a6e6a79-33e6-450f-d957-b3b5426dbac6"
      },
      "source": [
        "# Graficando los salarios máximos por categoría de Empleo\n",
        "fig2 = px.line(r7, x=\"department_name\", y=\"summary\", title='Salario Total por Departamento')\n",
        "fig2.show()"
      ],
      "execution_count": null,
      "outputs": [
        {
          "output_type": "display_data",
          "data": {
            "text/html": [
              "<html>\n",
              "<head><meta charset=\"utf-8\" /></head>\n",
              "<body>\n",
              "    <div>\n",
              "            <script src=\"https://cdnjs.cloudflare.com/ajax/libs/mathjax/2.7.5/MathJax.js?config=TeX-AMS-MML_SVG\"></script><script type=\"text/javascript\">if (window.MathJax) {MathJax.Hub.Config({SVG: {font: \"STIX-Web\"}});}</script>\n",
              "                <script type=\"text/javascript\">window.PlotlyConfig = {MathJaxConfig: 'local'};</script>\n",
              "        <script src=\"https://cdn.plot.ly/plotly-latest.min.js\"></script>    \n",
              "            <div id=\"b7caebc9-278d-4d34-9ce9-67cdfd1aa521\" class=\"plotly-graph-div\" style=\"height:525px; width:100%;\"></div>\n",
              "            <script type=\"text/javascript\">\n",
              "                \n",
              "                    window.PLOTLYENV=window.PLOTLYENV || {};\n",
              "                    \n",
              "                if (document.getElementById(\"b7caebc9-278d-4d34-9ce9-67cdfd1aa521\")) {\n",
              "                    Plotly.newPlot(\n",
              "                        'b7caebc9-278d-4d34-9ce9-67cdfd1aa521',\n",
              "                        [{\"hoverlabel\": {\"namelength\": 0}, \"hovertemplate\": \"department_name=%{x}<br>summary=%{y}\", \"legendgroup\": \"\", \"line\": {\"color\": \"#636efa\", \"dash\": \"solid\"}, \"mode\": \"lines\", \"name\": \"\", \"showlegend\": false, \"type\": \"scatter\", \"x\": [\"Accounting\", \"Administration\", \"Executive\", \"Finance\", \"Human Resources\", \"IT\", \"Marketing\", \"Public Relations\", \"Purchasing\", \"Sales\", \"Shipping\"], \"xaxis\": \"x\", \"y\": [20300.0, 4400.0, 58000.0, 51600.0, 6500.0, 28800.0, 19000.0, 10000.0, 24900.0, 57700.0, 41200.0], \"yaxis\": \"y\"}],\n",
              "                        {\"legend\": {\"tracegroupgap\": 0}, \"template\": {\"data\": {\"bar\": [{\"error_x\": {\"color\": \"#2a3f5f\"}, \"error_y\": {\"color\": \"#2a3f5f\"}, \"marker\": {\"line\": {\"color\": \"#E5ECF6\", \"width\": 0.5}}, \"type\": \"bar\"}], \"barpolar\": [{\"marker\": {\"line\": {\"color\": \"#E5ECF6\", \"width\": 0.5}}, \"type\": \"barpolar\"}], \"carpet\": [{\"aaxis\": {\"endlinecolor\": \"#2a3f5f\", \"gridcolor\": \"white\", \"linecolor\": \"white\", \"minorgridcolor\": \"white\", \"startlinecolor\": \"#2a3f5f\"}, \"baxis\": {\"endlinecolor\": \"#2a3f5f\", \"gridcolor\": \"white\", \"linecolor\": \"white\", \"minorgridcolor\": \"white\", \"startlinecolor\": \"#2a3f5f\"}, \"type\": \"carpet\"}], \"choropleth\": [{\"colorbar\": {\"outlinewidth\": 0, \"ticks\": \"\"}, \"type\": \"choropleth\"}], \"contour\": [{\"colorbar\": {\"outlinewidth\": 0, \"ticks\": \"\"}, \"colorscale\": [[0.0, \"#0d0887\"], [0.1111111111111111, \"#46039f\"], [0.2222222222222222, \"#7201a8\"], [0.3333333333333333, \"#9c179e\"], [0.4444444444444444, \"#bd3786\"], [0.5555555555555556, \"#d8576b\"], [0.6666666666666666, \"#ed7953\"], [0.7777777777777778, \"#fb9f3a\"], [0.8888888888888888, \"#fdca26\"], [1.0, \"#f0f921\"]], \"type\": \"contour\"}], \"contourcarpet\": [{\"colorbar\": {\"outlinewidth\": 0, \"ticks\": \"\"}, \"type\": \"contourcarpet\"}], \"heatmap\": [{\"colorbar\": {\"outlinewidth\": 0, \"ticks\": \"\"}, \"colorscale\": [[0.0, \"#0d0887\"], [0.1111111111111111, \"#46039f\"], [0.2222222222222222, \"#7201a8\"], [0.3333333333333333, \"#9c179e\"], [0.4444444444444444, \"#bd3786\"], [0.5555555555555556, \"#d8576b\"], [0.6666666666666666, \"#ed7953\"], [0.7777777777777778, \"#fb9f3a\"], [0.8888888888888888, \"#fdca26\"], [1.0, \"#f0f921\"]], \"type\": \"heatmap\"}], \"heatmapgl\": [{\"colorbar\": {\"outlinewidth\": 0, \"ticks\": \"\"}, \"colorscale\": [[0.0, \"#0d0887\"], [0.1111111111111111, \"#46039f\"], [0.2222222222222222, \"#7201a8\"], [0.3333333333333333, \"#9c179e\"], [0.4444444444444444, \"#bd3786\"], [0.5555555555555556, \"#d8576b\"], [0.6666666666666666, \"#ed7953\"], [0.7777777777777778, \"#fb9f3a\"], [0.8888888888888888, \"#fdca26\"], [1.0, \"#f0f921\"]], \"type\": \"heatmapgl\"}], \"histogram\": [{\"marker\": {\"colorbar\": {\"outlinewidth\": 0, \"ticks\": \"\"}}, \"type\": \"histogram\"}], \"histogram2d\": [{\"colorbar\": {\"outlinewidth\": 0, \"ticks\": \"\"}, \"colorscale\": [[0.0, \"#0d0887\"], [0.1111111111111111, \"#46039f\"], [0.2222222222222222, \"#7201a8\"], [0.3333333333333333, \"#9c179e\"], [0.4444444444444444, \"#bd3786\"], [0.5555555555555556, \"#d8576b\"], [0.6666666666666666, \"#ed7953\"], [0.7777777777777778, \"#fb9f3a\"], [0.8888888888888888, \"#fdca26\"], [1.0, \"#f0f921\"]], \"type\": \"histogram2d\"}], \"histogram2dcontour\": [{\"colorbar\": {\"outlinewidth\": 0, \"ticks\": \"\"}, \"colorscale\": [[0.0, \"#0d0887\"], [0.1111111111111111, \"#46039f\"], [0.2222222222222222, \"#7201a8\"], [0.3333333333333333, \"#9c179e\"], [0.4444444444444444, \"#bd3786\"], [0.5555555555555556, \"#d8576b\"], [0.6666666666666666, \"#ed7953\"], [0.7777777777777778, \"#fb9f3a\"], [0.8888888888888888, \"#fdca26\"], [1.0, \"#f0f921\"]], \"type\": \"histogram2dcontour\"}], \"mesh3d\": [{\"colorbar\": {\"outlinewidth\": 0, \"ticks\": \"\"}, \"type\": \"mesh3d\"}], \"parcoords\": [{\"line\": {\"colorbar\": {\"outlinewidth\": 0, \"ticks\": \"\"}}, \"type\": \"parcoords\"}], \"pie\": [{\"automargin\": true, \"type\": \"pie\"}], \"scatter\": [{\"marker\": {\"colorbar\": {\"outlinewidth\": 0, \"ticks\": \"\"}}, \"type\": \"scatter\"}], \"scatter3d\": [{\"line\": {\"colorbar\": {\"outlinewidth\": 0, \"ticks\": \"\"}}, \"marker\": {\"colorbar\": {\"outlinewidth\": 0, \"ticks\": \"\"}}, \"type\": \"scatter3d\"}], \"scattercarpet\": [{\"marker\": {\"colorbar\": {\"outlinewidth\": 0, \"ticks\": \"\"}}, \"type\": \"scattercarpet\"}], \"scattergeo\": [{\"marker\": {\"colorbar\": {\"outlinewidth\": 0, \"ticks\": \"\"}}, \"type\": \"scattergeo\"}], \"scattergl\": [{\"marker\": {\"colorbar\": {\"outlinewidth\": 0, \"ticks\": \"\"}}, \"type\": \"scattergl\"}], \"scattermapbox\": [{\"marker\": {\"colorbar\": {\"outlinewidth\": 0, \"ticks\": \"\"}}, \"type\": \"scattermapbox\"}], \"scatterpolar\": [{\"marker\": {\"colorbar\": {\"outlinewidth\": 0, \"ticks\": \"\"}}, \"type\": \"scatterpolar\"}], \"scatterpolargl\": [{\"marker\": {\"colorbar\": {\"outlinewidth\": 0, \"ticks\": \"\"}}, \"type\": \"scatterpolargl\"}], \"scatterternary\": [{\"marker\": {\"colorbar\": {\"outlinewidth\": 0, \"ticks\": \"\"}}, \"type\": \"scatterternary\"}], \"surface\": [{\"colorbar\": {\"outlinewidth\": 0, \"ticks\": \"\"}, \"colorscale\": [[0.0, \"#0d0887\"], [0.1111111111111111, \"#46039f\"], [0.2222222222222222, \"#7201a8\"], [0.3333333333333333, \"#9c179e\"], [0.4444444444444444, \"#bd3786\"], [0.5555555555555556, \"#d8576b\"], [0.6666666666666666, \"#ed7953\"], [0.7777777777777778, \"#fb9f3a\"], [0.8888888888888888, \"#fdca26\"], [1.0, \"#f0f921\"]], \"type\": \"surface\"}], \"table\": [{\"cells\": {\"fill\": {\"color\": \"#EBF0F8\"}, \"line\": {\"color\": \"white\"}}, \"header\": {\"fill\": {\"color\": \"#C8D4E3\"}, \"line\": {\"color\": \"white\"}}, \"type\": \"table\"}]}, \"layout\": {\"annotationdefaults\": {\"arrowcolor\": \"#2a3f5f\", \"arrowhead\": 0, \"arrowwidth\": 1}, \"coloraxis\": {\"colorbar\": {\"outlinewidth\": 0, \"ticks\": \"\"}}, \"colorscale\": {\"diverging\": [[0, \"#8e0152\"], [0.1, \"#c51b7d\"], [0.2, \"#de77ae\"], [0.3, \"#f1b6da\"], [0.4, \"#fde0ef\"], [0.5, \"#f7f7f7\"], [0.6, \"#e6f5d0\"], [0.7, \"#b8e186\"], [0.8, \"#7fbc41\"], [0.9, \"#4d9221\"], [1, \"#276419\"]], \"sequential\": [[0.0, \"#0d0887\"], [0.1111111111111111, \"#46039f\"], [0.2222222222222222, \"#7201a8\"], [0.3333333333333333, \"#9c179e\"], [0.4444444444444444, \"#bd3786\"], [0.5555555555555556, \"#d8576b\"], [0.6666666666666666, \"#ed7953\"], [0.7777777777777778, \"#fb9f3a\"], [0.8888888888888888, \"#fdca26\"], [1.0, \"#f0f921\"]], \"sequentialminus\": [[0.0, \"#0d0887\"], [0.1111111111111111, \"#46039f\"], [0.2222222222222222, \"#7201a8\"], [0.3333333333333333, \"#9c179e\"], [0.4444444444444444, \"#bd3786\"], [0.5555555555555556, \"#d8576b\"], [0.6666666666666666, \"#ed7953\"], [0.7777777777777778, \"#fb9f3a\"], [0.8888888888888888, \"#fdca26\"], [1.0, \"#f0f921\"]]}, \"colorway\": [\"#636efa\", \"#EF553B\", \"#00cc96\", \"#ab63fa\", \"#FFA15A\", \"#19d3f3\", \"#FF6692\", \"#B6E880\", \"#FF97FF\", \"#FECB52\"], \"font\": {\"color\": \"#2a3f5f\"}, \"geo\": {\"bgcolor\": \"white\", \"lakecolor\": \"white\", \"landcolor\": \"#E5ECF6\", \"showlakes\": true, \"showland\": true, \"subunitcolor\": \"white\"}, \"hoverlabel\": {\"align\": \"left\"}, \"hovermode\": \"closest\", \"mapbox\": {\"style\": \"light\"}, \"paper_bgcolor\": \"white\", \"plot_bgcolor\": \"#E5ECF6\", \"polar\": {\"angularaxis\": {\"gridcolor\": \"white\", \"linecolor\": \"white\", \"ticks\": \"\"}, \"bgcolor\": \"#E5ECF6\", \"radialaxis\": {\"gridcolor\": \"white\", \"linecolor\": \"white\", \"ticks\": \"\"}}, \"scene\": {\"xaxis\": {\"backgroundcolor\": \"#E5ECF6\", \"gridcolor\": \"white\", \"gridwidth\": 2, \"linecolor\": \"white\", \"showbackground\": true, \"ticks\": \"\", \"zerolinecolor\": \"white\"}, \"yaxis\": {\"backgroundcolor\": \"#E5ECF6\", \"gridcolor\": \"white\", \"gridwidth\": 2, \"linecolor\": \"white\", \"showbackground\": true, \"ticks\": \"\", \"zerolinecolor\": \"white\"}, \"zaxis\": {\"backgroundcolor\": \"#E5ECF6\", \"gridcolor\": \"white\", \"gridwidth\": 2, \"linecolor\": \"white\", \"showbackground\": true, \"ticks\": \"\", \"zerolinecolor\": \"white\"}}, \"shapedefaults\": {\"line\": {\"color\": \"#2a3f5f\"}}, \"ternary\": {\"aaxis\": {\"gridcolor\": \"white\", \"linecolor\": \"white\", \"ticks\": \"\"}, \"baxis\": {\"gridcolor\": \"white\", \"linecolor\": \"white\", \"ticks\": \"\"}, \"bgcolor\": \"#E5ECF6\", \"caxis\": {\"gridcolor\": \"white\", \"linecolor\": \"white\", \"ticks\": \"\"}}, \"title\": {\"x\": 0.05}, \"xaxis\": {\"automargin\": true, \"gridcolor\": \"white\", \"linecolor\": \"white\", \"ticks\": \"\", \"title\": {\"standoff\": 15}, \"zerolinecolor\": \"white\", \"zerolinewidth\": 2}, \"yaxis\": {\"automargin\": true, \"gridcolor\": \"white\", \"linecolor\": \"white\", \"ticks\": \"\", \"title\": {\"standoff\": 15}, \"zerolinecolor\": \"white\", \"zerolinewidth\": 2}}}, \"title\": {\"text\": \"Salario Total por Departamento\"}, \"xaxis\": {\"anchor\": \"y\", \"domain\": [0.0, 1.0], \"title\": {\"text\": \"department_name\"}}, \"yaxis\": {\"anchor\": \"x\", \"domain\": [0.0, 1.0], \"title\": {\"text\": \"summary\"}}},\n",
              "                        {\"responsive\": true}\n",
              "                    ).then(function(){\n",
              "                            \n",
              "var gd = document.getElementById('b7caebc9-278d-4d34-9ce9-67cdfd1aa521');\n",
              "var x = new MutationObserver(function (mutations, observer) {{\n",
              "        var display = window.getComputedStyle(gd).display;\n",
              "        if (!display || display === 'none') {{\n",
              "            console.log([gd, 'removed!']);\n",
              "            Plotly.purge(gd);\n",
              "            observer.disconnect();\n",
              "        }}\n",
              "}});\n",
              "\n",
              "// Listen for the removal of the full notebook cells\n",
              "var notebookContainer = gd.closest('#notebook-container');\n",
              "if (notebookContainer) {{\n",
              "    x.observe(notebookContainer, {childList: true});\n",
              "}}\n",
              "\n",
              "// Listen for the clearing of the current output cell\n",
              "var outputEl = gd.closest('.output');\n",
              "if (outputEl) {{\n",
              "    x.observe(outputEl, {childList: true});\n",
              "}}\n",
              "\n",
              "                        })\n",
              "                };\n",
              "                \n",
              "            </script>\n",
              "        </div>\n",
              "</body>\n",
              "</html>"
            ]
          },
          "metadata": {}
        }
      ]
    },
    {
      "cell_type": "markdown",
      "metadata": {
        "id": "SfNUYOTSS68I"
      },
      "source": [
        "###Ejemplo 2\n",
        "\n",
        "> Vamos a ver la lista total de empleados asociados a el nombre del departamento al cual pertenecen. Para ello, hacemos uso nuevamente de la sentencia `INNER JOIN`\n",
        "\n"
      ]
    },
    {
      "cell_type": "code",
      "metadata": {
        "colab": {
          "base_uri": "https://localhost:8080/",
          "height": 419
        },
        "id": "HTVhByXvTclR",
        "outputId": "56a8c10b-8f5c-4f96-e182-ef787f8ee6a8"
      },
      "source": [
        "# Consulta a SQL para ver el total pagado por concepto de salarios\n",
        "q8 = (\n",
        "      'SELECT e.employee_id, e.first_name, e.last_name, d.department_name '\n",
        "      'FROM employees e '\n",
        "      'INNER JOIN departments d ON e.department_id = d.department_id'\n",
        "     )\n",
        "\n",
        "# Convert the SQL query to Pandas data Frame\n",
        "r8 = pd.read_sql(q8, con)\n",
        "r8"
      ],
      "execution_count": null,
      "outputs": [
        {
          "output_type": "execute_result",
          "data": {
            "text/html": [
              "<div>\n",
              "<style scoped>\n",
              "    .dataframe tbody tr th:only-of-type {\n",
              "        vertical-align: middle;\n",
              "    }\n",
              "\n",
              "    .dataframe tbody tr th {\n",
              "        vertical-align: top;\n",
              "    }\n",
              "\n",
              "    .dataframe thead th {\n",
              "        text-align: right;\n",
              "    }\n",
              "</style>\n",
              "<table border=\"1\" class=\"dataframe\">\n",
              "  <thead>\n",
              "    <tr style=\"text-align: right;\">\n",
              "      <th></th>\n",
              "      <th>employee_id</th>\n",
              "      <th>first_name</th>\n",
              "      <th>last_name</th>\n",
              "      <th>department_name</th>\n",
              "    </tr>\n",
              "  </thead>\n",
              "  <tbody>\n",
              "    <tr>\n",
              "      <th>0</th>\n",
              "      <td>100</td>\n",
              "      <td>Steven</td>\n",
              "      <td>King</td>\n",
              "      <td>Executive</td>\n",
              "    </tr>\n",
              "    <tr>\n",
              "      <th>1</th>\n",
              "      <td>101</td>\n",
              "      <td>Neena</td>\n",
              "      <td>Kochhar</td>\n",
              "      <td>Executive</td>\n",
              "    </tr>\n",
              "    <tr>\n",
              "      <th>2</th>\n",
              "      <td>102</td>\n",
              "      <td>Lex</td>\n",
              "      <td>De Haan</td>\n",
              "      <td>Executive</td>\n",
              "    </tr>\n",
              "    <tr>\n",
              "      <th>3</th>\n",
              "      <td>103</td>\n",
              "      <td>Alexander</td>\n",
              "      <td>Hunold</td>\n",
              "      <td>IT</td>\n",
              "    </tr>\n",
              "    <tr>\n",
              "      <th>4</th>\n",
              "      <td>104</td>\n",
              "      <td>Bruce</td>\n",
              "      <td>Ernst</td>\n",
              "      <td>IT</td>\n",
              "    </tr>\n",
              "    <tr>\n",
              "      <th>...</th>\n",
              "      <td>...</td>\n",
              "      <td>...</td>\n",
              "      <td>...</td>\n",
              "      <td>...</td>\n",
              "    </tr>\n",
              "    <tr>\n",
              "      <th>35</th>\n",
              "      <td>202</td>\n",
              "      <td>Pat</td>\n",
              "      <td>Fay</td>\n",
              "      <td>Marketing</td>\n",
              "    </tr>\n",
              "    <tr>\n",
              "      <th>36</th>\n",
              "      <td>203</td>\n",
              "      <td>Susan</td>\n",
              "      <td>Mavris</td>\n",
              "      <td>Human Resources</td>\n",
              "    </tr>\n",
              "    <tr>\n",
              "      <th>37</th>\n",
              "      <td>204</td>\n",
              "      <td>Hermann</td>\n",
              "      <td>Baer</td>\n",
              "      <td>Public Relations</td>\n",
              "    </tr>\n",
              "    <tr>\n",
              "      <th>38</th>\n",
              "      <td>205</td>\n",
              "      <td>Shelley</td>\n",
              "      <td>Higgins</td>\n",
              "      <td>Accounting</td>\n",
              "    </tr>\n",
              "    <tr>\n",
              "      <th>39</th>\n",
              "      <td>206</td>\n",
              "      <td>William</td>\n",
              "      <td>Gietz</td>\n",
              "      <td>Accounting</td>\n",
              "    </tr>\n",
              "  </tbody>\n",
              "</table>\n",
              "<p>40 rows × 4 columns</p>\n",
              "</div>"
            ],
            "text/plain": [
              "    employee_id first_name last_name   department_name\n",
              "0           100     Steven      King         Executive\n",
              "1           101      Neena   Kochhar         Executive\n",
              "2           102        Lex   De Haan         Executive\n",
              "3           103  Alexander    Hunold                IT\n",
              "4           104      Bruce     Ernst                IT\n",
              "..          ...        ...       ...               ...\n",
              "35          202        Pat       Fay         Marketing\n",
              "36          203      Susan    Mavris   Human Resources\n",
              "37          204    Hermann      Baer  Public Relations\n",
              "38          205    Shelley   Higgins        Accounting\n",
              "39          206    William     Gietz        Accounting\n",
              "\n",
              "[40 rows x 4 columns]"
            ]
          },
          "metadata": {},
          "execution_count": 92
        }
      ]
    },
    {
      "cell_type": "markdown",
      "metadata": {
        "id": "wyRsw714fdWh"
      },
      "source": [
        "#Taller \n",
        "\n",
        "\n",
        "\n",
        "1. El departamento de recursos humanos desea que una consulta muestre el apellido, la identificación del trabajo, la fecha de contratación y la identificación del empleado, apareciendo primero la identificación del empleado. Proporcione un alias STARDATE para la columna HIRE_DATE.\n",
        "\n",
        "2.   A la tabla que se generó en el ejemplo 2 de la sección de `INNER JOIN`, cree una nueva columna que muestre el tipo de empleo (job_title) que tiene cada empleado y adjuntela  ala tabla.\n",
        "\n",
        "3. El departamento de Recursos Humanos necesita un informe de los empleados en Toronto. Muestre el Apellido, el trabajo, el numero de departamento y el nombre del departamento para todos lo empleados que trabajan en Toronto.\n",
        "\n",
        "\n",
        "\n",
        "\n",
        "\n",
        "\n"
      ]
    }
  ]
}