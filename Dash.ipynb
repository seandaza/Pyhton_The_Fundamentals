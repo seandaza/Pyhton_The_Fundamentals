{
  "nbformat": 4,
  "nbformat_minor": 0,
  "metadata": {
    "colab": {
      "name": "Dash.ipynb",
      "provenance": [],
      "collapsed_sections": [],
      "include_colab_link": true
    },
    "kernelspec": {
      "display_name": "Python 3",
      "language": "python",
      "name": "python3"
    },
    "language_info": {
      "codemirror_mode": {
        "name": "ipython",
        "version": 3
      },
      "file_extension": ".py",
      "mimetype": "text/x-python",
      "name": "python",
      "nbconvert_exporter": "python",
      "pygments_lexer": "ipython3",
      "version": "3.8.3"
    }
  },
  "cells": [
    {
      "cell_type": "markdown",
      "metadata": {
        "id": "view-in-github",
        "colab_type": "text"
      },
      "source": [
        "<a href=\"https://colab.research.google.com/github/seandaza/Python-The-Fundamentals/blob/master/Dash.ipynb\" target=\"_parent\"><img src=\"https://colab.research.google.com/assets/colab-badge.svg\" alt=\"Open In Colab\"/></a>"
      ]
    },
    {
      "cell_type": "markdown",
      "metadata": {
        "id": "26a3zEsDzqPd"
      },
      "source": [
        "# DASH\n",
        "\n",
        "> Dash es una biblioteca de Python de código abierto para crear aplicaciones reactivas basadas en la web. Permite el análisis de datos, exploración de datos, visualización, modelado, control de instrumentos e informes.\n",
        "\n",
        "> El código de la aplicación Dash es declarativo y reactivo, lo que facilita la creación de aplicaciones complejas que contienen muchos elementos interactivos\n",
        "\n"
      ]
    },
    {
      "cell_type": "markdown",
      "metadata": {
        "id": "fdZLxRUo2Lbs"
      },
      "source": [
        "\n",
        "\n",
        "> Esencialmente, las aplicaciones Dash se componen de dos partes: (1) el \"diseño\" de la aplicación que describe la apariencia de la aplicación, y (2) las \"devoluciones de llamada\" que permiten que las aplicaciones sean interactivas. Veamos un ejemplo simple a continuación:\n",
        "\n"
      ]
    },
    {
      "cell_type": "markdown",
      "metadata": {
        "id": "d_2R7-ed2cXR"
      },
      "source": [
        "##Instalemos Dependencias"
      ]
    },
    {
      "cell_type": "code",
      "metadata": {
        "id": "tUr9aRGBLUGo"
      },
      "source": [
        "!pip install jupyter-dash -q\n",
        "!pip install pyngrok\n",
        "!pip install jupyterlab_dash\n",
        "!pip install dash"
      ],
      "execution_count": null,
      "outputs": []
    },
    {
      "cell_type": "code",
      "metadata": {
        "id": "1982sM2gP3Y2",
        "colab": {
          "base_uri": "https://localhost:8080/",
          "height": 156
        },
        "outputId": "7314a5d0-0818-4c88-c9e7-d3c4ed7be577"
      },
      "source": [
        "from jupyter_dash import JupyterDash  # pip install dash\n",
        "from pyngrok import ngrok\n",
        "import dash_html_components as html\n",
        "import dash_core_components as dcc\n",
        "from dash.dependencies import Output, Input\n",
        "import pandas as pd  # pip install pandas\n",
        "import plotly.express as px\n",
        "import math\n",
        "import dash\n",
        "from dash import no_update"
      ],
      "execution_count": null,
      "outputs": [
        {
          "output_type": "stream",
          "name": "stderr",
          "text": [
            "/usr/local/lib/python3.7/dist-packages/ipykernel_launcher.py:3: UserWarning: \n",
            "The dash_html_components package is deprecated. Please replace\n",
            "`import dash_html_components as html` with `from dash import html`\n",
            "  This is separate from the ipykernel package so we can avoid doing imports until\n",
            "/usr/local/lib/python3.7/dist-packages/ipykernel_launcher.py:4: UserWarning: \n",
            "The dash_core_components package is deprecated. Please replace\n",
            "`import dash_core_components as dcc` with `from dash import dcc`\n",
            "  after removing the cwd from sys.path.\n"
          ]
        }
      ]
    },
    {
      "cell_type": "markdown",
      "metadata": {
        "id": "_ETfRDmp27ie"
      },
      "source": [
        "##*Graficos*\n",
        "\n",
        "> La biblioteca `dash_core_components` incluye un componente llamado `Graph`.\n",
        "\n",
        "> Graph presenta visualizaciones de datos interactivas utilizando la biblioteca de gráficos de JavaScript `plotly.js` de código abierto. `Plotly.js` admite más de 35 tipos de gráficos y los renderiza tanto en SVG de calidad vectorial como en WebGL de alto rendimiento. Catacteristicas:\n",
        "\n",
        "> 1. El diseño se compone de un árbol de \"componentes\" como `html.Div` y `dcc.Graph`.\n",
        "\n",
        "> 2. La función `dash_html_components` (`dash.html` a partir de Dash v2.0) tiene un componente para cada etiqueta HTML. El componente `html.H1` (children = 'Hello Dash') genera un elemento HTML `<h1> Hello Dash </h1>` en su aplicación\n",
        "\n",
        "> 3. No todos los componenetes son `HTML` puro. los `dash_core_components` describen un alto nivel de componentes que son interactivos y son generados con Javascript, HTML y CSS a traves de la librería de React.js.\n",
        "\n",
        "> 4. Cada componente es descrito a través de palabras que describen atributos de manera declarativa\n",
        "\n",
        "> 5. La propiedad `Children` es especial, por convención, siempre es el primer atributo, lo que significa que puede omitirlo: `html.H1 (children = 'Hello Dash')` es lo mismo que `html.H1 ('Hello Dash')`. Puede contener una cadena, un número, un solo componente o una lista de componentes"
      ]
    },
    {
      "cell_type": "markdown",
      "metadata": {
        "id": "kLdmTymWA_tV"
      },
      "source": [
        "##Grafico de Barras\n",
        "\n",
        "> Con un dataframe local, contruyamos graficos de barras\n"
      ]
    },
    {
      "cell_type": "code",
      "metadata": {
        "id": "Y859XA5tP-ST"
      },
      "source": [
        "external_stylesheets = ['https://codepen.io/chriddyp/pen/bWLwgP.css']\n",
        "app = JupyterDash(__name__, external_stylesheets=external_stylesheets)\n",
        "\n",
        "#Datos\n",
        "df = pd.DataFrame({\n",
        "    \"Fruit\": [\"Apples\", \"Oranges\", \"Bananas\", \"Apples\", \"Oranges\", \"Bananas\"],\n",
        "    \"Amount\": [4, 1, 2, 2, 4, 5],\n",
        "    \"City\": [\"SF\", \"SF\", \"SF\", \"Montreal\", \"Montreal\", \"Montreal\"]\n",
        "})\n",
        "\n",
        "fig = px.bar(df, x=\"Fruit\", y=\"Amount\", color=\"City\", barmode=\"group\")\n",
        "\n",
        "app.layout = html.Div(children=[\n",
        "    html.H1(children='Hello Dash'),\n",
        "\n",
        "    html.Div(children='''\n",
        "        Dash: A web application framework for your data.\n",
        "    '''),\n",
        "\n",
        "    dcc.Graph(\n",
        "        id='example-graph',\n",
        "        figure=fig\n",
        "    )\n",
        "])\n",
        "\n",
        "app.run_server(mode='inline', port='1233')"
      ],
      "execution_count": null,
      "outputs": []
    },
    {
      "cell_type": "markdown",
      "metadata": {
        "id": "bU_2kNKsxfxg"
      },
      "source": [
        "##ScatterPlot\n",
        "\n",
        "> Aquí hay un ejemplo que crea un diagrama de dispersión a partir de un marco de datos de Pandas tomado de un repositorio de datos externo que muestra la expectativa de vida por continente."
      ]
    },
    {
      "cell_type": "code",
      "metadata": {
        "id": "diV65wFBD1GW"
      },
      "source": [
        "%%writefile scatter.py\n",
        "import dash\n",
        "import pandas as pd\n",
        "import plotly.express as px\n",
        "import dash_html_components as html\n",
        "import dash_core_components as dcc\n",
        "\n",
        "app = dash.Dash(__name__)\n",
        "\n",
        "df = pd.read_csv('https://gist.githubusercontent.com/chriddyp/5d1ea79569ed194d432e56108a04d188/raw/a9f9e8076b837d541398e999dcbac2b2826a81f8/gdp-life-exp-2007.csv')\n",
        "\n",
        "fig = px.scatter(df, x=\"gdp per capita\", y=\"life expectancy\",\n",
        "                 size=\"population\", color=\"continent\", hover_name=\"country\",\n",
        "                 log_x=True, size_max=60)\n",
        "\n",
        "app.layout = html.Div([\n",
        "    dcc.Graph(\n",
        "        id='life-exp-vs-gdp',\n",
        "        figure=fig\n",
        "    )\n",
        "])\n",
        "if __name__ == '__main__':\n",
        "    app.run_server(port='1234')"
      ],
      "execution_count": null,
      "outputs": []
    },
    {
      "cell_type": "markdown",
      "metadata": {
        "id": "Nj0dwS6D168f"
      },
      "source": [
        "Una vez creado el archivo, abra un tunel con `ngrok` en el mismo puerto que sirve la aplicacion, ejecute el archivo, y haga click sobre el link que sirve `ngrok`"
      ]
    },
    {
      "cell_type": "code",
      "metadata": {
        "id": "r7rQc9FOuKha"
      },
      "source": [
        "ngrok.connect(1234)"
      ],
      "execution_count": null,
      "outputs": []
    },
    {
      "cell_type": "markdown",
      "metadata": {
        "id": "N0ApzEAM2cAO"
      },
      "source": [
        "Ejecute el programa:"
      ]
    },
    {
      "cell_type": "code",
      "metadata": {
        "id": "r1Shcj56vmLO"
      },
      "source": [
        "!python scatter.py"
      ],
      "execution_count": null,
      "outputs": []
    },
    {
      "cell_type": "markdown",
      "metadata": {
        "id": "9gE6m2PkFrmI"
      },
      "source": [
        "## Tablas\n",
        "\n",
        "> A partir de un conjunto de datos de exportaciones de agricultura, podemos contruir tablas a través de la librería de Pandas."
      ]
    },
    {
      "cell_type": "code",
      "metadata": {
        "id": "zAMQCoMQ7y0N"
      },
      "source": [
        "%%writefile table.py\n",
        "import dash\n",
        "import pandas as pd\n",
        "from dash import html\n",
        "\n",
        "app = dash.Dash(__name__)\n",
        "\n",
        "df = pd.read_csv('https://gist.githubusercontent.com/chriddyp/c78bf172206ce24f77d6363a2d754b59/raw/c353e8ef842413cae56ae3920b8fd78468aa4cb2/usa-agricultural-exports-2011.csv')\n",
        "\n",
        "\n",
        "def generate_table(dataframe, max_rows=10):\n",
        "    return html.Table([\n",
        "        html.Thead(\n",
        "            html.Tr([html.Th(col) for col in dataframe.columns])\n",
        "        ),\n",
        "        html.Tbody([\n",
        "            html.Tr([\n",
        "                html.Td(dataframe.iloc[i][col]) for col in dataframe.columns\n",
        "            ]) for i in range(min(len(dataframe), max_rows))\n",
        "        ])\n",
        "    ])\n",
        "\n",
        "\n",
        "\n",
        "\n",
        "app.layout = html.Div([\n",
        "    html.H4(children='US Agriculture Exports (2011)'),\n",
        "    generate_table(df)\n",
        "])\n",
        "\n",
        "if __name__ == '__main__':\n",
        "    app.run_server(port='1235')"
      ],
      "execution_count": null,
      "outputs": []
    },
    {
      "cell_type": "code",
      "metadata": {
        "id": "Q7FC-BXl57KC"
      },
      "source": [
        "ngrok.connect(1235)"
      ],
      "execution_count": null,
      "outputs": []
    },
    {
      "cell_type": "code",
      "metadata": {
        "id": "1qkoTaAL5_XB"
      },
      "source": [
        "!python table.py"
      ],
      "execution_count": null,
      "outputs": []
    },
    {
      "cell_type": "markdown",
      "metadata": {
        "id": "knBbuXw4S6Lq"
      },
      "source": [
        "\n",
        "\n",
        "---\n",
        "\n"
      ]
    },
    {
      "cell_type": "markdown",
      "metadata": {
        "id": "T_pWEZayvmzU"
      },
      "source": [
        "#@callbacks\n",
        "\n",
        "> Tambien se pueden crear aplicaciones Dash usando funciones de devolución de llamada `callback functions`: funciones que son llamadas automáticamente por Dash cada vez que cambia la propiedad de un componente de entrada, para actualizar alguna propiedad en otro componente (la salida).\n",
        "\n",
        "> Para un rendimiento óptimo de la interacción del usuario y la carga de gráficos, las aplicaciones de producción de Dash deben considerar las capacidades de cola de trabajos, HPC, Datashader y escalamiento horizontal de Dash Enterprise.\n",
        "\n",
        "> Comencemos con un ejemplo simple de una aplicación Dash interactiva.\n",
        "\n"
      ]
    },
    {
      "cell_type": "markdown",
      "metadata": {
        "id": "Kr1p8P7p1E4x"
      },
      "source": [
        "##Bars"
      ]
    },
    {
      "cell_type": "code",
      "metadata": {
        "id": "kwthIKf7tmIE"
      },
      "source": [
        "%%writefile bars.py\n",
        "import dash\n",
        "from dash import dcc\n",
        "from dash import html\n",
        "from dash.dependencies import Input, Output\n",
        "import plotly.express as px\n",
        "\n",
        "df = px.data.tips()\n",
        "days = df.day.unique()\n",
        "\n",
        "app = dash.Dash(__name__)\n",
        "\n",
        "app.layout = html.Div([\n",
        "    dcc.Dropdown(\n",
        "        id=\"dropdown\",\n",
        "        options=[{\"label\": x, \"value\": x} for x in days],\n",
        "        value=days[0],\n",
        "        clearable=False,\n",
        "    ),\n",
        "    dcc.Graph(id=\"bar-chart\"),\n",
        "])\n",
        "\n",
        "@app.callback(\n",
        "    Output(\"bar-chart\", \"figure\"), \n",
        "    [Input(\"dropdown\", \"value\")])\n",
        "def update_bar_chart(day):\n",
        "    mask = df[\"day\"] == day\n",
        "    fig = px.bar(df[mask], x=\"sex\", y=\"total_bill\", \n",
        "                 color=\"smoker\", barmode=\"group\")\n",
        "    return fig\n",
        "\n",
        "app.run_server(port='2030')"
      ],
      "execution_count": null,
      "outputs": []
    },
    {
      "cell_type": "code",
      "metadata": {
        "id": "kI4_KeEMtrY1"
      },
      "source": [
        "ngrok.connect(2030)"
      ],
      "execution_count": null,
      "outputs": []
    },
    {
      "cell_type": "code",
      "metadata": {
        "id": "PQxGDUkxt76L"
      },
      "source": [
        "!python bars.py"
      ],
      "execution_count": null,
      "outputs": []
    },
    {
      "cell_type": "markdown",
      "metadata": {
        "id": "AnwbtFQzY7TV"
      },
      "source": [
        "##Hovering"
      ]
    },
    {
      "cell_type": "code",
      "metadata": {
        "id": "aIRn-xLZY5jJ"
      },
      "source": [
        "%%writefile hovering.py\n",
        "import dash\n",
        "from dash import dcc\n",
        "from dash import html\n",
        "import plotly.graph_objs as go\n",
        "import pandas as pd\n",
        "\n",
        "app = dash.Dash()\n",
        "\n",
        "df = pd.read_csv(\n",
        "    'https://raw.githubusercontent.com/'\n",
        "    'plotly/datasets/master/'\n",
        "    '1962_2006_walmart_store_openings.csv')\n",
        "\n",
        "app.layout = html.Div([\n",
        "    html.H1('Walmart Store Openings'),\n",
        "    html.Div(id='text-content'),\n",
        "    dcc.Graph(id='map', figure={\n",
        "        'data': [{\n",
        "            'lat': df['LAT'],\n",
        "            'lon': df['LON'],\n",
        "            'marker': {\n",
        "                'color': df['YEAR'],\n",
        "                'size': 8,\n",
        "                'opacity': 0.6\n",
        "            },\n",
        "            'customdata': df['storenum'],\n",
        "            'type': 'scattermapbox'\n",
        "        }],\n",
        "        'layout': {\n",
        "            'mapbox': {\n",
        "                'accesstoken': 'pk.eyJ1IjoiY2hyaWRkeXAiLCJhIjoiY2ozcGI1MTZ3MDBpcTJ3cXR4b3owdDQwaCJ9.8jpMunbKjdq1anXwU5gxIw'\n",
        "            },\n",
        "            'hovermode': 'closest',\n",
        "            'margin': {'l': 0, 'r': 0, 'b': 0, 't': 0}\n",
        "        }\n",
        "    })\n",
        "])\n",
        "\n",
        "@app.callback(\n",
        "    dash.dependencies.Output('text-content', 'children'),\n",
        "    [dash.dependencies.Input('map', 'hoverData')])\n",
        "def update_text(hoverData):\n",
        "    s = df[df['storenum'] == hoverData['points'][0]['customdata']]\n",
        "    return html.H3(\n",
        "        'The {}, {} {} opened in {}'.format(\n",
        "            s.iloc[0]['STRCITY'],\n",
        "            s.iloc[0]['STRSTATE'],\n",
        "            s.iloc[0]['type_store'],\n",
        "            s.iloc[0]['YEAR']\n",
        "        )\n",
        "    )\n",
        "\n",
        "app.css.append_css({\n",
        "    'external_url': 'https://codepen.io/chriddyp/pen/bWLwgP.css'\n",
        "})\n",
        "\n",
        "if __name__ == '__main__':\n",
        "    app.run_server(port='1236')"
      ],
      "execution_count": null,
      "outputs": []
    },
    {
      "cell_type": "code",
      "metadata": {
        "id": "VFqO7pFcZK94"
      },
      "source": [
        "ngrok.connect(1236)"
      ],
      "execution_count": null,
      "outputs": []
    },
    {
      "cell_type": "code",
      "metadata": {
        "id": "2skAa1lTZPmn"
      },
      "source": [
        "!python hovering.py"
      ],
      "execution_count": null,
      "outputs": []
    },
    {
      "cell_type": "markdown",
      "metadata": {
        "id": "I0_R2tM9DqC1"
      },
      "source": [
        "## CrossFilter"
      ]
    },
    {
      "cell_type": "code",
      "metadata": {
        "id": "ofEIaHldS8Bf"
      },
      "source": [
        "%%writefile crossfilter.py\n",
        "import dash\n",
        "from dash import dcc\n",
        "from dash import html\n",
        "import plotly.graph_objs as go\n",
        "import pandas as pd\n",
        "\n",
        "app = dash.Dash()\n",
        "\n",
        "df = pd.read_csv(\n",
        "    'https://gist.githubusercontent.com/chriddyp/'\n",
        "    'cb5392c35661370d95f300086accea51/raw/'\n",
        "    '8e0768211f6b747c0db42a9ce9a0937dafcbd8b2/'\n",
        "    'indicators.csv')\n",
        "\n",
        "available_indicators = df['Indicator Name'].unique()\n",
        "\n",
        "app.layout = html.Div([\n",
        "    html.Div([\n",
        "\n",
        "        html.Div([\n",
        "            dcc.Dropdown(\n",
        "                id='crossfilter-xaxis-column',\n",
        "                options=[{'label': i, 'value': i} for i in available_indicators],\n",
        "                value='Fertility rate, total (births per woman)'\n",
        "            ),\n",
        "            dcc.RadioItems(\n",
        "                id='crossfilter-xaxis-type',\n",
        "                options=[{'label': i, 'value': i} for i in ['Linear', 'Log']],\n",
        "                value='Linear',\n",
        "                labelStyle={'display': 'inline-block'}\n",
        "            )\n",
        "        ],\n",
        "        style={'width': '49%', 'display': 'inline-block'}),\n",
        "\n",
        "        html.Div([\n",
        "            dcc.Dropdown(\n",
        "                id='crossfilter-yaxis-column',\n",
        "                options=[{'label': i, 'value': i} for i in available_indicators],\n",
        "                value='Life expectancy at birth, total (years)'\n",
        "            ),\n",
        "            dcc.RadioItems(\n",
        "                id='crossfilter-yaxis-type',\n",
        "                options=[{'label': i, 'value': i} for i in ['Linear', 'Log']],\n",
        "                value='Linear',\n",
        "                labelStyle={'display': 'inline-block'}\n",
        "            )\n",
        "        ], style={'width': '49%', 'float': 'right', 'display': 'inline-block'})\n",
        "    ], style={\n",
        "        'borderBottom': 'thin lightgrey solid',\n",
        "        'backgroundColor': 'rgb(250, 250, 250)',\n",
        "        'padding': '10px 5px'\n",
        "    }),\n",
        "\n",
        "    html.Div([\n",
        "        dcc.Graph(\n",
        "            id='crossfilter-indicator-scatter',\n",
        "            hoverData={'points': [{'customdata': 'Japan'}]}\n",
        "        )\n",
        "    ], style={'width': '49%', 'display': 'inline-block', 'padding': '0 20'}),\n",
        "    html.Div([\n",
        "        dcc.Graph(id='x-time-series'),\n",
        "        dcc.Graph(id='y-time-series'),\n",
        "    ], style={'display': 'inline-block', 'width': '49%'}),\n",
        "\n",
        "    html.Div(dcc.Slider(\n",
        "        id='crossfilter-year--slider',\n",
        "        min=df['Year'].min(),\n",
        "        max=df['Year'].max(),\n",
        "        value=df['Year'].max(),\n",
        "        step=None,\n",
        "        marks={str(year): str(year) for year in df['Year'].unique()}\n",
        "    ), style={'width': '49%', 'padding': '0px 20px 20px 20px'})\n",
        "])\n",
        "\n",
        "@app.callback(\n",
        "    dash.dependencies.Output('crossfilter-indicator-scatter', 'figure'),\n",
        "    [dash.dependencies.Input('crossfilter-xaxis-column', 'value'),\n",
        "     dash.dependencies.Input('crossfilter-yaxis-column', 'value'),\n",
        "     dash.dependencies.Input('crossfilter-xaxis-type', 'value'),\n",
        "     dash.dependencies.Input('crossfilter-yaxis-type', 'value'),\n",
        "     dash.dependencies.Input('crossfilter-year--slider', 'value')])\n",
        "def update_graph(xaxis_column_name, yaxis_column_name,\n",
        "                 xaxis_type, yaxis_type,\n",
        "                 year_value):\n",
        "    dff = df[df['Year'] == year_value]\n",
        "\n",
        "    return {\n",
        "        'data': [go.Scatter(\n",
        "            x=dff[dff['Indicator Name'] == xaxis_column_name]['Value'],\n",
        "            y=dff[dff['Indicator Name'] == yaxis_column_name]['Value'],\n",
        "            text=dff[dff['Indicator Name'] == yaxis_column_name]['Country Name'],\n",
        "            customdata=dff[dff['Indicator Name'] == yaxis_column_name]['Country Name'],\n",
        "            mode='markers',\n",
        "            marker={\n",
        "                'size': 15,\n",
        "                'opacity': 0.5,\n",
        "                'line': {'width': 0.5, 'color': 'white'}\n",
        "            }\n",
        "        )],\n",
        "        'layout': go.Layout(\n",
        "            xaxis={\n",
        "                'title': xaxis_column_name,\n",
        "                'type': 'linear' if xaxis_type == 'Linear' else 'log'\n",
        "            },\n",
        "            yaxis={\n",
        "                'title': yaxis_column_name,\n",
        "                'type': 'linear' if yaxis_type == 'Linear' else 'log'\n",
        "            },\n",
        "            margin={'l': 40, 'b': 30, 't': 10, 'r': 0},\n",
        "            height=450,\n",
        "            hovermode='closest'\n",
        "        )\n",
        "    }\n",
        "\n",
        "def create_time_series(dff, axis_type, title):\n",
        "    return {\n",
        "        'data': [go.Scatter(\n",
        "            x=dff['Year'],\n",
        "            y=dff['Value'],\n",
        "            mode='lines+markers'\n",
        "        )],\n",
        "        'layout': {\n",
        "            'height': 225,\n",
        "            'margin': {'l': 20, 'b': 30, 'r': 10, 't': 10},\n",
        "            'annotations': [{\n",
        "                'x': 0, 'y': 0.85, 'xanchor': 'left', 'yanchor': 'bottom',\n",
        "                'xref': 'paper', 'yref': 'paper', 'showarrow': False,\n",
        "                'align': 'left', 'bgcolor': 'rgba(255, 255, 255, 0.5)',\n",
        "                'text': title\n",
        "            }],\n",
        "            'yaxis': {'type': 'linear' if axis_type == 'Linear' else 'log'},\n",
        "            'xaxis': {'showgrid': False}\n",
        "        }\n",
        "    }\n",
        "\n",
        "@app.callback(\n",
        "    dash.dependencies.Output('x-time-series', 'figure'),\n",
        "    [dash.dependencies.Input('crossfilter-indicator-scatter', 'hoverData'),\n",
        "     dash.dependencies.Input('crossfilter-xaxis-column', 'value'),\n",
        "     dash.dependencies.Input('crossfilter-xaxis-type', 'value')])\n",
        "def update_y_timeseries(hoverData, xaxis_column_name, axis_type):\n",
        "    country_name = hoverData['points'][0]['customdata']\n",
        "    dff = df[df['Country Name'] == country_name]\n",
        "    dff = dff[dff['Indicator Name'] == xaxis_column_name]\n",
        "    title = '<b>{}</b><br>{}'.format(country_name, xaxis_column_name)\n",
        "    return create_time_series(dff, axis_type, title)\n",
        "\n",
        "@app.callback(\n",
        "    dash.dependencies.Output('y-time-series', 'figure'),\n",
        "    [dash.dependencies.Input('crossfilter-indicator-scatter', 'hoverData'),\n",
        "     dash.dependencies.Input('crossfilter-yaxis-column', 'value'),\n",
        "     dash.dependencies.Input('crossfilter-yaxis-type', 'value')])\n",
        "def update_x_timeseries(hoverData, yaxis_column_name, axis_type):\n",
        "    dff = df[df['Country Name'] == hoverData['points'][0]['customdata']]\n",
        "    dff = dff[dff['Indicator Name'] == yaxis_column_name]\n",
        "    return create_time_series(dff, axis_type, yaxis_column_name)\n",
        "\n",
        "app.css.append_css({\n",
        "    'external_url': 'https://codepen.io/chriddyp/pen/bWLwgP.css'\n",
        "})\n",
        "\n",
        "if __name__ == '__main__':\n",
        "    app.run_server()"
      ],
      "execution_count": null,
      "outputs": []
    },
    {
      "cell_type": "code",
      "metadata": {
        "id": "R3N6en0kTJm_"
      },
      "source": [
        "ngrok.connect(8050)"
      ],
      "execution_count": null,
      "outputs": []
    },
    {
      "cell_type": "code",
      "metadata": {
        "id": "KomqDPJxTOOn"
      },
      "source": [
        "!python crossfilter.py"
      ],
      "execution_count": null,
      "outputs": []
    },
    {
      "cell_type": "markdown",
      "metadata": {
        "id": "t4-ggYDD1SNQ"
      },
      "source": [
        "\n",
        "\n",
        "---\n",
        "\n"
      ]
    },
    {
      "cell_type": "markdown",
      "metadata": {
        "id": "PYZMyGlWQFUH"
      },
      "source": [
        "#Plotly Extension\n",
        "\n",
        "> El elemento `Graph` de Dash comparte la misma sintaxis que la biblioteca `plotly.py` de código abierto, por lo que puede cambiar fácilmente entre los dos. El componente `Graph` de `Dash` se conecta al sistema de eventos `plotly.js`, lo que permite a Dash escribir aplicaciones que respondan al pasar el mouse, hacer clic o seleccionar puntos en un gráfico de Plotly.\n",
        "\n"
      ]
    },
    {
      "cell_type": "markdown",
      "metadata": {
        "id": "yHDg9gANRKyu"
      },
      "source": [
        "## Pie Chart"
      ]
    },
    {
      "cell_type": "code",
      "metadata": {
        "id": "Cj4I7hY8ONwm"
      },
      "source": [
        "import plotly.express as px\n",
        "\n",
        "#datos tomados de https://www.gapminder.org/data/\n",
        "df = px.data.gapminder().query(\"year == 2007\").query(\"continent == 'Americas'\")\n",
        "fig = px.pie(df, values='pop', names='country',\n",
        "             title='Population of American continent',\n",
        "             hover_data=['lifeExp'], labels={'lifeExp':'life expectancy'})\n",
        "fig.update_traces(textposition='inside', textinfo='percent+label')\n",
        "fig.show()"
      ],
      "execution_count": null,
      "outputs": []
    },
    {
      "cell_type": "markdown",
      "metadata": {
        "id": "kzasy1myS0cY"
      },
      "source": [
        "### Pulling Sectors\n",
        "\n",
        "> Para un diseño \"extraído\" o \"ampliado\" del gráfico circular, utilice el argumento `pull`. Puede ser un escalar para extraer todos los sectores o una matriz para extraer solo algunos de los sectores.\n",
        "\n"
      ]
    },
    {
      "cell_type": "code",
      "metadata": {
        "id": "RI08wgQnSSql"
      },
      "source": [
        "import plotly.graph_objects as go\n",
        "\n",
        "labels = ['Oxygen','Hydrogen','Carbon_Dioxide','Nitrogen']\n",
        "values = [4500, 2500, 1053, 500]\n",
        "\n",
        "# pull is given as a fraction of the pie radius\n",
        "fig = go.Figure(data=[go.Pie(labels=labels, values=values, pull=[0, 0, 0.2, 0])])\n",
        "fig.show()"
      ],
      "execution_count": null,
      "outputs": []
    },
    {
      "cell_type": "markdown",
      "metadata": {
        "id": "ugJpb479Rcym"
      },
      "source": [
        "## Donut Chart"
      ]
    },
    {
      "cell_type": "code",
      "metadata": {
        "id": "dwj1c2nDRgTS"
      },
      "source": [
        "import plotly.graph_objects as go\n",
        "\n",
        "labels = ['Oxygen','Hydrogen','Carbon_Dioxide','Nitrogen']\n",
        "values = [4500, 2500, 1053, 500]\n",
        "\n",
        "# Use `hole` to create a donut-like pie chart\n",
        "fig = go.Figure(data=[go.Pie(labels=labels, values=values, hole=.3)])\n",
        "fig.show()"
      ],
      "execution_count": null,
      "outputs": []
    },
    {
      "cell_type": "markdown",
      "metadata": {
        "id": "8G7PeKD3ety-"
      },
      "source": [
        "## Bar Chart"
      ]
    },
    {
      "cell_type": "code",
      "metadata": {
        "id": "WV8WxRqoh1MH"
      },
      "source": [
        "import plotly.express as px\n",
        "\n",
        "#datos tomados de https://www.gapminder.org/data/\n",
        "data_canada = px.data.gapminder().query(\"country == 'Canada'\")\n",
        "fig = px.bar(data_canada, x='year', y='pop')\n",
        "fig.show()"
      ],
      "execution_count": null,
      "outputs": []
    },
    {
      "cell_type": "markdown",
      "metadata": {
        "id": "5Xf8u4p_iXrS"
      },
      "source": [
        "## Bubble Chart"
      ]
    },
    {
      "cell_type": "code",
      "metadata": {
        "id": "3TYpg-U4iNgU"
      },
      "source": [
        "import plotly.express as px\n",
        "\n",
        "df = px.data.gapminder()\n",
        "\n",
        "#datos tomados de https://www.gapminder.org/data/\n",
        "fig = px.scatter(df.query(\"year==2007\"), x=\"gdpPercap\", y=\"lifeExp\",\n",
        "\t         size=\"pop\", color=\"continent\",\n",
        "                 hover_name=\"country\", log_x=True, size_max=60)\n",
        "fig.show()"
      ],
      "execution_count": null,
      "outputs": []
    },
    {
      "cell_type": "markdown",
      "metadata": {
        "id": "MZdQWteQjwS8"
      },
      "source": [
        "## Heat Maps"
      ]
    },
    {
      "cell_type": "code",
      "metadata": {
        "id": "7PAf4KYSjylQ"
      },
      "source": [
        "import plotly.express as px\n",
        "\n",
        "#Data tomada de https://www.kaggle.com/sanjanabasu/tips-dataset\n",
        "df = px.data.tips()\n",
        "\n",
        "fig = px.density_heatmap(df, x=\"total_bill\", y=\"tip\", facet_row=\"sex\", facet_col=\"smoker\")\n",
        "fig.show()"
      ],
      "execution_count": null,
      "outputs": []
    },
    {
      "cell_type": "markdown",
      "metadata": {
        "id": "kxEhQDHK55IT"
      },
      "source": [
        "\n",
        "\n",
        "---\n",
        "\n",
        "\n",
        "\n",
        "---\n",
        "\n"
      ]
    },
    {
      "cell_type": "markdown",
      "metadata": {
        "id": "UPOYxP_f57rl"
      },
      "source": [
        "# Componentes Dash"
      ]
    },
    {
      "cell_type": "markdown",
      "metadata": {
        "id": "9m2BCrXo6Aw1"
      },
      "source": [
        "## DropDown"
      ]
    },
    {
      "cell_type": "code",
      "metadata": {
        "colab": {
          "base_uri": "https://localhost:8080/"
        },
        "id": "WVld5GhY2dDW",
        "outputId": "d3bcd56a-9072-426b-8a8a-b2e0ad5c979c"
      },
      "source": [
        "%%writefile dropdown.py\n",
        "import dash\n",
        "from dash import dcc\n",
        "from dash import html\n",
        "\n",
        "app = dash.Dash(__name__)\n",
        "\n",
        "app.layout = html.Div([\n",
        "    dcc.Dropdown(\n",
        "        options=[\n",
        "            {'label': 'New York City', 'value': 'NYC'},\n",
        "            {'label': 'Montréal', 'value': 'MTL'},\n",
        "            {'label': 'San Francisco', 'value': 'SF'}\n",
        "        ],\n",
        "        value='MTL'\n",
        "    )\n",
        "])\n",
        "\n",
        "if __name__ == '__main__':\n",
        "    app.run_server(debug=True)"
      ],
      "execution_count": null,
      "outputs": [
        {
          "output_type": "stream",
          "name": "stdout",
          "text": [
            "Overwriting dropdown.py\n"
          ]
        }
      ]
    },
    {
      "cell_type": "code",
      "metadata": {
        "id": "6NS70QP-21qR"
      },
      "source": [
        "ngrok.connect(8050)"
      ],
      "execution_count": null,
      "outputs": []
    },
    {
      "cell_type": "code",
      "metadata": {
        "id": "kNoORrMW25Ux"
      },
      "source": [
        "!python dropdown.py"
      ],
      "execution_count": null,
      "outputs": []
    },
    {
      "cell_type": "markdown",
      "metadata": {
        "id": "V7lqAbDx6NDV"
      },
      "source": [
        "##Sliders"
      ]
    },
    {
      "cell_type": "code",
      "metadata": {
        "id": "pSrX6RcM6Pf1"
      },
      "source": [
        "%%writefile slider.py\n",
        "import dash\n",
        "from dash import dcc\n",
        "from dash import html\n",
        "\n",
        "app = dash.Dash(__name__)\n",
        "\n",
        "app.layout = html.Div([\n",
        "    dcc.Slider(\n",
        "        min=-5,\n",
        "        max=10,\n",
        "        step=0.5,\n",
        "        value=-3\n",
        "    )\n",
        "])\n",
        "\n",
        "if __name__ == '__main__':\n",
        "    app.run_server(port='2538')"
      ],
      "execution_count": null,
      "outputs": []
    },
    {
      "cell_type": "code",
      "metadata": {
        "id": "U0GDJc6h67wF"
      },
      "source": [
        "ngrok.connect(2538)"
      ],
      "execution_count": null,
      "outputs": []
    },
    {
      "cell_type": "code",
      "metadata": {
        "id": "pe1C2VV46-lE"
      },
      "source": [
        "!python slider.py"
      ],
      "execution_count": null,
      "outputs": []
    },
    {
      "cell_type": "markdown",
      "metadata": {
        "id": "zTgdYhft77Pw"
      },
      "source": [
        "##Inputs"
      ]
    },
    {
      "cell_type": "code",
      "metadata": {
        "id": "9IB_i_e779zf"
      },
      "source": [
        "%%writefile input.py\n",
        "import dash\n",
        "from dash import dcc\n",
        "from dash import html\n",
        "\n",
        "app = dash.Dash(__name__)\n",
        "\n",
        "app.layout = html.Div([\n",
        "    dcc.Input(\n",
        "        placeholder='Enter a value...',\n",
        "        type='text',\n",
        "        value=''\n",
        "    )\n",
        "])\n",
        "\n",
        "if __name__ == '__main__':\n",
        "    app.run_server(port='2539')"
      ],
      "execution_count": null,
      "outputs": []
    },
    {
      "cell_type": "code",
      "metadata": {
        "id": "6utcIrpj8MSC"
      },
      "source": [
        "ngrok.connect(2539)"
      ],
      "execution_count": null,
      "outputs": []
    },
    {
      "cell_type": "code",
      "metadata": {
        "id": "N05V7uSE8PA8"
      },
      "source": [
        "!python input.py"
      ],
      "execution_count": null,
      "outputs": []
    },
    {
      "cell_type": "markdown",
      "metadata": {
        "id": "sM0HNGUq8gw7"
      },
      "source": [
        "##Checkboxes"
      ]
    },
    {
      "cell_type": "code",
      "metadata": {
        "id": "zxP9wKi28jBC"
      },
      "source": [
        "%%writefile checkbox.py\n",
        "import dash\n",
        "from dash import dcc\n",
        "from dash import html\n",
        "\n",
        "app = dash.Dash(__name__)\n",
        "\n",
        "app.layout = html.Div([\n",
        "    dcc.Checklist(\n",
        "        options=[\n",
        "            {'label': 'New York City', 'value': 'NYC'},\n",
        "            {'label': 'Montréal', 'value': 'MTL'},\n",
        "            {'label': 'San Francisco', 'value': 'SF'}\n",
        "        ],\n",
        "        value=['MTL', 'SF']\n",
        "    )\n",
        "])\n",
        "\n",
        "if __name__ == '__main__':\n",
        "    app.run_server(port='2540')"
      ],
      "execution_count": null,
      "outputs": []
    },
    {
      "cell_type": "code",
      "metadata": {
        "id": "v7Hcs4qI8xyC"
      },
      "source": [
        "ngrok.connect(2540)"
      ],
      "execution_count": null,
      "outputs": []
    },
    {
      "cell_type": "code",
      "metadata": {
        "id": "9C1V61Kt82Ja"
      },
      "source": [
        "!python checkbox.py"
      ],
      "execution_count": null,
      "outputs": []
    },
    {
      "cell_type": "markdown",
      "metadata": {
        "id": "c7bjXNHF9fEz"
      },
      "source": [
        "##Markdown"
      ]
    },
    {
      "cell_type": "code",
      "metadata": {
        "colab": {
          "base_uri": "https://localhost:8080/"
        },
        "id": "lkV258RO9g-1",
        "outputId": "a2ae4697-8ae8-4a35-aa0b-75210fe3340b"
      },
      "source": [
        "%%writefile markdown.py\n",
        "import dash\n",
        "from dash import dcc\n",
        "from dash import html\n",
        "\n",
        "app = dash.Dash(__name__)\n",
        "\n",
        "app.layout = html.Div([\n",
        "    dcc.Markdown('''\n",
        "        #### Dash and Markdown\n",
        "        Dash supports [Markdown](http://commonmark.org/help).\n",
        "        Markdown is a simple way to write and format text.\n",
        "        It includes a syntax for things like **bold text** and *italics*,\n",
        "        [links](http://commonmark.org/help), inline `code` snippets, lists,\n",
        "        quotes, and more.\n",
        "    ''')\n",
        "])\n",
        "\n",
        "if __name__ == '__main__':\n",
        "    app.run_server(port='2551')"
      ],
      "execution_count": null,
      "outputs": [
        {
          "output_type": "stream",
          "name": "stdout",
          "text": [
            "Overwriting markdown.py\n"
          ]
        }
      ]
    },
    {
      "cell_type": "code",
      "metadata": {
        "id": "CWVY8C-Q9q2R"
      },
      "source": [
        "ngrok.connect(2551)"
      ],
      "execution_count": null,
      "outputs": []
    },
    {
      "cell_type": "code",
      "metadata": {
        "id": "Zy32YIlc9zlo"
      },
      "source": [
        "!python markdown.py"
      ],
      "execution_count": null,
      "outputs": []
    }
  ]
}