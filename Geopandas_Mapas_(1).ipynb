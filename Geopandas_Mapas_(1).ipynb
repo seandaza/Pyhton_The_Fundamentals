{
  "nbformat": 4,
  "nbformat_minor": 0,
  "metadata": {
    "colab": {
      "name": "Geopandas_Mapas (1).ipynb",
      "provenance": [],
      "collapsed_sections": [
        "v4cadDNPE-SV"
      ],
      "include_colab_link": true
    },
    "kernelspec": {
      "name": "python3",
      "display_name": "Python 3.7.4 64-bit"
    },
    "language_info": {
      "name": "python",
      "version": "3.7.4",
      "mimetype": "text/x-python",
      "codemirror_mode": {
        "name": "ipython",
        "version": 3
      },
      "pygments_lexer": "ipython3",
      "nbconvert_exporter": "python",
      "file_extension": ".py"
    },
    "interpreter": {
      "hash": "a89f2911bb5b63cbd581c51f5d4ab9336821ead0df4f2240fa1659c377275015"
    }
  },
  "cells": [
    {
      "cell_type": "markdown",
      "metadata": {
        "id": "view-in-github",
        "colab_type": "text"
      },
      "source": [
        "<a href=\"https://colab.research.google.com/github/seandaza/Python-The-Fundamentals/blob/master/Geopandas_Mapas_(1).ipynb\" target=\"_parent\"><img src=\"https://colab.research.google.com/assets/colab-badge.svg\" alt=\"Open In Colab\"/></a>"
      ]
    },
    {
      "cell_type": "markdown",
      "metadata": {
        "id": "nRL7gEHqE-Qr"
      },
      "source": [
        "# Geopandas - Mapas"
      ]
    },
    {
      "cell_type": "code",
      "metadata": {
        "colab": {
          "base_uri": "https://localhost:8080/"
        },
        "id": "1C0bzOMM-c_y",
        "outputId": "e6510693-dab4-40b8-9c97-eb9f55e3c036"
      },
      "source": [
        "!pip install geopandas\n",
        "!pip install mapclassify\n",
        "!pip install rtree\n",
        "!pip install pygeos"
      ],
      "execution_count": null,
      "outputs": [
        {
          "output_type": "error",
          "ename": "SyntaxError",
          "evalue": "invalid syntax (Temp/ipykernel_4036/2128799569.py, line 1)",
          "traceback": [
            "\u001b[1;36m  File \u001b[1;32m\"C:\\Users\\DCASTA~1\\AppData\\Local\\Temp/ipykernel_4036/2128799569.py\"\u001b[1;36m, line \u001b[1;32m1\u001b[0m\n\u001b[1;33m    pip install geopandas\u001b[0m\n\u001b[1;37m              ^\u001b[0m\n\u001b[1;31mSyntaxError\u001b[0m\u001b[1;31m:\u001b[0m invalid syntax\n"
          ]
        }
      ]
    },
    {
      "cell_type": "markdown",
      "metadata": {
        "id": "1LzY3EAmE-Qu"
      },
      "source": [
        "GeoPandas es una librería que brinda soporte a datos geográficos usando Pandas. Implementa dos tipos de datos derivados de pandas.Series y pandas.DataFrame (**GeoSeries** y **GeoDataFrame**). Las operaciones geométricas soportadas por Geopandas son cartesianas. "
      ]
    },
    {
      "cell_type": "code",
      "metadata": {
        "id": "r1XhsDMhE-Qw",
        "outputId": "27eeb309-4b25-4862-ac9a-3e0b2ee5b64d"
      },
      "source": [
        "%matplotlib inline\n",
        "import ogr  # GDAL/OGR\n",
        "import shapely\n",
        "from shapely.geometry import *\n",
        "import geopandas as gpd\n",
        "import pandas as pd\n",
        "import numpy as np\n",
        "import matplotlib.pyplot as plt\n",
        "import IPython.display as display"
      ],
      "execution_count": null,
      "outputs": [
        {
          "output_type": "error",
          "ename": "ModuleNotFoundError",
          "evalue": "No module named 'ogr'",
          "traceback": [
            "\u001b[1;31m---------------------------------------------------------------------------\u001b[0m",
            "\u001b[1;31mModuleNotFoundError\u001b[0m                       Traceback (most recent call last)",
            "\u001b[1;32mC:\\Users\\DCASTA~1\\AppData\\Local\\Temp/ipykernel_4036/155110568.py\u001b[0m in \u001b[0;36m<module>\u001b[1;34m\u001b[0m\n\u001b[0;32m      1\u001b[0m \u001b[0mget_ipython\u001b[0m\u001b[1;33m(\u001b[0m\u001b[1;33m)\u001b[0m\u001b[1;33m.\u001b[0m\u001b[0mrun_line_magic\u001b[0m\u001b[1;33m(\u001b[0m\u001b[1;34m'matplotlib'\u001b[0m\u001b[1;33m,\u001b[0m \u001b[1;34m'inline'\u001b[0m\u001b[1;33m)\u001b[0m\u001b[1;33m\u001b[0m\u001b[1;33m\u001b[0m\u001b[0m\n\u001b[1;32m----> 2\u001b[1;33m \u001b[1;32mimport\u001b[0m \u001b[0mogr\u001b[0m  \u001b[1;31m# GDAL/OGR\u001b[0m\u001b[1;33m\u001b[0m\u001b[1;33m\u001b[0m\u001b[0m\n\u001b[0m\u001b[0;32m      3\u001b[0m \u001b[1;32mimport\u001b[0m \u001b[0mshapely\u001b[0m\u001b[1;33m\u001b[0m\u001b[1;33m\u001b[0m\u001b[0m\n\u001b[0;32m      4\u001b[0m \u001b[1;32mfrom\u001b[0m \u001b[0mshapely\u001b[0m\u001b[1;33m.\u001b[0m\u001b[0mgeometry\u001b[0m \u001b[1;32mimport\u001b[0m \u001b[1;33m*\u001b[0m\u001b[1;33m\u001b[0m\u001b[1;33m\u001b[0m\u001b[0m\n\u001b[0;32m      5\u001b[0m \u001b[1;32mimport\u001b[0m \u001b[0mgeopandas\u001b[0m \u001b[1;32mas\u001b[0m \u001b[0mgpd\u001b[0m\u001b[1;33m\u001b[0m\u001b[1;33m\u001b[0m\u001b[0m\n",
            "\u001b[1;31mModuleNotFoundError\u001b[0m: No module named 'ogr'"
          ]
        }
      ]
    },
    {
      "cell_type": "markdown",
      "metadata": {
        "id": "ePedqQofE-Q9"
      },
      "source": [
        "## GeoSerie"
      ]
    },
    {
      "cell_type": "code",
      "metadata": {
        "id": "ddoS1VqjE-RA"
      },
      "source": [
        "p1 = Polygon([(0, 0), (1, 0), (1, 1), (0, 1)])\n",
        "p2 = Polygon([(0, 0), (1, 0), (1, 1)])\n",
        "p3 = Polygon([(2, 0), (3, 0), (3, 1), (2, 1)])\n",
        "g = gpd.GeoSeries([p1, p2, p3])"
      ],
      "execution_count": null,
      "outputs": []
    },
    {
      "cell_type": "code",
      "metadata": {
        "id": "73pQWjnYE-RL",
        "colab": {
          "base_uri": "https://localhost:8080/",
          "height": 178
        },
        "outputId": "30b96e81-4dc8-4742-be37-33ca78864279"
      },
      "source": [
        "g.plot(cmap='Set1')"
      ],
      "execution_count": null,
      "outputs": [
        {
          "output_type": "execute_result",
          "data": {
            "text/plain": [
              "<matplotlib.axes._subplots.AxesSubplot at 0x7f8bc0f406d0>"
            ]
          },
          "metadata": {},
          "execution_count": 6
        },
        {
          "output_type": "display_data",
          "data": {
            "image/png": "[encoded data removed]",
            "text/plain": [
              "<Figure size 432x288 with 1 Axes>"
            ]
          },
          "metadata": {
            "needs_background": "light"
          }
        }
      ]
    },
    {
      "cell_type": "markdown",
      "metadata": {
        "id": "uGdLiyacE-RS"
      },
      "source": [
        "Acabamos de definir un elemento de tipo `GeoSeries`. Una `GeoSeries` es un vector donde cada entrada corresponde a un conjunto de figuras que corresponden a una observación. Una entrada puede consistir de solo una figura (Un simple polígono o punto) o de múltiples figuras que se entienden como una observación (Por ejemplo, el conjunto de polígonos que forman las islas de San Andrés y Providencia). \n",
        "\n",
        "`Geopandas` soporta los siguientes tipos de objetos geométricos:\n",
        "\n",
        "- Points / Multi-Points [Documentación](http://toblerity.org/shapely/manual.html#points)\n",
        "- Lines / Multi-Lines [Documentación](http://toblerity.org/shapely/manual.html#linestrings)\n",
        "- Polygons / Multi-Polygons [Documentación](http://toblerity.org/shapely/manual.html#polygons)\n",
        "\n",
        "Cada uno de estos objetos son a su vez objetos de la librería `shapely`. \n",
        "\n",
        "### Atributos\n",
        "\n",
        "`shapely` nos permite ejecutar operaciones como:"
      ]
    },
    {
      "cell_type": "code",
      "metadata": {
        "id": "UIclpgQdE-RV",
        "colab": {
          "base_uri": "https://localhost:8080/"
        },
        "outputId": "3f90017c-8f71-4fbd-9113-90a6423429d6"
      },
      "source": [
        "g.area"
      ],
      "execution_count": null,
      "outputs": [
        {
          "output_type": "execute_result",
          "data": {
            "text/plain": [
              "0    1.0\n",
              "1    0.5\n",
              "2    1.0\n",
              "dtype: float64"
            ]
          },
          "metadata": {},
          "execution_count": 7
        }
      ]
    },
    {
      "cell_type": "code",
      "metadata": {
        "id": "sZDCc9-9E-Ra",
        "colab": {
          "base_uri": "https://localhost:8080/",
          "height": 141
        },
        "outputId": "24889732-6679-4a02-f9e0-ba3855ad61c1"
      },
      "source": [
        "g.bounds"
      ],
      "execution_count": null,
      "outputs": [
        {
          "output_type": "execute_result",
          "data": {
            "text/html": [
              "<div>\n",
              "<style scoped>\n",
              "    .dataframe tbody tr th:only-of-type {\n",
              "        vertical-align: middle;\n",
              "    }\n",
              "\n",
              "    .dataframe tbody tr th {\n",
              "        vertical-align: top;\n",
              "    }\n",
              "\n",
              "    .dataframe thead th {\n",
              "        text-align: right;\n",
              "    }\n",
              "</style>\n",
              "<table border=\"1\" class=\"dataframe\">\n",
              "  <thead>\n",
              "    <tr style=\"text-align: right;\">\n",
              "      <th></th>\n",
              "      <th>minx</th>\n",
              "      <th>miny</th>\n",
              "      <th>maxx</th>\n",
              "      <th>maxy</th>\n",
              "    </tr>\n",
              "  </thead>\n",
              "  <tbody>\n",
              "    <tr>\n",
              "      <th>0</th>\n",
              "      <td>0.0</td>\n",
              "      <td>0.0</td>\n",
              "      <td>1.0</td>\n",
              "      <td>1.0</td>\n",
              "    </tr>\n",
              "    <tr>\n",
              "      <th>1</th>\n",
              "      <td>0.0</td>\n",
              "      <td>0.0</td>\n",
              "      <td>1.0</td>\n",
              "      <td>1.0</td>\n",
              "    </tr>\n",
              "    <tr>\n",
              "      <th>2</th>\n",
              "      <td>2.0</td>\n",
              "      <td>0.0</td>\n",
              "      <td>3.0</td>\n",
              "      <td>1.0</td>\n",
              "    </tr>\n",
              "  </tbody>\n",
              "</table>\n",
              "</div>"
            ],
            "text/plain": [
              "   minx  miny  maxx  maxy\n",
              "0   0.0   0.0   1.0   1.0\n",
              "1   0.0   0.0   1.0   1.0\n",
              "2   2.0   0.0   3.0   1.0"
            ]
          },
          "metadata": {},
          "execution_count": 8
        }
      ]
    },
    {
      "cell_type": "code",
      "metadata": {
        "id": "I8KqZ1hkE-Rk",
        "colab": {
          "base_uri": "https://localhost:8080/"
        },
        "outputId": "8bcfb215-174d-439b-8ed0-d6d0b6cd700e"
      },
      "source": [
        "g.geom_type"
      ],
      "execution_count": null,
      "outputs": [
        {
          "output_type": "execute_result",
          "data": {
            "text/plain": [
              "0    Polygon\n",
              "1    Polygon\n",
              "2    Polygon\n",
              "dtype: object"
            ]
          },
          "metadata": {},
          "execution_count": 9
        }
      ]
    },
    {
      "cell_type": "markdown",
      "metadata": {
        "id": "6-R5_gSXE-Ru"
      },
      "source": [
        "### Métodos básicos"
      ]
    },
    {
      "cell_type": "code",
      "metadata": {
        "id": "82KQOacEE-Rw",
        "colab": {
          "base_uri": "https://localhost:8080/"
        },
        "outputId": "b5778ede-dd64-4a47-fbe0-107cb5ffe2df"
      },
      "source": [
        "# Distancia entre elementos\n",
        "\n",
        "print(p1.distance(p3))"
      ],
      "execution_count": null,
      "outputs": [
        {
          "output_type": "stream",
          "name": "stdout",
          "text": [
            "1.0\n"
          ]
        }
      ]
    },
    {
      "cell_type": "code",
      "metadata": {
        "id": "6hWdA-fNE-R5",
        "colab": {
          "base_uri": "https://localhost:8080/"
        },
        "outputId": "45e36a9a-cd07-41b9-e50a-cb7a733f4741"
      },
      "source": [
        "print(g.distance(p3))"
      ],
      "execution_count": null,
      "outputs": [
        {
          "output_type": "stream",
          "name": "stdout",
          "text": [
            "0    1.0\n",
            "1    1.0\n",
            "2    0.0\n",
            "dtype: float64\n"
          ]
        }
      ]
    },
    {
      "cell_type": "code",
      "metadata": {
        "id": "Wi9ClXQnE-R_",
        "colab": {
          "base_uri": "https://localhost:8080/"
        },
        "outputId": "30845a7d-c0b2-4389-d538-3b8b6f016cdb"
      },
      "source": [
        "g.centroid"
      ],
      "execution_count": null,
      "outputs": [
        {
          "output_type": "execute_result",
          "data": {
            "text/plain": [
              "0    POINT (0.50000 0.50000)\n",
              "1    POINT (0.66667 0.33333)\n",
              "2    POINT (2.50000 0.50000)\n",
              "dtype: geometry"
            ]
          },
          "metadata": {},
          "execution_count": 12
        }
      ]
    },
    {
      "cell_type": "code",
      "metadata": {
        "id": "x3wJqv4GE-SH",
        "colab": {
          "base_uri": "https://localhost:8080/"
        },
        "outputId": "5840e145-8b41-49a6-db0b-b4e823e146d9"
      },
      "source": [
        "g.representative_point() \n",
        "# A diferencia de centroid, regresa un punto representativo que está garantizado, \n",
        "# se encuentra dentro de la geometría"
      ],
      "execution_count": null,
      "outputs": [
        {
          "output_type": "execute_result",
          "data": {
            "text/plain": [
              "0    POINT (0.50000 0.50000)\n",
              "1    POINT (0.75000 0.50000)\n",
              "2    POINT (2.50000 0.50000)\n",
              "dtype: geometry"
            ]
          },
          "metadata": {},
          "execution_count": 13
        }
      ]
    },
    {
      "cell_type": "code",
      "metadata": {
        "id": "FIsO7OgzE-SP",
        "colab": {
          "base_uri": "https://localhost:8080/",
          "height": 97
        },
        "outputId": "9c865308-b2f4-4121-ce7c-b2f65aac8c60"
      },
      "source": [
        "g.centroid.plot()"
      ],
      "execution_count": null,
      "outputs": [
        {
          "output_type": "execute_result",
          "data": {
            "text/plain": [
              "<matplotlib.axes._subplots.AxesSubplot at 0x7f8bb37bd550>"
            ]
          },
          "metadata": {},
          "execution_count": 14
        },
        {
          "output_type": "display_data",
          "data": {
            "image/png": "[encoded data removed]",
            "text/plain": [
              "<Figure size 432x288 with 1 Axes>"
            ]
          },
          "metadata": {
            "needs_background": "light"
          }
        }
      ]
    },
    {
      "cell_type": "markdown",
      "metadata": {
        "id": "v4cadDNPE-SV"
      },
      "source": [
        "### Pruebas de relación"
      ]
    },
    {
      "cell_type": "code",
      "metadata": {
        "id": "FNEhjqq0E-SZ",
        "colab": {
          "base_uri": "https://localhost:8080/"
        },
        "outputId": "323295d3-c5a1-4a31-e0b1-94d7cd98fbb2"
      },
      "source": [
        "# Compara si la figura de un objeto geométrico es casi igual\n",
        "g.geom_almost_equals(p3)"
      ],
      "execution_count": null,
      "outputs": [
        {
          "output_type": "execute_result",
          "data": {
            "text/plain": [
              "0    False\n",
              "1    False\n",
              "2     True\n",
              "dtype: bool"
            ]
          },
          "metadata": {},
          "execution_count": 15
        }
      ]
    },
    {
      "cell_type": "code",
      "metadata": {
        "id": "fHs7DxpyE-Sj",
        "colab": {
          "base_uri": "https://localhost:8080/"
        },
        "outputId": "45b9f704-e151-445d-ad79-e15e585fdd0b"
      },
      "source": [
        "# Regresa verdadero si una figura está contenida en otra\n",
        "p1.contains(p2)"
      ],
      "execution_count": null,
      "outputs": [
        {
          "output_type": "execute_result",
          "data": {
            "text/plain": [
              "True"
            ]
          },
          "metadata": {},
          "execution_count": 16
        }
      ]
    },
    {
      "cell_type": "code",
      "metadata": {
        "id": "lkJCq6QME-Sr",
        "colab": {
          "base_uri": "https://localhost:8080/"
        },
        "outputId": "8bc9ff4f-30f4-4fc4-c9bd-2efc6718deac"
      },
      "source": [
        "p2.contains(p1)"
      ],
      "execution_count": null,
      "outputs": [
        {
          "output_type": "execute_result",
          "data": {
            "text/plain": [
              "False"
            ]
          },
          "metadata": {},
          "execution_count": 17
        }
      ]
    },
    {
      "cell_type": "code",
      "metadata": {
        "id": "mla3qWOFE-Sz",
        "colab": {
          "base_uri": "https://localhost:8080/"
        },
        "outputId": "597aec0b-6a96-43f6-b748-0fef5b75f458"
      },
      "source": [
        "# Regresa verdadero si una figura está intersectada con otra\n",
        "p1.intersects(p2)"
      ],
      "execution_count": null,
      "outputs": [
        {
          "output_type": "execute_result",
          "data": {
            "text/plain": [
              "True"
            ]
          },
          "metadata": {},
          "execution_count": 18
        }
      ]
    },
    {
      "cell_type": "markdown",
      "metadata": {
        "id": "OGRCpPkNE-S7"
      },
      "source": [
        "## GeoDataFrame"
      ]
    },
    {
      "cell_type": "markdown",
      "metadata": {
        "id": "W_WLQL1LE-S8"
      },
      "source": [
        "Un `GeoDataFrame` es una estructura de datos tabular que contiene una columna de tipo `GeoSeries`. \n",
        "\n",
        "Los `GeoDataFrames` siempre contienen una columna que se denomina geometría (`geometry`). Cuando una operación espacial es aplicada al `GeoDataFrame`, este comando siempre actuará sobre la columna `geometry`. La columna `geometry` podría tener un nombre diferente, el cual puede ser consultado usando `gdf.geometry.name`.\n",
        "\n",
        "A continuación se presenta un ejemplo usando `GeoDataFrame`:"
      ]
    },
    {
      "cell_type": "code",
      "metadata": {
        "id": "3W7X8_AhE-TE",
        "colab": {
          "base_uri": "https://localhost:8080/",
          "height": 204
        },
        "outputId": "75f54141-1de5-43e5-9d3d-1252a2bfd1cd"
      },
      "source": [
        "world = gpd.read_file(gpd.datasets.get_path('naturalearth_lowres'))\n",
        "world.head()"
      ],
      "execution_count": null,
      "outputs": [
        {
          "output_type": "execute_result",
          "data": {
            "text/html": [
              "<div>\n",
              "<style scoped>\n",
              "    .dataframe tbody tr th:only-of-type {\n",
              "        vertical-align: middle;\n",
              "    }\n",
              "\n",
              "    .dataframe tbody tr th {\n",
              "        vertical-align: top;\n",
              "    }\n",
              "\n",
              "    .dataframe thead th {\n",
              "        text-align: right;\n",
              "    }\n",
              "</style>\n",
              "<table border=\"1\" class=\"dataframe\">\n",
              "  <thead>\n",
              "    <tr style=\"text-align: right;\">\n",
              "      <th></th>\n",
              "      <th>pop_est</th>\n",
              "      <th>continent</th>\n",
              "      <th>name</th>\n",
              "      <th>iso_a3</th>\n",
              "      <th>gdp_md_est</th>\n",
              "      <th>geometry</th>\n",
              "    </tr>\n",
              "  </thead>\n",
              "  <tbody>\n",
              "    <tr>\n",
              "      <th>0</th>\n",
              "      <td>920938</td>\n",
              "      <td>Oceania</td>\n",
              "      <td>Fiji</td>\n",
              "      <td>FJI</td>\n",
              "      <td>8374.0</td>\n",
              "      <td>MULTIPOLYGON (((180.00000 -16.06713, 180.00000...</td>\n",
              "    </tr>\n",
              "    <tr>\n",
              "      <th>1</th>\n",
              "      <td>53950935</td>\n",
              "      <td>Africa</td>\n",
              "      <td>Tanzania</td>\n",
              "      <td>TZA</td>\n",
              "      <td>150600.0</td>\n",
              "      <td>POLYGON ((33.90371 -0.95000, 34.07262 -1.05982...</td>\n",
              "    </tr>\n",
              "    <tr>\n",
              "      <th>2</th>\n",
              "      <td>603253</td>\n",
              "      <td>Africa</td>\n",
              "      <td>W. Sahara</td>\n",
              "      <td>ESH</td>\n",
              "      <td>906.5</td>\n",
              "      <td>POLYGON ((-8.66559 27.65643, -8.66512 27.58948...</td>\n",
              "    </tr>\n",
              "    <tr>\n",
              "      <th>3</th>\n",
              "      <td>35623680</td>\n",
              "      <td>North America</td>\n",
              "      <td>Canada</td>\n",
              "      <td>CAN</td>\n",
              "      <td>1674000.0</td>\n",
              "      <td>MULTIPOLYGON (((-122.84000 49.00000, -122.9742...</td>\n",
              "    </tr>\n",
              "    <tr>\n",
              "      <th>4</th>\n",
              "      <td>326625791</td>\n",
              "      <td>North America</td>\n",
              "      <td>United States of America</td>\n",
              "      <td>USA</td>\n",
              "      <td>18560000.0</td>\n",
              "      <td>MULTIPOLYGON (((-122.84000 49.00000, -120.0000...</td>\n",
              "    </tr>\n",
              "  </tbody>\n",
              "</table>\n",
              "</div>"
            ],
            "text/plain": [
              "     pop_est  ...                                           geometry\n",
              "0     920938  ...  MULTIPOLYGON (((180.00000 -16.06713, 180.00000...\n",
              "1   53950935  ...  POLYGON ((33.90371 -0.95000, 34.07262 -1.05982...\n",
              "2     603253  ...  POLYGON ((-8.66559 27.65643, -8.66512 27.58948...\n",
              "3   35623680  ...  MULTIPOLYGON (((-122.84000 49.00000, -122.9742...\n",
              "4  326625791  ...  MULTIPOLYGON (((-122.84000 49.00000, -120.0000...\n",
              "\n",
              "[5 rows x 6 columns]"
            ]
          },
          "metadata": {},
          "execution_count": 19
        }
      ]
    },
    {
      "cell_type": "code",
      "metadata": {
        "id": "qK1RO3AyE-TV",
        "colab": {
          "base_uri": "https://localhost:8080/"
        },
        "outputId": "e60274a6-8331-4cca-d2a7-6a5e6b36ad47"
      },
      "source": [
        "gpd.datasets.available"
      ],
      "execution_count": null,
      "outputs": [
        {
          "output_type": "execute_result",
          "data": {
            "text/plain": [
              "['naturalearth_lowres', 'naturalearth_cities', 'nybb']"
            ]
          },
          "metadata": {},
          "execution_count": 20
        }
      ]
    },
    {
      "cell_type": "code",
      "metadata": {
        "id": "68Kc7KEGE-Te",
        "colab": {
          "base_uri": "https://localhost:8080/",
          "height": 228
        },
        "outputId": "0318bc62-9a9f-4c25-8d55-6cf87491ccff"
      },
      "source": [
        "world.plot()"
      ],
      "execution_count": null,
      "outputs": [
        {
          "output_type": "execute_result",
          "data": {
            "text/plain": [
              "<matplotlib.axes._subplots.AxesSubplot at 0x7f8bb373fd10>"
            ]
          },
          "metadata": {},
          "execution_count": 21
        },
        {
          "output_type": "display_data",
          "data": {
            "image/png": "[encoded data removed]",
            "text/plain": [
              "<Figure size 432x288 with 1 Axes>"
            ]
          },
          "metadata": {
            "needs_background": "light"
          }
        }
      ]
    },
    {
      "cell_type": "code",
      "metadata": {
        "id": "VDsoMdLgE-Tl",
        "colab": {
          "base_uri": "https://localhost:8080/",
          "height": 36
        },
        "outputId": "d1959787-adfe-4a8f-950a-0804ce527cf7"
      },
      "source": [
        "world.geometry.name"
      ],
      "execution_count": null,
      "outputs": [
        {
          "output_type": "execute_result",
          "data": {
            "application/vnd.google.colaboratory.intrinsic+json": {
              "type": "string"
            },
            "text/plain": [
              "'geometry'"
            ]
          },
          "metadata": {},
          "execution_count": 22
        }
      ]
    },
    {
      "cell_type": "code",
      "metadata": {
        "id": "3KWoJb5SE-Tq",
        "colab": {
          "base_uri": "https://localhost:8080/"
        },
        "outputId": "91901172-bf63-49a3-bebe-cf67ddb7b8ec"
      },
      "source": [
        "world['centroid_column'] = world.centroid # Nueva columna con el centroide de cada país\n",
        "world = world.set_geometry('centroid_column') # Aquí cambiamos la columna geometry a la columna centroid_column\n",
        "print(world.geometry.name) "
      ],
      "execution_count": null,
      "outputs": [
        {
          "output_type": "stream",
          "name": "stdout",
          "text": [
            "centroid_column\n"
          ]
        },
        {
          "output_type": "stream",
          "name": "stderr",
          "text": [
            "/usr/local/lib/python3.7/dist-packages/ipykernel_launcher.py:1: UserWarning: Geometry is in a geographic CRS. Results from 'centroid' are likely incorrect. Use 'GeoSeries.to_crs()' to re-project geometries to a projected CRS before this operation.\n",
            "\n",
            "  \"\"\"Entry point for launching an IPython kernel.\n"
          ]
        }
      ]
    },
    {
      "cell_type": "code",
      "metadata": {
        "id": "kzFRp3LkE-Ty",
        "colab": {
          "base_uri": "https://localhost:8080/",
          "height": 250
        },
        "outputId": "6d5ab456-1c60-4e64-e1a1-f175522917d0"
      },
      "source": [
        "world.plot()"
      ],
      "execution_count": null,
      "outputs": [
        {
          "output_type": "execute_result",
          "data": {
            "text/plain": [
              "<matplotlib.axes._subplots.AxesSubplot at 0x7f8bb367b090>"
            ]
          },
          "metadata": {},
          "execution_count": 24
        },
        {
          "output_type": "display_data",
          "data": {
            "image/png": "[encoded data removed]",
            "text/plain": [
              "<Figure size 432x288 with 1 Axes>"
            ]
          },
          "metadata": {
            "needs_background": "light"
          }
        }
      ]
    },
    {
      "cell_type": "markdown",
      "metadata": {
        "id": "_r-3hwnoE-UB"
      },
      "source": [
        "# Cargando datos"
      ]
    },
    {
      "cell_type": "markdown",
      "metadata": {
        "id": "q0wdfFh7E-UG"
      },
      "source": [
        "`gpd.read_file` permite la carga de conjuntos de datos a través de la libería `fiona`. `fiona` soporta una gran cantidad de formatos, entre ellos GeoJSON. `gpd.read_file` regresa automáticamente un `GeoDataFrame`."
      ]
    },
    {
      "cell_type": "code",
      "metadata": {
        "id": "wB-BTSocE-UI"
      },
      "source": [
        "df_bogota = gpd.read_file('bogota_cadastral.json')"
      ],
      "execution_count": null,
      "outputs": []
    },
    {
      "cell_type": "code",
      "metadata": {
        "id": "jNlH1U41E-UL",
        "colab": {
          "base_uri": "https://localhost:8080/",
          "height": 204
        },
        "outputId": "537635c6-e22c-4b49-e7f9-4969594cd4c7"
      },
      "source": [
        "df_bogota.head()"
      ],
      "execution_count": null,
      "outputs": [
        {
          "output_type": "execute_result",
          "data": {
            "text/html": [
              "<div>\n",
              "<style scoped>\n",
              "    .dataframe tbody tr th:only-of-type {\n",
              "        vertical-align: middle;\n",
              "    }\n",
              "\n",
              "    .dataframe tbody tr th {\n",
              "        vertical-align: top;\n",
              "    }\n",
              "\n",
              "    .dataframe thead th {\n",
              "        text-align: right;\n",
              "    }\n",
              "</style>\n",
              "<table border=\"1\" class=\"dataframe\">\n",
              "  <thead>\n",
              "    <tr style=\"text-align: right;\">\n",
              "      <th></th>\n",
              "      <th>cartodb_id</th>\n",
              "      <th>scacodigo</th>\n",
              "      <th>scatipo</th>\n",
              "      <th>scanombre</th>\n",
              "      <th>shape_leng</th>\n",
              "      <th>shape_area</th>\n",
              "      <th>MOVEMENT_ID</th>\n",
              "      <th>DISPLAY_NAME</th>\n",
              "      <th>geometry</th>\n",
              "    </tr>\n",
              "  </thead>\n",
              "  <tbody>\n",
              "    <tr>\n",
              "      <th>0</th>\n",
              "      <td>12</td>\n",
              "      <td>004575</td>\n",
              "      <td>0</td>\n",
              "      <td>LOS LAURELES</td>\n",
              "      <td>0.027741</td>\n",
              "      <td>0.000037</td>\n",
              "      <td>1</td>\n",
              "      <td>LOS LAURELES, 004575 (1)</td>\n",
              "      <td>MULTIPOLYGON (((-74.20029 4.61725, -74.20028 4...</td>\n",
              "    </tr>\n",
              "    <tr>\n",
              "      <th>1</th>\n",
              "      <td>26</td>\n",
              "      <td>006524</td>\n",
              "      <td>0</td>\n",
              "      <td>LA MAGDALENA</td>\n",
              "      <td>0.053219</td>\n",
              "      <td>0.000089</td>\n",
              "      <td>2</td>\n",
              "      <td>LA MAGDALENA, 006524 (2)</td>\n",
              "      <td>MULTIPOLYGON (((-74.16276 4.66008, -74.16272 4...</td>\n",
              "    </tr>\n",
              "    <tr>\n",
              "      <th>2</th>\n",
              "      <td>45</td>\n",
              "      <td>102502</td>\n",
              "      <td>1</td>\n",
              "      <td>EL UVAL RURAL</td>\n",
              "      <td>0.171333</td>\n",
              "      <td>0.000708</td>\n",
              "      <td>3</td>\n",
              "      <td>EL UVAL RURAL, 102502 (3)</td>\n",
              "      <td>MULTIPOLYGON (((-74.11931 4.49017, -74.11933 4...</td>\n",
              "    </tr>\n",
              "    <tr>\n",
              "      <th>3</th>\n",
              "      <td>74</td>\n",
              "      <td>005501</td>\n",
              "      <td>0</td>\n",
              "      <td>PALO BLANCO</td>\n",
              "      <td>0.017187</td>\n",
              "      <td>0.000018</td>\n",
              "      <td>4</td>\n",
              "      <td>PALO BLANCO, 005501 (4)</td>\n",
              "      <td>MULTIPOLYGON (((-74.09353 4.68101, -74.09481 4...</td>\n",
              "    </tr>\n",
              "    <tr>\n",
              "      <th>4</th>\n",
              "      <td>77</td>\n",
              "      <td>009240</td>\n",
              "      <td>0</td>\n",
              "      <td>POTRERILLO</td>\n",
              "      <td>0.010527</td>\n",
              "      <td>0.000007</td>\n",
              "      <td>5</td>\n",
              "      <td>POTRERILLO, 009240 (5)</td>\n",
              "      <td>MULTIPOLYGON (((-74.09744 4.73531, -74.09620 4...</td>\n",
              "    </tr>\n",
              "  </tbody>\n",
              "</table>\n",
              "</div>"
            ],
            "text/plain": [
              "   cartodb_id  ...                                           geometry\n",
              "0          12  ...  MULTIPOLYGON (((-74.20029 4.61725, -74.20028 4...\n",
              "1          26  ...  MULTIPOLYGON (((-74.16276 4.66008, -74.16272 4...\n",
              "2          45  ...  MULTIPOLYGON (((-74.11931 4.49017, -74.11933 4...\n",
              "3          74  ...  MULTIPOLYGON (((-74.09353 4.68101, -74.09481 4...\n",
              "4          77  ...  MULTIPOLYGON (((-74.09744 4.73531, -74.09620 4...\n",
              "\n",
              "[5 rows x 9 columns]"
            ]
          },
          "metadata": {},
          "execution_count": 56
        }
      ]
    },
    {
      "cell_type": "markdown",
      "metadata": {
        "id": "Jqbk36A4E-UZ"
      },
      "source": [
        "`GeoPandas` permite la indexación y selección de datos de la misma forma que pandas, a través de `.loc` e `.iloc`. Por ejemplo si queremos filtrar aquellas áreas mayores a 0.0006, lo podemos hacer de la siguiente manera:"
      ]
    },
    {
      "cell_type": "code",
      "metadata": {
        "id": "jwzukjYQE-Uf",
        "colab": {
          "base_uri": "https://localhost:8080/"
        },
        "outputId": "915df643-f1db-480d-82f9-bcbb67ea904f"
      },
      "source": [
        "df_bogota_large = df_bogota.loc[df_bogota.shape_area > 0.0006]\n",
        "\n",
        "print(df_bogota_large.count())\n",
        "print(df_bogota.count())"
      ],
      "execution_count": null,
      "outputs": [
        {
          "output_type": "stream",
          "name": "stdout",
          "text": [
            "cartodb_id      42\n",
            "scacodigo       42\n",
            "scatipo         42\n",
            "scanombre       42\n",
            "shape_leng      42\n",
            "shape_area      42\n",
            "MOVEMENT_ID     42\n",
            "DISPLAY_NAME    42\n",
            "geometry        42\n",
            "dtype: int64\n",
            "cartodb_id      1160\n",
            "scacodigo       1160\n",
            "scatipo         1160\n",
            "scanombre       1160\n",
            "shape_leng      1160\n",
            "shape_area      1160\n",
            "MOVEMENT_ID     1160\n",
            "DISPLAY_NAME    1160\n",
            "geometry        1160\n",
            "dtype: int64\n"
          ]
        }
      ]
    },
    {
      "cell_type": "code",
      "metadata": {
        "colab": {
          "base_uri": "https://localhost:8080/",
          "height": 296
        },
        "id": "hgr2ZY1LTLbn",
        "outputId": "accc22a7-f2c7-44e0-c402-4d63e34845fc"
      },
      "source": [
        "df_bogota_large.describe()"
      ],
      "execution_count": null,
      "outputs": [
        {
          "output_type": "execute_result",
          "data": {
            "text/html": [
              "<div>\n",
              "<style scoped>\n",
              "    .dataframe tbody tr th:only-of-type {\n",
              "        vertical-align: middle;\n",
              "    }\n",
              "\n",
              "    .dataframe tbody tr th {\n",
              "        vertical-align: top;\n",
              "    }\n",
              "\n",
              "    .dataframe thead th {\n",
              "        text-align: right;\n",
              "    }\n",
              "</style>\n",
              "<table border=\"1\" class=\"dataframe\">\n",
              "  <thead>\n",
              "    <tr style=\"text-align: right;\">\n",
              "      <th></th>\n",
              "      <th>cartodb_id</th>\n",
              "      <th>scatipo</th>\n",
              "      <th>shape_leng</th>\n",
              "      <th>shape_area</th>\n",
              "    </tr>\n",
              "  </thead>\n",
              "  <tbody>\n",
              "    <tr>\n",
              "      <th>count</th>\n",
              "      <td>42.000000</td>\n",
              "      <td>42.0</td>\n",
              "      <td>42.000000</td>\n",
              "      <td>42.000000</td>\n",
              "    </tr>\n",
              "    <tr>\n",
              "      <th>mean</th>\n",
              "      <td>500.523810</td>\n",
              "      <td>1.0</td>\n",
              "      <td>0.255768</td>\n",
              "      <td>0.002115</td>\n",
              "    </tr>\n",
              "    <tr>\n",
              "      <th>std</th>\n",
              "      <td>316.859378</td>\n",
              "      <td>0.0</td>\n",
              "      <td>0.105799</td>\n",
              "      <td>0.001899</td>\n",
              "    </tr>\n",
              "    <tr>\n",
              "      <th>min</th>\n",
              "      <td>45.000000</td>\n",
              "      <td>1.0</td>\n",
              "      <td>0.133061</td>\n",
              "      <td>0.000637</td>\n",
              "    </tr>\n",
              "    <tr>\n",
              "      <th>25%</th>\n",
              "      <td>268.250000</td>\n",
              "      <td>1.0</td>\n",
              "      <td>0.172024</td>\n",
              "      <td>0.000941</td>\n",
              "    </tr>\n",
              "    <tr>\n",
              "      <th>50%</th>\n",
              "      <td>421.000000</td>\n",
              "      <td>1.0</td>\n",
              "      <td>0.226520</td>\n",
              "      <td>0.001458</td>\n",
              "    </tr>\n",
              "    <tr>\n",
              "      <th>75%</th>\n",
              "      <td>808.500000</td>\n",
              "      <td>1.0</td>\n",
              "      <td>0.311325</td>\n",
              "      <td>0.002421</td>\n",
              "    </tr>\n",
              "    <tr>\n",
              "      <th>max</th>\n",
              "      <td>1146.000000</td>\n",
              "      <td>1.0</td>\n",
              "      <td>0.612587</td>\n",
              "      <td>0.008634</td>\n",
              "    </tr>\n",
              "  </tbody>\n",
              "</table>\n",
              "</div>"
            ],
            "text/plain": [
              "        cartodb_id  scatipo  shape_leng  shape_area\n",
              "count    42.000000     42.0   42.000000   42.000000\n",
              "mean    500.523810      1.0    0.255768    0.002115\n",
              "std     316.859378      0.0    0.105799    0.001899\n",
              "min      45.000000      1.0    0.133061    0.000637\n",
              "25%     268.250000      1.0    0.172024    0.000941\n",
              "50%     421.000000      1.0    0.226520    0.001458\n",
              "75%     808.500000      1.0    0.311325    0.002421\n",
              "max    1146.000000      1.0    0.612587    0.008634"
            ]
          },
          "metadata": {},
          "execution_count": 58
        }
      ]
    },
    {
      "cell_type": "code",
      "metadata": {
        "id": "ZQwAcrV4TRnt",
        "colab": {
          "base_uri": "https://localhost:8080/",
          "height": 283
        },
        "outputId": "b9cbe90c-0b5e-4bff-dc44-9b3dfeeb64aa"
      },
      "source": [
        "df_bogota_large.shape_area.plot(kind='kde')"
      ],
      "execution_count": null,
      "outputs": [
        {
          "output_type": "execute_result",
          "data": {
            "text/plain": [
              "<matplotlib.axes._subplots.AxesSubplot at 0x7f8b97a2f310>"
            ]
          },
          "metadata": {},
          "execution_count": 60
        },
        {
          "output_type": "display_data",
          "data": {
            "image/png": "[encoded data removed]",
            "text/plain": [
              "<Figure size 432x288 with 1 Axes>"
            ]
          },
          "metadata": {
            "needs_background": "light"
          }
        }
      ]
    },
    {
      "cell_type": "code",
      "metadata": {
        "colab": {
          "base_uri": "https://localhost:8080/",
          "height": 141
        },
        "id": "RETLV2NmTHVE",
        "outputId": "f8ae4b8c-53fb-4f4d-a205-c9323a585c57"
      },
      "source": [
        "df_bogota.loc[df_bogota.shape_area > 0.006]"
      ],
      "execution_count": null,
      "outputs": [
        {
          "output_type": "execute_result",
          "data": {
            "text/html": [
              "<div>\n",
              "<style scoped>\n",
              "    .dataframe tbody tr th:only-of-type {\n",
              "        vertical-align: middle;\n",
              "    }\n",
              "\n",
              "    .dataframe tbody tr th {\n",
              "        vertical-align: top;\n",
              "    }\n",
              "\n",
              "    .dataframe thead th {\n",
              "        text-align: right;\n",
              "    }\n",
              "</style>\n",
              "<table border=\"1\" class=\"dataframe\">\n",
              "  <thead>\n",
              "    <tr style=\"text-align: right;\">\n",
              "      <th></th>\n",
              "      <th>cartodb_id</th>\n",
              "      <th>scacodigo</th>\n",
              "      <th>scatipo</th>\n",
              "      <th>scanombre</th>\n",
              "      <th>shape_leng</th>\n",
              "      <th>shape_area</th>\n",
              "      <th>MOVEMENT_ID</th>\n",
              "      <th>DISPLAY_NAME</th>\n",
              "      <th>geometry</th>\n",
              "    </tr>\n",
              "  </thead>\n",
              "  <tbody>\n",
              "    <tr>\n",
              "      <th>20</th>\n",
              "      <td>531</td>\n",
              "      <td>103108</td>\n",
              "      <td>1</td>\n",
              "      <td>LOS RIOS</td>\n",
              "      <td>0.545648</td>\n",
              "      <td>0.007196</td>\n",
              "      <td>21</td>\n",
              "      <td>LOS RIOS, 103108 (21)</td>\n",
              "      <td>MULTIPOLYGON (((-74.11416 4.18183, -74.11413 4...</td>\n",
              "    </tr>\n",
              "    <tr>\n",
              "      <th>266</th>\n",
              "      <td>575</td>\n",
              "      <td>109111</td>\n",
              "      <td>1</td>\n",
              "      <td>SAN JOSE</td>\n",
              "      <td>0.612587</td>\n",
              "      <td>0.008634</td>\n",
              "      <td>267</td>\n",
              "      <td>SAN JOSE, 109111 (267)</td>\n",
              "      <td>MULTIPOLYGON (((-74.31811 3.87854, -74.31699 3...</td>\n",
              "    </tr>\n",
              "    <tr>\n",
              "      <th>721</th>\n",
              "      <td>508</td>\n",
              "      <td>103109</td>\n",
              "      <td>1</td>\n",
              "      <td>LAS SOPAS</td>\n",
              "      <td>0.437596</td>\n",
              "      <td>0.008302</td>\n",
              "      <td>722</td>\n",
              "      <td>LAS SOPAS, 103109 (722)</td>\n",
              "      <td>MULTIPOLYGON (((-74.20573 4.14669, -74.20569 4...</td>\n",
              "    </tr>\n",
              "  </tbody>\n",
              "</table>\n",
              "</div>"
            ],
            "text/plain": [
              "     cartodb_id  ...                                           geometry\n",
              "20          531  ...  MULTIPOLYGON (((-74.11416 4.18183, -74.11413 4...\n",
              "266         575  ...  MULTIPOLYGON (((-74.31811 3.87854, -74.31699 3...\n",
              "721         508  ...  MULTIPOLYGON (((-74.20573 4.14669, -74.20569 4...\n",
              "\n",
              "[3 rows x 9 columns]"
            ]
          },
          "metadata": {},
          "execution_count": 61
        }
      ]
    },
    {
      "cell_type": "markdown",
      "metadata": {
        "id": "Vj_6vZInE-Ui"
      },
      "source": [
        "Adicionalmente nos permite hacer una selección de índices basado en coordenadas (`.cx`)"
      ]
    },
    {
      "cell_type": "code",
      "metadata": {
        "id": "nO2aM48wE-Uj",
        "colab": {
          "base_uri": "https://localhost:8080/",
          "height": 228
        },
        "outputId": "a78a994f-480a-46c5-c9ed-127589d30406"
      },
      "source": [
        "world = gpd.read_file(gpd.datasets.get_path('naturalearth_lowres'))\n",
        "\n",
        "world.plot()"
      ],
      "execution_count": null,
      "outputs": [
        {
          "output_type": "execute_result",
          "data": {
            "text/plain": [
              "<matplotlib.axes._subplots.AxesSubplot at 0x7f8bb3437390>"
            ]
          },
          "metadata": {},
          "execution_count": 29
        },
        {
          "output_type": "display_data",
          "data": {
            "image/png": "[encoded data removed]",
            "text/plain": [
              "<Figure size 432x288 with 1 Axes>"
            ]
          },
          "metadata": {
            "needs_background": "light"
          }
        }
      ]
    },
    {
      "cell_type": "code",
      "metadata": {
        "id": "sySLXuh7E-Up",
        "colab": {
          "base_uri": "https://localhost:8080/",
          "height": 211
        },
        "outputId": "8c4bab65-77d2-4bbd-a7d0-88b3cf0889cb"
      },
      "source": [
        "hemisferio_sur = world.cx[:, :0]\n",
        "\n",
        "hemisferio_sur.plot(figsize=(10, 3));"
      ],
      "execution_count": null,
      "outputs": [
        {
          "output_type": "display_data",
          "data": {
            "image/png": "[encoded data removed]",
            "text/plain": [
              "<Figure size 720x216 with 1 Axes>"
            ]
          },
          "metadata": {
            "needs_background": "light"
          }
        }
      ]
    },
    {
      "cell_type": "markdown",
      "metadata": {
        "id": "0tKED-KxE-Us"
      },
      "source": [
        "# Generando mapas"
      ]
    },
    {
      "cell_type": "code",
      "metadata": {
        "id": "jc9pAKAfE-Us"
      },
      "source": [
        "world = gpd.read_file(gpd.datasets.get_path('naturalearth_lowres'))"
      ],
      "execution_count": null,
      "outputs": []
    },
    {
      "cell_type": "markdown",
      "metadata": {
        "id": "Nt46dkI9E-Uw"
      },
      "source": [
        "`GeoPandas` pinta los mapas usando matplotlib como soporte. Por lo tanto cualquier atributo que se modifique en pyplot, tambien se puede modificar en `.plot`. Por ejemplo:"
      ]
    },
    {
      "cell_type": "code",
      "metadata": {
        "id": "XaW4uFWUE-Uy",
        "colab": {
          "base_uri": "https://localhost:8080/",
          "height": 609
        },
        "outputId": "18e2f871-8388-4757-ea32-b62f17960f98"
      },
      "source": [
        "f, ax = plt.subplots(1, figsize=(15, 10))\n",
        "ax.set_title(u'El Mundo')\n",
        "\n",
        "# Carga la configuración que hayamos generado en el elemento ax\n",
        "world.plot(ax=ax)\n",
        "\n",
        "# Eliminamos los ejes\n",
        "ax.set_axis_off()\n",
        "plt.axis('equal')"
      ],
      "execution_count": null,
      "outputs": [
        {
          "output_type": "execute_result",
          "data": {
            "text/plain": [
              "(-197.99999999999997, 198.00000000000006, -98.6822565, 92.32738650000002)"
            ]
          },
          "metadata": {},
          "execution_count": 32
        },
        {
          "output_type": "display_data",
          "data": {
            "image/png": "[encoded data removed]",
            "text/plain": [
              "<Figure size 1080x720 with 1 Axes>"
            ]
          },
          "metadata": {
            "needs_background": "light"
          }
        }
      ]
    },
    {
      "cell_type": "markdown",
      "metadata": {
        "id": "dyn9LzgME-U1"
      },
      "source": [
        "### Mapas coropléticos\n",
        "\n",
        "Para elaborar un mapa cloroplético, basta con indicar la columna sobre la cual se van a clasificar los datos:"
      ]
    },
    {
      "cell_type": "code",
      "metadata": {
        "id": "oxkSCbPNE-U6",
        "colab": {
          "base_uri": "https://localhost:8080/",
          "height": 204
        },
        "outputId": "edb1eab3-6921-40d9-a35a-1902d62a8089"
      },
      "source": [
        "world.head()"
      ],
      "execution_count": null,
      "outputs": [
        {
          "output_type": "execute_result",
          "data": {
            "text/html": [
              "<div>\n",
              "<style scoped>\n",
              "    .dataframe tbody tr th:only-of-type {\n",
              "        vertical-align: middle;\n",
              "    }\n",
              "\n",
              "    .dataframe tbody tr th {\n",
              "        vertical-align: top;\n",
              "    }\n",
              "\n",
              "    .dataframe thead th {\n",
              "        text-align: right;\n",
              "    }\n",
              "</style>\n",
              "<table border=\"1\" class=\"dataframe\">\n",
              "  <thead>\n",
              "    <tr style=\"text-align: right;\">\n",
              "      <th></th>\n",
              "      <th>pop_est</th>\n",
              "      <th>continent</th>\n",
              "      <th>name</th>\n",
              "      <th>iso_a3</th>\n",
              "      <th>gdp_md_est</th>\n",
              "      <th>geometry</th>\n",
              "    </tr>\n",
              "  </thead>\n",
              "  <tbody>\n",
              "    <tr>\n",
              "      <th>0</th>\n",
              "      <td>920938</td>\n",
              "      <td>Oceania</td>\n",
              "      <td>Fiji</td>\n",
              "      <td>FJI</td>\n",
              "      <td>8374.0</td>\n",
              "      <td>MULTIPOLYGON (((180.00000 -16.06713, 180.00000...</td>\n",
              "    </tr>\n",
              "    <tr>\n",
              "      <th>1</th>\n",
              "      <td>53950935</td>\n",
              "      <td>Africa</td>\n",
              "      <td>Tanzania</td>\n",
              "      <td>TZA</td>\n",
              "      <td>150600.0</td>\n",
              "      <td>POLYGON ((33.90371 -0.95000, 34.07262 -1.05982...</td>\n",
              "    </tr>\n",
              "    <tr>\n",
              "      <th>2</th>\n",
              "      <td>603253</td>\n",
              "      <td>Africa</td>\n",
              "      <td>W. Sahara</td>\n",
              "      <td>ESH</td>\n",
              "      <td>906.5</td>\n",
              "      <td>POLYGON ((-8.66559 27.65643, -8.66512 27.58948...</td>\n",
              "    </tr>\n",
              "    <tr>\n",
              "      <th>3</th>\n",
              "      <td>35623680</td>\n",
              "      <td>North America</td>\n",
              "      <td>Canada</td>\n",
              "      <td>CAN</td>\n",
              "      <td>1674000.0</td>\n",
              "      <td>MULTIPOLYGON (((-122.84000 49.00000, -122.9742...</td>\n",
              "    </tr>\n",
              "    <tr>\n",
              "      <th>4</th>\n",
              "      <td>326625791</td>\n",
              "      <td>North America</td>\n",
              "      <td>United States of America</td>\n",
              "      <td>USA</td>\n",
              "      <td>18560000.0</td>\n",
              "      <td>MULTIPOLYGON (((-122.84000 49.00000, -120.0000...</td>\n",
              "    </tr>\n",
              "  </tbody>\n",
              "</table>\n",
              "</div>"
            ],
            "text/plain": [
              "     pop_est  ...                                           geometry\n",
              "0     920938  ...  MULTIPOLYGON (((180.00000 -16.06713, 180.00000...\n",
              "1   53950935  ...  POLYGON ((33.90371 -0.95000, 34.07262 -1.05982...\n",
              "2     603253  ...  POLYGON ((-8.66559 27.65643, -8.66512 27.58948...\n",
              "3   35623680  ...  MULTIPOLYGON (((-122.84000 49.00000, -122.9742...\n",
              "4  326625791  ...  MULTIPOLYGON (((-122.84000 49.00000, -120.0000...\n",
              "\n",
              "[5 rows x 6 columns]"
            ]
          },
          "metadata": {},
          "execution_count": 33
        }
      ]
    },
    {
      "cell_type": "code",
      "metadata": {
        "id": "-Ossid1f-2rT"
      },
      "source": [
        ""
      ],
      "execution_count": null,
      "outputs": []
    },
    {
      "cell_type": "code",
      "metadata": {
        "id": "nvw4QQCyE-U_",
        "colab": {
          "base_uri": "https://localhost:8080/",
          "height": 199
        },
        "outputId": "5f91bf36-9bbf-42d3-8bba-1774c9b6e3ff"
      },
      "source": [
        "world = world[(world['pop_est']>0) & (world['name']!=\"Antarctica\")] # Eliminamos Antarctica\n",
        "\n",
        "world['gdp_per_cap'] = world.gdp_md_est / world.pop_est # Creamos una nueva columna: PIB per cápita\n",
        "\n",
        "world.plot(column='gdp_per_cap', cmap='OrRd', scheme='quantiles') # Creamos un mapa coroplético sobre gdp_per_cap"
      ],
      "execution_count": null,
      "outputs": [
        {
          "output_type": "execute_result",
          "data": {
            "text/plain": [
              "<matplotlib.axes._subplots.AxesSubplot at 0x7f8bb3229f10>"
            ]
          },
          "metadata": {},
          "execution_count": 42
        },
        {
          "output_type": "display_data",
          "data": {
            "image/png": "[encoded data removed]",
            "text/plain": [
              "<Figure size 432x288 with 1 Axes>"
            ]
          },
          "metadata": {
            "needs_background": "light"
          }
        }
      ]
    },
    {
      "cell_type": "markdown",
      "metadata": {
        "id": "5KMLWu35E-VE"
      },
      "source": [
        "# Agregación usando `dissolve`"
      ]
    },
    {
      "cell_type": "markdown",
      "metadata": {
        "id": "EYeFtflZE-VF"
      },
      "source": [
        "Es común que los datos espaciales que estemos manejando tengan un nivel de granularidad mayor del que necesitamos. Por ejemplo podemos tener información de los estratos a nivel de manzana en una ciudad, pero estamos interesados en estudiar patrones a nivel de UPZ, barrios o localidades. En caso de trabajar con datos no espaciales, la función `groupby` se ajusta a las necesidades mencionadas. Sin embargo, `GeoPandas` provee una función que agrega características geométricas a través de la función `dissolve`.\n",
        "\n",
        "`dissolve` trabaja así: \n",
        "1. Si dos polígonos conjuntos comparten un grupo (Por ejemplo estrato), ambos son fusionados en un solo polígono o característica geométrica.\n",
        "2. Los datos relacionados a cada polígono son agregados usando la función `groupby.aggregate()`\n",
        "3. Combina tanto (1) como (2)\n",
        "\n",
        "En el siguiente ejemplo combinaremos países para formar continentes. Y luego visualizaremos la información de población total, usando un mapa cloroplético:"
      ]
    },
    {
      "cell_type": "code",
      "metadata": {
        "id": "HZ98JseUE-VF",
        "colab": {
          "base_uri": "https://localhost:8080/",
          "height": 358
        },
        "outputId": "b1a86aae-2d33-4e6d-8194-de87036f45f7"
      },
      "source": [
        "world = gpd.read_file(gpd.datasets.get_path('naturalearth_lowres'))\n",
        "world = world[['continent', 'geometry', 'pop_est']]\n",
        "world.head(10)"
      ],
      "execution_count": null,
      "outputs": [
        {
          "output_type": "execute_result",
          "data": {
            "text/html": [
              "<div>\n",
              "<style scoped>\n",
              "    .dataframe tbody tr th:only-of-type {\n",
              "        vertical-align: middle;\n",
              "    }\n",
              "\n",
              "    .dataframe tbody tr th {\n",
              "        vertical-align: top;\n",
              "    }\n",
              "\n",
              "    .dataframe thead th {\n",
              "        text-align: right;\n",
              "    }\n",
              "</style>\n",
              "<table border=\"1\" class=\"dataframe\">\n",
              "  <thead>\n",
              "    <tr style=\"text-align: right;\">\n",
              "      <th></th>\n",
              "      <th>continent</th>\n",
              "      <th>geometry</th>\n",
              "      <th>pop_est</th>\n",
              "    </tr>\n",
              "  </thead>\n",
              "  <tbody>\n",
              "    <tr>\n",
              "      <th>0</th>\n",
              "      <td>Oceania</td>\n",
              "      <td>MULTIPOLYGON (((180.00000 -16.06713, 180.00000...</td>\n",
              "      <td>920938</td>\n",
              "    </tr>\n",
              "    <tr>\n",
              "      <th>1</th>\n",
              "      <td>Africa</td>\n",
              "      <td>POLYGON ((33.90371 -0.95000, 34.07262 -1.05982...</td>\n",
              "      <td>53950935</td>\n",
              "    </tr>\n",
              "    <tr>\n",
              "      <th>2</th>\n",
              "      <td>Africa</td>\n",
              "      <td>POLYGON ((-8.66559 27.65643, -8.66512 27.58948...</td>\n",
              "      <td>603253</td>\n",
              "    </tr>\n",
              "    <tr>\n",
              "      <th>3</th>\n",
              "      <td>North America</td>\n",
              "      <td>MULTIPOLYGON (((-122.84000 49.00000, -122.9742...</td>\n",
              "      <td>35623680</td>\n",
              "    </tr>\n",
              "    <tr>\n",
              "      <th>4</th>\n",
              "      <td>North America</td>\n",
              "      <td>MULTIPOLYGON (((-122.84000 49.00000, -120.0000...</td>\n",
              "      <td>326625791</td>\n",
              "    </tr>\n",
              "    <tr>\n",
              "      <th>5</th>\n",
              "      <td>Asia</td>\n",
              "      <td>POLYGON ((87.35997 49.21498, 86.59878 48.54918...</td>\n",
              "      <td>18556698</td>\n",
              "    </tr>\n",
              "    <tr>\n",
              "      <th>6</th>\n",
              "      <td>Asia</td>\n",
              "      <td>POLYGON ((55.96819 41.30864, 55.92892 44.99586...</td>\n",
              "      <td>29748859</td>\n",
              "    </tr>\n",
              "    <tr>\n",
              "      <th>7</th>\n",
              "      <td>Oceania</td>\n",
              "      <td>MULTIPOLYGON (((141.00021 -2.60015, 142.73525 ...</td>\n",
              "      <td>6909701</td>\n",
              "    </tr>\n",
              "    <tr>\n",
              "      <th>8</th>\n",
              "      <td>Asia</td>\n",
              "      <td>MULTIPOLYGON (((141.00021 -2.60015, 141.01706 ...</td>\n",
              "      <td>260580739</td>\n",
              "    </tr>\n",
              "    <tr>\n",
              "      <th>9</th>\n",
              "      <td>South America</td>\n",
              "      <td>MULTIPOLYGON (((-68.63401 -52.63637, -68.25000...</td>\n",
              "      <td>44293293</td>\n",
              "    </tr>\n",
              "  </tbody>\n",
              "</table>\n",
              "</div>"
            ],
            "text/plain": [
              "       continent                                           geometry    pop_est\n",
              "0        Oceania  MULTIPOLYGON (((180.00000 -16.06713, 180.00000...     920938\n",
              "1         Africa  POLYGON ((33.90371 -0.95000, 34.07262 -1.05982...   53950935\n",
              "2         Africa  POLYGON ((-8.66559 27.65643, -8.66512 27.58948...     603253\n",
              "3  North America  MULTIPOLYGON (((-122.84000 49.00000, -122.9742...   35623680\n",
              "4  North America  MULTIPOLYGON (((-122.84000 49.00000, -120.0000...  326625791\n",
              "5           Asia  POLYGON ((87.35997 49.21498, 86.59878 48.54918...   18556698\n",
              "6           Asia  POLYGON ((55.96819 41.30864, 55.92892 44.99586...   29748859\n",
              "7        Oceania  MULTIPOLYGON (((141.00021 -2.60015, 142.73525 ...    6909701\n",
              "8           Asia  MULTIPOLYGON (((141.00021 -2.60015, 141.01706 ...  260580739\n",
              "9  South America  MULTIPOLYGON (((-68.63401 -52.63637, -68.25000...   44293293"
            ]
          },
          "metadata": {},
          "execution_count": 43
        }
      ]
    },
    {
      "cell_type": "code",
      "metadata": {
        "id": "FLKSqIa2E-VK",
        "colab": {
          "base_uri": "https://localhost:8080/",
          "height": 210
        },
        "outputId": "47ce090c-d80e-4027-9bbd-47f6a04053c2"
      },
      "source": [
        "continents = world.dissolve(by='continent', aggfunc='sum') #Escogemos la columna de agregación y la operación de agregación\n",
        "\n",
        "continents.plot(column = 'pop_est', scheme='quantiles', cmap='YlOrRd');"
      ],
      "execution_count": null,
      "outputs": [
        {
          "output_type": "display_data",
          "data": {
            "image/png": "[encoded data removed]",
            "text/plain": [
              "<Figure size 432x288 with 1 Axes>"
            ]
          },
          "metadata": {
            "needs_background": "light"
          }
        }
      ]
    },
    {
      "cell_type": "code",
      "metadata": {
        "id": "Q8WjTPQME-VO",
        "colab": {
          "base_uri": "https://localhost:8080/",
          "height": 327
        },
        "outputId": "5e5152ba-7256-4568-c6fd-9e16a82361f8"
      },
      "source": [
        "continents"
      ],
      "execution_count": null,
      "outputs": [
        {
          "output_type": "execute_result",
          "data": {
            "text/html": [
              "<div>\n",
              "<style scoped>\n",
              "    .dataframe tbody tr th:only-of-type {\n",
              "        vertical-align: middle;\n",
              "    }\n",
              "\n",
              "    .dataframe tbody tr th {\n",
              "        vertical-align: top;\n",
              "    }\n",
              "\n",
              "    .dataframe thead th {\n",
              "        text-align: right;\n",
              "    }\n",
              "</style>\n",
              "<table border=\"1\" class=\"dataframe\">\n",
              "  <thead>\n",
              "    <tr style=\"text-align: right;\">\n",
              "      <th></th>\n",
              "      <th>geometry</th>\n",
              "      <th>pop_est</th>\n",
              "    </tr>\n",
              "    <tr>\n",
              "      <th>continent</th>\n",
              "      <th></th>\n",
              "      <th></th>\n",
              "    </tr>\n",
              "  </thead>\n",
              "  <tbody>\n",
              "    <tr>\n",
              "      <th>Africa</th>\n",
              "      <td>MULTIPOLYGON (((32.830 -26.742, 32.580 -27.470...</td>\n",
              "      <td>1219176238</td>\n",
              "    </tr>\n",
              "    <tr>\n",
              "      <th>Antarctica</th>\n",
              "      <td>MULTIPOLYGON (((-163.713 -78.596, -163.713 -78...</td>\n",
              "      <td>4050</td>\n",
              "    </tr>\n",
              "    <tr>\n",
              "      <th>Asia</th>\n",
              "      <td>MULTIPOLYGON (((120.295 -10.259, 118.968 -9.55...</td>\n",
              "      <td>4389144868</td>\n",
              "    </tr>\n",
              "    <tr>\n",
              "      <th>Europe</th>\n",
              "      <td>MULTIPOLYGON (((-51.658 4.156, -52.249 3.241, ...</td>\n",
              "      <td>746398461</td>\n",
              "    </tr>\n",
              "    <tr>\n",
              "      <th>North America</th>\n",
              "      <td>MULTIPOLYGON (((-61.680 10.760, -61.105 10.890...</td>\n",
              "      <td>573042112</td>\n",
              "    </tr>\n",
              "    <tr>\n",
              "      <th>Oceania</th>\n",
              "      <td>MULTIPOLYGON (((169.668 -43.555, 170.525 -43.0...</td>\n",
              "      <td>36782844</td>\n",
              "    </tr>\n",
              "    <tr>\n",
              "      <th>Seven seas (open ocean)</th>\n",
              "      <td>POLYGON ((68.935 -48.625, 69.580 -48.940, 70.5...</td>\n",
              "      <td>140</td>\n",
              "    </tr>\n",
              "    <tr>\n",
              "      <th>South America</th>\n",
              "      <td>MULTIPOLYGON (((-66.960 -54.897, -67.291 -55.3...</td>\n",
              "      <td>418540749</td>\n",
              "    </tr>\n",
              "  </tbody>\n",
              "</table>\n",
              "</div>"
            ],
            "text/plain": [
              "                                                                  geometry     pop_est\n",
              "continent                                                                             \n",
              "Africa                   MULTIPOLYGON (((32.830 -26.742, 32.580 -27.470...  1219176238\n",
              "Antarctica               MULTIPOLYGON (((-163.713 -78.596, -163.713 -78...        4050\n",
              "Asia                     MULTIPOLYGON (((120.295 -10.259, 118.968 -9.55...  4389144868\n",
              "Europe                   MULTIPOLYGON (((-51.658 4.156, -52.249 3.241, ...   746398461\n",
              "North America            MULTIPOLYGON (((-61.680 10.760, -61.105 10.890...   573042112\n",
              "Oceania                  MULTIPOLYGON (((169.668 -43.555, 170.525 -43.0...    36782844\n",
              "Seven seas (open ocean)  POLYGON ((68.935 -48.625, 69.580 -48.940, 70.5...         140\n",
              "South America            MULTIPOLYGON (((-66.960 -54.897, -67.291 -55.3...   418540749"
            ]
          },
          "metadata": {},
          "execution_count": 45
        }
      ]
    },
    {
      "cell_type": "markdown",
      "metadata": {
        "id": "upCigfJoE-VQ"
      },
      "source": [
        "# Fusionando datos"
      ]
    },
    {
      "cell_type": "markdown",
      "metadata": {
        "id": "-InUniCTE-VS"
      },
      "source": [
        "[Documentación](http://geopandas.org/mergingdata.html)\n",
        "\n",
        "Existen dos maneras de combinar conjuntos de datos en geopandas. *Uniones de atributos* o *uniones espaciales*. \n",
        "\n",
        "En una unión de atributos, un `GeoSeries` o `GeoDataFrame` es combinado con un Series o DataFrame de pandas usando una variable en común. Esta operación es análoga a `pd.merge`, sin embargo si se hace usando pandas, el resultado será un DataFrame de pandas y no un `GeoDataFrame`.\n",
        "\n",
        "En una unión espacial, todas las observaciones de un `GeoSeries` o `GeoDataFrame` son combinadas con base a una relación espacial establecida entre ellas. A continuación presentamos un ejemplo de una unión espacial. Tenemos la información de las ciudades y en otro `GeoDataFrame` tenemos la información de los países. Usamos una unión espacial para fusionar ambas fuentes de datos:"
      ]
    },
    {
      "cell_type": "code",
      "metadata": {
        "id": "UEMPz8zME-VV"
      },
      "source": [
        "world = gpd.read_file(gpd.datasets.get_path('naturalearth_lowres'))\n",
        "\n",
        "cities = gpd.read_file(gpd.datasets.get_path('naturalearth_cities'))\n",
        "\n",
        "countries = world[['geometry', 'name']]\n",
        "\n",
        "countries = countries.rename(columns={'name':'country'})"
      ],
      "execution_count": null,
      "outputs": []
    },
    {
      "cell_type": "code",
      "metadata": {
        "id": "_zWDQ24oE-VX",
        "colab": {
          "base_uri": "https://localhost:8080/",
          "height": 204
        },
        "outputId": "bb4b0380-c2e0-48ae-c795-3d09c9dda3ee"
      },
      "source": [
        "countries.head()"
      ],
      "execution_count": null,
      "outputs": [
        {
          "output_type": "execute_result",
          "data": {
            "text/html": [
              "<div>\n",
              "<style scoped>\n",
              "    .dataframe tbody tr th:only-of-type {\n",
              "        vertical-align: middle;\n",
              "    }\n",
              "\n",
              "    .dataframe tbody tr th {\n",
              "        vertical-align: top;\n",
              "    }\n",
              "\n",
              "    .dataframe thead th {\n",
              "        text-align: right;\n",
              "    }\n",
              "</style>\n",
              "<table border=\"1\" class=\"dataframe\">\n",
              "  <thead>\n",
              "    <tr style=\"text-align: right;\">\n",
              "      <th></th>\n",
              "      <th>geometry</th>\n",
              "      <th>country</th>\n",
              "    </tr>\n",
              "  </thead>\n",
              "  <tbody>\n",
              "    <tr>\n",
              "      <th>0</th>\n",
              "      <td>MULTIPOLYGON (((180.00000 -16.06713, 180.00000...</td>\n",
              "      <td>Fiji</td>\n",
              "    </tr>\n",
              "    <tr>\n",
              "      <th>1</th>\n",
              "      <td>POLYGON ((33.90371 -0.95000, 34.07262 -1.05982...</td>\n",
              "      <td>Tanzania</td>\n",
              "    </tr>\n",
              "    <tr>\n",
              "      <th>2</th>\n",
              "      <td>POLYGON ((-8.66559 27.65643, -8.66512 27.58948...</td>\n",
              "      <td>W. Sahara</td>\n",
              "    </tr>\n",
              "    <tr>\n",
              "      <th>3</th>\n",
              "      <td>MULTIPOLYGON (((-122.84000 49.00000, -122.9742...</td>\n",
              "      <td>Canada</td>\n",
              "    </tr>\n",
              "    <tr>\n",
              "      <th>4</th>\n",
              "      <td>MULTIPOLYGON (((-122.84000 49.00000, -120.0000...</td>\n",
              "      <td>United States of America</td>\n",
              "    </tr>\n",
              "  </tbody>\n",
              "</table>\n",
              "</div>"
            ],
            "text/plain": [
              "                                            geometry                   country\n",
              "0  MULTIPOLYGON (((180.00000 -16.06713, 180.00000...                      Fiji\n",
              "1  POLYGON ((33.90371 -0.95000, 34.07262 -1.05982...                  Tanzania\n",
              "2  POLYGON ((-8.66559 27.65643, -8.66512 27.58948...                 W. Sahara\n",
              "3  MULTIPOLYGON (((-122.84000 49.00000, -122.9742...                    Canada\n",
              "4  MULTIPOLYGON (((-122.84000 49.00000, -120.0000...  United States of America"
            ]
          },
          "metadata": {},
          "execution_count": 47
        }
      ]
    },
    {
      "cell_type": "code",
      "metadata": {
        "id": "ZJRDY-NIE-Va",
        "colab": {
          "base_uri": "https://localhost:8080/",
          "height": 204
        },
        "outputId": "bff73042-5a46-4f90-d0c1-24158e0e5d32"
      },
      "source": [
        "cities.head()"
      ],
      "execution_count": null,
      "outputs": [
        {
          "output_type": "execute_result",
          "data": {
            "text/html": [
              "<div>\n",
              "<style scoped>\n",
              "    .dataframe tbody tr th:only-of-type {\n",
              "        vertical-align: middle;\n",
              "    }\n",
              "\n",
              "    .dataframe tbody tr th {\n",
              "        vertical-align: top;\n",
              "    }\n",
              "\n",
              "    .dataframe thead th {\n",
              "        text-align: right;\n",
              "    }\n",
              "</style>\n",
              "<table border=\"1\" class=\"dataframe\">\n",
              "  <thead>\n",
              "    <tr style=\"text-align: right;\">\n",
              "      <th></th>\n",
              "      <th>name</th>\n",
              "      <th>geometry</th>\n",
              "    </tr>\n",
              "  </thead>\n",
              "  <tbody>\n",
              "    <tr>\n",
              "      <th>0</th>\n",
              "      <td>Vatican City</td>\n",
              "      <td>POINT (12.45339 41.90328)</td>\n",
              "    </tr>\n",
              "    <tr>\n",
              "      <th>1</th>\n",
              "      <td>San Marino</td>\n",
              "      <td>POINT (12.44177 43.93610)</td>\n",
              "    </tr>\n",
              "    <tr>\n",
              "      <th>2</th>\n",
              "      <td>Vaduz</td>\n",
              "      <td>POINT (9.51667 47.13372)</td>\n",
              "    </tr>\n",
              "    <tr>\n",
              "      <th>3</th>\n",
              "      <td>Luxembourg</td>\n",
              "      <td>POINT (6.13000 49.61166)</td>\n",
              "    </tr>\n",
              "    <tr>\n",
              "      <th>4</th>\n",
              "      <td>Palikir</td>\n",
              "      <td>POINT (158.14997 6.91664)</td>\n",
              "    </tr>\n",
              "  </tbody>\n",
              "</table>\n",
              "</div>"
            ],
            "text/plain": [
              "           name                   geometry\n",
              "0  Vatican City  POINT (12.45339 41.90328)\n",
              "1    San Marino  POINT (12.44177 43.93610)\n",
              "2         Vaduz   POINT (9.51667 47.13372)\n",
              "3    Luxembourg   POINT (6.13000 49.61166)\n",
              "4       Palikir  POINT (158.14997 6.91664)"
            ]
          },
          "metadata": {},
          "execution_count": 53
        }
      ]
    },
    {
      "cell_type": "code",
      "metadata": {
        "id": "1jts3EFS-uUt"
      },
      "source": [
        ""
      ],
      "execution_count": null,
      "outputs": []
    }
  ]
}