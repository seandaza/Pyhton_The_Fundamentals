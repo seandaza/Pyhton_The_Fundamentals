{
  "nbformat": 4,
  "nbformat_minor": 0,
  "metadata": {
    "colab": {
      "name": "prueba_scrap.ipynb",
      "provenance": [],
      "authorship_tag": "ABX9TyPJpzx0Hy1KJRhOoAQeyYhV",
      "include_colab_link": true
    },
    "kernelspec": {
      "name": "python3",
      "display_name": "Python 3"
    },
    "language_info": {
      "name": "python"
    }
  },
  "cells": [
    {
      "cell_type": "markdown",
      "metadata": {
        "id": "view-in-github",
        "colab_type": "text"
      },
      "source": [
        "<a href=\"https://colab.research.google.com/github/seandaza/Python-The-Fundamentals/blob/master/prueba_scrap.ipynb\" target=\"_parent\"><img src=\"https://colab.research.google.com/assets/colab-badge.svg\" alt=\"Open In Colab\"/></a>"
      ]
    },
    {
      "cell_type": "code",
      "metadata": {
        "id": "bNYnPsCM1Eoq"
      },
      "source": [
        "pip install selenium"
      ],
      "execution_count": null,
      "outputs": []
    },
    {
      "cell_type": "code",
      "metadata": {
        "id": "NymDj7B50hE1"
      },
      "source": [
        "import pandas as pd\n",
        "import re\n",
        "import time\n",
        "from selenium import webdriver\n",
        "from selenium.webdriver.common.by import By\n",
        "from selenium.webdriver.support import expected_conditions as EC\n",
        "from selenium.webdriver.support.ui import WebDriverWait\n",
        "from selenium.webdriver.chrome.options import Options"
      ],
      "execution_count": 2,
      "outputs": []
    },
    {
      "cell_type": "code",
      "metadata": {
        "id": "OF291jUL3E4x"
      },
      "source": [
        "!pip install Selenium\n",
        "!apt-get update # to update ubuntu to correctly run apt install\n",
        "!apt install chromium-chromedriver\n",
        "!cp /usr/lib/chromium-browser/chromedriver /usr/bin\n",
        "import sys\n",
        "sys.path.insert(0,'/usr/lib/chromium-browser/chromedriver')\n"
      ],
      "execution_count": null,
      "outputs": []
    },
    {
      "cell_type": "markdown",
      "metadata": {
        "id": "32AKhC-2fDjc"
      },
      "source": [
        "url de bien inmueble que tiene coordenadas en su dom"
      ]
    },
    {
      "cell_type": "code",
      "metadata": {
        "id": "3a0bCk4E0zEy"
      },
      "source": [
        "url = 'https://www.fincaraiz.com.co/proyecto-de-vivienda/acqua-hills/japon/dosquebradas/4721616'"
      ],
      "execution_count": 4,
      "outputs": []
    },
    {
      "cell_type": "code",
      "metadata": {
        "id": "ZP4gB2Vp5GzW"
      },
      "source": [
        "chrome_options = webdriver.ChromeOptions()\n",
        "chrome_options.add_argument('--headless')\n",
        "chrome_options.add_argument('--no-sandbox')\n",
        "chrome_options.add_argument('--disable-dev-shm-usage')\n",
        "driver = webdriver.Chrome('chromedriver',chrome_options=chrome_options)\n",
        "driver.get(url)"
      ],
      "execution_count": null,
      "outputs": []
    },
    {
      "cell_type": "markdown",
      "metadata": {
        "id": "mgZFeTJcfWYh"
      },
      "source": [
        "Extraccion de la seccion de informacion por el metodo 'xpath'"
      ]
    },
    {
      "cell_type": "code",
      "metadata": {
        "id": "9dplvZnA07pA",
        "colab": {
          "base_uri": "https://localhost:8080/"
        },
        "outputId": "2f525b97-853c-420f-b6b2-97d2c77d90fe"
      },
      "source": [
        "informacion = driver.find_element_by_xpath('//*[@id=\"general\"]').text\n",
        "print(informacion)\n"
      ],
      "execution_count": 7,
      "outputs": [
        {
          "output_type": "stream",
          "name": "stdout",
          "text": [
            "Descripción general\n",
            "Acqua Hills ofrece un parque acuático privado con cinco piscinas, tres toboganes solárium integrado a piscina, cascada, chorros de agua, piscina lounge y un balde de agua gigante que derrama un montón de agua. Un proyecto que privilegia el disfrutar en familia y la diversión en el agua. Además cuenta con Cuatro bellísimos salones sociales para fiestas de cumpleaños, grado, fiestas de 15. Todos los salones tienen vista a las piscinas. Un proyecto totalmente integrado a Central Park Biociudadela.\n",
            "Leer más\n",
            "Estrato\n",
            "3\n",
            "La clasificación del estrato es potestativo del municipio, el anunciante no puede comprometerse con una clasificación determinada del estrato el cual queda definido en el momento de recibo de la obra.\n",
            "Tipos\n",
            "$ 122.500.000 COP\n",
            "Á. total\n",
            "47,7 m²\n",
            "Á. privada\n",
            "41,4 m²\n",
            "Hab.\n",
            "3\n",
            "Bañ.\n",
            "1\n",
            "Parq.\n",
            "--\n",
            "$ 122.500.000 COP\n",
            "Á. total\n",
            "47,78 m²\n",
            "Á. privada\n",
            "41,71 m²\n",
            "Hab.\n",
            "3\n",
            "Bañ.\n",
            "1\n",
            "Parq.\n",
            "--\n",
            "La Constructora puede variar los precios del proyecto, según sus políticas de comercialización.\n"
          ]
        },
        {
          "output_type": "stream",
          "name": "stderr",
          "text": [
            "/usr/local/lib/python3.7/dist-packages/ipykernel_launcher.py:1: DeprecationWarning: find_element_by_* commands are deprecated. Please use find_element() instead\n",
            "  \"\"\"Entry point for launching an IPython kernel.\n"
          ]
        }
      ]
    },
    {
      "cell_type": "markdown",
      "metadata": {
        "id": "73ULrQxtfnfz"
      },
      "source": [
        "extraccion de coordenadas"
      ]
    },
    {
      "cell_type": "code",
      "metadata": {
        "id": "jxAfdSYt0_qw",
        "colab": {
          "base_uri": "https://localhost:8080/"
        },
        "outputId": "4f97ce25-6f58-436d-b1ff-83516ecd74fd"
      },
      "source": [
        "coordenadas = driver.find_elements_by_xpath('//*[@id=\"mapDiv\"]/div[1]/div/div[4]/div/div/div/div')"
      ],
      "execution_count": 8,
      "outputs": [
        {
          "output_type": "stream",
          "name": "stderr",
          "text": [
            "/usr/local/lib/python3.7/dist-packages/ipykernel_launcher.py:1: DeprecationWarning: find_elements_by_* commands are deprecated. Please use find_elements() instead\n",
            "  \"\"\"Entry point for launching an IPython kernel.\n"
          ]
        }
      ]
    },
    {
      "cell_type": "code",
      "metadata": {
        "colab": {
          "base_uri": "https://localhost:8080/"
        },
        "id": "SBTX4LeMNnLH",
        "outputId": "332b54c0-c13b-451c-f9f4-117d8c7c70f9"
      },
      "source": [
        "type(coordenadas)"
      ],
      "execution_count": 9,
      "outputs": [
        {
          "output_type": "execute_result",
          "data": {
            "text/plain": [
              "list"
            ]
          },
          "metadata": {},
          "execution_count": 9
        }
      ]
    },
    {
      "cell_type": "markdown",
      "metadata": {
        "id": "pBzGSTjwfyfO"
      },
      "source": [
        "Las coordenadas viven dentro de una lista"
      ]
    },
    {
      "cell_type": "code",
      "metadata": {
        "colab": {
          "base_uri": "https://localhost:8080/"
        },
        "id": "3EFPkjLpfuSo",
        "outputId": "2d9b9035-9de3-42ea-af3a-46cfdee2e313"
      },
      "source": [
        "len(coordenadas)"
      ],
      "execution_count": 10,
      "outputs": [
        {
          "output_type": "execute_result",
          "data": {
            "text/plain": [
              "0"
            ]
          },
          "metadata": {},
          "execution_count": 10
        }
      ]
    },
    {
      "cell_type": "markdown",
      "metadata": {
        "id": "alucFYTpf3Ar"
      },
      "source": [
        "Pero la lista esta vacia!!!!"
      ]
    },
    {
      "cell_type": "markdown",
      "metadata": {
        "id": "c89a0IAUgFwT"
      },
      "source": [
        "El siguiente codigo deberia extraerme todos los links del dom. en uno de esos links esta el de google maps, que contiene las coordenadas."
      ]
    },
    {
      "cell_type": "code",
      "metadata": {
        "colab": {
          "base_uri": "https://localhost:8080/"
        },
        "id": "93qz7LoZNK1y",
        "outputId": "ae42af4c-2a9b-4e03-dfab-92d5cdeb59b8"
      },
      "source": [
        "  links = driver.find_elements_by_xpath('.//a[@target=\"_blank\"]')\n",
        "  for link in links:\n",
        "        print(link.get_attribute('href'))"
      ],
      "execution_count": 11,
      "outputs": [
        {
          "output_type": "stream",
          "name": "stderr",
          "text": [
            "/usr/local/lib/python3.7/dist-packages/ipykernel_launcher.py:1: DeprecationWarning: find_elements_by_* commands are deprecated. Please use find_elements() instead\n",
            "  \"\"\"Entry point for launching an IPython kernel.\n"
          ]
        },
        {
          "output_type": "stream",
          "name": "stdout",
          "text": [
            "https://www.fincaraiz.com.co/constructora-cfca_construcciones-114396.aspx\n",
            "https://www.fincaraiz.com.co/finca-raiz/barranquilla\n",
            "https://www.fincaraiz.com.co/finca-raiz/bogota\n",
            "https://www.fincaraiz.com.co/finca-raiz/bucaramanga\n",
            "https://www.fincaraiz.com.co/finca-raiz/cali\n",
            "https://www.fincaraiz.com.co/finca-raiz/cartagena\n",
            "https://www.fincaraiz.com.co/finca-raiz/pereira\n",
            "https://www.fincaraiz.com.co/contactenos.aspx\n",
            "https://www.fincaraiz.com.co/preguntas-frecuentes\n",
            "https://www.fincaraiz.com.co/static/telesales/publica-tu-inventario.aspx\n",
            "https://www.fincaraiz.com.co/recomendaciones-de-seguridad\n",
            "https://blog.fincaraiz.com.co/\n",
            "https://www.fincaraiz.com.co/sitemap.aspx\n",
            "https://www.fincaraiz.com.co/aviso-legal\n",
            "https://www.fincaraiz.com.co/terminos-y-condiciones\n",
            "https://www.fincaraiz.com.co/politica-tratamiento-de-datos-personales\n",
            "https://www.facebook.com/fincaraiz.com.co\n",
            "https://www.youtube.com/c/fincaraiz\n",
            "https://www.instagram.com/fincaraiz.com.co/\n",
            "https://www.linkedin.com/company/fincaraiz-com-co/mycompany/\n",
            "https://twitter.com/fincaraizfr\n",
            "https://frontierdv.com/\n",
            "https://www.fincaraiz.com.co/politica-cookies\n"
          ]
        }
      ]
    },
    {
      "cell_type": "markdown",
      "metadata": {
        "id": "GCWsWvqmgXMI"
      },
      "source": [
        "No obstante no es Visible!!!!"
      ]
    }
  ]
}